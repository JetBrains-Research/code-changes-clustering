{
 "cells": [
  {
   "cell_type": "code",
   "execution_count": 1,
   "metadata": {},
   "outputs": [],
   "source": [
    "import numpy as np\n",
    "\n",
    "import matplotlib as mpl\n",
    "mpl.rcParams['savefig.dpi'] = 100\n",
    "mpl.rcParams['figure.dpi'] = 100\n",
    "\n",
    "import matplotlib.mlab as mlab\n",
    "import matplotlib.pyplot as plt\n",
    "import string\n",
    "import mplcursors\n",
    "import collections\n",
    "import sklearn.cluster\n",
    "import os\n",
    "from tqdm import tqdm_notebook\n",
    "#%matplotlib inline\n",
    "%matplotlib notebook\n",
    "#%matplotlib notebook"
   ]
  },
  {
   "cell_type": "code",
   "execution_count": 39,
   "metadata": {},
   "outputs": [],
   "source": [
    "# NEW IMPLEMENTATION\n",
    "\n",
    "import math\n",
    "\n",
    "def get_intersections(hist1, hist2):\n",
    "    len1 = len(hist1)\n",
    "    len2 = len(hist2)\n",
    "    intersections = []\n",
    "    i = 0\n",
    "    j = 0\n",
    "\n",
    "    while i < len1 and j < len2:\n",
    "        if hist1[i][0] < hist2[j][0]:\n",
    "            i += 1\n",
    "        elif hist1[i][0] == hist2[j][0]:\n",
    "            intersections.append((hist1[i][0], hist1[i][1], hist2[j][1]))\n",
    "            i += 1\n",
    "            j += 1\n",
    "        elif hist1[i][0] > hist2[j][0]:\n",
    "            j += 1\n",
    "            \n",
    "    return intersections\n",
    "\n",
    "def get_union_inds(hist1, hist2):\n",
    "    len1 = len(hist1)\n",
    "    len2 = len(hist2)\n",
    "    union = []\n",
    "    i = 0\n",
    "    j = 0\n",
    "\n",
    "    while i < len1 or j < len2:\n",
    "        if i >= len1:\n",
    "            union.append(hist2[j][0])\n",
    "            j += 1\n",
    "        elif j >= len2:\n",
    "            union.append(hist1[i][0])\n",
    "            i += 1\n",
    "        elif hist1[i][0] < hist2[j][0]:\n",
    "            union.append(hist1[i][0])\n",
    "            i += 1\n",
    "        elif hist1[i][0] == hist2[j][0]:\n",
    "            union.append(hist1[i][0])\n",
    "            i += 1\n",
    "            j += 1\n",
    "        elif hist1[i][0] > hist2[j][0]:\n",
    "            union.append(hist2[j][0])\n",
    "            j += 1\n",
    "            \n",
    "    return union\n",
    "\n",
    "\n",
    "def jaccard_metric(hist1, hist2, hist_len=None):\n",
    "    intersections = get_intersections(hist1, hist2)\n",
    "\n",
    "    metric = 0\n",
    "\n",
    "    for ind, v1, v2 in intersections:\n",
    "        mx = max(v1, v2)\n",
    "        mn = min(v1, v2)\n",
    "        metric += mn / mx\n",
    "\n",
    "    len_intersections = len(intersections)\n",
    "\n",
    "    if (len_intersections != 0):\n",
    "        metric = metric / len(intersections)\n",
    "    else:\n",
    "        metric = 0\n",
    "\n",
    "    return 1 - metric\n",
    "\n",
    "def canberra_metric(hist1, hist2, hist_len=None):\n",
    "    metric = 0\n",
    "    i = 0\n",
    "    j = 0\n",
    "    n = len(hist1)\n",
    "    m = len(hist2)\n",
    "    \n",
    "    union_len = 0\n",
    "    \n",
    "    while i < n or j < m:\n",
    "        if i >= n:\n",
    "            metric += abs(hist2[j][1]) / abs(hist2[j][1]) # 1\n",
    "            j += 1\n",
    "        elif j >= m:\n",
    "            metric += abs(hist1[i][1]) / abs(hist1[i][1]) # 1\n",
    "            i += 1\n",
    "        elif hist1[i][0] == hist2[j][0]:\n",
    "            metric += abs(hist1[i][1] - hist2[j][1]) / (abs(hist1[i][1]) + abs(hist2[j][1]))\n",
    "            i += 1\n",
    "            j += 1\n",
    "        elif hist1[i][0] < hist2[j][0]:\n",
    "            metric += abs(hist1[i][1]) / abs(hist1[i][1]) # 1\n",
    "            i += 1\n",
    "        elif hist1[i][0] > hist2[j][0]:\n",
    "            metric += abs(hist2[j][1]) / abs(hist2[j][1]) # 1\n",
    "            j += 1\n",
    "        \n",
    "        #union_len += 1\n",
    "            \n",
    "    union_len = len(get_union_inds(hist1, hist2))\n",
    "    if union_len == 0:\n",
    "        return 1\n",
    "    \n",
    "    return metric / union_len\n",
    "\n",
    "\n",
    "def canberra_metric_optimized(hist1, hist2, hist_len=None):\n",
    "    metric = 0\n",
    "    i = 0\n",
    "    j = 0\n",
    "    n = len(hist1)\n",
    "    m = len(hist2)\n",
    "    \n",
    "    union_len = 0\n",
    "    \n",
    "    while i < n or j < m:\n",
    "        if i >= n:\n",
    "            metric += 1.0\n",
    "            j += 1\n",
    "        elif j >= m:\n",
    "            metric += 1.0\n",
    "            i += 1\n",
    "        elif hist1[i][0] == hist2[j][0]:\n",
    "            metric += abs(hist1[i][1] - hist2[j][1]) / (abs(hist1[i][1]) + abs(hist2[j][1]))\n",
    "            i += 1\n",
    "            j += 1\n",
    "        elif hist1[i][0] < hist2[j][0]:\n",
    "            metric += 1.0\n",
    "            i += 1\n",
    "        elif hist1[i][0] > hist2[j][0]:\n",
    "            metric += 1.0\n",
    "            j += 1\n",
    "        \n",
    "        union_len += 1\n",
    "            \n",
    "    #union_len = len(get_union_inds(hist1, hist2))\n",
    "    if union_len == 0:\n",
    "        return 1\n",
    "    \n",
    "    return metric / union_len\n",
    "\n",
    "\n",
    "\n",
    "'''\n",
    "def pearsons_correlation(hist1, hist2, hist_len):\n",
    "    #hist_len = hist_len_3gram\n",
    "    union_len = len(get_union_inds(hist1, hist2))\n",
    "    \n",
    "    top = 0\n",
    "    left = 0\n",
    "    right = 0\n",
    "    \n",
    "    n = len(hist1)\n",
    "    m = len(hist2)\n",
    "    \n",
    "    i = 0\n",
    "    j = 0\n",
    "    \n",
    "    while i < n or j < m:\n",
    "        if i >= n:\n",
    "            top += (- 1/hist_len) * (hist2[j][1] - 1/hist_len)\n",
    "            left += (- 1/hist_len) ** 2\n",
    "            right += (hist2[j][1] - 1/hist_len) ** 2\n",
    "            j += 1\n",
    "        elif j >= m:\n",
    "            top += (hist1[i][1] - 1/hist_len) * (- 1/hist_len)\n",
    "            left += (hist1[i][1] - 1/hist_len)  ** 2\n",
    "            right += (- 1/hist_len) ** 2\n",
    "            i += 1\n",
    "        elif hist1[i][0] == hist2[j][0]:\n",
    "            top += (hist1[i][1] - 1/hist_len) * (hist2[j][1] - 1/hist_len)\n",
    "            left += (hist1[i][1] - 1/hist_len)  ** 2\n",
    "            right += (hist2[j][1] - 1/hist_len) ** 2\n",
    "            i += 1\n",
    "            j += 1\n",
    "        elif hist1[i][0] < hist2[j][0]:\n",
    "            top += (hist1[i][1] - 1/hist_len) * (- 1/hist_len)\n",
    "            left += (hist1[i][1] - 1/hist_len)  ** 2\n",
    "            right += (- 1/hist_len) ** 2\n",
    "            i += 1\n",
    "        elif hist1[i][0] > hist2[j][0]:\n",
    "            top += (- 1/hist_len) * (hist2[j][1] - 1/hist_len)\n",
    "            left += (- 1/hist_len) ** 2\n",
    "            right += (hist2[j][1] - 1/hist_len) ** 2\n",
    "            j += 1\n",
    "\n",
    "    bottom = math.sqrt(left * right)\n",
    "    return 1 - top / bottom\n",
    "'''\n",
    "\n",
    "\n",
    "def cos_distance(hist1, hist2, hist_len=None):\n",
    "    intersections = get_intersections(hist1, hist2)\n",
    "\n",
    "    top = 0\n",
    "\n",
    "    for ind, v1, v2 in intersections:\n",
    "        top += v1 * v2\n",
    "        \n",
    "    bottom1 = (sum([pair[1] ** 2 for pair in hist1]))\n",
    "    bottom2 = (sum([pair[1] ** 2 for pair in hist2]))\n",
    "    \n",
    "    #print(top)\n",
    "    #print(bottom1)\n",
    "    #print(bottom2)\n",
    "    \n",
    "    return 1 - abs(top / np.sqrt(bottom1 * bottom2))\n",
    "    \n",
    "\n",
    "def pearsons_correlation_mean(hist1, hist2, hist_len):\n",
    "    union_len = len(get_union_inds(hist1, hist2))\n",
    "    \n",
    "    top = 0\n",
    "    left = 0\n",
    "    right = 0\n",
    "    \n",
    "    n = len(hist1)\n",
    "    m = len(hist2)\n",
    "    \n",
    "    mean1 = sum([pair[1] for pair in hist1]) / hist_len\n",
    "    mean2 = sum([pair[1] for pair in hist2]) / hist_len\n",
    "    \n",
    "    i = 0\n",
    "    j = 0\n",
    "    \n",
    "    while i < n or j < m:\n",
    "        if i >= n:\n",
    "            top += (- mean1) * (hist2[j][1] - mean2)\n",
    "            left += (- mean1) ** 2\n",
    "            right += (hist2[j][1] - mean2) ** 2\n",
    "            j += 1\n",
    "        elif j >= m:\n",
    "            top += (hist1[i][1] - mean1) * (- mean2)\n",
    "            left += (hist1[i][1] - mean1)  ** 2\n",
    "            right += (- mean2) ** 2\n",
    "            i += 1\n",
    "        elif hist1[i][0] == hist2[j][0]:\n",
    "            top += (hist1[i][1] - mean1) * (hist2[j][1] - mean2)\n",
    "            left += (hist1[i][1] - mean1)  ** 2\n",
    "            right += (hist2[j][1] - mean2) ** 2\n",
    "            i += 1\n",
    "            j += 1\n",
    "        elif hist1[i][0] < hist2[j][0]:\n",
    "            top += (hist1[i][1] - mean1) * (- mean2)\n",
    "            left += (hist1[i][1] - mean1)  ** 2\n",
    "            right += (- mean2) ** 2\n",
    "            i += 1\n",
    "        elif hist1[i][0] > hist2[j][0]:\n",
    "            top += (- mean1) * (hist2[j][1] - mean2)\n",
    "            left += (- mean1) ** 2\n",
    "            right += (hist2[j][1] - mean2) ** 2\n",
    "            j += 1\n",
    "\n",
    "    bottom = math.sqrt(left * right)\n",
    "    return 1 - top / bottom\n",
    "    \n",
    "\n",
    "def get_dists(hists, dist_metric, hist_len):\n",
    "    #hist_len = len(hists[0])\n",
    "    \n",
    "    #n = len(hists)\n",
    "    dists = []\n",
    "    \n",
    "    for hist1 in tqdm_notebook(hists):\n",
    "        cur_dists = []\n",
    "\n",
    "        for hist2 in hists:\n",
    "            distance = dist_metric(hist1, hist2, hist_len)\n",
    "            \n",
    "            cur_dists.append(distance)\n",
    "\n",
    "        dists.append(cur_dists)\n",
    "        \n",
    "    return dists\n",
    "\n",
    "\n",
    "def get_dists_optimized(hists, dist_metric, hist_len):\n",
    "    #hist_len = len(hists[0])\n",
    "    \n",
    "    n = len(hists)\n",
    "    #dists = [[0.0 for i in range(n)] for j in range(n)]\n",
    "    dists = np.zeros((n, n))\n",
    "    \n",
    "    for i in tqdm_notebook(range(n)):\n",
    "        for j in range(n):\n",
    "            if i <= j:\n",
    "                break\n",
    "                \n",
    "            distance = dist_metric(hists[i], hists[j], hist_len)\n",
    "            dists[i][j] = distance\n",
    "            dists[j][i] = distance\n",
    "        \n",
    "    return dists"
   ]
  },
  {
   "cell_type": "code",
   "execution_count": 138,
   "metadata": {},
   "outputs": [],
   "source": [
    "def print_clustering_results_tufano_unique(clustering, unique_label_to_changes, \n",
    "                                    from_change_to_unique_label, ids_per_unique_label, \n",
    "                                    without_outliers, only_fm=False,\n",
    "                                    to_print=True):\n",
    "    clusters = collections.defaultdict(list)\n",
    "    clusters_to_ids = collections.defaultdict(list)\n",
    "    outliers = []\n",
    "    num_changes = len(clustering.labels_)\n",
    "    \n",
    "    print(\"Start evaluate...\")\n",
    "    \n",
    "    print(\"Save clusters...\")\n",
    "    \n",
    "    for i in tqdm_notebook(range(len(clustering.labels_))):\n",
    "        label = clustering.labels_[i]\n",
    "        change = ids_per_unique_label[i]\n",
    "        if label == -1:\n",
    "            outliers.append(change)\n",
    "        else:\n",
    "            clusters[label].append(change)\n",
    "            clusters_to_ids[label].append(i)\n",
    "    \n",
    "    # For Agglomerative\n",
    "    print(\"Delete outliers...\")\n",
    "    clusters_list = list(clusters_to_ids.keys())\n",
    "    for label in tqdm_notebook(clusters_list):\n",
    "        if len(clusters_to_ids[label]) == 1:\n",
    "            outliers.append(clusters[label][0])\n",
    "            clustering.labels_[clusters_to_ids[label][0]] = -1\n",
    "            clusters_to_ids.pop(label, None)\n",
    "            clusters.pop(label, None)\n",
    "            \n",
    "    num_inliers = num_changes - len(outliers)   \n",
    "    \n",
    "    '''\n",
    "    cohesion = 0\n",
    "    separation = 0\n",
    "    g1 = 0\n",
    "    MAX_DIST = np.array(dists).max()\n",
    "    '''\n",
    "    #print(\"MAX_DIST\", MAX_DIST)\n",
    "    '''\n",
    "    for i in tqdm_notebook(clusters_to_ids.keys()):\n",
    "        coef = 0\n",
    "        #print(\"!!!\", len(clusters_to_ids[i]))\n",
    "        for xi in range(len(clusters_to_ids[i])):\n",
    "            for yi in range(len(clusters_to_ids[i])):\n",
    "                if xi < yi:\n",
    "                    x = clusters_to_ids[i][xi]\n",
    "                    y = clusters_to_ids[i][yi]\n",
    "                    #print(\"dists[x][y]\", dists[x][y])\n",
    "                    coef += MAX_DIST - dists[x][y]\n",
    "           \n",
    "        cohesion += (1 / len(clusters_to_ids[i])) * coef\n",
    "        coef_for_sep = len(clusters_to_ids[i]) / np.sqrt(coef)\n",
    "        coef = 1 / coef\n",
    "        \n",
    "        summ = 0\n",
    "        for j in clusters_to_ids.keys():\n",
    "            if i == j:\n",
    "                continue\n",
    "                \n",
    "            for xi in range(len(clusters_to_ids[i])):\n",
    "                for yi in range(len(clusters_to_ids[j])):\n",
    "                    x = clusters_to_ids[i][xi]\n",
    "                    y = clusters_to_ids[j][yi]\n",
    "                    summ += MAX_DIST - dists[x][y]\n",
    "\n",
    "        g1 += coef * summ\n",
    "        separation += coef_for_sep * summ\n",
    "    '''\n",
    "        \n",
    "        \n",
    "    #final_init_labels = dict()\n",
    "        \n",
    "    tp = 0\n",
    "    tn = 0\n",
    "    fp = 0\n",
    "    fn = 0\n",
    "    rand = 0\n",
    "    jaccard_index = 0\n",
    "    \n",
    "    if not only_fm:\n",
    "    \n",
    "        print(\"Calculate rand...\")\n",
    "        for i in tqdm_notebook(range(len(clustering.labels_))):\n",
    "            change_i = ids_per_unique_label[i]\n",
    "            init_label_i = from_change_to_unique_label[change_i][0]\n",
    "            after_label_i = clustering.labels_[i]\n",
    "\n",
    "            for j in range(len(clustering.labels_)):\n",
    "                change_j = ids_per_unique_label[j]\n",
    "                init_label_j = from_change_to_unique_label[change_j][0]\n",
    "                after_label_j = clustering.labels_[j]\n",
    "\n",
    "                if i >= j:\n",
    "                    continue\n",
    "\n",
    "                if (without_outliers and (after_label_i == -1 or after_label_j == -1)):\n",
    "                    continue\n",
    "\n",
    "                if init_label_i == init_label_j:\n",
    "                    if after_label_i == after_label_j:\n",
    "                        tp += 1\n",
    "                    else:\n",
    "                        fp += 1\n",
    "                else:\n",
    "                    if after_label_i == after_label_j:\n",
    "                        tn += 1\n",
    "                    else:\n",
    "                        fn += 1\n",
    "        \n",
    "        rand = round(100 * (tp + fn) / (tp + tn + fp + fn), 3)\n",
    "        jaccard_index = round(100 * tp / (tp + tn + fp), 3)\n",
    "                    \n",
    "                    \n",
    "    print(\"Calculate confusion...\")\n",
    "    confusion_mtx = []\n",
    "    pure_classes = set([])\n",
    "    for i in tqdm_notebook(clusters_to_ids.keys()):\n",
    "        mtx_row = collections.defaultdict(int)\n",
    "        \n",
    "        for change_i in clusters_to_ids[i]:\n",
    "            change = ids_per_unique_label[change_i]\n",
    "            init_label = from_change_to_unique_label[change][0]\n",
    "            mtx_row[init_label] += 1\n",
    "            \n",
    "            if mtx_row[init_label] == len(clusters_to_ids[i]):\n",
    "                pure_classes.add(init_label)\n",
    "        \n",
    "        confusion_mtx.append(mtx_row)\n",
    "        \n",
    "    \n",
    "        \n",
    "    ENTROPY = 0\n",
    "    PURITY = 0\n",
    "    entropies = []\n",
    "    purities = []\n",
    "    Fs = collections.defaultdict(list)\n",
    "    print(\"Calculate entropy & purity...\")\n",
    "    for i in tqdm_notebook(range(len(clusters_to_ids.keys()))):\n",
    "        entropy = 0\n",
    "        purity = 0\n",
    "        \n",
    "        clustering_label = list(clusters_to_ids.keys())[i]\n",
    "        \n",
    "        for init_lbl in unique_label_to_changes:\n",
    "            pij = confusion_mtx[i][init_lbl] / len(clusters_to_ids[clustering_label])\n",
    "            precision = pij\n",
    "            recall = confusion_mtx[i][init_lbl] / len(unique_label_to_changes[init_lbl])\n",
    "            \n",
    "            if pij != 0:\n",
    "                entropy += - pij * np.log2(pij)\n",
    "            purity = max(purity, pij)\n",
    "            \n",
    "            fij = 0\n",
    "            if precision != 0 or recall != 0:\n",
    "                fij = (2 * precision * recall) / (precision + recall)\n",
    "            Fs[init_lbl].append(fij)\n",
    "        \n",
    "        ENTROPY += entropy * len(clusters_to_ids[clustering_label]) / num_inliers\n",
    "        entropies.append(round(entropy, 3))\n",
    "        \n",
    "        PURITY += purity * len(clusters_to_ids[clustering_label]) / num_inliers\n",
    "        purities.append(round(purity, 3))\n",
    "        \n",
    "    Fmeasure = 0\n",
    "    print(\"Calculate F-measure...\")\n",
    "    for init_lbl in tqdm_notebook(unique_label_to_changes):\n",
    "        Fmeasure += max(Fs[init_lbl]) * len(unique_label_to_changes[init_lbl]) / num_changes\n",
    "            \n",
    "    \n",
    "    outl_percent = round(100 * len(outliers) / num_changes, 3)\n",
    "    \n",
    "    \n",
    "    if (to_print):\n",
    "        '''\n",
    "        print(\"CLUSTERS:\\n\")\n",
    "\n",
    "        for i in clusters.keys():\n",
    "            for change in clusters[i]:\n",
    "                print(change, from_change_to_unique_label[change])\n",
    "            print(\"\\n\")\n",
    "        '''\n",
    "        \n",
    "        print(\"Number of clusters:\", len(clusters))\n",
    "        print(\"Number of outliers:\", str(len(outliers)) + \"/\" + str(num_changes), \"(\" + str(outl_percent) + \"%)\")\n",
    "        \n",
    "        #print()\n",
    "        #print(\"Cohesion =\", str(cohesion))\n",
    "        #print(\"Separation =\", str(separation))\n",
    "        #print(\"G1 =\", str(g1))\n",
    "        \n",
    "        print()\n",
    "        print(\"Entropy =\", str(round(ENTROPY, 6)))\n",
    "        print(\"Purity =\", str(round(PURITY, 6)))\n",
    "        #pairs = [(entropies[i], purities[i]) for i in range(len(entropies))]\n",
    "        #print(\"(entropy, purity):\", pairs)\n",
    "        print(\"F-measure =\", round(Fmeasure, 6))\n",
    "        \n",
    "        print()\n",
    "        print(\"Rand =\", str(rand) + \"%\")\n",
    "        print(\"Jaccard Index =\", str(jaccard_index) + \"%\")       \n",
    "        \n",
    "        print(\"Pure classes:\", len(pure_classes))\n",
    "    \n",
    "    return rand, Fmeasure\n",
    "    \n",
    "    "
   ]
  },
  {
   "cell_type": "code",
   "execution_count": 155,
   "metadata": {},
   "outputs": [
    {
     "name": "stdout",
     "output_type": "stream",
     "text": [
      "6 48\n",
      "4\n",
      "OK\n",
      "6 50\n",
      "3\n",
      "OK\n",
      "6 139\n",
      "3\n",
      "OK\n",
      "6 148\n",
      "5\n",
      "OK\n",
      "6 151\n",
      "0\n",
      "6 170\n",
      "3\n",
      "OK\n",
      "6 191\n",
      "3\n",
      "OK\n",
      "6 193\n",
      "4\n",
      "OK\n",
      "6 240\n",
      "4\n",
      "OK\n",
      "6 276\n",
      "2\n",
      "OK\n",
      "6 290\n",
      "1\n",
      "6 294\n",
      "3\n",
      "OK\n",
      "6 330\n",
      "3\n",
      "OK\n",
      "6 354\n",
      "4\n",
      "OK\n",
      "6 360\n",
      "4\n",
      "OK\n",
      "6 377\n",
      "2\n",
      "OK\n",
      "6 380\n",
      "6\n",
      "OK\n",
      "6 392\n",
      "3\n",
      "OK\n",
      "6 399\n",
      "1\n",
      "6 408\n",
      "3\n",
      "OK\n",
      "6 418\n",
      "4\n",
      "OK\n",
      "6 424\n",
      "3\n",
      "OK\n",
      "6 427\n",
      "3\n",
      "OK\n",
      "6 430\n",
      "4\n",
      "OK\n",
      "6 456\n",
      "3\n",
      "OK\n",
      "6 466\n",
      "4\n",
      "OK\n",
      "6 474\n",
      "2\n",
      "OK\n",
      "6 485\n",
      "2\n",
      "OK\n",
      "6 513\n",
      "3\n",
      "OK\n",
      "6 520\n",
      "4\n",
      "OK\n",
      "6 543\n",
      "6\n",
      "OK\n",
      "6 568\n",
      "3\n",
      "OK\n",
      "6 569\n",
      "1\n",
      "6 589\n",
      "4\n",
      "OK\n",
      "6 614\n",
      "2\n",
      "OK\n",
      "6 623\n",
      "8\n",
      "OK\n",
      "6 628\n",
      "32\n",
      "OK\n",
      "6 662\n",
      "5\n",
      "OK\n",
      "6 665\n",
      "4\n",
      "OK\n",
      "6 674\n",
      "1\n",
      "6 683\n",
      "2\n",
      "OK\n",
      "6 692\n",
      "8\n",
      "OK\n",
      "6 729\n",
      "14\n",
      "OK\n",
      "6 736\n",
      "3\n",
      "OK\n",
      "6 744\n",
      "2\n",
      "OK\n",
      "6 746\n",
      "1\n",
      "6 748\n",
      "1\n",
      "6 784\n",
      "6\n",
      "OK\n",
      "6 792\n",
      "3\n",
      "OK\n",
      "6 797\n",
      "1\n",
      "6 813\n",
      "3\n",
      "OK\n",
      "6 815\n",
      "8\n",
      "OK\n",
      "6 817\n",
      "3\n",
      "OK\n",
      "6 830\n",
      "3\n",
      "OK\n",
      "6 838\n",
      "5\n",
      "OK\n",
      "6 845\n",
      "3\n",
      "OK\n",
      "6 878\n",
      "2\n",
      "OK\n",
      "6 889\n",
      "1\n",
      "6 904\n",
      "2\n",
      "OK\n",
      "6 941\n",
      "2\n",
      "OK\n",
      "6 970\n",
      "3\n",
      "OK\n",
      "6 993\n",
      "2\n",
      "OK\n",
      "6 999\n",
      "2\n",
      "OK\n",
      "6 1006\n",
      "0\n",
      "6 1043\n",
      "2\n",
      "OK\n",
      "6 1045\n",
      "4\n",
      "OK\n",
      "6 1074\n",
      "3\n",
      "OK\n",
      "6 1081\n",
      "3\n",
      "OK\n",
      "6 1107\n",
      "4\n",
      "OK\n",
      "6 1141\n",
      "2\n",
      "OK\n",
      "6 1159\n",
      "2\n",
      "OK\n",
      "6 1160\n",
      "2\n",
      "OK\n",
      "6 1170\n",
      "1\n",
      "6 1193\n",
      "5\n",
      "OK\n",
      "6 1285\n",
      "1\n",
      "6 1303\n",
      "4\n",
      "OK\n",
      "6 1323\n",
      "2\n",
      "OK\n",
      "6 1351\n",
      "2\n",
      "OK\n",
      "6 1389\n",
      "4\n",
      "OK\n",
      "6 1406\n",
      "1\n",
      "6 1412\n",
      "3\n",
      "OK\n",
      "6 1418\n",
      "0\n",
      "6 1431\n",
      "1\n",
      "6 1433\n",
      "16\n",
      "OK\n",
      "6 1446\n",
      "6\n",
      "OK\n",
      "6 1448\n",
      "6\n",
      "OK\n",
      "6 1497\n",
      "2\n",
      "OK\n",
      "6 1526\n",
      "0\n",
      "6 1549\n",
      "3\n",
      "OK\n",
      "6 1560\n",
      "0\n",
      "6 1587\n",
      "3\n",
      "OK\n",
      "6 1591\n",
      "3\n",
      "OK\n",
      "6 1626\n",
      "15\n",
      "OK\n",
      "6 1663\n",
      "3\n",
      "OK\n",
      "6 1689\n",
      "3\n",
      "OK\n",
      "6 1709\n",
      "14\n",
      "OK\n",
      "6 1712\n",
      "2\n",
      "OK\n",
      "6 1807\n",
      "2\n",
      "OK\n",
      "6 1822\n",
      "3\n",
      "OK\n",
      "6 1831\n",
      "1\n",
      "6 1847\n",
      "3\n",
      "OK\n",
      "6 1855\n",
      "1\n",
      "6 1857\n",
      "3\n",
      "OK\n",
      "6 1861\n",
      "2\n",
      "OK\n",
      "6 1893\n",
      "1\n",
      "6 1934\n",
      "3\n",
      "OK\n",
      "6 1938\n",
      "1\n",
      "6 1975\n",
      "1\n",
      "6 2004\n",
      "3\n",
      "OK\n",
      "6 2026\n",
      "4\n",
      "OK\n",
      "6 2040\n",
      "7\n",
      "OK\n",
      "6 2070\n",
      "3\n",
      "OK\n",
      "6 2078\n",
      "2\n",
      "OK\n",
      "6 2086\n",
      "2\n",
      "OK\n",
      "6 2106\n",
      "6\n",
      "OK\n",
      "6 2118\n",
      "4\n",
      "OK\n",
      "6 2164\n",
      "0\n",
      "6 2166\n",
      "0\n",
      "6 2168\n",
      "1\n",
      "6 2169\n",
      "3\n",
      "OK\n",
      "6 2172\n",
      "2\n",
      "OK\n",
      "6 2183\n",
      "3\n",
      "OK\n",
      "6 2208\n",
      "2\n",
      "OK\n",
      "6 2216\n",
      "4\n",
      "OK\n",
      "6 2224\n",
      "8\n",
      "OK\n",
      "6 2229\n",
      "0\n",
      "6 2239\n",
      "3\n",
      "OK\n",
      "6 2294\n",
      "3\n",
      "OK\n",
      "6 2335\n",
      "3\n",
      "OK\n",
      "6 2343\n",
      "4\n",
      "OK\n",
      "6 2376\n",
      "3\n",
      "OK\n",
      "6 2415\n",
      "3\n",
      "OK\n",
      "6 2419\n",
      "4\n",
      "OK\n",
      "6 2424\n",
      "2\n",
      "OK\n",
      "6 2429\n",
      "3\n",
      "OK\n",
      "6 2445\n",
      "1\n",
      "6 2494\n",
      "3\n",
      "OK\n",
      "6 2519\n",
      "2\n",
      "OK\n",
      "6 2525\n",
      "2\n",
      "OK\n",
      "6 2526\n",
      "3\n",
      "OK\n",
      "6 2543\n",
      "3\n",
      "OK\n",
      "6 2569\n",
      "2\n",
      "OK\n",
      "6 2579\n",
      "3\n",
      "OK\n",
      "6 2585\n",
      "1\n",
      "6 2588\n",
      "0\n",
      "6 2594\n",
      "6\n",
      "OK\n",
      "6 2610\n",
      "3\n",
      "OK\n",
      "6 2627\n",
      "5\n",
      "OK\n",
      "6 2710\n",
      "7\n",
      "OK\n",
      "6 2739\n",
      "7\n",
      "OK\n",
      "6 2761\n",
      "5\n",
      "OK\n",
      "6 2767\n",
      "2\n",
      "OK\n",
      "6 2802\n",
      "3\n",
      "OK\n",
      "6 2814\n",
      "3\n",
      "OK\n",
      "6 2833\n",
      "1\n",
      "6 2872\n",
      "8\n",
      "OK\n",
      "6 2883\n",
      "0\n",
      "6 2911\n",
      "3\n",
      "OK\n",
      "6 2924\n",
      "0\n",
      "6 2936\n",
      "3\n",
      "OK\n",
      "6 2942\n",
      "0\n",
      "6 2943\n",
      "1\n",
      "6 2945\n",
      "3\n",
      "OK\n",
      "6 2949\n",
      "3\n",
      "OK\n",
      "6 2950\n",
      "1\n",
      "6 2959\n",
      "3\n",
      "OK\n",
      "6 2966\n",
      "3\n",
      "OK\n",
      "6 2973\n",
      "4\n",
      "OK\n",
      "6 3035\n",
      "1\n",
      "6 3047\n",
      "1\n",
      "6 3065\n",
      "1\n",
      "6 3070\n",
      "2\n",
      "OK\n",
      "6 3073\n",
      "1\n",
      "6 3075\n",
      "0\n",
      "6 3092\n",
      "3\n",
      "OK\n",
      "6 3108\n",
      "2\n",
      "OK\n",
      "6 3118\n",
      "0\n",
      "6 3157\n",
      "3\n",
      "OK\n",
      "6 3264\n",
      "2\n",
      "OK\n",
      "6 3394\n",
      "4\n",
      "OK\n",
      "6 3411\n",
      "1\n",
      "6 3445\n",
      "0\n",
      "6 3448\n",
      "3\n",
      "OK\n",
      "6 3457\n",
      "2\n",
      "OK\n",
      "6 3469\n",
      "3\n",
      "OK\n",
      "6 3493\n",
      "3\n",
      "OK\n",
      "6 3593\n",
      "3\n",
      "OK\n",
      "6 3596\n",
      "0\n",
      "6 3618\n",
      "5\n",
      "OK\n",
      "6 3645\n",
      "2\n",
      "OK\n",
      "6 3672\n",
      "0\n",
      "6 3676\n",
      "4\n",
      "OK\n",
      "6 3743\n",
      "4\n",
      "OK\n",
      "6 3747\n",
      "1\n",
      "6 3757\n",
      "2\n",
      "OK\n",
      "6 3767\n",
      "0\n",
      "6 3773\n",
      "3\n",
      "OK\n",
      "6 3777\n",
      "1\n",
      "6 3792\n",
      "0\n",
      "6 3799\n",
      "1\n",
      "6 3805\n",
      "0\n",
      "6 3818\n",
      "3\n",
      "OK\n",
      "6 3820\n",
      "2\n",
      "OK\n",
      "6 3823\n",
      "4\n",
      "OK\n",
      "6 3883\n",
      "8\n",
      "OK\n",
      "6 3923\n",
      "3\n",
      "OK\n",
      "6 3934\n",
      "0\n",
      "6 3962\n",
      "1\n",
      "6 3972\n",
      "0\n",
      "6 3978\n",
      "3\n",
      "OK\n",
      "6 3979\n",
      "2\n",
      "OK\n",
      "6 3992\n",
      "1\n",
      "6 3996\n",
      "6\n",
      "OK\n",
      "6 4024\n",
      "1\n",
      "6 4064\n",
      "3\n",
      "OK\n",
      "6 4083\n",
      "0\n",
      "6 4129\n",
      "3\n",
      "OK\n",
      "6 4130\n",
      "5\n",
      "OK\n",
      "6 4164\n",
      "5\n",
      "OK\n",
      "6 4166\n",
      "3\n",
      "OK\n",
      "6 4174\n",
      "3\n",
      "OK\n",
      "6 4187\n",
      "3\n",
      "OK\n",
      "6 4219\n",
      "3\n",
      "OK\n",
      "6 4223\n",
      "1\n",
      "6 4244\n",
      "0\n",
      "6 4250\n",
      "3\n",
      "OK\n",
      "6 4332\n",
      "2\n",
      "OK\n",
      "6 4368\n",
      "6\n",
      "OK\n",
      "6 4387\n",
      "3\n",
      "OK\n",
      "6 4416\n",
      "2\n",
      "OK\n",
      "6 4440\n",
      "3\n",
      "OK\n",
      "6 4454\n",
      "3\n",
      "OK\n",
      "6 4467\n",
      "2\n",
      "OK\n",
      "6 4470\n",
      "3\n",
      "OK\n",
      "6 4494\n",
      "4\n",
      "OK\n",
      "6 4508\n",
      "4\n",
      "OK\n",
      "6 4591\n",
      "6\n",
      "OK\n",
      "6 4647\n",
      "0\n",
      "6 4656\n",
      "21\n",
      "OK\n",
      "6 4659\n",
      "3\n",
      "OK\n",
      "6 4681\n",
      "3\n",
      "OK\n",
      "6 4696\n",
      "0\n",
      "6 4703\n",
      "30\n",
      "OK\n",
      "6 4710\n",
      "2\n",
      "OK\n",
      "6 4712\n",
      "3\n",
      "OK\n",
      "6 4716\n",
      "2\n",
      "OK\n",
      "6 4733\n",
      "3\n",
      "OK\n",
      "6 4738\n",
      "1\n",
      "6 4758\n",
      "0\n",
      "6 4803\n",
      "4\n",
      "OK\n",
      "6 4831\n",
      "0\n",
      "6 4841\n",
      "0\n",
      "6 4862\n",
      "5\n",
      "OK\n",
      "6 4866\n",
      "4\n",
      "OK\n",
      "6 4889\n",
      "3\n",
      "OK\n",
      "6 4904\n",
      "0\n",
      "6 4918\n",
      "3\n",
      "OK\n",
      "6 4924\n",
      "3\n",
      "OK\n",
      "6 4929\n",
      "10\n",
      "OK\n",
      "6 4951\n",
      "2\n",
      "OK\n",
      "6 4952\n",
      "3\n",
      "OK\n",
      "6 4964\n",
      "2\n",
      "OK\n",
      "6 4977\n",
      "0\n",
      "6 4994\n",
      "3\n",
      "OK\n",
      "6 5001\n",
      "3\n",
      "OK\n",
      "6 5029\n",
      "0\n",
      "6 5030\n",
      "2\n",
      "OK\n",
      "6 5084\n",
      "0\n",
      "6 5113\n",
      "1\n",
      "6 5126\n",
      "1\n",
      "6 5180\n",
      "1\n",
      "6 5200\n",
      "1\n",
      "6 5203\n",
      "4\n",
      "OK\n",
      "6 5204\n",
      "3\n",
      "OK\n",
      "6 5214\n",
      "2\n",
      "OK\n",
      "6 5220\n",
      "5\n",
      "OK\n",
      "6 5244\n",
      "1\n",
      "6 5251\n",
      "4\n",
      "OK\n",
      "6 5261\n",
      "3\n",
      "OK\n",
      "6 5278\n",
      "4\n",
      "OK\n",
      "6 5353\n",
      "3\n",
      "OK\n",
      "6 5366\n",
      "4\n",
      "OK\n",
      "6 5381\n",
      "1\n",
      "6 5400\n",
      "3\n",
      "OK\n",
      "6 5422\n",
      "4\n",
      "OK\n",
      "6 5423\n",
      "3\n",
      "OK\n",
      "6 5451\n",
      "3\n",
      "OK\n",
      "6 5464\n",
      "3\n",
      "OK\n",
      "6 5477\n",
      "3\n",
      "OK\n",
      "6 5482\n",
      "2\n",
      "OK\n",
      "6 5497\n",
      "3\n",
      "OK\n",
      "6 5511\n",
      "3\n",
      "OK\n",
      "6 5574\n",
      "0\n",
      "6 5611\n",
      "24\n",
      "OK\n",
      "6 5624\n",
      "3\n",
      "OK\n",
      "6 5652\n",
      "0\n",
      "6 5659\n",
      "3\n",
      "OK\n",
      "6 5688\n",
      "0\n",
      "6 5691\n",
      "0\n",
      "6 5696\n",
      "10\n",
      "OK\n",
      "6 5759\n",
      "1\n",
      "6 5764\n",
      "1\n",
      "6 5768\n",
      "4\n",
      "OK\n",
      "6 5788\n",
      "0\n",
      "6 5794\n",
      "4\n",
      "OK\n",
      "6 5828\n",
      "1\n",
      "6 5863\n",
      "1\n",
      "6 5884\n",
      "0\n",
      "6 5930\n",
      "3\n",
      "OK\n",
      "6 5933\n",
      "2\n",
      "OK\n",
      "6 5965\n",
      "4\n",
      "OK\n",
      "6 5983\n",
      "2\n",
      "OK\n",
      "6 6016\n",
      "3\n",
      "OK\n",
      "6 6020\n",
      "0\n",
      "6 6052\n",
      "0\n",
      "6 6076\n",
      "3\n",
      "OK\n",
      "6 6102\n",
      "1\n",
      "6 6106\n",
      "2\n",
      "OK\n",
      "6 6111\n",
      "2\n",
      "OK\n",
      "6 6127\n",
      "2\n",
      "OK\n",
      "6 6138\n",
      "3\n",
      "OK\n",
      "6 6159\n",
      "2\n",
      "OK\n",
      "6 6161\n",
      "3\n",
      "OK\n",
      "6 6201\n",
      "1\n",
      "6 6220\n",
      "1\n",
      "6 6228\n",
      "3\n",
      "OK\n",
      "6 6243\n",
      "3\n",
      "OK\n",
      "6 6249\n",
      "4\n",
      "OK\n",
      "6 6266\n",
      "4\n",
      "OK\n",
      "6 6280\n",
      "6\n",
      "OK\n",
      "6 6316\n",
      "13\n",
      "OK\n",
      "6 6324\n",
      "3\n",
      "OK\n",
      "6 6369\n",
      "1\n",
      "6 6386\n",
      "3\n",
      "OK\n",
      "6 6392\n",
      "3\n",
      "OK\n",
      "6 6401\n",
      "1\n",
      "6 6434\n",
      "3\n",
      "OK\n",
      "6 6448\n",
      "3\n",
      "OK\n",
      "6 6452\n",
      "3\n",
      "OK\n",
      "6 6466\n",
      "1\n",
      "6 6472\n",
      "3\n",
      "OK\n",
      "6 6502\n",
      "3\n",
      "OK\n",
      "6 6541\n",
      "1\n",
      "6 6575\n",
      "3\n",
      "OK\n",
      "6 6585\n",
      "1\n",
      "6 6621\n",
      "1\n",
      "6 6635\n",
      "0\n",
      "6 6636\n",
      "4\n",
      "OK\n",
      "6 6645\n",
      "4\n",
      "OK\n",
      "6 6679\n",
      "3\n",
      "OK\n",
      "6 6724\n",
      "3\n",
      "OK\n",
      "6 6732\n",
      "5\n",
      "OK\n",
      "6 6736\n",
      "2\n",
      "OK\n",
      "6 6761\n",
      "4\n",
      "OK\n",
      "6 6762\n",
      "0\n",
      "6 6768\n",
      "4\n",
      "OK\n",
      "6 6772\n",
      "5\n",
      "OK\n",
      "6 6775\n",
      "1\n",
      "6 6805\n",
      "0\n",
      "6 6842\n",
      "2\n",
      "OK\n",
      "6 6850\n",
      "1\n",
      "6 6857\n",
      "3\n",
      "OK\n",
      "6 6868\n",
      "1\n",
      "6 6878\n",
      "1\n",
      "6 6937\n",
      "8\n",
      "OK\n",
      "6 6957\n",
      "3\n",
      "OK\n",
      "6 6970\n",
      "3\n",
      "OK\n",
      "6 6997\n",
      "4\n",
      "OK\n",
      "6 7004\n",
      "3\n",
      "OK\n",
      "6 7018\n",
      "0\n",
      "6 7027\n",
      "1\n",
      "6 7047\n",
      "2\n",
      "OK\n",
      "6 7051\n",
      "1\n",
      "6 7064\n",
      "1\n",
      "6 7087\n",
      "3\n",
      "OK\n",
      "6 7153\n",
      "2\n",
      "OK\n",
      "6 7200\n",
      "3\n",
      "OK\n",
      "6 7201\n",
      "3\n",
      "OK\n",
      "6 7217\n",
      "2\n",
      "OK\n",
      "6 7271\n",
      "1\n",
      "6 7284\n",
      "0\n",
      "6 7287\n",
      "0\n",
      "6 7295\n",
      "1\n",
      "6 7370\n",
      "4\n",
      "OK\n",
      "6 7394\n",
      "3\n",
      "OK\n",
      "6 7536\n",
      "2\n",
      "OK\n",
      "6 7537\n",
      "5\n",
      "OK\n",
      "6 7565\n",
      "3\n",
      "OK\n",
      "6 7567\n",
      "3\n",
      "OK\n",
      "6 7581\n",
      "2\n",
      "OK\n",
      "6 7595\n",
      "9\n",
      "OK\n",
      "6 7702\n",
      "3\n",
      "OK\n",
      "6 7712\n",
      "9\n",
      "OK\n",
      "6 7749\n",
      "3\n",
      "OK\n",
      "6 7752\n",
      "2\n",
      "OK\n",
      "6 7759\n",
      "3\n",
      "OK\n",
      "6 7760\n",
      "2\n",
      "OK\n",
      "6 7777\n",
      "1\n",
      "6 7801\n",
      "3\n",
      "OK\n",
      "6 7827\n",
      "7\n",
      "OK\n",
      "6 7834\n",
      "3\n",
      "OK\n",
      "6 7844\n",
      "3\n",
      "OK\n",
      "6 7854\n",
      "4\n",
      "OK\n",
      "6 7859\n",
      "1\n",
      "6 7861\n",
      "0\n",
      "6 7865\n",
      "4\n",
      "OK\n",
      "6 7868\n",
      "3\n",
      "OK\n",
      "6 7899\n",
      "1\n",
      "6 7905\n",
      "3\n",
      "OK\n",
      "6 8023\n",
      "1\n",
      "6 8075\n",
      "3\n",
      "OK\n",
      "6 8123\n",
      "4\n",
      "OK\n",
      "6 8131\n",
      "1\n",
      "6 8132\n",
      "8\n",
      "OK\n",
      "6 8136\n",
      "2\n",
      "OK\n",
      "6 8143\n",
      "5\n",
      "OK\n",
      "6 8171\n",
      "3\n",
      "OK\n",
      "6 8202\n",
      "1\n",
      "6 8214\n",
      "4\n",
      "OK\n",
      "6 8215\n",
      "3\n",
      "OK\n",
      "6 8245\n",
      "3\n",
      "OK\n",
      "6 8256\n",
      "3\n",
      "OK\n",
      "6 8277\n",
      "1\n",
      "6 8312\n",
      "2\n",
      "OK\n",
      "6 8327\n",
      "3\n",
      "OK\n",
      "6 8362\n",
      "3\n",
      "OK\n",
      "6 8368\n",
      "4\n",
      "OK\n",
      "6 8395\n",
      "4\n",
      "OK\n",
      "6 8426\n",
      "0\n",
      "6 8431\n",
      "4\n",
      "OK\n",
      "6 8435\n",
      "6\n",
      "OK\n",
      "6 8485\n",
      "26\n",
      "OK\n",
      "6 8517\n",
      "1\n",
      "6 8559\n",
      "1\n",
      "6 8625\n",
      "1\n",
      "6 8643\n",
      "2\n",
      "OK\n",
      "6 8653\n",
      "6\n",
      "OK\n",
      "6 8684\n",
      "2\n",
      "OK\n",
      "6 8702\n",
      "7\n",
      "OK\n",
      "6 8708\n",
      "0\n",
      "6 8756\n",
      "1\n",
      "6 8789\n",
      "4\n",
      "OK\n",
      "6 8832\n",
      "0\n",
      "6 8842\n",
      "3\n",
      "OK\n",
      "6 8861\n",
      "3\n",
      "OK\n",
      "6 8866\n",
      "1\n",
      "6 8872\n",
      "0\n",
      "6 8874\n",
      "3\n",
      "OK\n",
      "6 8889\n",
      "1\n",
      "6 8892\n",
      "3\n",
      "OK\n",
      "6 8895\n",
      "1\n",
      "6 8915\n",
      "4\n",
      "OK\n",
      "6 8920\n",
      "3\n",
      "OK\n",
      "6 8931\n",
      "3\n",
      "OK\n",
      "6 8949\n",
      "3\n",
      "OK\n",
      "6 8962\n",
      "3\n",
      "OK\n",
      "6 8965\n",
      "0\n",
      "6 8982\n",
      "4\n",
      "OK\n",
      "6 8992\n",
      "0\n",
      "6 9013\n",
      "1\n",
      "6 9018\n",
      "2\n",
      "OK\n",
      "6 9044\n",
      "3\n",
      "OK\n",
      "6 9068\n",
      "1\n",
      "6 9102\n",
      "1\n",
      "6 9128\n",
      "2\n",
      "OK\n",
      "6 9130\n",
      "3\n",
      "OK\n",
      "6 9158\n",
      "3\n",
      "OK\n",
      "6 9187\n",
      "7\n",
      "OK\n",
      "6 9190\n",
      "4\n",
      "OK\n",
      "6 9208\n",
      "3\n",
      "OK\n",
      "6 9259\n",
      "9\n",
      "OK\n",
      "6 9267\n",
      "3\n",
      "OK\n",
      "6 9270\n",
      "3\n",
      "OK\n",
      "6 9281\n",
      "2\n",
      "OK\n",
      "6 9294\n",
      "2\n",
      "OK\n",
      "6 9388\n",
      "3\n",
      "OK\n",
      "6 9394\n",
      "1\n",
      "6 9408\n",
      "1\n",
      "6 9421\n",
      "1\n",
      "6 9476\n",
      "2\n",
      "OK\n",
      "6 9486\n",
      "1\n",
      "6 9536\n",
      "3\n",
      "OK\n",
      "6 9540\n",
      "4\n",
      "OK\n",
      "6 9553\n",
      "4\n",
      "OK\n",
      "6 9555\n",
      "0\n",
      "6 9564\n",
      "3\n",
      "OK\n",
      "6 9565\n",
      "4\n",
      "OK\n",
      "6 9595\n",
      "2\n",
      "OK\n",
      "6 9598\n",
      "0\n",
      "6 9605\n",
      "2\n",
      "OK\n",
      "6 9614\n",
      "1\n",
      "6 9637\n",
      "3\n",
      "OK\n",
      "6 9645\n",
      "25\n",
      "OK\n",
      "6 9672\n",
      "1\n",
      "6 9679\n",
      "3\n",
      "OK\n",
      "6 9705\n",
      "3\n",
      "OK\n",
      "6 9707\n",
      "3\n",
      "OK\n",
      "6 9717\n",
      "0\n",
      "6 9730\n",
      "2\n",
      "OK\n",
      "6 9742\n",
      "3\n",
      "OK\n",
      "6 9764\n",
      "1\n",
      "6 9842\n",
      "3\n",
      "OK\n",
      "6 9852\n",
      "2\n",
      "OK\n",
      "6 9871\n",
      "3\n",
      "OK\n",
      "6 9884\n",
      "4\n",
      "OK\n",
      "6 9923\n",
      "2\n",
      "OK\n",
      "6 9947\n",
      "5\n",
      "OK\n",
      "6 9950\n",
      "1\n",
      "6 9955\n",
      "1\n",
      "6 9967\n",
      "1\n",
      "6 10011\n",
      "3\n",
      "OK\n",
      "6 10028\n",
      "3\n",
      "OK\n",
      "6 10044\n",
      "10\n",
      "OK\n",
      "6 10047\n",
      "1\n",
      "6 10075\n",
      "2\n",
      "OK\n",
      "6 10148\n",
      "3\n",
      "OK\n",
      "6 10163\n",
      "3\n",
      "OK\n",
      "6 10193\n",
      "0\n",
      "6 10285\n",
      "3\n",
      "OK\n",
      "6 10287\n",
      "7\n",
      "OK\n",
      "6 10296\n",
      "3\n",
      "OK\n",
      "6 10307\n",
      "3\n",
      "OK\n",
      "6 10320\n",
      "3\n",
      "OK\n",
      "6 10329\n",
      "3\n",
      "OK\n",
      "6 10337\n",
      "3\n",
      "OK\n",
      "6 10341\n",
      "6\n",
      "OK\n",
      "6 10362\n",
      "1\n",
      "6 10381\n",
      "6\n",
      "OK\n",
      "6 10416\n",
      "11\n",
      "OK\n",
      "6 10474\n",
      "0\n",
      "6 10508\n",
      "1\n",
      "6 10512\n",
      "2\n",
      "OK\n",
      "6 10530\n",
      "1\n",
      "6 10548\n",
      "3\n",
      "OK\n",
      "6 10572\n",
      "2\n",
      "OK\n",
      "6 10594\n",
      "2\n",
      "OK\n",
      "6 10606\n",
      "3\n",
      "OK\n",
      "6 10623\n",
      "3\n",
      "OK\n",
      "6 10637\n",
      "4\n",
      "OK\n",
      "6 10641\n",
      "0\n",
      "6 10706\n",
      "3\n",
      "OK\n",
      "6 10715\n",
      "4\n",
      "OK\n",
      "6 10718\n",
      "2\n",
      "OK\n",
      "6 10743\n",
      "1\n",
      "6 10767\n",
      "2\n",
      "OK\n",
      "6 10793\n",
      "4\n",
      "OK\n",
      "6 10795\n",
      "11\n",
      "OK\n",
      "6 10800\n",
      "2\n",
      "OK\n",
      "6 10811\n",
      "3\n",
      "OK\n",
      "6 10832\n",
      "3\n",
      "OK\n",
      "6 10857\n",
      "3\n",
      "OK\n",
      "6 10891\n",
      "26\n",
      "OK\n",
      "6 10894\n",
      "1\n",
      "6 10905\n",
      "2\n",
      "OK\n",
      "6 10960\n",
      "2\n",
      "OK\n",
      "6 10982\n",
      "1\n",
      "6 10996\n",
      "1\n",
      "6 11013\n",
      "0\n",
      "6 11018\n",
      "8\n",
      "OK\n",
      "6 11037\n",
      "1\n",
      "6 11051\n",
      "1\n",
      "6 11063\n",
      "4\n",
      "OK\n",
      "6 11068\n",
      "10\n",
      "OK\n",
      "6 11073\n",
      "3\n",
      "OK\n",
      "6 11083\n",
      "3\n",
      "OK\n",
      "6 11110\n",
      "1\n",
      "6 11114\n",
      "4\n",
      "OK\n",
      "6 11146\n",
      "3\n",
      "OK\n",
      "6 11159\n",
      "2\n",
      "OK\n",
      "6 11167\n",
      "8\n",
      "OK\n",
      "6 11198\n",
      "2\n",
      "OK\n",
      "6 11211\n",
      "6\n",
      "OK\n",
      "6 11215\n",
      "2\n",
      "OK\n",
      "6 11218\n",
      "2\n",
      "OK\n",
      "6 11219\n",
      "3\n",
      "OK\n",
      "6 11230\n",
      "3\n",
      "OK\n",
      "6 11231\n",
      "3\n",
      "OK\n",
      "6 11235\n",
      "3\n",
      "OK\n",
      "6 11263\n",
      "4\n",
      "OK\n",
      "6 11270\n",
      "3\n",
      "OK\n",
      "6 11274\n",
      "1\n",
      "6 11296\n",
      "26\n",
      "OK\n",
      "6 11302\n",
      "0\n",
      "6 11324\n",
      "1\n",
      "6 11335\n",
      "5\n",
      "OK\n",
      "6 11365\n",
      "2\n",
      "OK\n",
      "6 11369\n",
      "4\n",
      "OK\n",
      "6 11375\n",
      "10\n",
      "OK\n",
      "6 11388\n",
      "2\n",
      "OK\n",
      "6 11389\n",
      "4\n",
      "OK\n",
      "6 11400\n",
      "16\n",
      "OK\n",
      "6 11404\n",
      "1\n",
      "6 11409\n",
      "6\n",
      "OK\n",
      "6 11411\n",
      "1\n",
      "6 11412\n",
      "3\n",
      "OK\n",
      "6 11433\n",
      "1\n",
      "6 11436\n",
      "1\n",
      "6 11464\n",
      "1\n",
      "6 11465\n",
      "2\n",
      "OK\n",
      "6 11467\n",
      "3\n",
      "OK\n",
      "6 11502\n",
      "1\n",
      "6 11525\n",
      "3\n",
      "OK\n",
      "6 11527\n",
      "8\n",
      "OK\n",
      "6 11554\n",
      "2\n",
      "OK\n",
      "6 11605\n",
      "2\n",
      "OK\n",
      "6 11633\n",
      "3\n",
      "OK\n",
      "6 11639\n",
      "3\n",
      "OK\n",
      "6 11640\n",
      "2\n",
      "OK\n",
      "6 11650\n",
      "10\n",
      "OK\n",
      "6 11665\n",
      "6\n",
      "OK\n",
      "6 11695\n",
      "0\n",
      "6 11719\n",
      "3\n",
      "OK\n",
      "6 11725\n",
      "1\n",
      "6 11734\n",
      "6\n",
      "OK\n",
      "6 11777\n",
      "4\n",
      "OK\n",
      "6 11787\n",
      "3\n",
      "OK\n",
      "6 11795\n",
      "0\n",
      "6 11851\n",
      "4\n",
      "OK\n",
      "6 11864\n",
      "0\n",
      "6 11867\n",
      "3\n",
      "OK\n",
      "6 11872\n",
      "3\n",
      "OK\n",
      "6 11874\n",
      "4\n",
      "OK\n",
      "6 11895\n",
      "3\n",
      "OK\n",
      "6 11898\n",
      "3\n",
      "OK\n",
      "6 11938\n",
      "1\n",
      "6 11956\n",
      "3\n",
      "OK\n",
      "6 11965\n",
      "11\n",
      "OK\n",
      "6 11973\n",
      "4\n",
      "OK\n",
      "6 11980\n",
      "2\n",
      "OK\n",
      "6 11981\n",
      "3\n",
      "OK\n",
      "6 12001\n",
      "0\n",
      "6 12021\n",
      "2\n",
      "OK\n",
      "6 12029\n",
      "3\n",
      "OK\n",
      "6 12035\n",
      "4\n",
      "OK\n",
      "6 12040\n",
      "0\n",
      "6 12054\n",
      "3\n",
      "OK\n",
      "6 12106\n",
      "3\n",
      "OK\n",
      "6 12111\n",
      "7\n",
      "OK\n",
      "6 12115\n",
      "1\n",
      "6 12117\n",
      "3\n",
      "OK\n",
      "6 12123\n",
      "0\n",
      "6 12128\n",
      "2\n",
      "OK\n",
      "6 12153\n",
      "3\n",
      "OK\n",
      "6 12209\n",
      "5\n",
      "OK\n",
      "6 12231\n",
      "0\n",
      "6 12245\n",
      "5\n",
      "OK\n",
      "6 12288\n",
      "3\n",
      "OK\n",
      "6 12301\n",
      "2\n",
      "OK\n",
      "6 12303\n",
      "4\n",
      "OK\n",
      "6 12309\n",
      "1\n",
      "6 12315\n",
      "3\n",
      "OK\n",
      "6 12324\n",
      "5\n",
      "OK\n",
      "6 12336\n",
      "3\n",
      "OK\n",
      "6 12361\n",
      "1\n",
      "6 12384\n",
      "0\n",
      "6 12391\n",
      "6\n",
      "OK\n",
      "6 12398\n",
      "3\n",
      "OK\n",
      "6 12482\n",
      "0\n",
      "6 12492\n",
      "3\n",
      "OK\n",
      "6 12549\n",
      "3\n",
      "OK\n",
      "6 12562\n",
      "3\n",
      "OK\n",
      "6 12580\n",
      "24\n",
      "OK\n",
      "6 12597\n",
      "2\n",
      "OK\n",
      "6 12605\n",
      "3\n",
      "OK\n",
      "6 12643\n",
      "2\n",
      "OK\n",
      "6 12716\n",
      "3\n",
      "OK\n",
      "6 12727\n",
      "0\n",
      "6 12728\n",
      "5\n",
      "OK\n",
      "6 12738\n",
      "3\n",
      "OK\n",
      "6 12791\n",
      "2\n",
      "OK\n",
      "6 12794\n",
      "2\n",
      "OK\n",
      "6 12802\n",
      "11\n",
      "OK\n",
      "6 12832\n",
      "4\n",
      "OK\n",
      "6 12888\n",
      "4\n",
      "OK\n",
      "6 12898\n",
      "2\n",
      "OK\n",
      "6 12900\n",
      "1\n",
      "6 12907\n",
      "2\n",
      "OK\n",
      "6 12914\n",
      "3\n",
      "OK\n",
      "6 12945\n",
      "3\n",
      "OK\n",
      "6 12948\n",
      "1\n",
      "6 12974\n",
      "5\n",
      "OK\n",
      "6 13000\n",
      "2\n",
      "OK\n",
      "6 13009\n",
      "1\n",
      "6 13012\n",
      "2\n",
      "OK\n",
      "6 13018\n",
      "3\n",
      "OK\n",
      "6 13106\n",
      "1\n",
      "6 13115\n",
      "3\n",
      "OK\n",
      "6 13122\n",
      "0\n",
      "6 13131\n",
      "4\n",
      "OK\n",
      "6 13146\n",
      "1\n",
      "6 13155\n",
      "2\n",
      "OK\n",
      "6 13176\n",
      "2\n",
      "OK\n",
      "6 13181\n",
      "1\n",
      "6 13195\n",
      "0\n",
      "6 13201\n",
      "1\n",
      "6 13207\n",
      "4\n",
      "OK\n",
      "6 13215\n",
      "0\n",
      "6 13235\n",
      "3\n",
      "OK\n",
      "6 13250\n",
      "3\n",
      "OK\n",
      "6 13298\n",
      "3\n",
      "OK\n",
      "6 13306\n",
      "16\n",
      "OK\n",
      "6 13325\n",
      "3\n",
      "OK\n",
      "6 13337\n",
      "2\n",
      "OK\n",
      "6 13376\n",
      "2\n",
      "OK\n",
      "6 13400\n",
      "0\n",
      "6 13401\n",
      "1\n",
      "6 13416\n",
      "3\n",
      "OK\n",
      "6 13460\n",
      "3\n",
      "OK\n",
      "6 13463\n",
      "0\n",
      "6 13497\n",
      "3\n",
      "OK\n",
      "6 13551\n",
      "0\n",
      "6 13576\n",
      "1\n",
      "6 13596\n",
      "5\n",
      "OK\n",
      "6 13621\n",
      "3\n",
      "OK\n",
      "6 13623\n",
      "3\n",
      "OK\n",
      "6 13672\n",
      "3\n",
      "OK\n",
      "6 13679\n",
      "8\n",
      "OK\n",
      "6 13798\n",
      "5\n",
      "OK\n",
      "6 13813\n",
      "3\n",
      "OK\n",
      "6 13821\n",
      "3\n",
      "OK\n",
      "6 13841\n",
      "3\n",
      "OK\n",
      "6 13898\n",
      "1\n",
      "6 13901\n",
      "6\n",
      "OK\n",
      "6 13919\n",
      "4\n",
      "OK\n",
      "6 13926\n",
      "3\n",
      "OK\n",
      "6 13955\n",
      "3\n",
      "OK\n",
      "6 13957\n",
      "7\n",
      "OK\n",
      "6 13996\n",
      "18\n",
      "OK\n",
      "6 14002\n",
      "0\n",
      "6 14008\n",
      "2\n",
      "OK\n",
      "6 14011\n",
      "9\n",
      "OK\n",
      "6 14043\n",
      "2\n",
      "OK\n",
      "6 14065\n",
      "1\n",
      "6 14089\n",
      "4\n",
      "OK\n",
      "6 14162\n",
      "5\n",
      "OK\n",
      "6 14188\n",
      "6\n",
      "OK\n",
      "6 14222\n",
      "1\n",
      "6 14228\n",
      "0\n",
      "6 14308\n",
      "3\n",
      "OK\n"
     ]
    },
    {
     "name": "stdout",
     "output_type": "stream",
     "text": [
      "6 14339\n",
      "0\n",
      "6 14370\n",
      "6\n",
      "OK\n",
      "6 14388\n",
      "7\n",
      "OK\n",
      "6 14393\n",
      "6\n",
      "OK\n",
      "6 14402\n",
      "1\n",
      "6 14447\n",
      "6\n",
      "OK\n",
      "6 14461\n",
      "1\n",
      "6 14479\n",
      "2\n",
      "OK\n",
      "6 14486\n",
      "3\n",
      "OK\n",
      "6 14491\n",
      "3\n",
      "OK\n",
      "6 14512\n",
      "6\n",
      "OK\n",
      "6 14519\n",
      "3\n",
      "OK\n",
      "6 14540\n",
      "34\n",
      "OK\n",
      "6 14560\n",
      "3\n",
      "OK\n",
      "6 14585\n",
      "4\n",
      "OK\n",
      "6 14604\n",
      "3\n",
      "OK\n",
      "6 14610\n",
      "2\n",
      "OK\n",
      "6 14648\n",
      "8\n",
      "OK\n",
      "6 14708\n",
      "0\n",
      "6 14751\n",
      "3\n",
      "OK\n",
      "6 14767\n",
      "3\n",
      "OK\n",
      "6 14788\n",
      "4\n",
      "OK\n",
      "6 14804\n",
      "1\n",
      "6 14809\n",
      "3\n",
      "OK\n",
      "6 14813\n",
      "0\n",
      "6 14829\n",
      "3\n",
      "OK\n",
      "6 14848\n",
      "9\n",
      "OK\n",
      "6 14860\n",
      "0\n",
      "6 14868\n",
      "6\n",
      "OK\n",
      "6 14882\n",
      "3\n",
      "OK\n",
      "6 14900\n",
      "4\n",
      "OK\n",
      "6 14930\n",
      "1\n",
      "6 14947\n",
      "0\n",
      "6 14951\n",
      "1\n",
      "6 14959\n",
      "3\n",
      "OK\n",
      "6 14968\n",
      "5\n",
      "OK\n",
      "6 14971\n",
      "5\n",
      "OK\n",
      "6 14973\n",
      "2\n",
      "OK\n",
      "6 14980\n",
      "3\n",
      "OK\n",
      "6 14981\n",
      "53\n",
      "OK\n",
      "6 14996\n",
      "6\n",
      "OK\n",
      "6 15001\n",
      "3\n",
      "OK\n",
      "6 15012\n",
      "3\n",
      "OK\n",
      "6 15017\n",
      "4\n",
      "OK\n",
      "6 15035\n",
      "3\n",
      "OK\n",
      "6 15046\n",
      "1\n",
      "6 15059\n",
      "5\n",
      "OK\n",
      "6 15126\n",
      "3\n",
      "OK\n",
      "6 15128\n",
      "2\n",
      "OK\n",
      "6 15152\n",
      "3\n",
      "OK\n",
      "6 15158\n",
      "1\n",
      "6 15165\n",
      "0\n",
      "6 15171\n",
      "1\n",
      "6 15176\n",
      "3\n",
      "OK\n",
      "6 15181\n",
      "1\n",
      "6 15185\n",
      "4\n",
      "OK\n",
      "6 15190\n",
      "3\n",
      "OK\n",
      "6 15203\n",
      "3\n",
      "OK\n",
      "6 15227\n",
      "3\n",
      "OK\n",
      "6 15239\n",
      "4\n",
      "OK\n",
      "6 15244\n",
      "3\n",
      "OK\n",
      "6 15280\n",
      "0\n",
      "6 15328\n",
      "4\n",
      "OK\n",
      "6 15332\n",
      "2\n",
      "OK\n",
      "7 2\n",
      "3\n",
      "OK\n",
      "7 9\n",
      "1\n",
      "7 68\n",
      "2\n",
      "OK\n",
      "7 102\n",
      "1\n",
      "7 106\n",
      "0\n",
      "7 126\n",
      "1\n",
      "7 138\n",
      "1\n",
      "7 161\n",
      "3\n",
      "OK\n",
      "7 178\n",
      "3\n",
      "OK\n",
      "7 323\n",
      "7\n",
      "OK\n",
      "7 334\n",
      "3\n",
      "OK\n",
      "7 425\n",
      "1\n",
      "7 435\n",
      "3\n",
      "OK\n",
      "7 495\n",
      "3\n",
      "OK\n",
      "7 501\n",
      "3\n",
      "OK\n",
      "7 515\n",
      "5\n",
      "OK\n",
      "7 597\n",
      "2\n",
      "OK\n",
      "7 601\n",
      "3\n",
      "OK\n",
      "7 615\n",
      "1\n",
      "7 697\n",
      "5\n",
      "OK\n",
      "7 738\n",
      "3\n",
      "OK\n",
      "7 789\n",
      "3\n",
      "OK\n",
      "7 808\n",
      "3\n",
      "OK\n",
      "7 841\n",
      "7\n",
      "OK\n",
      "7 892\n",
      "6\n",
      "OK\n",
      "7 912\n",
      "2\n",
      "OK\n",
      "7 929\n",
      "3\n",
      "OK\n",
      "7 943\n",
      "2\n",
      "OK\n",
      "7 949\n",
      "3\n",
      "OK\n",
      "7 1019\n",
      "8\n",
      "OK\n",
      "7 1022\n",
      "3\n",
      "OK\n",
      "7 1064\n",
      "1\n",
      "7 1075\n",
      "2\n",
      "OK\n",
      "7 1096\n",
      "3\n",
      "OK\n",
      "7 1100\n",
      "3\n",
      "OK\n",
      "7 1123\n",
      "2\n",
      "OK\n",
      "7 1131\n",
      "3\n",
      "OK\n",
      "7 1136\n",
      "3\n",
      "OK\n",
      "7 1325\n",
      "3\n",
      "OK\n",
      "7 1334\n",
      "4\n",
      "OK\n",
      "7 1373\n",
      "1\n",
      "7 1393\n",
      "3\n",
      "OK\n",
      "7 1398\n",
      "3\n",
      "OK\n",
      "7 1547\n",
      "3\n",
      "OK\n",
      "7 1556\n",
      "3\n",
      "OK\n",
      "7 1570\n",
      "3\n",
      "OK\n",
      "7 1644\n",
      "7\n",
      "OK\n",
      "7 1675\n",
      "0\n",
      "7 1683\n",
      "2\n",
      "OK\n",
      "7 1685\n",
      "1\n",
      "7 1690\n",
      "3\n",
      "OK\n",
      "7 1723\n",
      "4\n",
      "OK\n",
      "7 1746\n",
      "3\n",
      "OK\n",
      "7 1759\n",
      "1\n",
      "7 1777\n",
      "2\n",
      "OK\n",
      "7 1806\n",
      "3\n",
      "OK\n",
      "7 1900\n",
      "1\n",
      "7 1903\n",
      "5\n",
      "OK\n",
      "7 1909\n",
      "3\n",
      "OK\n",
      "7 1978\n",
      "2\n",
      "OK\n",
      "7 2003\n",
      "1\n",
      "7 2032\n",
      "2\n",
      "OK\n",
      "7 2044\n",
      "4\n",
      "OK\n",
      "7 2056\n",
      "1\n",
      "7 2080\n",
      "0\n",
      "7 2090\n",
      "0\n",
      "7 2218\n",
      "2\n",
      "OK\n",
      "7 2263\n",
      "0\n",
      "7 2265\n",
      "1\n",
      "7 2313\n",
      "1\n",
      "7 2320\n",
      "1\n",
      "7 2329\n",
      "7\n",
      "OK\n",
      "7 2347\n",
      "1\n",
      "7 2352\n",
      "3\n",
      "OK\n",
      "7 2387\n",
      "3\n",
      "OK\n",
      "7 2405\n",
      "3\n",
      "OK\n",
      "7 2418\n",
      "1\n",
      "7 2422\n",
      "3\n",
      "OK\n",
      "7 2430\n",
      "3\n",
      "OK\n",
      "7 2436\n",
      "4\n",
      "OK\n",
      "7 2461\n",
      "2\n",
      "OK\n",
      "7 2465\n",
      "1\n",
      "7 2492\n",
      "3\n",
      "OK\n",
      "7 2571\n",
      "2\n",
      "OK\n",
      "7 2603\n",
      "2\n",
      "OK\n",
      "7 2608\n",
      "3\n",
      "OK\n",
      "7 2621\n",
      "0\n",
      "7 2634\n",
      "4\n",
      "OK\n",
      "7 2637\n",
      "3\n",
      "OK\n",
      "7 2638\n",
      "1\n",
      "7 2647\n",
      "3\n",
      "OK\n",
      "7 2715\n",
      "1\n",
      "7 2751\n",
      "1\n",
      "7 2770\n",
      "6\n",
      "OK\n",
      "7 2809\n",
      "3\n",
      "OK\n",
      "7 2961\n",
      "2\n",
      "OK\n",
      "7 2987\n",
      "0\n",
      "7 3015\n",
      "5\n",
      "OK\n",
      "7 3071\n",
      "1\n",
      "7 3094\n",
      "2\n",
      "OK\n",
      "7 3113\n",
      "7\n",
      "OK\n",
      "7 3121\n",
      "3\n",
      "OK\n",
      "7 3164\n",
      "5\n",
      "OK\n",
      "7 3201\n",
      "9\n",
      "OK\n",
      "7 3320\n",
      "13\n",
      "OK\n",
      "7 3328\n",
      "2\n",
      "OK\n",
      "7 3329\n",
      "2\n",
      "OK\n",
      "7 3374\n",
      "4\n",
      "OK\n",
      "7 3401\n",
      "3\n",
      "OK\n",
      "7 3408\n",
      "5\n",
      "OK\n",
      "7 3416\n",
      "4\n",
      "OK\n",
      "7 3432\n",
      "0\n",
      "7 3515\n",
      "7\n",
      "OK\n",
      "7 3537\n",
      "0\n",
      "7 3559\n",
      "1\n",
      "7 3613\n",
      "4\n",
      "OK\n",
      "7 3616\n",
      "1\n",
      "7 3621\n",
      "3\n",
      "OK\n",
      "7 3639\n",
      "2\n",
      "OK\n",
      "7 3651\n",
      "3\n",
      "OK\n",
      "7 3705\n",
      "2\n",
      "OK\n",
      "7 3732\n",
      "4\n",
      "OK\n",
      "7 3750\n",
      "3\n",
      "OK\n",
      "7 3813\n",
      "1\n",
      "7 3816\n",
      "0\n",
      "7 3821\n",
      "2\n",
      "OK\n",
      "7 3910\n",
      "6\n",
      "OK\n",
      "7 3914\n",
      "3\n",
      "OK\n",
      "7 3941\n",
      "1\n",
      "7 3947\n",
      "3\n",
      "OK\n",
      "7 4034\n",
      "3\n",
      "OK\n",
      "7 4092\n",
      "3\n",
      "OK\n",
      "7 4170\n",
      "8\n",
      "OK\n",
      "7 4212\n",
      "3\n",
      "OK\n",
      "7 4257\n",
      "2\n",
      "OK\n",
      "7 4271\n",
      "3\n",
      "OK\n",
      "7 4492\n",
      "2\n",
      "OK\n",
      "7 4567\n",
      "1\n",
      "7 4596\n",
      "1\n",
      "7 4613\n",
      "3\n",
      "OK\n",
      "7 4654\n",
      "4\n",
      "OK\n",
      "7 4664\n",
      "6\n",
      "OK\n",
      "7 4676\n",
      "2\n",
      "OK\n",
      "7 4679\n",
      "18\n",
      "OK\n",
      "7 4721\n",
      "3\n",
      "OK\n",
      "7 4734\n",
      "4\n",
      "OK\n",
      "7 4760\n",
      "3\n",
      "OK\n",
      "7 4882\n",
      "3\n",
      "OK\n",
      "7 4945\n",
      "6\n",
      "OK\n",
      "7 4955\n",
      "8\n",
      "OK\n",
      "7 4983\n",
      "3\n",
      "OK\n",
      "7 5009\n",
      "4\n",
      "OK\n",
      "7 5034\n",
      "3\n",
      "OK\n",
      "7 5056\n",
      "4\n",
      "OK\n",
      "7 5089\n",
      "4\n",
      "OK\n",
      "7 5094\n",
      "0\n",
      "7 5106\n",
      "3\n",
      "OK\n",
      "7 5124\n",
      "0\n",
      "7 5125\n",
      "1\n",
      "7 5140\n",
      "3\n",
      "OK\n",
      "7 5162\n",
      "3\n",
      "OK\n",
      "7 5175\n",
      "3\n",
      "OK\n",
      "7 5192\n",
      "4\n",
      "OK\n",
      "7 5193\n",
      "0\n",
      "7 5201\n",
      "4\n",
      "OK\n",
      "7 5213\n",
      "1\n",
      "7 5255\n",
      "2\n",
      "OK\n",
      "7 5302\n",
      "0\n",
      "7 5303\n",
      "3\n",
      "OK\n",
      "7 5311\n",
      "5\n",
      "OK\n",
      "7 5338\n",
      "5\n",
      "OK\n",
      "7 5412\n",
      "0\n",
      "7 5492\n",
      "1\n",
      "7 5503\n",
      "1\n",
      "7 5549\n",
      "1\n",
      "7 5564\n",
      "2\n",
      "OK\n",
      "7 5567\n",
      "0\n",
      "7 5626\n",
      "1\n",
      "7 5627\n",
      "6\n",
      "OK\n",
      "7 5644\n",
      "0\n",
      "7 5693\n",
      "6\n",
      "OK\n",
      "7 5733\n",
      "4\n",
      "OK\n",
      "7 5740\n",
      "0\n",
      "7 5786\n",
      "3\n",
      "OK\n",
      "7 5805\n",
      "0\n",
      "7 5869\n",
      "3\n",
      "OK\n",
      "7 5878\n",
      "2\n",
      "OK\n",
      "7 5931\n",
      "1\n",
      "7 5963\n",
      "3\n",
      "OK\n",
      "7 6034\n",
      "0\n",
      "7 6083\n",
      "2\n",
      "OK\n",
      "7 6093\n",
      "6\n",
      "OK\n",
      "7 6104\n",
      "1\n",
      "7 6115\n",
      "4\n",
      "OK\n",
      "7 6205\n",
      "3\n",
      "OK\n",
      "7 6224\n",
      "4\n",
      "OK\n",
      "7 6259\n",
      "0\n",
      "7 6307\n",
      "3\n",
      "OK\n",
      "7 6327\n",
      "1\n",
      "7 6332\n",
      "3\n",
      "OK\n",
      "7 6335\n",
      "5\n",
      "OK\n",
      "7 6393\n",
      "8\n",
      "OK\n",
      "7 6418\n",
      "6\n",
      "OK\n",
      "7 6491\n",
      "2\n",
      "OK\n",
      "7 6498\n",
      "3\n",
      "OK\n",
      "7 6518\n",
      "2\n",
      "OK\n",
      "7 6629\n",
      "1\n",
      "7 6633\n",
      "4\n",
      "OK\n",
      "7 6695\n",
      "4\n",
      "OK\n",
      "7 6765\n",
      "8\n",
      "OK\n",
      "7 6770\n",
      "8\n",
      "OK\n",
      "7 6779\n",
      "4\n",
      "OK\n",
      "7 6788\n",
      "4\n",
      "OK\n",
      "7 6806\n",
      "2\n",
      "OK\n",
      "7 6860\n",
      "3\n",
      "OK\n",
      "7 6877\n",
      "1\n",
      "7 6974\n",
      "8\n",
      "OK\n",
      "7 6994\n",
      "3\n",
      "OK\n",
      "7 7000\n",
      "2\n",
      "OK\n",
      "7 7017\n",
      "1\n",
      "7 7035\n",
      "3\n",
      "OK\n",
      "7 7050\n",
      "4\n",
      "OK\n",
      "7 7088\n",
      "1\n",
      "7 7111\n",
      "3\n",
      "OK\n",
      "7 7128\n",
      "4\n",
      "OK\n",
      "7 7173\n",
      "1\n",
      "7 7208\n",
      "2\n",
      "OK\n",
      "7 7216\n",
      "4\n",
      "OK\n",
      "7 7300\n",
      "3\n",
      "OK\n",
      "7 7382\n",
      "4\n",
      "OK\n",
      "7 7425\n",
      "0\n",
      "7 7428\n",
      "2\n",
      "OK\n",
      "7 7495\n",
      "2\n",
      "OK\n",
      "7 7497\n",
      "0\n",
      "7 7510\n",
      "2\n",
      "OK\n",
      "7 7552\n",
      "2\n",
      "OK\n",
      "7 7560\n",
      "3\n",
      "OK\n",
      "7 7571\n",
      "3\n",
      "OK\n",
      "7 7638\n",
      "4\n",
      "OK\n",
      "7 7782\n",
      "1\n",
      "7 7788\n",
      "0\n",
      "7 7822\n",
      "3\n",
      "OK\n",
      "7 7848\n",
      "3\n",
      "OK\n",
      "7 7878\n",
      "3\n",
      "OK\n",
      "7 7880\n",
      "8\n",
      "OK\n",
      "7 7882\n",
      "3\n",
      "OK\n",
      "7 7884\n",
      "1\n",
      "7 7897\n",
      "1\n",
      "7 7901\n",
      "0\n",
      "7 7918\n",
      "14\n",
      "OK\n",
      "7 7939\n",
      "0\n",
      "7 7995\n",
      "0\n",
      "7 8016\n",
      "4\n",
      "OK\n",
      "7 8017\n",
      "4\n",
      "OK\n",
      "7 8070\n",
      "2\n",
      "OK\n",
      "7 8074\n",
      "2\n",
      "OK\n",
      "7 8089\n",
      "2\n",
      "OK\n",
      "7 8121\n",
      "3\n",
      "OK\n",
      "7 8127\n",
      "7\n",
      "OK\n",
      "7 8158\n",
      "1\n",
      "7 8223\n",
      "2\n",
      "OK\n",
      "7 8272\n",
      "3\n",
      "OK\n",
      "7 8294\n",
      "4\n",
      "OK\n",
      "7 8313\n",
      "3\n",
      "OK\n",
      "7 8337\n",
      "3\n",
      "OK\n",
      "7 8450\n",
      "3\n",
      "OK\n",
      "7 8454\n",
      "1\n",
      "7 8458\n",
      "0\n",
      "7 8467\n",
      "2\n",
      "OK\n",
      "7 8527\n",
      "2\n",
      "OK\n",
      "7 8554\n",
      "0\n",
      "7 8577\n",
      "1\n",
      "7 8600\n",
      "3\n",
      "OK\n",
      "7 8706\n",
      "2\n",
      "OK\n",
      "7 8721\n",
      "4\n",
      "OK\n",
      "7 8748\n",
      "3\n",
      "OK\n",
      "7 8749\n",
      "4\n",
      "OK\n",
      "7 8759\n",
      "3\n",
      "OK\n",
      "7 8797\n",
      "8\n",
      "OK\n",
      "7 8921\n",
      "3\n",
      "OK\n",
      "7 8937\n",
      "3\n",
      "OK\n",
      "7 8952\n",
      "2\n",
      "OK\n",
      "7 8988\n",
      "0\n",
      "7 9004\n",
      "1\n",
      "7 9022\n",
      "3\n",
      "OK\n",
      "7 9042\n",
      "6\n",
      "OK\n",
      "7 9063\n",
      "0\n",
      "7 9089\n",
      "0\n",
      "7 9093\n",
      "1\n",
      "7 9126\n",
      "2\n",
      "OK\n",
      "7 9177\n",
      "4\n",
      "OK\n",
      "7 9198\n",
      "0\n",
      "7 9230\n",
      "3\n",
      "OK\n",
      "7 9291\n",
      "9\n",
      "OK\n",
      "7 9317\n",
      "3\n",
      "OK\n",
      "7 9346\n",
      "2\n",
      "OK\n",
      "7 9351\n",
      "2\n",
      "OK\n",
      "7 9393\n",
      "3\n",
      "OK\n",
      "7 9506\n",
      "2\n",
      "OK\n",
      "7 9531\n",
      "4\n",
      "OK\n",
      "7 9538\n",
      "3\n",
      "OK\n",
      "7 9554\n",
      "4\n",
      "OK\n",
      "7 9571\n",
      "3\n",
      "OK\n",
      "7 9574\n",
      "4\n",
      "OK\n",
      "7 9587\n",
      "0\n",
      "7 9603\n",
      "1\n",
      "7 9696\n",
      "0\n",
      "7 9745\n",
      "4\n",
      "OK\n",
      "7 9751\n",
      "8\n",
      "OK\n",
      "7 9787\n",
      "0\n",
      "7 9845\n",
      "3\n",
      "OK\n",
      "7 9850\n",
      "9\n",
      "OK\n",
      "7 9854\n",
      "20\n",
      "OK\n",
      "7 9855\n",
      "1\n",
      "7 9868\n",
      "2\n",
      "OK\n",
      "7 9912\n",
      "3\n",
      "OK\n",
      "7 9929\n",
      "5\n",
      "OK\n",
      "7 9953\n",
      "16\n",
      "OK\n",
      "7 9959\n",
      "3\n",
      "OK\n",
      "7 10008\n",
      "5\n",
      "OK\n",
      "7 10009\n",
      "4\n",
      "OK\n",
      "7 10035\n",
      "4\n",
      "OK\n",
      "7 10046\n",
      "3\n",
      "OK\n",
      "7 10076\n",
      "3\n",
      "OK\n",
      "7 10087\n",
      "6\n",
      "OK\n",
      "7 10105\n",
      "3\n",
      "OK\n",
      "7 10124\n",
      "4\n",
      "OK\n",
      "7 10147\n",
      "3\n",
      "OK\n",
      "7 10223\n",
      "2\n",
      "OK\n",
      "7 10292\n",
      "2\n",
      "OK\n",
      "7 10354\n",
      "39\n",
      "OK\n",
      "7 10355\n",
      "4\n",
      "OK\n",
      "7 10393\n",
      "1\n",
      "7 10427\n",
      "4\n",
      "OK\n",
      "7 10457\n",
      "6\n",
      "OK\n",
      "7 10471\n",
      "0\n",
      "7 10507\n",
      "5\n",
      "OK\n",
      "7 10528\n",
      "4\n",
      "OK\n",
      "7 10557\n",
      "3\n",
      "OK\n",
      "7 10562\n",
      "2\n",
      "OK\n",
      "7 10566\n",
      "4\n",
      "OK\n",
      "7 10649\n",
      "2\n",
      "OK\n",
      "7 10651\n",
      "5\n",
      "OK\n",
      "7 10654\n",
      "1\n",
      "7 10722\n",
      "3\n",
      "OK\n",
      "7 10741\n",
      "3\n",
      "OK\n",
      "7 10833\n",
      "4\n",
      "OK\n",
      "7 10853\n",
      "1\n",
      "7 10879\n",
      "0\n",
      "7 10900\n",
      "0\n",
      "7 10914\n",
      "1\n",
      "7 10931\n",
      "1\n",
      "7 10933\n",
      "3\n",
      "OK\n",
      "7 10937\n",
      "0\n",
      "7 10974\n",
      "1\n",
      "7 10981\n",
      "5\n",
      "OK\n",
      "7 11034\n",
      "1\n",
      "7 11084\n",
      "6\n",
      "OK\n",
      "7 11127\n",
      "3\n",
      "OK\n",
      "7 11150\n",
      "3\n",
      "OK\n",
      "7 11266\n",
      "4\n",
      "OK\n",
      "7 11293\n",
      "1\n",
      "7 11300\n",
      "2\n",
      "OK\n",
      "7 11304\n",
      "4\n",
      "OK\n",
      "7 11311\n",
      "4\n",
      "OK\n",
      "7 11331\n",
      "8\n",
      "OK\n",
      "7 11350\n",
      "2\n",
      "OK\n",
      "7 11381\n",
      "2\n",
      "OK\n",
      "7 11391\n",
      "1\n",
      "7 11396\n",
      "4\n",
      "OK\n",
      "7 11450\n",
      "4\n",
      "OK\n",
      "7 11566\n",
      "2\n",
      "OK\n",
      "7 11580\n",
      "2\n",
      "OK\n",
      "7 11597\n",
      "4\n",
      "OK\n",
      "7 11599\n",
      "1\n",
      "7 11615\n",
      "1\n",
      "7 11625\n",
      "0\n",
      "7 11637\n",
      "3\n",
      "OK\n",
      "7 11638\n",
      "0\n",
      "7 11644\n",
      "7\n",
      "OK\n",
      "7 11648\n",
      "6\n",
      "OK\n",
      "7 11683\n",
      "3\n",
      "OK\n",
      "7 11697\n",
      "3\n",
      "OK\n",
      "7 11726\n",
      "3\n",
      "OK\n",
      "7 11730\n",
      "2\n",
      "OK\n",
      "7 11776\n",
      "3\n",
      "OK\n",
      "7 11782\n",
      "2\n",
      "OK\n",
      "7 11785\n",
      "3\n",
      "OK\n",
      "7 11791\n",
      "2\n",
      "OK\n",
      "7 11824\n",
      "1\n",
      "7 11836\n",
      "3\n",
      "OK\n",
      "7 11869\n",
      "1\n",
      "7 11957\n",
      "3\n",
      "OK\n",
      "7 11976\n",
      "9\n",
      "OK\n",
      "7 11989\n",
      "6\n",
      "OK\n",
      "7 12026\n",
      "4\n",
      "OK\n",
      "7 12027\n",
      "2\n",
      "OK\n",
      "7 12038\n",
      "6\n",
      "OK\n",
      "7 12065\n",
      "3\n",
      "OK\n",
      "7 12145\n",
      "2\n",
      "OK\n",
      "7 12146\n",
      "3\n",
      "OK\n",
      "7 12165\n",
      "2\n",
      "OK\n",
      "7 12182\n",
      "3\n",
      "OK\n",
      "7 12194\n",
      "5\n",
      "OK\n",
      "7 12198\n",
      "3\n",
      "OK\n",
      "7 12201\n",
      "3\n",
      "OK\n",
      "7 12226\n",
      "13\n",
      "OK\n",
      "7 12331\n",
      "0\n",
      "7 12368\n",
      "1\n",
      "7 12369\n",
      "0\n",
      "7 12374\n",
      "2\n",
      "OK\n",
      "7 12412\n",
      "1\n",
      "7 12416\n",
      "11\n",
      "OK\n",
      "7 12477\n",
      "4\n",
      "OK\n",
      "7 12566\n",
      "2\n",
      "OK\n",
      "7 12567\n",
      "3\n",
      "OK\n",
      "7 12571\n",
      "3\n",
      "OK\n",
      "7 12594\n",
      "1\n",
      "7 12623\n",
      "2\n",
      "OK\n",
      "7 12657\n",
      "6\n",
      "OK\n",
      "7 12681\n",
      "4\n",
      "OK\n",
      "7 12688\n",
      "3\n",
      "OK\n",
      "7 12729\n",
      "5\n",
      "OK\n",
      "7 12737\n",
      "3\n",
      "OK\n",
      "7 12790\n",
      "3\n",
      "OK\n",
      "7 12821\n",
      "3\n",
      "OK\n",
      "7 12841\n",
      "3\n",
      "OK\n",
      "7 12902\n",
      "3\n",
      "OK\n",
      "7 12903\n",
      "3\n",
      "OK\n",
      "7 12918\n",
      "5\n",
      "OK\n",
      "7 12972\n",
      "2\n",
      "OK\n",
      "7 13008\n",
      "2\n",
      "OK\n",
      "7 13016\n",
      "3\n",
      "OK\n",
      "7 13074\n",
      "3\n",
      "OK\n",
      "7 13088\n",
      "3\n",
      "OK\n",
      "7 13125\n",
      "9\n",
      "OK\n",
      "7 13135\n",
      "3\n",
      "OK\n",
      "7 13144\n",
      "1\n",
      "7 13183\n",
      "3\n",
      "OK\n",
      "7 13200\n",
      "3\n",
      "OK\n",
      "7 13237\n",
      "3\n",
      "OK\n",
      "7 13269\n",
      "2\n",
      "OK\n",
      "7 13293\n",
      "4\n",
      "OK\n",
      "7 13357\n",
      "3\n",
      "OK\n",
      "7 13369\n",
      "3\n",
      "OK\n",
      "7 13447\n",
      "3\n",
      "OK\n",
      "7 13491\n",
      "2\n",
      "OK\n",
      "7 13520\n",
      "2\n",
      "OK\n",
      "7 13523\n",
      "1\n",
      "7 13543\n",
      "1\n",
      "7 13562\n",
      "1\n",
      "7 13582\n",
      "3\n",
      "OK\n",
      "7 13583\n",
      "8\n",
      "OK\n",
      "7 13594\n",
      "3\n",
      "OK\n",
      "7 13652\n",
      "4\n",
      "OK\n",
      "7 13668\n",
      "4\n",
      "OK\n",
      "7 13723\n",
      "0\n",
      "7 13733\n",
      "3\n",
      "OK\n",
      "7 13760\n",
      "2\n",
      "OK\n",
      "7 13763\n",
      "0\n",
      "7 13831\n",
      "3\n",
      "OK\n",
      "7 13852\n",
      "3\n",
      "OK\n",
      "7 13877\n",
      "3\n",
      "OK\n",
      "7 13879\n",
      "2\n",
      "OK\n",
      "7 13888\n",
      "3\n",
      "OK\n",
      "7 13918\n",
      "3\n",
      "OK\n",
      "7 13956\n",
      "0\n",
      "7 13990\n",
      "1\n",
      "7 14004\n",
      "8\n",
      "OK\n",
      "7 14063\n",
      "2\n",
      "OK\n",
      "7 14094\n",
      "3\n",
      "OK\n",
      "7 14113\n",
      "3\n",
      "OK\n",
      "7 14146\n",
      "1\n",
      "7 14155\n",
      "1\n",
      "7 14173\n",
      "4\n",
      "OK\n",
      "7 14176\n",
      "2\n",
      "OK\n",
      "7 14197\n",
      "1\n",
      "7 14280\n",
      "1\n",
      "7 14287\n",
      "4\n",
      "OK\n",
      "7 14322\n",
      "4\n",
      "OK\n",
      "7 14367\n",
      "3\n",
      "OK\n",
      "7 14423\n",
      "3\n",
      "OK\n",
      "7 14445\n",
      "2\n",
      "OK\n",
      "7 14449\n",
      "4\n",
      "OK\n",
      "7 14474\n",
      "2\n",
      "OK\n",
      "7 14489\n",
      "3\n",
      "OK\n",
      "7 14494\n",
      "3\n",
      "OK\n",
      "7 14505\n",
      "0\n",
      "7 14543\n",
      "3\n",
      "OK\n",
      "7 14562\n",
      "3\n",
      "OK\n",
      "7 14575\n",
      "1\n",
      "7 14617\n",
      "1\n",
      "7 14690\n",
      "1\n",
      "7 14710\n",
      "1\n",
      "7 14742\n",
      "3\n",
      "OK\n",
      "7 14808\n",
      "3\n",
      "OK\n",
      "7 14814\n",
      "3\n",
      "OK\n",
      "7 14844\n",
      "3\n",
      "OK\n",
      "7 14872\n",
      "3\n",
      "OK\n",
      "7 14890\n",
      "1\n",
      "7 14892\n",
      "1\n",
      "7 14905\n",
      "3\n",
      "OK\n",
      "7 14927\n",
      "2\n",
      "OK\n",
      "7 14934\n",
      "1\n",
      "7 15049\n",
      "10\n",
      "OK\n",
      "7 15067\n",
      "0\n",
      "7 15102\n",
      "2\n",
      "OK\n",
      "7 15106\n",
      "0\n",
      "7 15159\n",
      "6\n",
      "OK\n",
      "7 15189\n",
      "1\n",
      "7 15192\n",
      "3\n",
      "OK\n",
      "7 15198\n",
      "1\n",
      "7 15213\n",
      "4\n",
      "OK\n",
      "7 15228\n",
      "10\n",
      "OK\n",
      "7 15257\n",
      "0\n",
      "7 15264\n",
      "4\n",
      "OK\n",
      "7 15267\n",
      "4\n",
      "OK\n",
      "8 29\n",
      "3\n",
      "OK\n",
      "8 43\n",
      "6\n",
      "OK\n",
      "8 51\n",
      "3\n",
      "OK\n",
      "8 55\n",
      "3\n",
      "OK\n",
      "8 85\n",
      "3\n",
      "OK\n",
      "8 107\n",
      "4\n",
      "OK\n",
      "8 111\n",
      "26\n",
      "OK\n",
      "8 114\n",
      "2\n",
      "OK\n",
      "8 133\n",
      "3\n",
      "OK\n",
      "8 140\n",
      "1\n",
      "8 154\n",
      "3\n",
      "OK\n",
      "8 176\n",
      "1\n",
      "8 200\n",
      "8\n",
      "OK\n",
      "8 211\n",
      "1\n",
      "8 229\n",
      "3\n",
      "OK\n",
      "8 339\n",
      "2\n",
      "OK\n",
      "8 347\n",
      "1\n",
      "8 352\n",
      "3\n",
      "OK\n",
      "8 371\n",
      "4\n",
      "OK\n",
      "8 533\n",
      "0\n",
      "8 562\n",
      "1\n",
      "8 583\n",
      "3\n",
      "OK\n",
      "8 616\n",
      "3\n",
      "OK\n",
      "8 661\n",
      "2\n",
      "OK\n",
      "8 733\n",
      "2\n",
      "OK\n",
      "8 803\n",
      "1\n",
      "8 839\n",
      "2\n",
      "OK\n",
      "8 895\n",
      "1\n",
      "8 907\n",
      "7\n",
      "OK\n",
      "8 957\n",
      "3\n",
      "OK\n",
      "8 963\n",
      "2\n",
      "OK\n",
      "8 971\n",
      "1\n",
      "8 988\n",
      "0\n",
      "8 1013\n",
      "3\n",
      "OK\n",
      "8 1016\n",
      "4\n",
      "OK\n",
      "8 1033\n",
      "3\n",
      "OK\n",
      "8 1108\n",
      "3\n",
      "OK\n",
      "8 1128\n",
      "2\n",
      "OK\n",
      "8 1166\n",
      "1\n",
      "8 1198\n",
      "3\n",
      "OK\n",
      "8 1220\n",
      "11\n",
      "OK\n",
      "8 1229\n",
      "1\n",
      "8 1395\n",
      "4\n",
      "OK\n",
      "8 1470\n",
      "9\n",
      "OK\n",
      "8 1484\n",
      "0\n",
      "8 1486\n",
      "48\n",
      "OK\n",
      "8 1489\n",
      "3\n",
      "OK\n",
      "8 1502\n",
      "0\n",
      "8 1656\n",
      "3\n",
      "OK\n",
      "8 1670\n",
      "2\n",
      "OK\n",
      "8 1677\n",
      "2\n",
      "OK\n",
      "8 1725\n",
      "4\n",
      "OK\n",
      "8 1757\n",
      "3\n",
      "OK\n",
      "8 1766\n",
      "0\n",
      "8 1783\n",
      "1\n",
      "8 1801\n",
      "4\n",
      "OK\n",
      "8 1854\n",
      "3\n",
      "OK\n",
      "8 1887\n",
      "4\n",
      "OK\n",
      "8 1919\n",
      "3\n",
      "OK\n",
      "8 1921\n",
      "3\n",
      "OK\n",
      "8 1937\n",
      "2\n",
      "OK\n",
      "8 1950\n",
      "4\n",
      "OK\n",
      "8 2034\n",
      "4\n",
      "OK\n",
      "8 2062\n",
      "3\n",
      "OK\n",
      "8 2094\n",
      "3\n",
      "OK\n",
      "8 2117\n",
      "3\n",
      "OK\n",
      "8 2138\n",
      "3\n",
      "OK\n",
      "8 2152\n",
      "2\n",
      "OK\n",
      "8 2161\n",
      "3\n",
      "OK\n",
      "8 2170\n",
      "3\n",
      "OK\n",
      "8 2209\n",
      "0\n",
      "8 2228\n",
      "4\n",
      "OK\n",
      "8 2231\n",
      "2\n",
      "OK\n",
      "8 2242\n",
      "3\n",
      "OK\n",
      "8 2266\n",
      "69\n",
      "OK\n",
      "8 2278\n",
      "0\n",
      "8 2361\n",
      "3\n",
      "OK\n",
      "8 2363\n",
      "0\n",
      "8 2365\n",
      "3\n",
      "OK\n",
      "8 2416\n",
      "2\n",
      "OK\n",
      "8 2433\n",
      "2\n",
      "OK\n",
      "8 2450\n",
      "2\n",
      "OK\n",
      "8 2463\n",
      "3\n",
      "OK\n",
      "8 2473\n",
      "2\n",
      "OK\n",
      "8 2476\n",
      "1\n",
      "8 2507\n",
      "4\n",
      "OK\n",
      "8 2513\n",
      "7\n",
      "OK\n",
      "8 2565\n",
      "3\n",
      "OK\n",
      "8 2568\n",
      "2\n",
      "OK\n",
      "8 2576\n",
      "3\n",
      "OK\n",
      "8 2654\n",
      "1\n",
      "8 2774\n",
      "2\n",
      "OK\n",
      "8 2793\n",
      "2\n",
      "OK\n",
      "8 2895\n",
      "2\n",
      "OK\n",
      "8 2969\n",
      "4\n",
      "OK\n",
      "8 2970\n",
      "1\n",
      "8 3074\n",
      "1\n",
      "8 3129\n",
      "3\n",
      "OK\n",
      "8 3242\n",
      "1\n",
      "8 3316\n",
      "2\n",
      "OK\n",
      "8 3338\n",
      "4\n",
      "OK\n",
      "8 3339\n",
      "4\n",
      "OK\n",
      "8 3377\n",
      "1\n",
      "8 3402\n",
      "4\n",
      "OK\n",
      "8 3489\n",
      "3\n",
      "OK\n",
      "8 3495\n",
      "7\n",
      "OK\n",
      "8 3496\n",
      "0\n",
      "8 3510\n",
      "3\n",
      "OK\n",
      "8 3523\n",
      "1\n",
      "8 3555\n",
      "4\n",
      "OK\n",
      "8 3612\n",
      "4\n",
      "OK\n",
      "8 3638\n",
      "3\n",
      "OK\n",
      "8 3659\n",
      "1\n",
      "8 3677\n",
      "3\n",
      "OK\n",
      "8 3716\n",
      "3\n",
      "OK\n",
      "8 3717\n",
      "0\n",
      "8 3776\n",
      "7\n",
      "OK\n",
      "8 3779\n",
      "3\n",
      "OK\n",
      "8 3796\n",
      "5\n",
      "OK\n",
      "8 3826\n",
      "1\n",
      "8 3875\n",
      "17\n",
      "OK\n",
      "8 3902\n",
      "3\n",
      "OK\n",
      "8 3933\n",
      "3\n",
      "OK\n",
      "8 3960\n",
      "2\n",
      "OK\n",
      "8 3989\n",
      "0\n",
      "8 4022\n",
      "2\n",
      "OK\n",
      "8 4088\n",
      "3\n",
      "OK\n",
      "8 4132\n",
      "4\n",
      "OK\n",
      "8 4194\n",
      "0\n",
      "8 4259\n",
      "3\n",
      "OK\n",
      "8 4285\n",
      "6\n",
      "OK\n",
      "8 4301\n",
      "1\n",
      "8 4369\n",
      "0\n",
      "8 4447\n",
      "1\n",
      "8 4521\n",
      "3\n",
      "OK\n",
      "8 4522\n",
      "6\n",
      "OK\n",
      "8 4555\n",
      "3\n",
      "OK\n",
      "8 4556\n",
      "3\n",
      "OK\n",
      "8 4569\n",
      "4\n",
      "OK\n",
      "8 4598\n",
      "5\n",
      "OK\n",
      "8 4601\n",
      "4\n",
      "OK\n",
      "8 4624\n",
      "2\n",
      "OK\n",
      "8 4662\n",
      "1\n",
      "8 4700\n",
      "3\n",
      "OK\n",
      "8 4769\n",
      "3\n",
      "OK\n",
      "8 4825\n",
      "6\n",
      "OK\n",
      "8 4842\n",
      "0\n",
      "8 4875\n",
      "1\n",
      "8 4960\n",
      "2\n",
      "OK\n",
      "8 4993\n",
      "0\n",
      "8 5041\n",
      "4\n",
      "OK\n",
      "8 5053\n",
      "9\n",
      "OK\n",
      "8 5090\n",
      "3\n",
      "OK\n",
      "8 5112\n",
      "3\n",
      "OK\n",
      "8 5117\n",
      "3\n",
      "OK\n",
      "8 5170\n",
      "3\n",
      "OK\n",
      "8 5198\n",
      "1\n",
      "8 5224\n",
      "1\n",
      "8 5264\n",
      "0\n",
      "8 5320\n",
      "0\n",
      "8 5417\n",
      "1\n",
      "8 5465\n",
      "3\n",
      "OK\n",
      "8 5514\n",
      "3\n",
      "OK\n",
      "8 5530\n",
      "0\n",
      "8 5560\n",
      "3\n",
      "OK\n",
      "8 5590\n",
      "3\n",
      "OK\n",
      "8 5655\n",
      "3\n",
      "OK\n",
      "8 5671\n",
      "4\n",
      "OK\n",
      "8 5692\n",
      "3\n",
      "OK\n",
      "8 5722\n",
      "0\n",
      "8 5732\n",
      "4\n",
      "OK\n",
      "8 5790\n",
      "1\n",
      "8 5867\n",
      "0\n",
      "8 5976\n",
      "3\n",
      "OK\n",
      "8 6013\n",
      "5\n",
      "OK\n",
      "8 6065\n",
      "3\n",
      "OK\n",
      "8 6099\n",
      "5\n",
      "OK\n",
      "8 6110\n",
      "6\n",
      "OK\n",
      "8 6113\n",
      "3\n",
      "OK\n",
      "8 6139\n",
      "6\n",
      "OK\n",
      "8 6175\n",
      "3\n",
      "OK\n",
      "8 6180\n",
      "2\n",
      "OK\n",
      "8 6246\n",
      "3\n",
      "OK\n",
      "8 6251\n",
      "3\n",
      "OK\n",
      "8 6273\n",
      "3\n",
      "OK\n",
      "8 6342\n",
      "0\n",
      "8 6350\n",
      "2\n",
      "OK\n",
      "8 6408\n",
      "3\n",
      "OK\n",
      "8 6409\n",
      "0\n",
      "8 6431\n",
      "5\n",
      "OK\n",
      "8 6450\n",
      "3\n",
      "OK\n",
      "8 6494\n",
      "5\n",
      "OK\n",
      "8 6503\n",
      "3\n",
      "OK\n",
      "8 6560\n"
     ]
    },
    {
     "name": "stdout",
     "output_type": "stream",
     "text": [
      "0\n",
      "8 6564\n",
      "1\n",
      "8 6600\n",
      "0\n",
      "8 6643\n",
      "3\n",
      "OK\n",
      "8 6653\n",
      "8\n",
      "OK\n",
      "8 6656\n",
      "4\n",
      "OK\n",
      "8 6734\n",
      "2\n",
      "OK\n",
      "8 6810\n",
      "2\n",
      "OK\n",
      "8 6819\n",
      "2\n",
      "OK\n",
      "8 6892\n",
      "3\n",
      "OK\n",
      "8 6898\n",
      "1\n",
      "8 6924\n",
      "0\n",
      "8 6932\n",
      "2\n",
      "OK\n",
      "8 6946\n",
      "2\n",
      "OK\n",
      "8 6989\n",
      "3\n",
      "OK\n",
      "8 7042\n",
      "1\n",
      "8 7084\n",
      "4\n",
      "OK\n",
      "8 7086\n",
      "6\n",
      "OK\n",
      "8 7148\n",
      "0\n",
      "8 7172\n",
      "3\n",
      "OK\n",
      "8 7196\n",
      "6\n",
      "OK\n",
      "8 7230\n",
      "1\n",
      "8 7236\n",
      "2\n",
      "OK\n",
      "8 7337\n",
      "3\n",
      "OK\n",
      "8 7364\n",
      "0\n",
      "8 7390\n",
      "2\n",
      "OK\n",
      "8 7474\n",
      "2\n",
      "OK\n",
      "8 7528\n",
      "2\n",
      "OK\n",
      "8 7586\n",
      "0\n",
      "8 7646\n",
      "3\n",
      "OK\n",
      "8 7671\n",
      "1\n",
      "8 7772\n",
      "0\n",
      "8 7815\n",
      "0\n",
      "8 7826\n",
      "0\n",
      "8 7940\n",
      "2\n",
      "OK\n",
      "8 7994\n",
      "4\n",
      "OK\n",
      "8 7997\n",
      "3\n",
      "OK\n",
      "8 8069\n",
      "4\n",
      "OK\n",
      "8 8138\n",
      "5\n",
      "OK\n",
      "8 8156\n",
      "6\n",
      "OK\n",
      "8 8165\n",
      "3\n",
      "OK\n",
      "8 8184\n",
      "3\n",
      "OK\n",
      "8 8187\n",
      "12\n",
      "OK\n",
      "8 8213\n",
      "1\n",
      "8 8258\n",
      "2\n",
      "OK\n",
      "8 8270\n",
      "1\n",
      "8 8304\n",
      "4\n",
      "OK\n",
      "8 8319\n",
      "1\n",
      "8 8343\n",
      "3\n",
      "OK\n",
      "8 8352\n",
      "3\n",
      "OK\n",
      "8 8471\n",
      "3\n",
      "OK\n",
      "8 8477\n",
      "3\n",
      "OK\n",
      "8 8529\n",
      "1\n",
      "8 8549\n",
      "2\n",
      "OK\n",
      "8 8604\n",
      "1\n",
      "8 8656\n",
      "2\n",
      "OK\n",
      "8 8667\n",
      "30\n",
      "OK\n",
      "8 8685\n",
      "3\n",
      "OK\n",
      "8 8719\n",
      "1\n",
      "8 8720\n",
      "3\n",
      "OK\n",
      "8 8757\n",
      "4\n",
      "OK\n",
      "8 8839\n",
      "4\n",
      "OK\n",
      "8 8912\n",
      "4\n",
      "OK\n",
      "8 8944\n",
      "7\n",
      "OK\n",
      "8 8975\n",
      "1\n",
      "8 9011\n",
      "5\n",
      "OK\n",
      "8 9151\n",
      "0\n",
      "8 9164\n",
      "4\n",
      "OK\n",
      "8 9189\n",
      "2\n",
      "OK\n",
      "8 9228\n",
      "3\n",
      "OK\n",
      "8 9240\n",
      "3\n",
      "OK\n",
      "8 9322\n",
      "3\n",
      "OK\n",
      "8 9349\n",
      "0\n",
      "8 9361\n",
      "1\n",
      "8 9371\n",
      "4\n",
      "OK\n",
      "8 9375\n",
      "2\n",
      "OK\n",
      "8 9459\n",
      "3\n",
      "OK\n",
      "8 9467\n",
      "1\n",
      "8 9485\n",
      "3\n",
      "OK\n",
      "8 9499\n",
      "2\n",
      "OK\n",
      "8 9514\n",
      "9\n",
      "OK\n",
      "8 9535\n",
      "1\n",
      "8 9740\n",
      "3\n",
      "OK\n",
      "8 9757\n",
      "1\n",
      "8 9779\n",
      "2\n",
      "OK\n",
      "8 9798\n",
      "3\n",
      "OK\n",
      "8 9815\n",
      "2\n",
      "OK\n",
      "8 9830\n",
      "1\n",
      "8 9849\n",
      "3\n",
      "OK\n",
      "8 9909\n",
      "3\n",
      "OK\n",
      "8 9958\n",
      "4\n",
      "OK\n",
      "8 9993\n",
      "3\n",
      "OK\n",
      "8 10003\n",
      "2\n",
      "OK\n",
      "8 10030\n",
      "5\n",
      "OK\n",
      "8 10099\n",
      "3\n",
      "OK\n",
      "8 10162\n",
      "4\n",
      "OK\n",
      "8 10194\n",
      "4\n",
      "OK\n",
      "8 10217\n",
      "2\n",
      "OK\n",
      "8 10245\n",
      "21\n",
      "OK\n",
      "8 10251\n",
      "1\n",
      "8 10264\n",
      "3\n",
      "OK\n",
      "8 10304\n",
      "0\n",
      "8 10331\n",
      "2\n",
      "OK\n",
      "8 10343\n",
      "3\n",
      "OK\n",
      "8 10344\n",
      "3\n",
      "OK\n",
      "8 10363\n",
      "2\n",
      "OK\n",
      "8 10388\n",
      "5\n",
      "OK\n",
      "8 10434\n",
      "2\n",
      "OK\n",
      "8 10445\n",
      "1\n",
      "8 10460\n",
      "2\n",
      "OK\n",
      "8 10678\n",
      "3\n",
      "OK\n",
      "8 10717\n",
      "3\n",
      "OK\n",
      "8 10809\n",
      "2\n",
      "OK\n",
      "8 10839\n",
      "3\n",
      "OK\n",
      "8 10850\n",
      "3\n",
      "OK\n",
      "8 10855\n",
      "7\n",
      "OK\n",
      "8 10888\n",
      "2\n",
      "OK\n",
      "8 10896\n",
      "3\n",
      "OK\n",
      "8 10999\n",
      "3\n",
      "OK\n",
      "8 11049\n",
      "3\n",
      "OK\n",
      "8 11075\n",
      "2\n",
      "OK\n",
      "8 11121\n",
      "1\n",
      "8 11129\n",
      "1\n",
      "8 11169\n",
      "4\n",
      "OK\n",
      "8 11202\n",
      "3\n",
      "OK\n",
      "8 11271\n",
      "4\n",
      "OK\n",
      "8 11299\n",
      "3\n",
      "OK\n",
      "8 11403\n",
      "1\n",
      "8 11437\n",
      "2\n",
      "OK\n",
      "8 11452\n",
      "11\n",
      "OK\n",
      "8 11470\n",
      "3\n",
      "OK\n",
      "8 11494\n",
      "3\n",
      "OK\n",
      "8 11549\n",
      "3\n",
      "OK\n",
      "8 11632\n",
      "4\n",
      "OK\n",
      "8 11738\n",
      "2\n",
      "OK\n",
      "8 11748\n",
      "1\n",
      "8 11788\n",
      "9\n",
      "OK\n",
      "8 11853\n",
      "4\n",
      "OK\n",
      "8 11884\n",
      "1\n",
      "8 11912\n",
      "2\n",
      "OK\n",
      "8 11979\n",
      "4\n",
      "OK\n",
      "8 11999\n",
      "1\n",
      "8 12085\n",
      "1\n",
      "8 12136\n",
      "1\n",
      "8 12141\n",
      "3\n",
      "OK\n",
      "8 12208\n",
      "4\n",
      "OK\n",
      "8 12251\n",
      "2\n",
      "OK\n",
      "8 12306\n",
      "4\n",
      "OK\n",
      "8 12318\n",
      "9\n",
      "OK\n",
      "8 12386\n",
      "2\n",
      "OK\n",
      "8 12478\n",
      "2\n",
      "OK\n",
      "8 12480\n",
      "3\n",
      "OK\n",
      "8 12519\n",
      "4\n",
      "OK\n",
      "8 12559\n",
      "3\n",
      "OK\n",
      "8 12586\n",
      "1\n",
      "8 12591\n",
      "2\n",
      "OK\n",
      "8 12604\n",
      "3\n",
      "OK\n",
      "8 12612\n",
      "2\n",
      "OK\n",
      "8 12630\n",
      "5\n",
      "OK\n",
      "8 12640\n",
      "3\n",
      "OK\n",
      "8 12665\n",
      "2\n",
      "OK\n",
      "8 12675\n",
      "1\n",
      "8 12677\n",
      "3\n",
      "OK\n",
      "8 12765\n",
      "3\n",
      "OK\n",
      "8 12774\n",
      "1\n",
      "8 12829\n",
      "2\n",
      "OK\n",
      "8 12849\n",
      "3\n",
      "OK\n",
      "8 12916\n",
      "3\n",
      "OK\n",
      "8 12933\n",
      "0\n",
      "8 12943\n",
      "3\n",
      "OK\n",
      "8 12994\n",
      "3\n",
      "OK\n",
      "8 13007\n",
      "1\n",
      "8 13156\n",
      "1\n",
      "8 13216\n",
      "2\n",
      "OK\n",
      "8 13226\n",
      "3\n",
      "OK\n",
      "8 13240\n",
      "0\n",
      "8 13253\n",
      "1\n",
      "8 13296\n",
      "3\n",
      "OK\n",
      "8 13314\n",
      "16\n",
      "OK\n",
      "8 13354\n",
      "3\n",
      "OK\n",
      "8 13372\n",
      "5\n",
      "OK\n",
      "8 13386\n",
      "0\n",
      "8 13423\n",
      "3\n",
      "OK\n",
      "8 13585\n",
      "1\n",
      "8 13590\n",
      "4\n",
      "OK\n",
      "8 13626\n",
      "4\n",
      "OK\n",
      "8 13648\n",
      "3\n",
      "OK\n",
      "8 13880\n",
      "1\n",
      "8 13902\n",
      "3\n",
      "OK\n",
      "8 13982\n",
      "2\n",
      "OK\n",
      "8 14033\n",
      "3\n",
      "OK\n",
      "8 14040\n",
      "2\n",
      "OK\n",
      "8 14070\n",
      "3\n",
      "OK\n",
      "8 14115\n",
      "1\n",
      "8 14144\n",
      "2\n",
      "OK\n",
      "8 14167\n",
      "8\n",
      "OK\n",
      "8 14183\n",
      "3\n",
      "OK\n",
      "8 14221\n",
      "3\n",
      "OK\n",
      "8 14224\n",
      "3\n",
      "OK\n",
      "8 14229\n",
      "0\n",
      "8 14239\n",
      "2\n",
      "OK\n",
      "8 14244\n",
      "3\n",
      "OK\n",
      "8 14262\n",
      "4\n",
      "OK\n",
      "8 14264\n",
      "10\n",
      "OK\n",
      "8 14431\n",
      "1\n",
      "8 14433\n",
      "3\n",
      "OK\n",
      "8 14462\n",
      "3\n",
      "OK\n",
      "8 14523\n",
      "5\n",
      "OK\n",
      "8 14528\n",
      "13\n",
      "OK\n",
      "8 14615\n",
      "0\n",
      "8 14631\n",
      "0\n",
      "8 14646\n",
      "2\n",
      "OK\n",
      "8 14678\n",
      "4\n",
      "OK\n",
      "8 14729\n",
      "3\n",
      "OK\n",
      "8 14795\n",
      "0\n",
      "8 14810\n",
      "2\n",
      "OK\n",
      "8 14832\n",
      "6\n",
      "OK\n",
      "8 14835\n",
      "6\n",
      "OK\n",
      "8 14857\n",
      "0\n",
      "8 14873\n",
      "3\n",
      "OK\n",
      "8 14891\n",
      "6\n",
      "OK\n",
      "8 14895\n",
      "2\n",
      "OK\n",
      "8 14902\n",
      "3\n",
      "OK\n",
      "8 14929\n",
      "1\n",
      "8 14932\n",
      "7\n",
      "OK\n",
      "8 14978\n",
      "2\n",
      "OK\n",
      "8 14982\n",
      "1\n",
      "8 15054\n",
      "3\n",
      "OK\n",
      "8 15063\n",
      "8\n",
      "OK\n",
      "8 15140\n",
      "1\n",
      "8 15173\n",
      "19\n",
      "OK\n",
      "8 15180\n",
      "2\n",
      "OK\n",
      "8 15299\n",
      "2\n",
      "OK\n",
      "9 8\n",
      "3\n",
      "OK\n",
      "9 34\n",
      "0\n",
      "9 35\n",
      "2\n",
      "OK\n",
      "9 132\n",
      "3\n",
      "OK\n",
      "9 156\n",
      "2\n",
      "OK\n",
      "9 183\n",
      "0\n",
      "9 256\n",
      "3\n",
      "OK\n",
      "9 277\n",
      "5\n",
      "OK\n",
      "9 283\n",
      "3\n",
      "OK\n",
      "9 293\n",
      "3\n",
      "OK\n",
      "9 314\n",
      "3\n",
      "OK\n",
      "9 357\n",
      "0\n",
      "9 451\n",
      "1\n",
      "9 502\n",
      "2\n",
      "OK\n",
      "9 534\n",
      "5\n",
      "OK\n",
      "9 542\n",
      "6\n",
      "OK\n",
      "9 564\n",
      "3\n",
      "OK\n",
      "9 600\n",
      "2\n",
      "OK\n",
      "9 606\n",
      "2\n",
      "OK\n",
      "9 627\n",
      "3\n",
      "OK\n",
      "9 651\n",
      "3\n",
      "OK\n",
      "9 700\n",
      "2\n",
      "OK\n",
      "9 713\n",
      "3\n",
      "OK\n",
      "9 727\n",
      "1\n",
      "9 741\n",
      "0\n",
      "9 886\n",
      "5\n",
      "OK\n",
      "9 909\n",
      "3\n",
      "OK\n",
      "9 980\n",
      "6\n",
      "OK\n",
      "9 1029\n",
      "0\n",
      "9 1087\n",
      "3\n",
      "OK\n",
      "9 1089\n",
      "5\n",
      "OK\n",
      "9 1093\n",
      "3\n",
      "OK\n",
      "9 1151\n",
      "2\n",
      "OK\n",
      "9 1201\n",
      "2\n",
      "OK\n",
      "9 1209\n",
      "4\n",
      "OK\n",
      "9 1227\n",
      "1\n",
      "9 1243\n",
      "1\n",
      "9 1265\n",
      "1\n",
      "9 1350\n",
      "3\n",
      "OK\n",
      "9 1372\n",
      "4\n",
      "OK\n",
      "9 1408\n",
      "1\n",
      "9 1411\n",
      "8\n",
      "OK\n",
      "9 1447\n",
      "3\n",
      "OK\n",
      "9 1499\n",
      "4\n",
      "OK\n",
      "9 1529\n",
      "3\n",
      "OK\n",
      "9 1539\n",
      "3\n",
      "OK\n",
      "9 1597\n",
      "2\n",
      "OK\n",
      "9 1604\n",
      "3\n",
      "OK\n",
      "9 1636\n",
      "1\n",
      "9 1641\n",
      "3\n",
      "OK\n",
      "9 1678\n",
      "3\n",
      "OK\n",
      "9 1885\n",
      "3\n",
      "OK\n",
      "9 1888\n",
      "3\n",
      "OK\n",
      "9 1942\n",
      "2\n",
      "OK\n",
      "9 1986\n",
      "2\n",
      "OK\n",
      "9 2010\n",
      "4\n",
      "OK\n",
      "9 2095\n",
      "4\n",
      "OK\n",
      "9 2096\n",
      "1\n",
      "9 2184\n",
      "1\n",
      "9 2358\n",
      "2\n",
      "OK\n",
      "9 2359\n",
      "3\n",
      "OK\n",
      "9 2371\n",
      "1\n",
      "9 2377\n",
      "0\n",
      "9 2428\n",
      "1\n",
      "9 2454\n",
      "2\n",
      "OK\n",
      "9 2470\n",
      "3\n",
      "OK\n",
      "9 2510\n",
      "2\n",
      "OK\n",
      "9 2554\n",
      "5\n",
      "OK\n",
      "9 2604\n",
      "1\n",
      "9 2813\n",
      "3\n",
      "OK\n",
      "9 2865\n",
      "1\n",
      "9 2906\n",
      "2\n",
      "OK\n",
      "9 2915\n",
      "2\n",
      "OK\n",
      "9 2952\n",
      "3\n",
      "OK\n",
      "9 2994\n",
      "3\n",
      "OK\n",
      "9 3104\n",
      "4\n",
      "OK\n",
      "9 3132\n",
      "3\n",
      "OK\n",
      "9 3140\n",
      "3\n",
      "OK\n",
      "9 3187\n",
      "2\n",
      "OK\n",
      "9 3280\n",
      "3\n",
      "OK\n",
      "9 3297\n",
      "3\n",
      "OK\n",
      "9 3336\n",
      "1\n",
      "9 3396\n",
      "2\n",
      "OK\n",
      "9 3423\n",
      "1\n",
      "9 3485\n",
      "1\n",
      "9 3500\n",
      "3\n",
      "OK\n",
      "9 3516\n",
      "1\n",
      "9 3558\n",
      "5\n",
      "OK\n",
      "9 3797\n",
      "0\n",
      "9 3822\n",
      "1\n",
      "9 4011\n",
      "6\n",
      "OK\n",
      "9 4047\n",
      "2\n",
      "OK\n",
      "9 4077\n",
      "3\n",
      "OK\n",
      "9 4105\n",
      "4\n",
      "OK\n",
      "9 4142\n",
      "4\n",
      "OK\n",
      "9 4162\n",
      "3\n",
      "OK\n",
      "9 4191\n",
      "4\n",
      "OK\n",
      "9 4322\n",
      "3\n",
      "OK\n",
      "9 4375\n",
      "1\n",
      "9 4432\n",
      "3\n",
      "OK\n",
      "9 4435\n",
      "3\n",
      "OK\n",
      "9 4501\n",
      "3\n",
      "OK\n",
      "9 4562\n",
      "1\n",
      "9 4626\n",
      "3\n",
      "OK\n",
      "9 4658\n",
      "2\n",
      "OK\n",
      "9 4723\n",
      "3\n",
      "OK\n",
      "9 4757\n",
      "1\n",
      "9 4761\n",
      "3\n",
      "OK\n",
      "9 4771\n",
      "1\n",
      "9 4786\n",
      "2\n",
      "OK\n",
      "9 4836\n",
      "1\n",
      "9 4837\n",
      "2\n",
      "OK\n",
      "9 5088\n",
      "4\n",
      "OK\n",
      "9 5131\n",
      "1\n",
      "9 5136\n",
      "4\n",
      "OK\n",
      "9 5154\n",
      "1\n",
      "9 5272\n",
      "3\n",
      "OK\n",
      "9 5289\n",
      "4\n",
      "OK\n",
      "9 5405\n",
      "8\n",
      "OK\n",
      "9 5437\n",
      "3\n",
      "OK\n",
      "9 5469\n",
      "3\n",
      "OK\n",
      "9 5493\n",
      "4\n",
      "OK\n",
      "9 5670\n",
      "1\n",
      "9 5697\n",
      "3\n",
      "OK\n",
      "9 5783\n",
      "3\n",
      "OK\n",
      "9 5920\n",
      "2\n",
      "OK\n",
      "9 6019\n",
      "3\n",
      "OK\n",
      "9 6021\n",
      "1\n",
      "9 6044\n",
      "3\n",
      "OK\n",
      "9 6069\n",
      "1\n",
      "9 6134\n",
      "2\n",
      "OK\n",
      "9 6172\n",
      "3\n",
      "OK\n",
      "9 6231\n",
      "0\n",
      "9 6238\n",
      "3\n",
      "OK\n",
      "9 6268\n",
      "3\n",
      "OK\n",
      "9 6293\n",
      "87\n",
      "OK\n",
      "9 6319\n",
      "3\n",
      "OK\n",
      "9 6445\n",
      "4\n",
      "OK\n",
      "9 6457\n",
      "4\n",
      "OK\n",
      "9 6495\n",
      "3\n",
      "OK\n",
      "9 6535\n",
      "2\n",
      "OK\n",
      "9 6604\n",
      "4\n",
      "OK\n",
      "9 6609\n",
      "3\n",
      "OK\n",
      "9 6716\n",
      "1\n",
      "9 6731\n",
      "3\n",
      "OK\n",
      "9 6813\n",
      "4\n",
      "OK\n",
      "9 6912\n",
      "3\n",
      "OK\n",
      "9 6993\n",
      "2\n",
      "OK\n",
      "9 7059\n",
      "0\n",
      "9 7133\n",
      "2\n",
      "OK\n",
      "9 7134\n",
      "1\n",
      "9 7175\n",
      "4\n",
      "OK\n",
      "9 7192\n",
      "1\n",
      "9 7209\n",
      "0\n",
      "9 7272\n",
      "2\n",
      "OK\n",
      "9 7327\n",
      "3\n",
      "OK\n",
      "9 7330\n",
      "3\n",
      "OK\n",
      "9 7333\n",
      "1\n",
      "9 7335\n",
      "2\n",
      "OK\n",
      "9 7359\n",
      "8\n",
      "OK\n",
      "9 7485\n",
      "3\n",
      "OK\n",
      "9 7526\n",
      "3\n",
      "OK\n",
      "9 7546\n",
      "3\n",
      "OK\n",
      "9 7551\n",
      "2\n",
      "OK\n",
      "9 7554\n",
      "3\n",
      "OK\n",
      "9 7562\n",
      "4\n",
      "OK\n",
      "9 7620\n",
      "1\n",
      "9 7623\n",
      "1\n",
      "9 7734\n",
      "1\n",
      "9 7805\n",
      "0\n",
      "9 7811\n",
      "3\n",
      "OK\n",
      "9 7871\n",
      "1\n",
      "9 7906\n",
      "2\n",
      "OK\n",
      "9 7956\n",
      "3\n",
      "OK\n",
      "9 7962\n",
      "3\n",
      "OK\n",
      "9 7991\n",
      "4\n",
      "OK\n",
      "9 8005\n",
      "3\n",
      "OK\n",
      "9 8026\n",
      "3\n",
      "OK\n",
      "9 8082\n",
      "3\n",
      "OK\n",
      "9 8153\n",
      "3\n",
      "OK\n",
      "9 8167\n",
      "4\n",
      "OK\n",
      "9 8221\n",
      "3\n",
      "OK\n",
      "9 8222\n",
      "2\n",
      "OK\n",
      "9 8230\n",
      "1\n",
      "9 8239\n",
      "1\n",
      "9 8282\n",
      "2\n",
      "OK\n",
      "9 8318\n",
      "2\n",
      "OK\n",
      "9 8357\n",
      "0\n",
      "9 8412\n",
      "4\n",
      "OK\n",
      "9 8455\n",
      "4\n",
      "OK\n",
      "9 8536\n",
      "6\n",
      "OK\n",
      "9 8678\n",
      "3\n",
      "OK\n",
      "9 8693\n",
      "9\n",
      "OK\n",
      "9 8775\n",
      "2\n",
      "OK\n",
      "9 8834\n",
      "3\n",
      "OK\n",
      "9 8858\n",
      "1\n",
      "9 8880\n",
      "1\n",
      "9 8972\n",
      "3\n",
      "OK\n",
      "9 8973\n",
      "5\n",
      "OK\n",
      "9 9008\n",
      "1\n",
      "9 9015\n",
      "0\n",
      "9 9179\n",
      "5\n",
      "OK\n",
      "9 9234\n",
      "3\n",
      "OK\n",
      "9 9247\n",
      "3\n",
      "OK\n",
      "9 9292\n",
      "3\n",
      "OK\n",
      "9 9307\n",
      "1\n",
      "9 9324\n",
      "1\n",
      "9 9329\n",
      "5\n",
      "OK\n",
      "9 9369\n",
      "7\n",
      "OK\n",
      "9 9381\n",
      "3\n",
      "OK\n",
      "9 9419\n",
      "3\n",
      "OK\n",
      "9 9569\n",
      "3\n",
      "OK\n",
      "9 9709\n",
      "2\n",
      "OK\n",
      "9 9750\n",
      "22\n",
      "OK\n",
      "9 9812\n",
      "2\n",
      "OK\n",
      "9 9859\n",
      "0\n",
      "9 9876\n",
      "3\n",
      "OK\n",
      "9 9922\n",
      "11\n",
      "OK\n",
      "9 9952\n",
      "3\n",
      "OK\n",
      "9 9961\n",
      "0\n",
      "9 9973\n",
      "0\n",
      "9 9997\n",
      "3\n",
      "OK\n",
      "9 10040\n",
      "7\n",
      "OK\n",
      "9 10060\n",
      "3\n",
      "OK\n",
      "9 10091\n",
      "2\n",
      "OK\n",
      "9 10102\n",
      "3\n",
      "OK\n",
      "9 10171\n",
      "3\n",
      "OK\n",
      "9 10258\n",
      "2\n",
      "OK\n",
      "9 10492\n",
      "3\n",
      "OK\n",
      "9 10516\n",
      "2\n",
      "OK\n",
      "9 10531\n",
      "3\n",
      "OK\n",
      "9 10559\n",
      "4\n",
      "OK\n",
      "9 10569\n",
      "2\n",
      "OK\n",
      "9 10578\n",
      "4\n",
      "OK\n",
      "9 10614\n",
      "3\n",
      "OK\n",
      "9 10696\n",
      "2\n",
      "OK\n",
      "9 10719\n",
      "2\n",
      "OK\n",
      "9 10729\n",
      "5\n",
      "OK\n",
      "9 10783\n",
      "11\n",
      "OK\n",
      "9 10792\n",
      "3\n",
      "OK\n",
      "9 10907\n",
      "2\n",
      "OK\n",
      "9 10952\n",
      "0\n",
      "9 11014\n",
      "1\n",
      "9 11120\n",
      "3\n",
      "OK\n",
      "9 11124\n",
      "3\n",
      "OK\n",
      "9 11153\n",
      "4\n",
      "OK\n",
      "9 11163\n",
      "3\n",
      "OK\n",
      "9 11252\n",
      "7\n",
      "OK\n",
      "9 11259\n",
      "6\n",
      "OK\n",
      "9 11341\n",
      "1\n",
      "9 11360\n",
      "3\n",
      "OK\n",
      "9 11364\n",
      "3\n",
      "OK\n",
      "9 11368\n",
      "0\n",
      "9 11377\n",
      "1\n",
      "9 11380\n",
      "3\n",
      "OK\n",
      "9 11415\n",
      "11\n",
      "OK\n",
      "9 11480\n",
      "1\n",
      "9 11609\n",
      "1\n",
      "9 11627\n",
      "3\n",
      "OK\n",
      "9 11713\n",
      "2\n",
      "OK\n",
      "9 11737\n",
      "0\n",
      "9 11766\n",
      "1\n",
      "9 11823\n",
      "2\n",
      "OK\n",
      "9 11926\n",
      "3\n",
      "OK\n",
      "9 11992\n",
      "3\n",
      "OK\n",
      "9 12053\n",
      "1\n",
      "9 12095\n",
      "1\n",
      "9 12109\n",
      "3\n",
      "OK\n",
      "9 12112\n",
      "3\n",
      "OK\n",
      "9 12197\n",
      "3\n",
      "OK\n",
      "9 12223\n",
      "3\n",
      "OK\n",
      "9 12224\n",
      "3\n",
      "OK\n",
      "9 12332\n",
      "2\n",
      "OK\n",
      "9 12338\n",
      "12\n",
      "OK\n",
      "9 12422\n",
      "1\n",
      "9 12452\n",
      "2\n",
      "OK\n",
      "9 12468\n",
      "3\n",
      "OK\n",
      "9 12489\n",
      "1\n",
      "9 12545\n",
      "3\n",
      "OK\n",
      "9 12572\n",
      "1\n",
      "9 12587\n",
      "3\n",
      "OK\n",
      "9 12606\n",
      "2\n",
      "OK\n",
      "9 12637\n",
      "0\n",
      "9 12702\n",
      "1\n",
      "9 12725\n",
      "3\n",
      "OK\n",
      "9 12783\n",
      "1\n",
      "9 12787\n",
      "3\n",
      "OK\n",
      "9 12803\n",
      "4\n",
      "OK\n",
      "9 12808\n",
      "3\n",
      "OK\n",
      "9 12861\n",
      "2\n",
      "OK\n",
      "9 12872\n",
      "6\n",
      "OK\n",
      "9 12879\n",
      "2\n",
      "OK\n",
      "9 12955\n",
      "4\n",
      "OK\n",
      "9 13067\n",
      "3\n",
      "OK\n",
      "9 13073\n",
      "10\n",
      "OK\n",
      "9 13143\n",
      "1\n",
      "9 13209\n",
      "4\n",
      "OK\n",
      "9 13224\n",
      "2\n",
      "OK\n",
      "9 13273\n",
      "4\n",
      "OK\n",
      "9 13279\n",
      "3\n",
      "OK\n",
      "9 13313\n",
      "0\n",
      "9 13316\n",
      "3\n",
      "OK\n",
      "9 13322\n",
      "3\n",
      "OK\n",
      "9 13328\n",
      "6\n",
      "OK\n",
      "9 13425\n",
      "24\n",
      "OK\n",
      "9 13446\n",
      "1\n",
      "9 13488\n",
      "4\n",
      "OK\n",
      "9 13561\n",
      "4\n",
      "OK\n",
      "9 13575\n",
      "1\n",
      "9 13616\n",
      "4\n",
      "OK\n",
      "9 13646\n",
      "3\n",
      "OK\n",
      "9 13659\n",
      "4\n",
      "OK\n",
      "9 13684\n",
      "2\n",
      "OK\n",
      "9 13702\n",
      "0\n",
      "9 13827\n",
      "3\n",
      "OK\n",
      "9 14039\n",
      "2\n",
      "OK\n",
      "9 14051\n",
      "4\n",
      "OK\n",
      "9 14058\n",
      "3\n",
      "OK\n",
      "9 14071\n",
      "0\n",
      "9 14088\n",
      "0\n",
      "9 14120\n",
      "6\n",
      "OK\n",
      "9 14161\n",
      "5\n",
      "OK\n",
      "9 14268\n",
      "5\n",
      "OK\n",
      "9 14286\n",
      "3\n",
      "OK\n",
      "9 14301\n",
      "1\n",
      "9 14317\n",
      "2\n",
      "OK\n",
      "9 14325\n",
      "2\n",
      "OK\n",
      "9 14341\n",
      "3\n",
      "OK\n",
      "9 14366\n",
      "4\n",
      "OK\n",
      "9 14452\n",
      "3\n",
      "OK\n",
      "9 14471\n",
      "8\n",
      "OK\n",
      "9 14475\n",
      "0\n",
      "9 14492\n",
      "3\n",
      "OK\n",
      "9 14496\n",
      "4\n",
      "OK\n",
      "9 14530\n",
      "4\n",
      "OK\n",
      "9 14545\n",
      "4\n",
      "OK\n",
      "9 14546\n",
      "13\n",
      "OK\n",
      "9 14561\n",
      "1\n",
      "9 14570\n",
      "3\n",
      "OK\n",
      "9 14571\n",
      "3\n",
      "OK\n",
      "9 14590\n",
      "2\n",
      "OK\n",
      "9 14626\n",
      "2\n",
      "OK\n",
      "9 14629\n",
      "2\n",
      "OK\n",
      "9 14679\n",
      "2\n",
      "OK\n",
      "9 14699\n",
      "1\n",
      "9 14800\n",
      "2\n",
      "OK\n",
      "9 14818\n",
      "2\n",
      "OK\n",
      "9 14827\n",
      "1\n",
      "9 14831\n",
      "0\n",
      "9 15027\n",
      "3\n",
      "OK\n",
      "9 15031\n",
      "0\n",
      "9 15112\n",
      "2\n",
      "OK\n",
      "9 15122\n",
      "3\n",
      "OK\n",
      "9 15130\n",
      "3\n",
      "OK\n",
      "9 15172\n",
      "5\n",
      "OK\n",
      "9 15269\n",
      "1\n",
      "10 15\n",
      "3\n",
      "OK\n",
      "10 38\n",
      "6\n",
      "OK\n",
      "10 53\n",
      "7\n",
      "OK\n",
      "10 84\n",
      "1\n",
      "10 90\n",
      "3\n",
      "OK\n",
      "10 136\n",
      "1\n",
      "10 163\n",
      "2\n",
      "OK\n",
      "10 231\n",
      "3\n",
      "OK\n",
      "10 292\n",
      "3\n",
      "OK\n",
      "10 315\n",
      "3\n",
      "OK\n",
      "10 322\n",
      "6\n",
      "OK\n",
      "10 331\n",
      "1\n",
      "10 382\n",
      "3\n",
      "OK\n",
      "10 539\n",
      "0\n",
      "10 579\n",
      "1\n",
      "10 685\n",
      "8\n",
      "OK\n",
      "10 730\n",
      "2\n",
      "OK\n",
      "10 747\n",
      "1\n",
      "10 774\n",
      "3\n",
      "OK\n",
      "10 950\n",
      "4\n",
      "OK\n",
      "10 1086\n",
      "4\n",
      "OK\n",
      "10 1113\n",
      "4\n",
      "OK\n",
      "10 1205\n",
      "11\n",
      "OK\n",
      "10 1291\n",
      "1\n",
      "10 1315\n",
      "3\n",
      "OK\n",
      "10 1356\n",
      "4\n",
      "OK\n",
      "10 1397\n",
      "2\n",
      "OK\n",
      "10 1536\n",
      "1\n",
      "10 1552\n",
      "12\n",
      "OK\n",
      "10 1564\n",
      "3\n",
      "OK\n",
      "10 1611\n",
      "1\n",
      "10 1620\n",
      "5\n",
      "OK\n",
      "10 1716\n",
      "5\n",
      "OK\n",
      "10 1755\n",
      "3\n",
      "OK\n",
      "10 1819\n",
      "1\n",
      "10 1863\n",
      "2\n",
      "OK\n",
      "10 1875\n",
      "11\n",
      "OK\n",
      "10 1983\n",
      "3\n",
      "OK\n",
      "10 2051\n",
      "1\n",
      "10 2066\n",
      "2\n",
      "OK\n",
      "10 2146\n",
      "1\n",
      "10 2282\n",
      "1\n",
      "10 2336\n",
      "3\n",
      "OK\n",
      "10 2421\n",
      "3\n",
      "OK\n",
      "10 2440\n",
      "3\n",
      "OK\n",
      "10 2487\n",
      "1\n",
      "10 2531\n",
      "4\n",
      "OK\n",
      "10 2711\n",
      "2\n",
      "OK\n",
      "10 2732\n",
      "3\n",
      "OK\n",
      "10 2754\n",
      "1\n",
      "10 2791\n",
      "4\n",
      "OK\n",
      "10 2841\n",
      "3\n",
      "OK\n",
      "10 2843\n",
      "8\n",
      "OK\n",
      "10 2848\n",
      "6\n",
      "OK\n",
      "10 2852\n",
      "2\n",
      "OK\n",
      "10 2884\n",
      "9\n",
      "OK\n",
      "10 2982\n",
      "4\n",
      "OK\n",
      "10 3000\n",
      "5\n",
      "OK\n",
      "10 3010\n",
      "3\n",
      "OK\n",
      "10 3067\n",
      "10\n",
      "OK\n",
      "10 3161\n",
      "3\n",
      "OK\n",
      "10 3256\n",
      "0\n",
      "10 3321\n",
      "3\n",
      "OK\n",
      "10 3347\n",
      "4\n",
      "OK\n",
      "10 3390\n",
      "6\n",
      "OK\n",
      "10 3399\n",
      "3\n",
      "OK\n",
      "10 3424\n",
      "2\n",
      "OK\n",
      "10 3467\n",
      "1\n",
      "10 3484\n",
      "0\n",
      "10 3561\n",
      "3\n",
      "OK\n",
      "10 3582\n",
      "2\n",
      "OK\n",
      "10 3602\n",
      "6\n",
      "OK\n",
      "10 3610\n",
      "3\n",
      "OK\n",
      "10 3636\n",
      "4\n",
      "OK\n",
      "10 3650\n",
      "1\n",
      "10 3698\n",
      "3\n",
      "OK\n",
      "10 3731\n",
      "4\n",
      "OK\n",
      "10 3746\n",
      "8\n",
      "OK\n",
      "10 3771\n",
      "3\n",
      "OK\n",
      "10 3891\n",
      "0\n",
      "10 3916\n",
      "6\n",
      "OK\n",
      "10 3950\n",
      "4\n",
      "OK\n",
      "10 3959\n",
      "3\n",
      "OK\n",
      "10 3981\n",
      "1\n",
      "10 4098\n",
      "1\n",
      "10 4107\n",
      "1\n",
      "10 4152\n",
      "3\n",
      "OK\n",
      "10 4208\n",
      "4\n",
      "OK\n",
      "10 4343\n",
      "2\n",
      "OK\n",
      "10 4345\n",
      "4\n",
      "OK\n",
      "10 4414\n",
      "5\n",
      "OK\n",
      "10 4422\n",
      "1\n",
      "10 4495\n",
      "3\n",
      "OK\n",
      "10 4515\n",
      "2\n",
      "OK\n",
      "10 4524\n",
      "1\n",
      "10 4546\n",
      "3\n",
      "OK\n",
      "10 4547\n",
      "2\n",
      "OK\n",
      "10 4557\n",
      "2\n",
      "OK\n",
      "10 4660\n",
      "7\n",
      "OK\n",
      "10 4686\n",
      "3\n",
      "OK\n",
      "10 4737\n",
      "0\n",
      "10 4742\n",
      "4\n",
      "OK\n",
      "10 4751\n",
      "3\n",
      "OK\n",
      "10 4849\n",
      "2\n",
      "OK\n",
      "10 4885\n",
      "4\n",
      "OK\n",
      "10 4899\n",
      "4\n",
      "OK\n",
      "10 4909\n",
      "3\n",
      "OK\n",
      "10 4971\n",
      "3\n",
      "OK\n",
      "10 5282\n",
      "1\n",
      "10 5364\n",
      "1\n",
      "10 5376\n",
      "1\n",
      "10 5463\n",
      "3\n",
      "OK\n",
      "10 5555\n",
      "3\n",
      "OK\n",
      "10 5607\n",
      "8\n",
      "OK\n",
      "10 5668\n",
      "3\n",
      "OK\n",
      "10 5673\n",
      "3\n",
      "OK\n",
      "10 5698\n",
      "2\n",
      "OK\n",
      "10 5774\n",
      "3\n",
      "OK\n",
      "10 5795\n",
      "0\n",
      "10 5815\n",
      "1\n",
      "10 5817\n",
      "2\n",
      "OK\n",
      "10 5882\n",
      "4\n",
      "OK\n",
      "10 5886\n",
      "3\n",
      "OK\n",
      "10 5925\n",
      "4\n",
      "OK\n",
      "10 5959\n",
      "3\n",
      "OK\n",
      "10 5962\n",
      "1\n",
      "10 6047\n",
      "3\n",
      "OK\n",
      "10 6187\n"
     ]
    },
    {
     "name": "stdout",
     "output_type": "stream",
     "text": [
      "4\n",
      "OK\n",
      "10 6264\n",
      "4\n",
      "OK\n",
      "10 6322\n",
      "2\n",
      "OK\n",
      "10 6390\n",
      "2\n",
      "OK\n",
      "10 6394\n",
      "3\n",
      "OK\n",
      "10 6441\n",
      "3\n",
      "OK\n",
      "10 6489\n",
      "0\n",
      "10 6515\n",
      "3\n",
      "OK\n",
      "10 6538\n",
      "1\n",
      "10 6646\n",
      "4\n",
      "OK\n",
      "10 6660\n",
      "5\n",
      "OK\n",
      "10 6750\n",
      "1\n",
      "10 6754\n",
      "2\n",
      "OK\n",
      "10 6764\n",
      "2\n",
      "OK\n",
      "10 6843\n",
      "2\n",
      "OK\n",
      "10 6881\n",
      "0\n",
      "10 6901\n",
      "4\n",
      "OK\n",
      "10 6929\n",
      "3\n",
      "OK\n",
      "10 6991\n",
      "3\n",
      "OK\n",
      "10 7002\n",
      "0\n",
      "10 7034\n",
      "3\n",
      "OK\n",
      "10 7176\n",
      "3\n",
      "OK\n",
      "10 7326\n",
      "3\n",
      "OK\n",
      "10 7385\n",
      "10\n",
      "OK\n",
      "10 7387\n",
      "3\n",
      "OK\n",
      "10 7419\n",
      "1\n",
      "10 7443\n",
      "1\n",
      "10 7444\n",
      "5\n",
      "OK\n",
      "10 7452\n",
      "2\n",
      "OK\n",
      "10 7461\n",
      "3\n",
      "OK\n",
      "10 7466\n",
      "3\n",
      "OK\n",
      "10 7481\n",
      "3\n",
      "OK\n",
      "10 7491\n",
      "2\n",
      "OK\n",
      "10 7529\n",
      "5\n",
      "OK\n",
      "10 7639\n",
      "3\n",
      "OK\n",
      "10 7640\n",
      "4\n",
      "OK\n",
      "10 7672\n",
      "1\n",
      "10 7831\n",
      "3\n",
      "OK\n",
      "10 7889\n",
      "3\n",
      "OK\n",
      "10 7914\n",
      "0\n",
      "10 7936\n",
      "4\n",
      "OK\n",
      "10 7945\n",
      "1\n",
      "10 7979\n",
      "3\n",
      "OK\n",
      "10 8052\n",
      "2\n",
      "OK\n",
      "10 8053\n",
      "3\n",
      "OK\n",
      "10 8372\n",
      "6\n",
      "OK\n",
      "10 8461\n",
      "3\n",
      "OK\n",
      "10 8601\n",
      "2\n",
      "OK\n",
      "10 8705\n",
      "1\n",
      "10 8744\n",
      "3\n",
      "OK\n",
      "10 8798\n",
      "1\n",
      "10 8864\n",
      "4\n",
      "OK\n",
      "10 8886\n",
      "9\n",
      "OK\n",
      "10 8898\n",
      "2\n",
      "OK\n",
      "10 8969\n",
      "4\n",
      "OK\n",
      "10 9028\n",
      "1\n",
      "10 9064\n",
      "1\n",
      "10 9081\n",
      "3\n",
      "OK\n",
      "10 9091\n",
      "3\n",
      "OK\n",
      "10 9171\n",
      "2\n",
      "OK\n",
      "10 9197\n",
      "2\n",
      "OK\n",
      "10 9221\n",
      "4\n",
      "OK\n",
      "10 9279\n",
      "3\n",
      "OK\n",
      "10 9353\n",
      "6\n",
      "OK\n",
      "10 9409\n",
      "3\n",
      "OK\n",
      "10 9441\n",
      "1\n",
      "10 9492\n",
      "3\n",
      "OK\n",
      "10 9627\n",
      "3\n",
      "OK\n",
      "10 9651\n",
      "3\n",
      "OK\n",
      "10 9663\n",
      "4\n",
      "OK\n",
      "10 9769\n",
      "4\n",
      "OK\n",
      "10 9796\n",
      "1\n",
      "10 9807\n",
      "7\n",
      "OK\n",
      "10 9865\n",
      "2\n",
      "OK\n",
      "10 10005\n",
      "1\n",
      "10 10065\n",
      "4\n",
      "OK\n",
      "10 10079\n",
      "4\n",
      "OK\n",
      "10 10108\n",
      "2\n",
      "OK\n",
      "10 10252\n",
      "3\n",
      "OK\n",
      "10 10278\n",
      "0\n",
      "10 10288\n",
      "1\n",
      "10 10446\n",
      "2\n",
      "OK\n",
      "10 10552\n",
      "2\n",
      "OK\n",
      "10 10603\n",
      "1\n",
      "10 10687\n",
      "3\n",
      "OK\n",
      "10 10689\n",
      "2\n",
      "OK\n",
      "10 10723\n",
      "3\n",
      "OK\n",
      "10 10818\n",
      "3\n",
      "OK\n",
      "10 10842\n",
      "1\n",
      "10 10983\n",
      "1\n",
      "10 10998\n",
      "3\n",
      "OK\n",
      "10 11030\n",
      "1\n",
      "10 11119\n",
      "1\n",
      "10 11137\n",
      "4\n",
      "OK\n",
      "10 11238\n",
      "2\n",
      "OK\n",
      "10 11337\n",
      "3\n",
      "OK\n",
      "10 11344\n",
      "1\n",
      "10 11483\n",
      "38\n",
      "OK\n",
      "10 11542\n",
      "3\n",
      "OK\n",
      "10 11552\n",
      "12\n",
      "OK\n",
      "10 11567\n",
      "2\n",
      "OK\n",
      "10 11582\n",
      "3\n",
      "OK\n",
      "10 11629\n",
      "2\n",
      "OK\n",
      "10 11664\n",
      "2\n",
      "OK\n",
      "10 11667\n",
      "3\n",
      "OK\n",
      "10 11753\n",
      "3\n",
      "OK\n",
      "10 11762\n",
      "2\n",
      "OK\n",
      "10 11768\n",
      "6\n",
      "OK\n",
      "10 11775\n",
      "4\n",
      "OK\n",
      "10 11818\n",
      "5\n",
      "OK\n",
      "10 11903\n",
      "2\n",
      "OK\n",
      "10 11920\n",
      "3\n",
      "OK\n",
      "10 11935\n",
      "4\n",
      "OK\n",
      "10 11946\n",
      "4\n",
      "OK\n",
      "10 11962\n",
      "1\n",
      "10 12018\n",
      "3\n",
      "OK\n",
      "10 12036\n",
      "4\n",
      "OK\n",
      "10 12082\n",
      "2\n",
      "OK\n",
      "10 12142\n",
      "0\n",
      "10 12150\n",
      "6\n",
      "OK\n",
      "10 12213\n",
      "2\n",
      "OK\n",
      "10 12225\n",
      "4\n",
      "OK\n",
      "10 12236\n",
      "3\n",
      "OK\n",
      "10 12381\n",
      "3\n",
      "OK\n",
      "10 12503\n",
      "3\n",
      "OK\n",
      "10 12515\n",
      "3\n",
      "OK\n",
      "10 12568\n",
      "0\n",
      "10 12628\n",
      "1\n",
      "10 12629\n",
      "0\n",
      "10 12649\n",
      "3\n",
      "OK\n",
      "10 12662\n",
      "3\n",
      "OK\n",
      "10 12713\n",
      "3\n",
      "OK\n",
      "10 12736\n",
      "3\n",
      "OK\n",
      "10 12773\n",
      "3\n",
      "OK\n",
      "10 12859\n",
      "1\n",
      "10 12881\n",
      "2\n",
      "OK\n",
      "10 12912\n",
      "3\n",
      "OK\n",
      "10 12983\n",
      "10\n",
      "OK\n",
      "10 13040\n",
      "5\n",
      "OK\n",
      "10 13061\n",
      "6\n",
      "OK\n",
      "10 13065\n",
      "4\n",
      "OK\n",
      "10 13140\n",
      "3\n",
      "OK\n",
      "10 13264\n",
      "0\n",
      "10 13326\n",
      "1\n",
      "10 13339\n",
      "2\n",
      "OK\n",
      "10 13384\n",
      "2\n",
      "OK\n",
      "10 13392\n",
      "0\n",
      "10 13457\n",
      "0\n",
      "10 13489\n",
      "1\n",
      "10 13518\n",
      "21\n",
      "OK\n",
      "10 13553\n",
      "3\n",
      "OK\n",
      "10 13578\n",
      "2\n",
      "OK\n",
      "10 13580\n",
      "4\n",
      "OK\n",
      "10 13625\n",
      "1\n",
      "10 13682\n",
      "1\n",
      "10 13714\n",
      "3\n",
      "OK\n",
      "10 13751\n",
      "3\n",
      "OK\n",
      "10 13848\n",
      "1\n",
      "10 13883\n",
      "2\n",
      "OK\n",
      "10 13959\n",
      "5\n",
      "OK\n",
      "10 13987\n",
      "2\n",
      "OK\n",
      "10 14021\n",
      "2\n",
      "OK\n",
      "10 14030\n",
      "3\n",
      "OK\n",
      "10 14076\n",
      "2\n",
      "OK\n",
      "10 14084\n",
      "3\n",
      "OK\n",
      "10 14133\n",
      "0\n",
      "10 14166\n",
      "2\n",
      "OK\n",
      "10 14175\n",
      "0\n",
      "10 14189\n",
      "0\n",
      "10 14204\n",
      "0\n",
      "10 14247\n",
      "3\n",
      "OK\n",
      "10 14257\n",
      "1\n",
      "10 14263\n",
      "3\n",
      "OK\n",
      "10 14273\n",
      "3\n",
      "OK\n",
      "10 14360\n",
      "4\n",
      "OK\n",
      "10 14371\n",
      "4\n",
      "OK\n",
      "10 14450\n",
      "2\n",
      "OK\n",
      "10 14500\n",
      "1\n",
      "10 14507\n",
      "4\n",
      "OK\n",
      "10 14588\n",
      "7\n",
      "OK\n",
      "10 14623\n",
      "1\n",
      "10 14650\n",
      "7\n",
      "OK\n",
      "10 14658\n",
      "3\n",
      "OK\n",
      "10 14692\n",
      "4\n",
      "OK\n",
      "10 14696\n",
      "1\n",
      "10 14777\n",
      "3\n",
      "OK\n",
      "10 14847\n",
      "3\n",
      "OK\n",
      "10 14859\n",
      "3\n",
      "OK\n",
      "10 14881\n",
      "1\n",
      "10 14976\n",
      "2\n",
      "OK\n",
      "10 14983\n",
      "3\n",
      "OK\n",
      "10 15070\n",
      "1\n",
      "10 15161\n",
      "0\n",
      "10 15276\n",
      "3\n",
      "OK\n",
      "11 364\n",
      "1\n",
      "11 384\n",
      "1\n",
      "11 403\n",
      "2\n",
      "OK\n",
      "11 503\n",
      "2\n",
      "OK\n",
      "11 622\n",
      "1\n",
      "11 625\n",
      "2\n",
      "OK\n",
      "11 654\n",
      "1\n",
      "11 670\n",
      "4\n",
      "OK\n",
      "11 679\n",
      "3\n",
      "OK\n",
      "11 719\n",
      "3\n",
      "OK\n",
      "11 737\n",
      "4\n",
      "OK\n",
      "11 742\n",
      "2\n",
      "OK\n",
      "11 752\n",
      "1\n",
      "11 767\n",
      "3\n",
      "OK\n",
      "11 805\n",
      "5\n",
      "OK\n",
      "11 937\n",
      "3\n",
      "OK\n",
      "11 1097\n",
      "3\n",
      "OK\n",
      "11 1126\n",
      "2\n",
      "OK\n",
      "11 1784\n",
      "3\n",
      "OK\n",
      "11 1947\n",
      "2\n",
      "OK\n",
      "11 1977\n",
      "4\n",
      "OK\n",
      "11 2045\n",
      "3\n",
      "OK\n",
      "11 2047\n",
      "0\n",
      "11 2093\n",
      "7\n",
      "OK\n",
      "11 2197\n",
      "4\n",
      "OK\n",
      "11 2217\n",
      "3\n",
      "OK\n",
      "11 2308\n",
      "4\n",
      "OK\n",
      "11 2362\n",
      "8\n",
      "OK\n",
      "11 2490\n",
      "2\n",
      "OK\n",
      "11 2504\n",
      "1\n",
      "11 2577\n",
      "3\n",
      "OK\n",
      "11 2605\n",
      "1\n",
      "11 2606\n",
      "3\n",
      "OK\n",
      "11 2630\n",
      "1\n",
      "11 2679\n",
      "1\n",
      "11 2762\n",
      "0\n",
      "11 2798\n",
      "0\n",
      "11 2951\n",
      "1\n",
      "11 3123\n",
      "3\n",
      "OK\n",
      "11 3271\n",
      "2\n",
      "OK\n",
      "11 3314\n",
      "3\n",
      "OK\n",
      "11 3322\n",
      "2\n",
      "OK\n",
      "11 3327\n",
      "4\n",
      "OK\n",
      "11 3508\n",
      "3\n",
      "OK\n",
      "11 3571\n",
      "1\n",
      "11 3649\n",
      "3\n",
      "OK\n",
      "11 3740\n",
      "0\n",
      "11 3798\n",
      "4\n",
      "OK\n",
      "11 3831\n",
      "4\n",
      "OK\n",
      "11 3869\n",
      "3\n",
      "OK\n",
      "11 3953\n",
      "3\n",
      "OK\n",
      "11 4009\n",
      "3\n",
      "OK\n",
      "11 4062\n",
      "4\n",
      "OK\n",
      "11 4147\n",
      "2\n",
      "OK\n",
      "11 4202\n",
      "1\n",
      "11 4215\n",
      "3\n",
      "OK\n",
      "11 4267\n",
      "0\n",
      "11 4468\n",
      "0\n",
      "11 4636\n",
      "2\n",
      "OK\n",
      "11 4648\n",
      "3\n",
      "OK\n",
      "11 4719\n",
      "0\n",
      "11 4798\n",
      "3\n",
      "OK\n",
      "11 4799\n",
      "4\n",
      "OK\n",
      "11 4935\n",
      "7\n",
      "OK\n",
      "11 5042\n",
      "1\n",
      "11 5161\n",
      "0\n",
      "11 5411\n",
      "7\n",
      "OK\n",
      "11 5420\n",
      "3\n",
      "OK\n",
      "11 5614\n",
      "0\n",
      "11 5868\n",
      "4\n",
      "OK\n",
      "11 5905\n",
      "3\n",
      "OK\n",
      "11 5956\n",
      "7\n",
      "OK\n",
      "11 5958\n",
      "4\n",
      "OK\n",
      "11 5967\n",
      "1\n",
      "11 5991\n",
      "1\n",
      "11 5998\n",
      "0\n",
      "11 6001\n",
      "1\n",
      "11 6085\n",
      "23\n",
      "OK\n",
      "11 6241\n",
      "1\n",
      "11 6278\n",
      "5\n",
      "OK\n",
      "11 6421\n",
      "4\n",
      "OK\n",
      "11 6424\n",
      "3\n",
      "OK\n",
      "11 6446\n",
      "0\n",
      "11 6550\n",
      "4\n",
      "OK\n",
      "11 6613\n",
      "3\n",
      "OK\n",
      "11 6711\n",
      "3\n",
      "OK\n",
      "11 6749\n",
      "15\n",
      "OK\n",
      "11 6752\n",
      "3\n",
      "OK\n",
      "11 6838\n",
      "4\n",
      "OK\n",
      "11 6846\n",
      "3\n",
      "OK\n",
      "11 6864\n",
      "1\n",
      "11 7085\n",
      "2\n",
      "OK\n",
      "11 7091\n",
      "11\n",
      "OK\n",
      "11 7108\n",
      "3\n",
      "OK\n",
      "11 7198\n",
      "2\n",
      "OK\n",
      "11 7203\n",
      "3\n",
      "OK\n",
      "11 7269\n",
      "1\n",
      "11 7344\n",
      "0\n",
      "11 7512\n",
      "2\n",
      "OK\n",
      "11 7610\n",
      "1\n",
      "11 7685\n",
      "6\n",
      "OK\n",
      "11 7689\n",
      "3\n",
      "OK\n",
      "11 7719\n",
      "3\n",
      "OK\n",
      "11 7723\n",
      "0\n",
      "11 7739\n",
      "2\n",
      "OK\n",
      "11 7742\n",
      "2\n",
      "OK\n",
      "11 7745\n",
      "0\n",
      "11 7908\n",
      "0\n",
      "11 7949\n",
      "3\n",
      "OK\n",
      "11 7974\n",
      "2\n",
      "OK\n",
      "11 7992\n",
      "3\n",
      "OK\n",
      "11 8020\n",
      "3\n",
      "OK\n",
      "11 8129\n",
      "1\n",
      "11 8139\n",
      "3\n",
      "OK\n",
      "11 8140\n",
      "1\n",
      "11 8292\n",
      "3\n",
      "OK\n",
      "11 8330\n",
      "3\n",
      "OK\n",
      "11 8373\n",
      "1\n",
      "11 8382\n",
      "3\n",
      "OK\n",
      "11 8539\n",
      "2\n",
      "OK\n",
      "11 8587\n",
      "2\n",
      "OK\n",
      "11 8768\n",
      "3\n",
      "OK\n",
      "11 8911\n",
      "1\n",
      "11 8968\n",
      "1\n",
      "11 9095\n",
      "1\n",
      "11 9111\n",
      "7\n",
      "OK\n",
      "11 9202\n",
      "3\n",
      "OK\n",
      "11 9237\n",
      "3\n",
      "OK\n",
      "11 9258\n",
      "4\n",
      "OK\n",
      "11 9377\n",
      "3\n",
      "OK\n",
      "11 9426\n",
      "3\n",
      "OK\n",
      "11 9445\n",
      "1\n",
      "11 9826\n",
      "24\n",
      "OK\n",
      "11 9869\n",
      "4\n",
      "OK\n",
      "11 10031\n",
      "0\n",
      "11 10086\n",
      "10\n",
      "OK\n",
      "11 10123\n",
      "8\n",
      "OK\n",
      "11 10159\n",
      "3\n",
      "OK\n",
      "11 10290\n",
      "7\n",
      "OK\n",
      "11 10352\n",
      "1\n",
      "11 10398\n",
      "2\n",
      "OK\n",
      "11 10536\n",
      "4\n",
      "OK\n",
      "11 10588\n",
      "2\n",
      "OK\n",
      "11 10645\n",
      "0\n",
      "11 10704\n",
      "5\n",
      "OK\n",
      "11 10806\n",
      "3\n",
      "OK\n",
      "11 10820\n",
      "2\n",
      "OK\n",
      "11 10838\n",
      "2\n",
      "OK\n",
      "11 10852\n",
      "3\n",
      "OK\n",
      "11 10915\n",
      "15\n",
      "OK\n",
      "11 10992\n",
      "0\n",
      "11 11044\n",
      "1\n",
      "11 11053\n",
      "3\n",
      "OK\n",
      "11 11097\n",
      "3\n",
      "OK\n",
      "11 11133\n",
      "1\n",
      "11 11185\n",
      "2\n",
      "OK\n",
      "11 11315\n",
      "2\n",
      "OK\n",
      "11 11454\n",
      "0\n",
      "11 11752\n",
      "7\n",
      "OK\n",
      "11 11806\n",
      "1\n",
      "11 11952\n",
      "3\n",
      "OK\n",
      "11 11984\n",
      "4\n",
      "OK\n",
      "11 12028\n",
      "4\n",
      "OK\n",
      "11 12039\n",
      "4\n",
      "OK\n",
      "11 12091\n",
      "7\n",
      "OK\n",
      "11 12127\n",
      "3\n",
      "OK\n",
      "11 12238\n",
      "3\n",
      "OK\n",
      "11 12277\n",
      "4\n",
      "OK\n",
      "11 12350\n",
      "4\n",
      "OK\n",
      "11 12351\n",
      "2\n",
      "OK\n",
      "11 12454\n",
      "4\n",
      "OK\n",
      "11 12460\n",
      "0\n",
      "11 12535\n",
      "3\n",
      "OK\n",
      "11 12624\n",
      "2\n",
      "OK\n",
      "11 12724\n",
      "0\n",
      "11 12895\n",
      "3\n",
      "OK\n",
      "11 12901\n",
      "3\n",
      "OK\n",
      "11 13001\n",
      "0\n",
      "11 13053\n",
      "4\n",
      "OK\n",
      "11 13056\n",
      "3\n",
      "OK\n",
      "11 13057\n",
      "4\n",
      "OK\n",
      "11 13093\n",
      "3\n",
      "OK\n",
      "11 13109\n",
      "2\n",
      "OK\n",
      "11 13114\n",
      "4\n",
      "OK\n",
      "11 13121\n",
      "3\n",
      "OK\n",
      "11 13158\n",
      "4\n",
      "OK\n",
      "11 13177\n",
      "0\n",
      "11 13191\n",
      "3\n",
      "OK\n",
      "11 13299\n",
      "6\n",
      "OK\n",
      "11 13323\n",
      "3\n",
      "OK\n",
      "11 13346\n",
      "3\n",
      "OK\n",
      "11 13461\n",
      "3\n",
      "OK\n",
      "11 13464\n",
      "9\n",
      "OK\n",
      "11 13607\n",
      "3\n",
      "OK\n",
      "11 13629\n",
      "2\n",
      "OK\n",
      "11 13678\n",
      "3\n",
      "OK\n",
      "11 13766\n",
      "0\n",
      "11 13864\n",
      "2\n",
      "OK\n",
      "11 13962\n",
      "3\n",
      "OK\n",
      "11 13972\n",
      "3\n",
      "OK\n",
      "11 14109\n",
      "0\n",
      "11 14129\n",
      "3\n",
      "OK\n",
      "11 14150\n",
      "3\n",
      "OK\n",
      "11 14218\n",
      "1\n",
      "11 14296\n",
      "0\n",
      "11 14345\n",
      "3\n",
      "OK\n",
      "11 14355\n",
      "4\n",
      "OK\n",
      "11 14369\n",
      "3\n",
      "OK\n",
      "11 14397\n",
      "3\n",
      "OK\n",
      "11 14472\n",
      "3\n",
      "OK\n",
      "11 14482\n",
      "0\n",
      "11 14535\n",
      "3\n",
      "OK\n",
      "11 14773\n",
      "3\n",
      "OK\n",
      "11 14778\n",
      "1\n",
      "11 14948\n",
      "0\n",
      "11 14954\n",
      "3\n",
      "OK\n",
      "11 14999\n",
      "1\n",
      "11 15066\n",
      "5\n",
      "OK\n",
      "11 15133\n",
      "6\n",
      "OK\n",
      "11 15134\n",
      "3\n",
      "OK\n",
      "11 15316\n",
      "1\n",
      "12 30\n",
      "6\n",
      "OK\n",
      "12 212\n",
      "0\n",
      "12 341\n",
      "1\n",
      "12 393\n",
      "1\n",
      "12 404\n",
      "4\n",
      "OK\n",
      "12 595\n",
      "1\n",
      "12 613\n",
      "22\n",
      "OK\n",
      "12 812\n",
      "3\n",
      "OK\n",
      "12 972\n",
      "4\n",
      "OK\n",
      "12 977\n",
      "1\n",
      "12 1084\n",
      "1\n",
      "12 1112\n",
      "2\n",
      "OK\n",
      "12 1118\n",
      "2\n",
      "OK\n",
      "12 1254\n",
      "1\n",
      "12 1401\n",
      "4\n",
      "OK\n",
      "12 1473\n",
      "2\n",
      "OK\n",
      "12 1542\n",
      "1\n",
      "12 1555\n",
      "3\n",
      "OK\n",
      "12 1674\n",
      "0\n",
      "12 1706\n",
      "6\n",
      "OK\n",
      "12 1876\n",
      "1\n",
      "12 1958\n",
      "1\n",
      "12 1961\n",
      "3\n",
      "OK\n",
      "12 2130\n",
      "3\n",
      "OK\n",
      "12 2148\n",
      "1\n",
      "12 2210\n",
      "1\n",
      "12 2291\n",
      "3\n",
      "OK\n",
      "12 2296\n",
      "5\n",
      "OK\n",
      "12 2306\n",
      "3\n",
      "OK\n",
      "12 2407\n",
      "0\n",
      "12 2639\n",
      "3\n",
      "OK\n",
      "12 2853\n",
      "1\n",
      "12 2954\n",
      "3\n",
      "OK\n",
      "12 3020\n",
      "1\n",
      "12 3101\n",
      "3\n",
      "OK\n",
      "12 3109\n",
      "3\n",
      "OK\n",
      "12 3287\n",
      "3\n",
      "OK\n",
      "12 3395\n",
      "3\n",
      "OK\n",
      "12 3442\n",
      "1\n",
      "12 3507\n",
      "1\n",
      "12 3578\n",
      "3\n",
      "OK\n",
      "12 3641\n",
      "4\n",
      "OK\n",
      "12 3817\n",
      "1\n",
      "12 3830\n",
      "1\n",
      "12 3903\n",
      "3\n",
      "OK\n",
      "12 3917\n",
      "3\n",
      "OK\n",
      "12 4053\n",
      "3\n",
      "OK\n",
      "12 4238\n",
      "3\n",
      "OK\n",
      "12 4242\n",
      "1\n",
      "12 4359\n",
      "7\n",
      "OK\n",
      "12 4430\n",
      "1\n",
      "12 4588\n",
      "3\n",
      "OK\n",
      "12 4745\n",
      "1\n",
      "12 4749\n",
      "8\n",
      "OK\n",
      "12 4852\n",
      "2\n",
      "OK\n",
      "12 4965\n",
      "2\n",
      "OK\n",
      "12 5100\n",
      "3\n",
      "OK\n",
      "12 5108\n",
      "3\n",
      "OK\n",
      "12 5129\n",
      "2\n",
      "OK\n",
      "12 5187\n",
      "7\n",
      "OK\n",
      "12 5226\n",
      "1\n",
      "12 5346\n",
      "3\n",
      "OK\n",
      "12 5419\n",
      "1\n",
      "12 5648\n",
      "3\n",
      "OK\n",
      "12 5658\n",
      "0\n",
      "12 5725\n",
      "3\n",
      "OK\n",
      "12 5824\n",
      "0\n",
      "12 5835\n",
      "0\n",
      "12 5917\n",
      "1\n",
      "12 6094\n",
      "3\n",
      "OK\n",
      "12 6114\n",
      "1\n",
      "12 6236\n",
      "2\n",
      "OK\n",
      "12 6299\n",
      "5\n",
      "OK\n",
      "12 6370\n",
      "3\n",
      "OK\n",
      "12 6578\n",
      "3\n",
      "OK\n",
      "12 6727\n",
      "3\n",
      "OK\n",
      "12 6785\n",
      "5\n",
      "OK\n",
      "12 6796\n",
      "2\n",
      "OK\n",
      "12 7060\n",
      "0\n",
      "12 7074\n",
      "3\n",
      "OK\n",
      "12 7093\n",
      "4\n",
      "OK\n",
      "12 7142\n",
      "3\n",
      "OK\n",
      "12 7264\n",
      "4\n",
      "OK\n",
      "12 7268\n",
      "11\n",
      "OK\n",
      "12 7310\n",
      "3\n",
      "OK\n",
      "12 7348\n",
      "3\n",
      "OK\n",
      "12 7545\n",
      "1\n",
      "12 7621\n",
      "3\n",
      "OK\n",
      "12 7628\n",
      "3\n",
      "OK\n",
      "12 7726\n",
      "0\n",
      "12 7728\n",
      "2\n",
      "OK\n",
      "12 7783\n",
      "5\n",
      "OK\n",
      "12 7802\n",
      "4\n",
      "OK\n",
      "12 7823\n",
      "2\n",
      "OK\n",
      "12 7881\n",
      "2\n",
      "OK\n",
      "12 7938\n",
      "1\n",
      "12 7963\n",
      "3\n",
      "OK\n",
      "12 7977\n",
      "2\n",
      "OK\n",
      "12 8195\n",
      "1\n",
      "12 8300\n",
      "2\n",
      "OK\n",
      "12 8326\n",
      "4\n",
      "OK\n",
      "12 8445\n",
      "3\n",
      "OK\n",
      "12 8538\n",
      "3\n",
      "OK\n",
      "12 8681\n",
      "3\n",
      "OK\n",
      "12 8709\n",
      "1\n",
      "12 8750\n",
      "1\n",
      "12 8762\n",
      "1\n",
      "12 8887\n",
      "3\n",
      "OK\n",
      "12 8890\n",
      "1\n",
      "12 8893\n",
      "1\n",
      "12 8904\n",
      "5\n",
      "OK\n",
      "12 9052\n",
      "0\n",
      "12 9184\n",
      "4\n",
      "OK\n",
      "12 9206\n",
      "3\n",
      "OK\n",
      "12 9275\n",
      "3\n",
      "OK\n",
      "12 9290\n",
      "4\n",
      "OK\n",
      "12 9312\n",
      "2\n",
      "OK\n",
      "12 9460\n",
      "3\n",
      "OK\n",
      "12 9655\n",
      "0\n",
      "12 9710\n",
      "1\n",
      "12 9747\n",
      "10\n",
      "OK\n",
      "12 9857\n",
      "3\n",
      "OK\n",
      "12 9880\n",
      "2\n",
      "OK\n",
      "12 9895\n",
      "3\n",
      "OK\n",
      "12 9985\n",
      "14\n",
      "OK\n",
      "12 10129\n",
      "1\n",
      "12 10199\n",
      "4\n",
      "OK\n",
      "12 10274\n",
      "3\n",
      "OK\n",
      "12 10396\n",
      "1\n",
      "12 10413\n",
      "3\n",
      "OK\n",
      "12 10431\n",
      "1\n",
      "12 10638\n",
      "4\n",
      "OK\n",
      "12 10668\n",
      "0\n",
      "12 10677\n",
      "1\n",
      "12 10684\n",
      "4\n",
      "OK\n",
      "12 10883\n",
      "0\n",
      "12 10956\n",
      "0\n",
      "12 11093\n",
      "3\n",
      "OK\n",
      "12 11106\n",
      "1\n",
      "12 11130\n",
      "3\n",
      "OK\n",
      "12 11206\n",
      "3\n",
      "OK\n",
      "12 11303\n",
      "2\n",
      "OK\n",
      "12 11475\n",
      "2\n",
      "OK\n",
      "12 11568\n",
      "2\n",
      "OK\n",
      "12 11581\n",
      "1\n",
      "12 11793\n",
      "3\n",
      "OK\n",
      "12 11838\n",
      "1\n",
      "12 11880\n",
      "0\n",
      "12 11887\n",
      "1\n",
      "12 12051\n",
      "3\n",
      "OK\n",
      "12 12499\n",
      "0\n",
      "12 12530\n",
      "2\n",
      "OK\n",
      "12 12598\n",
      "4\n",
      "OK\n",
      "12 12834\n",
      "4\n",
      "OK\n",
      "12 12930\n",
      "3\n",
      "OK\n",
      "12 13054\n",
      "1\n",
      "12 13222\n",
      "0\n",
      "12 13245\n",
      "3\n",
      "OK\n",
      "12 13261\n",
      "1\n",
      "12 13341\n",
      "3\n",
      "OK\n",
      "12 13404\n",
      "1\n",
      "12 13604\n",
      "2\n",
      "OK\n",
      "12 13710\n",
      "2\n",
      "OK\n",
      "12 13786\n",
      "5\n",
      "OK\n",
      "12 13804\n",
      "1\n",
      "12 14026\n",
      "3\n",
      "OK\n",
      "12 14101\n",
      "0\n",
      "12 14258\n",
      "2\n",
      "OK\n",
      "12 14266\n",
      "3\n",
      "OK\n",
      "12 14304\n",
      "4\n",
      "OK\n",
      "12 14306\n",
      "3\n",
      "OK\n",
      "12 14343\n",
      "0\n",
      "12 14395\n",
      "4\n",
      "OK\n",
      "12 14463\n",
      "1\n",
      "12 14603\n",
      "3\n",
      "OK\n",
      "12 14606\n",
      "1\n",
      "12 14665\n",
      "1\n",
      "12 14870\n",
      "7\n",
      "OK\n",
      "12 14920\n",
      "1\n",
      "12 14969\n",
      "1\n",
      "12 15004\n",
      "1\n",
      "12 15055\n",
      "3\n",
      "OK\n",
      "12 15218\n",
      "4\n",
      "OK\n",
      "12 15253\n",
      "3\n",
      "OK\n",
      "12 15313\n",
      "2\n",
      "OK\n",
      "13 80\n",
      "4\n",
      "OK\n",
      "13 115\n",
      "3\n",
      "OK\n",
      "13 195\n",
      "3\n",
      "OK\n",
      "13 531\n",
      "5\n",
      "OK\n",
      "13 740\n",
      "0\n",
      "13 750\n",
      "3\n",
      "OK\n",
      "13 775\n",
      "0\n",
      "13 816\n",
      "1\n",
      "13 918\n",
      "1\n",
      "13 984\n",
      "1\n",
      "13 1067\n",
      "1\n",
      "13 1070\n",
      "3\n",
      "OK\n",
      "13 1145\n",
      "4\n",
      "OK\n",
      "13 1150\n",
      "2\n",
      "OK\n",
      "13 1242\n",
      "3\n",
      "OK\n",
      "13 1318\n",
      "4\n",
      "OK\n",
      "13 1344\n",
      "1\n",
      "13 1424\n",
      "0\n",
      "13 1491\n",
      "4\n",
      "OK\n",
      "13 1521\n",
      "3\n",
      "OK\n",
      "13 1608\n",
      "2\n",
      "OK\n",
      "13 1672\n",
      "3\n",
      "OK\n",
      "13 1719\n",
      "0\n",
      "13 1751\n",
      "3\n",
      "OK\n",
      "13 1764\n",
      "0\n",
      "13 1997\n",
      "1\n",
      "13 2099\n",
      "3\n",
      "OK\n",
      "13 2141\n",
      "3\n",
      "OK\n",
      "13 2290\n",
      "1\n",
      "13 2298\n",
      "2\n",
      "OK\n",
      "13 2411\n",
      "4\n",
      "OK\n",
      "13 2553\n",
      "3\n",
      "OK\n",
      "13 2742\n",
      "1\n",
      "13 2752\n",
      "0\n",
      "13 3087\n",
      "4\n",
      "OK\n",
      "13 3089\n",
      "3\n",
      "OK\n",
      "13 3124\n",
      "1\n",
      "13 3258\n",
      "5\n",
      "OK\n",
      "13 3304\n",
      "6\n",
      "OK\n",
      "13 3380\n",
      "3\n",
      "OK\n",
      "13 3513\n",
      "3\n",
      "OK\n",
      "13 3671\n",
      "4\n",
      "OK\n",
      "13 3766\n",
      "0\n",
      "13 3908\n",
      "3\n",
      "OK\n",
      "13 4100\n",
      "0\n",
      "13 4255\n",
      "1\n",
      "13 4330\n",
      "3\n",
      "OK\n",
      "13 4527\n",
      "4\n",
      "OK\n",
      "13 4593\n",
      "1\n",
      "13 4617\n",
      "3\n",
      "OK\n",
      "13 4774\n",
      "0\n",
      "13 4807\n",
      "1\n",
      "13 4809\n",
      "1\n",
      "13 4839\n",
      "8\n",
      "OK\n",
      "13 5026\n",
      "6\n",
      "OK\n",
      "13 5114\n",
      "5\n",
      "OK\n",
      "13 5133\n",
      "1\n",
      "13 5134\n",
      "2\n",
      "OK\n",
      "13 5148\n",
      "2\n",
      "OK\n",
      "13 5205\n",
      "5\n",
      "OK\n",
      "13 5208\n",
      "1\n",
      "13 5363\n",
      "0\n",
      "13 5415\n",
      "1\n",
      "13 5430\n",
      "4\n",
      "OK\n",
      "13 5536\n",
      "2\n",
      "OK\n",
      "13 5767\n",
      "1\n",
      "13 5804\n",
      "0\n",
      "13 5907\n",
      "5\n",
      "OK\n",
      "13 6048\n",
      "4\n",
      "OK\n",
      "13 6079\n",
      "2\n",
      "OK\n",
      "13 6108\n",
      "3\n",
      "OK\n",
      "13 6157\n",
      "11\n",
      "OK\n",
      "13 6183\n",
      "4\n",
      "OK\n",
      "13 6395\n",
      "4\n",
      "OK\n",
      "13 6438\n",
      "0\n",
      "13 6725\n",
      "3\n",
      "OK\n",
      "13 6887\n",
      "4\n",
      "OK\n",
      "13 6955\n",
      "1\n",
      "13 7071\n",
      "5\n",
      "OK\n",
      "13 7100\n",
      "3\n",
      "OK\n",
      "13 7207\n",
      "3\n",
      "OK\n",
      "13 7304\n",
      "4\n",
      "OK\n",
      "13 7339\n",
      "3\n",
      "OK\n",
      "13 7375\n",
      "0\n",
      "13 7437\n",
      "1\n",
      "13 7492\n",
      "2\n",
      "OK\n",
      "13 7515\n",
      "3\n",
      "OK\n",
      "13 7561\n",
      "4\n",
      "OK\n",
      "13 7570\n",
      "2\n",
      "OK\n",
      "13 7596\n",
      "5\n",
      "OK\n",
      "13 7820\n",
      "1\n",
      "13 8103\n",
      "2\n",
      "OK\n",
      "13 8147\n",
      "0\n",
      "13 8257\n",
      "14\n",
      "OK\n",
      "13 8505\n",
      "1\n",
      "13 8530\n"
     ]
    },
    {
     "name": "stdout",
     "output_type": "stream",
     "text": [
      "2\n",
      "OK\n",
      "13 8824\n",
      "4\n",
      "OK\n",
      "13 8860\n",
      "1\n",
      "13 8897\n",
      "8\n",
      "OK\n",
      "13 8959\n",
      "6\n",
      "OK\n",
      "13 9029\n",
      "5\n",
      "OK\n",
      "13 9096\n",
      "4\n",
      "OK\n",
      "13 9186\n",
      "3\n",
      "OK\n",
      "13 9227\n",
      "1\n",
      "13 9273\n",
      "1\n",
      "13 9295\n",
      "3\n",
      "OK\n",
      "13 9311\n",
      "1\n",
      "13 9363\n",
      "3\n",
      "OK\n",
      "13 9380\n",
      "3\n",
      "OK\n",
      "13 9391\n",
      "1\n",
      "13 9586\n",
      "3\n",
      "OK\n",
      "13 9683\n",
      "1\n",
      "13 9940\n",
      "2\n",
      "OK\n",
      "13 10017\n",
      "0\n",
      "13 10061\n",
      "3\n",
      "OK\n",
      "13 10092\n",
      "3\n",
      "OK\n",
      "13 10164\n",
      "1\n",
      "13 10226\n",
      "2\n",
      "OK\n",
      "13 10333\n",
      "5\n",
      "OK\n",
      "13 10541\n",
      "4\n",
      "OK\n",
      "13 10866\n",
      "1\n",
      "13 10912\n",
      "3\n",
      "OK\n",
      "13 11008\n",
      "2\n",
      "OK\n",
      "13 11147\n",
      "0\n",
      "13 11191\n",
      "1\n",
      "13 11290\n",
      "0\n",
      "13 11362\n",
      "1\n",
      "13 11498\n",
      "3\n",
      "OK\n",
      "13 11521\n",
      "0\n",
      "13 11822\n",
      "4\n",
      "OK\n",
      "13 11919\n",
      "1\n",
      "13 11921\n",
      "3\n",
      "OK\n",
      "13 11929\n",
      "1\n",
      "13 11933\n",
      "3\n",
      "OK\n",
      "13 12130\n",
      "5\n",
      "OK\n",
      "13 12259\n",
      "3\n",
      "OK\n",
      "13 12290\n",
      "0\n",
      "13 12364\n",
      "6\n",
      "OK\n",
      "13 12372\n",
      "2\n",
      "OK\n",
      "13 12390\n",
      "0\n",
      "13 12528\n",
      "3\n",
      "OK\n",
      "13 12585\n",
      "6\n",
      "OK\n",
      "13 12723\n",
      "2\n",
      "OK\n",
      "13 12730\n",
      "3\n",
      "OK\n",
      "13 13138\n",
      "2\n",
      "OK\n",
      "13 13142\n",
      "2\n",
      "OK\n",
      "13 13164\n",
      "1\n",
      "13 13228\n",
      "6\n",
      "OK\n",
      "13 13377\n",
      "3\n",
      "OK\n",
      "13 13574\n",
      "3\n",
      "OK\n",
      "13 13656\n",
      "1\n",
      "13 13791\n",
      "3\n",
      "OK\n",
      "13 13812\n",
      "2\n",
      "OK\n",
      "13 13843\n",
      "3\n",
      "OK\n",
      "13 13891\n",
      "3\n",
      "OK\n",
      "13 14377\n",
      "1\n",
      "13 14676\n",
      "4\n",
      "OK\n",
      "13 14737\n",
      "3\n",
      "OK\n",
      "13 14758\n",
      "0\n",
      "13 14853\n",
      "3\n",
      "OK\n",
      "13 14926\n",
      "4\n",
      "OK\n",
      "13 15085\n",
      "1\n",
      "13 15105\n",
      "0\n",
      "13 15209\n",
      "8\n",
      "OK\n",
      "13 15282\n",
      "3\n",
      "OK\n",
      "13 15302\n",
      "0\n",
      "13 15310\n",
      "0\n",
      "14 110\n",
      "2\n",
      "OK\n",
      "14 239\n",
      "2\n",
      "OK\n",
      "14 407\n",
      "0\n",
      "14 415\n",
      "1\n",
      "14 561\n",
      "2\n",
      "OK\n",
      "14 574\n",
      "1\n",
      "14 607\n",
      "0\n",
      "14 1012\n",
      "3\n",
      "OK\n",
      "14 1319\n",
      "5\n",
      "OK\n",
      "14 1324\n",
      "2\n",
      "OK\n",
      "14 1371\n",
      "1\n",
      "14 1617\n",
      "4\n",
      "OK\n",
      "14 1669\n",
      "1\n",
      "14 1795\n",
      "3\n",
      "OK\n",
      "14 1924\n",
      "3\n",
      "OK\n",
      "14 2007\n",
      "2\n",
      "OK\n",
      "14 2134\n",
      "1\n",
      "14 2533\n",
      "3\n",
      "OK\n",
      "14 2673\n",
      "3\n",
      "OK\n",
      "14 2836\n",
      "1\n",
      "14 2850\n",
      "4\n",
      "OK\n",
      "14 3041\n",
      "3\n",
      "OK\n",
      "14 3043\n",
      "2\n",
      "OK\n",
      "14 3180\n",
      "3\n",
      "OK\n",
      "14 3299\n",
      "3\n",
      "OK\n",
      "14 3301\n",
      "4\n",
      "OK\n",
      "14 3553\n",
      "4\n",
      "OK\n",
      "14 3637\n",
      "3\n",
      "OK\n",
      "14 3681\n",
      "4\n",
      "OK\n",
      "14 4063\n",
      "3\n",
      "OK\n",
      "14 4211\n",
      "1\n",
      "14 4300\n",
      "4\n",
      "OK\n",
      "14 4316\n",
      "14\n",
      "OK\n",
      "14 4318\n",
      "0\n",
      "14 4340\n",
      "1\n",
      "14 4433\n",
      "2\n",
      "OK\n",
      "14 4776\n",
      "2\n",
      "OK\n",
      "14 4920\n",
      "3\n",
      "OK\n",
      "14 5017\n",
      "6\n",
      "OK\n",
      "14 5189\n",
      "0\n",
      "14 5210\n",
      "1\n",
      "14 5314\n",
      "3\n",
      "OK\n",
      "14 5457\n",
      "3\n",
      "OK\n",
      "14 5603\n",
      "4\n",
      "OK\n",
      "14 5676\n",
      "4\n",
      "OK\n",
      "14 5729\n",
      "3\n",
      "OK\n",
      "14 5749\n",
      "3\n",
      "OK\n",
      "14 6128\n",
      "3\n",
      "OK\n",
      "14 6232\n",
      "0\n",
      "14 6337\n",
      "3\n",
      "OK\n",
      "14 6470\n",
      "2\n",
      "OK\n",
      "14 6556\n",
      "0\n",
      "14 6640\n",
      "3\n",
      "OK\n",
      "14 6744\n",
      "3\n",
      "OK\n",
      "14 6758\n",
      "0\n",
      "14 6784\n",
      "3\n",
      "OK\n",
      "14 6858\n",
      "3\n",
      "OK\n",
      "14 6894\n",
      "3\n",
      "OK\n",
      "14 6895\n",
      "8\n",
      "OK\n",
      "14 6896\n",
      "3\n",
      "OK\n",
      "14 7112\n",
      "2\n",
      "OK\n",
      "14 7135\n",
      "1\n",
      "14 7195\n",
      "3\n",
      "OK\n",
      "14 7250\n",
      "3\n",
      "OK\n",
      "14 7418\n",
      "3\n",
      "OK\n",
      "14 7785\n",
      "4\n",
      "OK\n",
      "14 7879\n",
      "1\n",
      "14 7987\n",
      "1\n",
      "14 7989\n",
      "3\n",
      "OK\n",
      "14 8009\n",
      "3\n",
      "OK\n",
      "14 8346\n",
      "4\n",
      "OK\n",
      "14 8367\n",
      "3\n",
      "OK\n",
      "14 8396\n",
      "3\n",
      "OK\n",
      "14 8493\n",
      "0\n",
      "14 8659\n",
      "0\n",
      "14 8737\n",
      "3\n",
      "OK\n",
      "14 8854\n",
      "0\n",
      "14 9053\n",
      "2\n",
      "OK\n",
      "14 9122\n",
      "1\n",
      "14 9222\n",
      "0\n",
      "14 9314\n",
      "6\n",
      "OK\n",
      "14 9590\n",
      "4\n",
      "OK\n",
      "14 9877\n",
      "1\n",
      "14 10202\n",
      "3\n",
      "OK\n",
      "14 10212\n",
      "1\n",
      "14 10527\n",
      "4\n",
      "OK\n",
      "14 10570\n",
      "5\n",
      "OK\n",
      "14 10615\n",
      "3\n",
      "OK\n",
      "14 10666\n",
      "4\n",
      "OK\n",
      "14 10804\n",
      "2\n",
      "OK\n",
      "14 10873\n",
      "5\n",
      "OK\n",
      "14 11005\n",
      "0\n",
      "14 11102\n",
      "2\n",
      "OK\n",
      "14 11227\n",
      "3\n",
      "OK\n",
      "14 11767\n",
      "0\n",
      "14 11804\n",
      "0\n",
      "14 11856\n",
      "3\n",
      "OK\n",
      "14 11876\n",
      "2\n",
      "OK\n",
      "14 11930\n",
      "3\n",
      "OK\n",
      "14 11939\n",
      "3\n",
      "OK\n",
      "14 12212\n",
      "0\n",
      "14 12349\n",
      "1\n",
      "14 12453\n",
      "0\n",
      "14 12494\n",
      "3\n",
      "OK\n",
      "14 12538\n",
      "2\n",
      "OK\n",
      "14 12889\n",
      "1\n",
      "14 12910\n",
      "3\n",
      "OK\n",
      "14 12971\n",
      "2\n",
      "OK\n",
      "14 12977\n",
      "4\n",
      "OK\n",
      "14 13132\n",
      "2\n",
      "OK\n",
      "14 13356\n",
      "3\n",
      "OK\n",
      "14 13650\n",
      "1\n",
      "14 13775\n",
      "3\n",
      "OK\n",
      "14 14074\n",
      "3\n",
      "OK\n",
      "14 14112\n",
      "0\n",
      "14 14139\n",
      "1\n",
      "14 14211\n",
      "2\n",
      "OK\n",
      "14 14318\n",
      "10\n",
      "OK\n",
      "14 14556\n",
      "3\n",
      "OK\n",
      "14 14574\n",
      "3\n",
      "OK\n",
      "14 15077\n",
      "3\n",
      "OK\n",
      "14 15186\n",
      "3\n",
      "OK\n",
      "14 15243\n",
      "4\n",
      "OK\n",
      "14 15300\n",
      "1\n",
      "15 59\n",
      "4\n",
      "OK\n",
      "15 271\n",
      "4\n",
      "OK\n",
      "15 411\n",
      "3\n",
      "OK\n",
      "15 517\n",
      "3\n",
      "OK\n",
      "15 835\n",
      "3\n",
      "OK\n",
      "15 837\n",
      "0\n",
      "15 862\n",
      "0\n",
      "15 894\n",
      "2\n",
      "OK\n",
      "15 901\n",
      "1\n",
      "15 1028\n",
      "1\n",
      "15 1068\n",
      "2\n",
      "OK\n",
      "15 1565\n",
      "0\n",
      "15 1567\n",
      "0\n",
      "15 1650\n",
      "3\n",
      "OK\n",
      "15 1813\n",
      "3\n",
      "OK\n",
      "15 1967\n",
      "3\n",
      "OK\n",
      "15 1998\n",
      "2\n",
      "OK\n",
      "15 2046\n",
      "1\n",
      "15 2175\n",
      "3\n",
      "OK\n",
      "15 2417\n",
      "4\n",
      "OK\n",
      "15 2443\n",
      "8\n",
      "OK\n",
      "15 2474\n",
      "0\n",
      "15 2499\n",
      "4\n",
      "OK\n",
      "15 2516\n",
      "5\n",
      "OK\n",
      "15 2712\n",
      "3\n",
      "OK\n",
      "15 2759\n",
      "0\n",
      "15 2941\n",
      "3\n",
      "OK\n",
      "15 3133\n",
      "3\n",
      "OK\n",
      "15 3274\n",
      "0\n",
      "15 3534\n",
      "3\n",
      "OK\n",
      "15 3688\n",
      "1\n",
      "15 3700\n",
      "4\n",
      "OK\n",
      "15 3770\n",
      "3\n",
      "OK\n",
      "15 3802\n",
      "11\n",
      "OK\n",
      "15 3808\n",
      "1\n",
      "15 3814\n",
      "3\n",
      "OK\n",
      "15 3994\n",
      "4\n",
      "OK\n",
      "15 4261\n",
      "1\n",
      "15 4277\n",
      "2\n",
      "OK\n",
      "15 4818\n",
      "1\n",
      "15 4845\n",
      "0\n",
      "15 4898\n",
      "0\n",
      "15 5118\n",
      "4\n",
      "OK\n",
      "15 5199\n",
      "5\n",
      "OK\n",
      "15 5243\n",
      "3\n",
      "OK\n",
      "15 5262\n",
      "7\n",
      "OK\n",
      "15 5726\n",
      "9\n",
      "OK\n",
      "15 5879\n",
      "4\n",
      "OK\n",
      "15 6194\n",
      "1\n",
      "15 6296\n",
      "4\n",
      "OK\n",
      "15 6416\n",
      "0\n",
      "15 6437\n",
      "3\n",
      "OK\n",
      "15 6485\n",
      "3\n",
      "OK\n",
      "15 6486\n",
      "2\n",
      "OK\n",
      "15 6493\n",
      "3\n",
      "OK\n",
      "15 6539\n",
      "3\n",
      "OK\n",
      "15 6563\n",
      "3\n",
      "OK\n",
      "15 6911\n",
      "1\n",
      "15 7036\n",
      "8\n",
      "OK\n",
      "15 7062\n",
      "3\n",
      "OK\n",
      "15 7141\n",
      "1\n",
      "15 7150\n",
      "1\n",
      "15 7206\n",
      "0\n",
      "15 7316\n",
      "2\n",
      "OK\n",
      "15 7412\n",
      "2\n",
      "OK\n",
      "15 7637\n",
      "3\n",
      "OK\n",
      "15 7716\n",
      "1\n",
      "15 7920\n",
      "6\n",
      "OK\n",
      "15 7972\n",
      "4\n",
      "OK\n",
      "15 8119\n",
      "5\n",
      "OK\n",
      "15 8533\n",
      "0\n",
      "15 8580\n",
      "1\n",
      "15 8752\n",
      "0\n",
      "15 8796\n",
      "2\n",
      "OK\n",
      "15 9191\n",
      "0\n",
      "15 9725\n",
      "2\n",
      "OK\n",
      "15 9782\n",
      "4\n",
      "OK\n",
      "15 9885\n",
      "2\n",
      "OK\n",
      "15 9931\n",
      "1\n",
      "15 10114\n",
      "2\n",
      "OK\n",
      "15 10187\n",
      "2\n",
      "OK\n",
      "15 10374\n",
      "0\n",
      "15 10386\n",
      "1\n",
      "15 10643\n",
      "3\n",
      "OK\n",
      "15 10648\n",
      "3\n",
      "OK\n",
      "15 10720\n",
      "3\n",
      "OK\n",
      "15 10810\n",
      "2\n",
      "OK\n",
      "15 10887\n",
      "1\n",
      "15 11024\n",
      "1\n",
      "15 11242\n",
      "3\n",
      "OK\n",
      "15 11373\n",
      "4\n",
      "OK\n",
      "15 11468\n",
      "8\n",
      "OK\n",
      "15 11671\n",
      "1\n",
      "15 11711\n",
      "3\n",
      "OK\n",
      "15 11802\n",
      "3\n",
      "OK\n",
      "15 11948\n",
      "3\n",
      "OK\n",
      "15 12104\n",
      "3\n",
      "OK\n",
      "15 12239\n",
      "3\n",
      "OK\n",
      "15 12247\n",
      "3\n",
      "OK\n",
      "15 12255\n",
      "3\n",
      "OK\n",
      "15 12343\n",
      "1\n",
      "15 12354\n",
      "3\n",
      "OK\n",
      "15 12465\n",
      "2\n",
      "OK\n",
      "15 12501\n",
      "0\n",
      "15 12764\n",
      "4\n",
      "OK\n",
      "15 13043\n",
      "5\n",
      "OK\n",
      "15 13234\n",
      "3\n",
      "OK\n",
      "15 13283\n",
      "3\n",
      "OK\n",
      "15 13335\n",
      "2\n",
      "OK\n",
      "15 13373\n",
      "3\n",
      "OK\n",
      "15 13381\n",
      "4\n",
      "OK\n",
      "15 13450\n",
      "2\n",
      "OK\n",
      "15 13516\n",
      "0\n",
      "15 13644\n",
      "0\n",
      "15 13700\n",
      "1\n",
      "15 13730\n",
      "4\n",
      "OK\n",
      "15 13779\n",
      "3\n",
      "OK\n",
      "15 13941\n",
      "1\n",
      "15 14013\n",
      "2\n",
      "OK\n",
      "15 14278\n",
      "2\n",
      "OK\n",
      "15 14533\n",
      "4\n",
      "OK\n",
      "15 14630\n",
      "1\n",
      "15 14640\n",
      "2\n",
      "OK\n",
      "15 14655\n",
      "3\n",
      "OK\n",
      "15 14833\n",
      "1\n",
      "15 14837\n",
      "4\n",
      "OK\n",
      "15 14917\n",
      "3\n",
      "OK\n",
      "15 15151\n",
      "4\n",
      "OK\n",
      "16 36\n",
      "4\n",
      "OK\n",
      "16 227\n",
      "0\n",
      "16 310\n",
      "3\n",
      "OK\n",
      "16 644\n",
      "0\n",
      "16 663\n",
      "4\n",
      "OK\n",
      "16 1266\n",
      "0\n",
      "16 1355\n",
      "0\n",
      "16 1476\n",
      "3\n",
      "OK\n",
      "16 1478\n",
      "6\n",
      "OK\n",
      "16 1681\n",
      "1\n",
      "16 1780\n",
      "4\n",
      "OK\n",
      "16 1798\n",
      "0\n",
      "16 2162\n",
      "2\n",
      "OK\n",
      "16 2233\n",
      "1\n",
      "16 2328\n",
      "6\n",
      "OK\n",
      "16 2410\n",
      "6\n",
      "OK\n",
      "16 2523\n",
      "3\n",
      "OK\n",
      "16 2769\n",
      "3\n",
      "OK\n",
      "16 2900\n",
      "3\n",
      "OK\n",
      "16 3130\n",
      "2\n",
      "OK\n",
      "16 3156\n",
      "6\n",
      "OK\n",
      "16 3188\n",
      "0\n",
      "16 3198\n",
      "1\n",
      "16 3721\n",
      "1\n",
      "16 4046\n",
      "4\n",
      "OK\n",
      "16 4075\n",
      "2\n",
      "OK\n",
      "16 4503\n",
      "0\n",
      "16 4513\n",
      "3\n",
      "OK\n",
      "16 4551\n",
      "2\n",
      "OK\n",
      "16 4603\n",
      "0\n",
      "16 4934\n",
      "3\n",
      "OK\n",
      "16 5086\n",
      "3\n",
      "OK\n",
      "16 5173\n",
      "1\n",
      "16 5177\n",
      "1\n",
      "16 5334\n",
      "3\n",
      "OK\n",
      "16 5356\n",
      "3\n",
      "OK\n",
      "16 5365\n",
      "1\n",
      "16 5392\n",
      "1\n",
      "16 5479\n",
      "11\n",
      "OK\n",
      "16 5588\n",
      "1\n",
      "16 6067\n",
      "1\n",
      "16 6105\n",
      "3\n",
      "OK\n",
      "16 6263\n",
      "3\n",
      "OK\n",
      "16 6520\n",
      "0\n",
      "16 6590\n",
      "1\n",
      "16 6620\n",
      "3\n",
      "OK\n",
      "16 6780\n",
      "4\n",
      "OK\n",
      "16 6863\n",
      "0\n",
      "16 7061\n",
      "3\n",
      "OK\n",
      "16 7098\n",
      "8\n",
      "OK\n",
      "16 7433\n",
      "3\n",
      "OK\n",
      "16 7445\n",
      "1\n",
      "16 7766\n",
      "3\n",
      "OK\n",
      "16 7804\n",
      "0\n",
      "16 7835\n",
      "3\n",
      "OK\n",
      "16 7907\n",
      "3\n",
      "OK\n",
      "16 7915\n",
      "3\n",
      "OK\n",
      "16 7941\n",
      "4\n",
      "OK\n",
      "16 8066\n",
      "2\n",
      "OK\n",
      "16 8078\n",
      "2\n",
      "OK\n",
      "16 8118\n",
      "1\n",
      "16 8128\n",
      "6\n",
      "OK\n",
      "16 8235\n",
      "5\n",
      "OK\n",
      "16 8289\n",
      "3\n",
      "OK\n",
      "16 8490\n",
      "9\n",
      "OK\n",
      "16 8561\n",
      "1\n",
      "16 8603\n",
      "0\n",
      "16 8630\n",
      "1\n",
      "16 8654\n",
      "3\n",
      "OK\n",
      "16 8662\n",
      "3\n",
      "OK\n",
      "16 8670\n",
      "1\n",
      "16 8803\n",
      "7\n",
      "OK\n",
      "16 8930\n",
      "3\n",
      "OK\n",
      "16 9288\n",
      "4\n",
      "OK\n",
      "16 9702\n",
      "0\n",
      "16 9999\n",
      "4\n",
      "OK\n",
      "16 10122\n",
      "0\n",
      "16 10455\n",
      "0\n",
      "16 10463\n",
      "3\n",
      "OK\n",
      "16 10488\n",
      "1\n",
      "16 10598\n",
      "2\n",
      "OK\n",
      "16 10679\n",
      "3\n",
      "OK\n",
      "16 10781\n",
      "0\n",
      "16 10802\n",
      "1\n",
      "16 11222\n",
      "1\n",
      "16 11764\n",
      "3\n",
      "OK\n",
      "16 12067\n",
      "0\n",
      "16 12282\n",
      "5\n",
      "OK\n",
      "16 12464\n",
      "1\n",
      "16 12472\n",
      "1\n",
      "16 12483\n",
      "4\n",
      "OK\n",
      "16 12506\n",
      "0\n",
      "16 12574\n",
      "11\n",
      "OK\n",
      "16 12635\n",
      "6\n",
      "OK\n",
      "16 12658\n",
      "2\n",
      "OK\n",
      "16 12817\n",
      "3\n",
      "OK\n",
      "16 12905\n",
      "2\n",
      "OK\n",
      "16 13233\n",
      "0\n",
      "16 13262\n",
      "4\n",
      "OK\n",
      "16 13687\n",
      "1\n",
      "16 13731\n",
      "6\n",
      "OK\n",
      "16 13838\n",
      "3\n",
      "OK\n",
      "16 14305\n",
      "2\n",
      "OK\n",
      "16 15021\n",
      "8\n",
      "OK\n",
      "16 15089\n",
      "1\n",
      "16 15268\n",
      "0\n",
      "17 89\n",
      "3\n",
      "OK\n",
      "17 181\n",
      "1\n",
      "17 459\n",
      "0\n",
      "17 492\n",
      "0\n",
      "17 677\n",
      "0\n",
      "17 760\n",
      "2\n",
      "OK\n",
      "17 997\n",
      "3\n",
      "OK\n",
      "17 1031\n",
      "3\n",
      "OK\n",
      "17 1040\n",
      "3\n",
      "OK\n",
      "17 1182\n",
      "1\n",
      "17 1359\n",
      "3\n",
      "OK\n",
      "17 1379\n",
      "0\n",
      "17 1553\n",
      "3\n",
      "OK\n",
      "17 1577\n",
      "1\n",
      "17 1726\n",
      "1\n",
      "17 1842\n",
      "0\n",
      "17 2413\n",
      "3\n",
      "OK\n",
      "17 2831\n",
      "0\n",
      "17 2839\n",
      "1\n",
      "17 2845\n",
      "3\n",
      "OK\n",
      "17 2901\n",
      "2\n",
      "OK\n",
      "17 2940\n",
      "3\n",
      "OK\n",
      "17 3116\n",
      "3\n",
      "OK\n",
      "17 3212\n",
      "5\n",
      "OK\n",
      "17 3335\n",
      "3\n",
      "OK\n",
      "17 3454\n",
      "1\n",
      "17 3680\n",
      "3\n",
      "OK\n",
      "17 3965\n",
      "4\n",
      "OK\n",
      "17 4028\n",
      "4\n",
      "OK\n",
      "17 4352\n",
      "0\n",
      "17 4441\n",
      "1\n",
      "17 4587\n",
      "2\n",
      "OK\n",
      "17 4705\n",
      "4\n",
      "OK\n",
      "17 4846\n",
      "1\n",
      "17 4874\n",
      "4\n",
      "OK\n",
      "17 5426\n",
      "2\n",
      "OK\n",
      "17 5486\n",
      "0\n",
      "17 5654\n",
      "11\n",
      "OK\n",
      "17 5718\n",
      "0\n",
      "17 5757\n",
      "3\n",
      "OK\n",
      "17 5940\n",
      "1\n",
      "17 5990\n",
      "1\n",
      "17 6217\n",
      "2\n",
      "OK\n",
      "17 6455\n",
      "3\n",
      "OK\n",
      "17 6823\n",
      "0\n",
      "17 6942\n",
      "0\n",
      "17 7067\n",
      "9\n",
      "OK\n",
      "17 7286\n",
      "5\n",
      "OK\n",
      "17 7354\n",
      "3\n",
      "OK\n",
      "17 7393\n",
      "1\n",
      "17 7397\n",
      "0\n",
      "17 7713\n",
      "3\n",
      "OK\n",
      "17 7787\n",
      "0\n",
      "17 7814\n",
      "4\n",
      "OK\n",
      "17 7926\n",
      "12\n",
      "OK\n",
      "17 8663\n",
      "3\n",
      "OK\n",
      "17 8699\n",
      "4\n",
      "OK\n",
      "17 8755\n",
      "13\n",
      "OK\n",
      "17 8957\n",
      "3\n",
      "OK\n",
      "17 9023\n",
      "4\n",
      "OK\n",
      "17 9030\n",
      "5\n",
      "OK\n",
      "17 9356\n",
      "1\n",
      "17 9364\n",
      "3\n",
      "OK\n",
      "17 9470\n",
      "3\n",
      "OK\n",
      "17 9521\n",
      "3\n",
      "OK\n",
      "17 9560\n",
      "1\n",
      "17 9578\n",
      "4\n",
      "OK\n",
      "17 9610\n",
      "3\n",
      "OK\n",
      "17 9723\n",
      "1\n",
      "17 9799\n",
      "3\n",
      "OK\n",
      "17 10012\n",
      "0\n",
      "17 10240\n",
      "0\n",
      "17 10263\n",
      "2\n",
      "OK\n",
      "17 10450\n",
      "2\n",
      "OK\n",
      "17 10553\n",
      "2\n",
      "OK\n",
      "17 10752\n",
      "4\n",
      "OK\n",
      "17 10904\n",
      "1\n",
      "17 11180\n",
      "3\n",
      "OK\n",
      "17 11255\n",
      "2\n",
      "OK\n",
      "17 11556\n",
      "3\n",
      "OK\n",
      "17 11821\n",
      "2\n",
      "OK\n",
      "17 11862\n",
      "0\n",
      "17 11909\n",
      "1\n",
      "17 11982\n",
      "3\n",
      "OK\n",
      "17 12042\n",
      "4\n",
      "OK\n",
      "17 12064\n",
      "3\n",
      "OK\n",
      "17 12114\n",
      "3\n",
      "OK\n",
      "17 12221\n",
      "1\n",
      "17 12555\n",
      "1\n",
      "17 12678\n",
      "3\n",
      "OK\n",
      "17 12897\n",
      "2\n",
      "OK\n",
      "17 12911\n",
      "1\n",
      "17 13111\n",
      "4\n",
      "OK\n",
      "17 13399\n",
      "4\n",
      "OK\n",
      "17 13519\n",
      "1\n",
      "17 13555\n",
      "0\n",
      "17 14095\n",
      "1\n",
      "17 14382\n",
      "3\n",
      "OK\n",
      "17 14438\n",
      "9\n",
      "OK\n",
      "17 14627\n",
      "3\n",
      "OK\n",
      "17 14694\n",
      "4\n",
      "OK\n",
      "17 14880\n",
      "3\n",
      "OK\n",
      "17 15214\n",
      "6\n",
      "OK\n",
      "17 15291\n",
      "1\n",
      "18 81\n",
      "1\n",
      "18 137\n",
      "1\n",
      "18 511\n",
      "0\n",
      "18 765\n",
      "5\n",
      "OK\n",
      "18 800\n",
      "3\n",
      "OK\n",
      "18 936\n",
      "1\n",
      "18 1105\n",
      "1\n",
      "18 1215\n",
      "0\n",
      "18 1261\n",
      "6\n",
      "OK\n",
      "18 1437\n",
      "13\n",
      "OK\n",
      "18 1639\n",
      "4\n",
      "OK\n",
      "18 1707\n",
      "5\n",
      "OK\n",
      "18 2048\n",
      "2\n",
      "OK\n",
      "18 2124\n",
      "0\n",
      "18 2259\n",
      "3\n",
      "OK\n",
      "18 2297\n",
      "4\n",
      "OK\n",
      "18 2690\n",
      "3\n",
      "OK\n",
      "18 2780\n",
      "2\n",
      "OK\n",
      "18 3564\n",
      "0\n",
      "18 3664\n",
      "3\n",
      "OK\n",
      "18 3763\n",
      "3\n",
      "OK\n",
      "18 3990\n",
      "1\n",
      "18 4042\n",
      "3\n",
      "OK\n",
      "18 4214\n",
      "4\n",
      "OK\n",
      "18 4442\n",
      "4\n",
      "OK\n",
      "18 4921\n",
      "3\n",
      "OK\n",
      "18 5070\n",
      "1\n",
      "18 5344\n",
      "3\n",
      "OK\n",
      "18 5369\n",
      "1\n",
      "18 5440\n",
      "1\n",
      "18 6284\n",
      "7\n",
      "OK\n",
      "18 6701\n",
      "7\n",
      "OK\n",
      "18 6792\n",
      "3\n",
      "OK\n",
      "18 6825\n",
      "5\n",
      "OK\n",
      "18 6853\n",
      "1\n",
      "18 7068\n",
      "4\n",
      "OK\n",
      "18 7167\n",
      "3\n",
      "OK\n",
      "18 7211\n",
      "4\n",
      "OK\n",
      "18 7332\n",
      "3\n",
      "OK\n",
      "18 7468\n",
      "2\n",
      "OK\n",
      "18 7786\n",
      "1\n",
      "18 7792\n",
      "3\n",
      "OK\n",
      "18 7981\n",
      "1\n",
      "18 8133\n",
      "1\n",
      "18 8374\n",
      "3\n",
      "OK\n",
      "18 8831\n",
      "1\n",
      "18 9107\n",
      "3\n",
      "OK\n",
      "18 9244\n",
      "3\n",
      "OK\n",
      "18 9373\n",
      "3\n",
      "OK\n",
      "18 10257\n",
      "1\n",
      "18 10762\n",
      "0\n",
      "18 11021\n",
      "1\n",
      "18 11184\n",
      "3\n",
      "OK\n",
      "18 11503\n",
      "1\n",
      "18 11827\n",
      "3\n",
      "OK\n",
      "18 11942\n",
      "3\n",
      "OK\n",
      "18 12052\n",
      "7\n",
      "OK\n",
      "18 12060\n",
      "4\n",
      "OK\n",
      "18 12161\n",
      "0\n",
      "18 12451\n",
      "3\n",
      "OK\n",
      "18 12614\n",
      "3\n",
      "OK\n",
      "18 12707\n",
      "3\n",
      "OK\n",
      "18 12712\n",
      "3\n",
      "OK\n",
      "18 12892\n",
      "3\n",
      "OK\n",
      "18 13145\n",
      "1\n",
      "18 13157\n",
      "0\n",
      "18 13213\n",
      "1\n",
      "18 14725\n",
      "1\n",
      "18 15043\n",
      "7\n",
      "OK\n",
      "19 103\n",
      "2\n",
      "OK\n",
      "19 213\n",
      "3\n",
      "OK\n",
      "19 350\n",
      "6\n",
      "OK\n",
      "19 508\n",
      "3\n",
      "OK\n",
      "19 580\n",
      "7\n",
      "OK\n",
      "19 844\n",
      "3\n",
      "OK\n",
      "19 931\n",
      "2\n",
      "OK\n",
      "19 1080\n",
      "3\n",
      "OK\n",
      "19 1138\n",
      "0\n",
      "19 1665\n",
      "1\n",
      "19 2286\n",
      "3\n",
      "OK\n",
      "19 3005\n",
      "3\n",
      "OK\n",
      "19 3540\n",
      "0\n",
      "19 3552\n",
      "7\n",
      "OK\n",
      "19 3600\n",
      "2\n",
      "OK\n",
      "19 4354\n",
      "3\n",
      "OK\n",
      "19 4426\n",
      "3\n",
      "OK\n",
      "19 4510\n",
      "0\n",
      "19 4692\n",
      "2\n",
      "OK\n",
      "19 4767\n",
      "3\n",
      "OK\n",
      "19 4834\n",
      "3\n",
      "OK\n",
      "19 4968\n",
      "3\n",
      "OK\n",
      "19 4974\n",
      "3\n",
      "OK\n",
      "19 5071\n",
      "1\n",
      "19 5234\n",
      "0\n",
      "19 5452\n",
      "5\n",
      "OK\n",
      "19 6167\n",
      "5\n",
      "OK\n",
      "19 6479\n",
      "0\n",
      "19 6480\n",
      "4\n",
      "OK\n",
      "19 6657\n",
      "3\n",
      "OK\n",
      "19 7302\n",
      "1\n",
      "19 7314\n",
      "0\n",
      "19 7496\n",
      "22\n",
      "OK\n",
      "19 7539\n",
      "1\n",
      "19 7730\n",
      "0\n",
      "19 7948\n",
      "4\n",
      "OK\n",
      "19 8163\n",
      "1\n",
      "19 8286\n",
      "3\n",
      "OK\n",
      "19 8353\n",
      "1\n",
      "19 8526\n",
      "4\n",
      "OK\n",
      "19 8828\n",
      "6\n",
      "OK\n",
      "19 9083\n",
      "3\n",
      "OK\n",
      "19 9921\n",
      "3\n",
      "OK\n",
      "19 9933\n",
      "0\n",
      "19 10026\n",
      "3\n",
      "OK\n",
      "19 10351\n",
      "1\n",
      "19 11405\n",
      "0\n",
      "19 11911\n",
      "3\n",
      "OK\n",
      "19 11964\n",
      "6\n",
      "OK\n",
      "19 11990\n",
      "4\n",
      "OK\n",
      "19 12189\n",
      "2\n",
      "OK\n",
      "19 13162\n",
      "2\n",
      "OK\n",
      "19 13203\n",
      "1\n",
      "19 13289\n",
      "3\n",
      "OK\n",
      "19 13351\n",
      "4\n",
      "OK\n",
      "19 13424\n",
      "26\n",
      "OK\n",
      "19 14291\n",
      "1\n",
      "19 14319\n",
      "4\n",
      "OK\n",
      "19 15048\n",
      "0\n",
      "20 233\n",
      "7\n",
      "OK\n",
      "20 608\n",
      "3\n",
      "OK\n",
      "20 780\n",
      "1\n",
      "20 882\n",
      "1\n",
      "20 930\n",
      "3\n",
      "OK\n",
      "20 1051\n",
      "3\n",
      "OK\n",
      "20 1200\n",
      "2\n",
      "OK\n",
      "20 1257\n",
      "3\n",
      "OK\n",
      "20 1307\n",
      "4\n",
      "OK\n",
      "20 1624\n",
      "3\n",
      "OK\n",
      "20 2260\n",
      "3\n",
      "OK\n",
      "20 2299\n",
      "2\n",
      "OK\n",
      "20 2338\n",
      "3\n",
      "OK\n",
      "20 2427\n",
      "5\n",
      "OK\n",
      "20 2598\n",
      "3\n",
      "OK\n",
      "20 2840\n",
      "1\n",
      "20 3169\n",
      "5\n",
      "OK\n",
      "20 3341\n",
      "1\n",
      "20 4204\n"
     ]
    },
    {
     "name": "stdout",
     "output_type": "stream",
     "text": [
      "1\n",
      "20 4236\n",
      "3\n",
      "OK\n",
      "20 4493\n",
      "1\n",
      "20 4797\n",
      "0\n",
      "20 4923\n",
      "0\n",
      "20 4982\n",
      "4\n",
      "OK\n",
      "20 5060\n",
      "1\n",
      "20 5092\n",
      "3\n",
      "OK\n",
      "20 5444\n",
      "3\n",
      "OK\n",
      "20 6254\n",
      "1\n",
      "20 6292\n",
      "4\n",
      "OK\n",
      "20 6374\n",
      "4\n",
      "OK\n",
      "20 6931\n",
      "1\n",
      "20 6998\n",
      "3\n",
      "OK\n",
      "20 7722\n",
      "0\n",
      "20 7776\n",
      "0\n",
      "20 8227\n",
      "7\n",
      "OK\n",
      "20 8266\n",
      "4\n",
      "OK\n",
      "20 9100\n",
      "2\n",
      "OK\n",
      "20 9148\n",
      "0\n",
      "20 9431\n",
      "4\n",
      "OK\n",
      "20 9507\n",
      "1\n",
      "20 9604\n",
      "2\n",
      "OK\n",
      "20 10085\n",
      "4\n",
      "OK\n",
      "20 10183\n",
      "0\n",
      "20 10501\n",
      "3\n",
      "OK\n",
      "20 11171\n",
      "0\n",
      "20 11524\n",
      "3\n",
      "OK\n",
      "20 11532\n",
      "0\n",
      "20 12124\n",
      "3\n",
      "OK\n",
      "20 12317\n",
      "2\n",
      "OK\n",
      "20 13502\n",
      "0\n",
      "20 14283\n",
      "3\n",
      "OK\n",
      "20 14419\n",
      "2\n",
      "OK\n",
      "20 14632\n",
      "0\n",
      "20 14705\n",
      "2\n",
      "OK\n",
      "20 14956\n",
      "1\n",
      "20 15318\n",
      "3\n",
      "OK\n",
      "21 186\n",
      "1\n",
      "21 203\n",
      "4\n",
      "OK\n",
      "21 440\n",
      "2\n",
      "OK\n",
      "21 1238\n",
      "1\n",
      "21 1616\n",
      "1\n",
      "21 2114\n",
      "3\n",
      "OK\n",
      "21 2271\n",
      "2\n",
      "OK\n",
      "21 2683\n",
      "4\n",
      "OK\n",
      "21 3149\n",
      "6\n",
      "OK\n",
      "21 3713\n",
      "1\n",
      "21 3749\n",
      "4\n",
      "OK\n",
      "21 4247\n",
      "3\n",
      "OK\n",
      "21 4331\n",
      "2\n",
      "OK\n",
      "21 4827\n",
      "6\n",
      "OK\n",
      "21 5158\n",
      "3\n",
      "OK\n",
      "21 5166\n",
      "0\n",
      "21 6027\n",
      "4\n",
      "OK\n",
      "21 6054\n",
      "1\n",
      "21 6298\n",
      "2\n",
      "OK\n",
      "21 6598\n",
      "3\n",
      "OK\n",
      "21 6927\n",
      "1\n",
      "21 7210\n",
      "5\n",
      "OK\n",
      "21 7221\n",
      "3\n",
      "OK\n",
      "21 7511\n",
      "2\n",
      "OK\n",
      "21 8125\n",
      "4\n",
      "OK\n",
      "21 8521\n",
      "1\n",
      "21 8730\n",
      "3\n",
      "OK\n",
      "21 8753\n",
      "0\n",
      "21 8888\n",
      "13\n",
      "OK\n",
      "21 9272\n",
      "4\n",
      "OK\n",
      "21 10116\n",
      "2\n",
      "OK\n",
      "21 10204\n",
      "3\n",
      "OK\n",
      "21 10456\n",
      "4\n",
      "OK\n",
      "21 10521\n",
      "0\n",
      "21 10944\n",
      "1\n",
      "21 11205\n",
      "0\n",
      "21 11269\n",
      "3\n",
      "OK\n",
      "21 11292\n",
      "4\n",
      "OK\n",
      "21 11485\n",
      "4\n",
      "OK\n",
      "21 11656\n",
      "0\n",
      "21 12176\n",
      "4\n",
      "OK\n",
      "21 12418\n",
      "9\n",
      "OK\n",
      "21 12495\n",
      "3\n",
      "OK\n",
      "21 12671\n",
      "1\n",
      "21 12920\n",
      "3\n",
      "OK\n",
      "21 13542\n",
      "1\n",
      "21 13970\n",
      "2\n",
      "OK\n",
      "21 14554\n",
      "4\n",
      "OK\n",
      "21 14852\n",
      "3\n",
      "OK\n",
      "21 15223\n",
      "2\n",
      "OK\n",
      "21 15311\n",
      "1\n",
      "22 188\n",
      "2\n",
      "OK\n",
      "22 525\n",
      "2\n",
      "OK\n",
      "22 699\n",
      "5\n",
      "OK\n",
      "22 1088\n",
      "2\n",
      "OK\n",
      "22 1527\n",
      "1\n",
      "22 2268\n",
      "1\n",
      "22 2498\n",
      "2\n",
      "OK\n",
      "22 2680\n",
      "1\n",
      "22 3186\n",
      "2\n",
      "OK\n",
      "22 3362\n",
      "1\n",
      "22 3526\n",
      "3\n",
      "OK\n",
      "22 3666\n",
      "10\n",
      "OK\n",
      "22 3921\n",
      "1\n",
      "22 4020\n",
      "5\n",
      "OK\n",
      "22 4575\n",
      "0\n",
      "22 4864\n",
      "3\n",
      "OK\n",
      "22 4868\n",
      "2\n",
      "OK\n",
      "22 4939\n",
      "3\n",
      "OK\n",
      "22 5633\n",
      "3\n",
      "OK\n",
      "22 5900\n",
      "3\n",
      "OK\n",
      "22 5923\n",
      "7\n",
      "OK\n",
      "22 5973\n",
      "2\n",
      "OK\n",
      "22 6014\n",
      "1\n",
      "22 6058\n",
      "5\n",
      "OK\n",
      "22 6607\n",
      "1\n",
      "22 6801\n",
      "1\n",
      "22 6822\n",
      "0\n",
      "22 7070\n",
      "1\n",
      "22 7191\n",
      "1\n",
      "22 7360\n",
      "4\n",
      "OK\n",
      "22 8339\n",
      "2\n",
      "OK\n",
      "22 8422\n",
      "5\n",
      "OK\n",
      "22 8424\n",
      "1\n",
      "22 8443\n",
      "3\n",
      "OK\n",
      "22 8746\n",
      "3\n",
      "OK\n",
      "22 8841\n",
      "3\n",
      "OK\n",
      "22 9660\n",
      "5\n",
      "OK\n",
      "22 10184\n",
      "2\n",
      "OK\n",
      "22 10694\n",
      "1\n",
      "22 11085\n",
      "3\n",
      "OK\n",
      "22 11117\n",
      "1\n",
      "22 11306\n",
      "3\n",
      "OK\n",
      "22 11611\n",
      "3\n",
      "OK\n",
      "22 11810\n",
      "1\n",
      "22 13011\n",
      "2\n",
      "OK\n",
      "22 13276\n",
      "1\n",
      "22 13692\n",
      "2\n",
      "OK\n",
      "22 14336\n",
      "1\n",
      "22 14349\n",
      "3\n",
      "OK\n",
      "22 14484\n",
      "4\n",
      "OK\n",
      "22 14634\n",
      "4\n",
      "OK\n",
      "22 14734\n",
      "4\n",
      "OK\n",
      "22 15078\n",
      "3\n",
      "OK\n",
      "22 15103\n",
      "2\n",
      "OK\n",
      "23 328\n",
      "3\n",
      "OK\n",
      "23 500\n",
      "1\n",
      "23 1057\n",
      "1\n",
      "23 1403\n",
      "1\n",
      "23 1929\n",
      "3\n",
      "OK\n",
      "23 2015\n",
      "4\n",
      "OK\n",
      "23 2319\n",
      "1\n",
      "23 2390\n",
      "1\n",
      "23 2927\n",
      "2\n",
      "OK\n",
      "23 3261\n",
      "1\n",
      "23 3973\n",
      "2\n",
      "OK\n",
      "23 4073\n",
      "3\n",
      "OK\n",
      "23 4669\n",
      "2\n",
      "OK\n",
      "23 5265\n",
      "3\n",
      "OK\n",
      "23 5428\n",
      "4\n",
      "OK\n",
      "23 6477\n",
      "3\n",
      "OK\n",
      "23 7016\n",
      "6\n",
      "OK\n",
      "23 7698\n",
      "3\n",
      "OK\n",
      "23 7999\n",
      "1\n",
      "23 8002\n",
      "5\n",
      "OK\n",
      "23 8311\n",
      "3\n",
      "OK\n",
      "23 8588\n",
      "2\n",
      "OK\n",
      "23 8835\n",
      "9\n",
      "OK\n",
      "23 9014\n",
      "3\n",
      "OK\n",
      "23 9398\n",
      "0\n",
      "23 10050\n",
      "1\n",
      "23 10192\n",
      "2\n",
      "OK\n",
      "23 10478\n",
      "4\n",
      "OK\n",
      "23 10658\n",
      "3\n",
      "OK\n",
      "23 10816\n",
      "3\n",
      "OK\n",
      "23 11138\n",
      "3\n",
      "OK\n",
      "23 11178\n",
      "1\n",
      "23 12187\n",
      "3\n",
      "OK\n",
      "23 12516\n",
      "2\n",
      "OK\n",
      "23 12647\n",
      "3\n",
      "OK\n",
      "23 12743\n",
      "3\n",
      "OK\n",
      "23 12788\n",
      "2\n",
      "OK\n",
      "23 12827\n",
      "3\n",
      "OK\n",
      "23 13539\n",
      "1\n",
      "23 14012\n",
      "3\n",
      "OK\n",
      "23 14380\n",
      "3\n",
      "OK\n",
      "23 14432\n",
      "1\n",
      "23 14963\n",
      "3\n",
      "OK\n",
      "24 71\n",
      "4\n",
      "OK\n",
      "24 210\n",
      "9\n",
      "OK\n",
      "24 604\n",
      "1\n",
      "24 1158\n",
      "3\n",
      "OK\n",
      "24 1569\n",
      "4\n",
      "OK\n",
      "24 1579\n",
      "4\n",
      "OK\n",
      "24 1960\n",
      "0\n",
      "24 1993\n",
      "0\n",
      "24 2312\n",
      "6\n",
      "OK\n",
      "24 2345\n",
      "0\n",
      "24 2590\n",
      "1\n",
      "24 4311\n",
      "4\n",
      "OK\n",
      "24 4910\n",
      "5\n",
      "OK\n",
      "24 4942\n",
      "4\n",
      "OK\n",
      "24 5831\n",
      "3\n",
      "OK\n",
      "24 6055\n",
      "4\n",
      "OK\n",
      "24 6191\n",
      "3\n",
      "OK\n",
      "24 6279\n",
      "3\n",
      "OK\n",
      "24 7544\n",
      "3\n",
      "OK\n",
      "24 7966\n",
      "2\n",
      "OK\n",
      "24 8770\n",
      "3\n",
      "OK\n",
      "24 9657\n",
      "4\n",
      "OK\n",
      "24 9760\n",
      "2\n",
      "OK\n",
      "24 10812\n",
      "7\n",
      "OK\n",
      "24 11145\n",
      "3\n",
      "OK\n",
      "24 11860\n",
      "0\n",
      "24 12708\n",
      "6\n",
      "OK\n",
      "24 12820\n",
      "3\n",
      "OK\n",
      "24 13137\n",
      "1\n",
      "24 13511\n",
      "3\n",
      "OK\n",
      "24 13533\n",
      "3\n",
      "OK\n",
      "24 13694\n",
      "2\n",
      "OK\n",
      "24 13865\n",
      "5\n",
      "OK\n",
      "24 14114\n",
      "0\n",
      "24 14279\n",
      "5\n",
      "OK\n",
      "24 14351\n",
      "6\n",
      "OK\n",
      "25 701\n",
      "2\n",
      "OK\n",
      "25 2014\n",
      "1\n",
      "25 2548\n",
      "4\n",
      "OK\n",
      "25 3202\n",
      "0\n",
      "25 3954\n",
      "3\n",
      "OK\n",
      "25 4550\n",
      "3\n",
      "OK\n",
      "25 5024\n",
      "3\n",
      "OK\n",
      "25 5883\n",
      "0\n",
      "25 6366\n",
      "2\n",
      "OK\n",
      "25 6510\n",
      "3\n",
      "OK\n",
      "25 6755\n",
      "0\n",
      "25 7431\n",
      "3\n",
      "OK\n",
      "25 7757\n",
      "2\n",
      "OK\n",
      "25 8331\n",
      "1\n",
      "25 8802\n",
      "2\n",
      "OK\n",
      "25 9504\n",
      "3\n",
      "OK\n",
      "25 9585\n",
      "1\n",
      "25 9963\n",
      "3\n",
      "OK\n",
      "25 10201\n",
      "0\n",
      "25 10479\n",
      "6\n",
      "OK\n",
      "25 11209\n",
      "3\n",
      "OK\n",
      "25 11281\n",
      "1\n",
      "25 11313\n",
      "1\n",
      "25 11598\n",
      "2\n",
      "OK\n",
      "25 11687\n",
      "3\n",
      "OK\n",
      "25 13119\n",
      "4\n",
      "OK\n",
      "25 13361\n",
      "0\n",
      "25 14190\n",
      "2\n",
      "OK\n",
      "25 14513\n",
      "0\n",
      "25 14614\n",
      "2\n",
      "OK\n",
      "25 14913\n",
      "3\n",
      "OK\n",
      "25 15002\n",
      "6\n",
      "OK\n",
      "25 15014\n",
      "1\n",
      "25 15220\n",
      "3\n",
      "OK\n",
      "26 146\n",
      "3\n",
      "OK\n",
      "26 265\n",
      "3\n",
      "OK\n",
      "26 590\n",
      "3\n",
      "OK\n",
      "26 2775\n",
      "0\n",
      "26 3409\n",
      "3\n",
      "OK\n",
      "26 3527\n",
      "17\n",
      "OK\n",
      "26 4146\n",
      "4\n",
      "OK\n",
      "26 5165\n",
      "2\n",
      "OK\n",
      "26 5388\n",
      "3\n",
      "OK\n",
      "26 5941\n",
      "4\n",
      "OK\n",
      "26 6702\n",
      "3\n",
      "OK\n",
      "26 6798\n",
      "1\n",
      "26 6873\n",
      "2\n",
      "OK\n",
      "26 7105\n",
      "2\n",
      "OK\n",
      "26 7458\n",
      "3\n",
      "OK\n",
      "26 7502\n",
      "3\n",
      "OK\n",
      "26 7608\n",
      "3\n",
      "OK\n",
      "26 7684\n",
      "3\n",
      "OK\n",
      "26 7686\n",
      "3\n",
      "OK\n",
      "26 8676\n",
      "9\n",
      "OK\n",
      "26 8819\n",
      "3\n",
      "OK\n",
      "26 10191\n",
      "2\n",
      "OK\n",
      "26 10317\n",
      "1\n",
      "26 10805\n",
      "1\n",
      "26 11401\n",
      "6\n",
      "OK\n",
      "26 11659\n",
      "4\n",
      "OK\n",
      "26 11666\n",
      "2\n",
      "OK\n",
      "26 11863\n",
      "0\n",
      "26 12107\n",
      "3\n",
      "OK\n",
      "26 12407\n",
      "1\n",
      "26 13051\n",
      "3\n",
      "OK\n",
      "26 14147\n",
      "0\n",
      "26 14236\n",
      "3\n",
      "OK\n",
      "26 14303\n",
      "4\n",
      "OK\n",
      "26 14470\n",
      "3\n",
      "OK\n",
      "26 14596\n",
      "0\n",
      "26 14687\n",
      "0\n",
      "27 6\n",
      "3\n",
      "OK\n",
      "27 751\n",
      "3\n",
      "OK\n",
      "27 2506\n",
      "3\n",
      "OK\n",
      "27 2508\n",
      "5\n",
      "OK\n",
      "27 2882\n",
      "4\n",
      "OK\n",
      "27 3622\n",
      "2\n",
      "OK\n",
      "27 4304\n",
      "6\n",
      "OK\n",
      "27 4361\n",
      "1\n",
      "27 4406\n",
      "3\n",
      "OK\n",
      "27 5253\n",
      "1\n",
      "27 5340\n",
      "3\n",
      "OK\n",
      "27 5860\n",
      "3\n",
      "OK\n",
      "27 7166\n",
      "1\n",
      "27 7508\n",
      "8\n",
      "OK\n",
      "27 7676\n",
      "3\n",
      "OK\n",
      "27 7869\n",
      "3\n",
      "OK\n",
      "27 8106\n",
      "2\n",
      "OK\n",
      "27 8210\n",
      "3\n",
      "OK\n",
      "27 10173\n",
      "0\n",
      "27 10250\n",
      "4\n",
      "OK\n",
      "27 10282\n",
      "3\n",
      "OK\n",
      "27 10867\n",
      "3\n",
      "OK\n",
      "27 11033\n",
      "1\n",
      "27 11698\n",
      "3\n",
      "OK\n",
      "27 11932\n",
      "4\n",
      "OK\n",
      "27 12641\n",
      "1\n",
      "27 14035\n",
      "3\n",
      "OK\n",
      "27 14210\n",
      "1\n",
      "27 14394\n",
      "5\n",
      "OK\n",
      "27 14430\n",
      "2\n",
      "OK\n",
      "27 14442\n",
      "2\n",
      "OK\n",
      "28 866\n",
      "0\n",
      "28 900\n",
      "4\n",
      "OK\n",
      "28 1147\n",
      "3\n",
      "OK\n",
      "28 3447\n",
      "3\n",
      "OK\n",
      "28 4472\n",
      "3\n",
      "OK\n",
      "28 6577\n",
      "1\n",
      "28 7212\n",
      "3\n",
      "OK\n",
      "28 7705\n",
      "2\n",
      "OK\n",
      "28 8425\n",
      "4\n",
      "OK\n",
      "28 10534\n",
      "3\n",
      "OK\n",
      "28 10901\n",
      "3\n",
      "OK\n",
      "28 11285\n",
      "3\n",
      "OK\n",
      "28 13168\n",
      "1\n",
      "28 13605\n",
      "3\n",
      "OK\n",
      "28 14142\n",
      "3\n",
      "OK\n",
      "28 14836\n",
      "3\n",
      "OK\n",
      "28 15329\n",
      "2\n",
      "OK\n",
      "29 1472\n",
      "4\n",
      "OK\n",
      "29 1668\n",
      "18\n",
      "OK\n",
      "29 1843\n",
      "0\n",
      "29 2158\n",
      "1\n",
      "29 2488\n",
      "4\n",
      "OK\n",
      "29 2599\n",
      "4\n",
      "OK\n",
      "29 2705\n",
      "4\n",
      "OK\n",
      "29 3870\n",
      "3\n",
      "OK\n",
      "29 5510\n",
      "3\n",
      "OK\n",
      "29 6297\n",
      "1\n",
      "29 9634\n",
      "4\n",
      "OK\n",
      "29 11682\n",
      "4\n",
      "OK\n",
      "29 11995\n",
      "1\n",
      "29 12813\n",
      "3\n",
      "OK\n",
      "29 14815\n",
      "0\n",
      "30 232\n",
      "4\n",
      "OK\n",
      "30 326\n",
      "1\n",
      "30 512\n",
      "7\n",
      "OK\n",
      "30 1239\n",
      "3\n",
      "OK\n",
      "30 1578\n",
      "0\n",
      "30 2234\n",
      "2\n",
      "OK\n",
      "30 2325\n",
      "4\n",
      "OK\n",
      "30 3024\n",
      "3\n",
      "OK\n",
      "30 3052\n",
      "3\n",
      "OK\n",
      "30 5735\n",
      "3\n",
      "OK\n",
      "30 6719\n",
      "3\n",
      "OK\n",
      "30 7800\n",
      "0\n",
      "30 8345\n",
      "3\n",
      "OK\n",
      "30 9406\n",
      "2\n",
      "OK\n",
      "30 9925\n",
      "2\n",
      "OK\n",
      "30 9970\n",
      "3\n",
      "OK\n",
      "30 10929\n",
      "3\n",
      "OK\n",
      "30 11064\n",
      "2\n",
      "OK\n",
      "30 11161\n",
      "5\n",
      "OK\n",
      "30 12868\n",
      "7\n",
      "OK\n",
      "30 13788\n",
      "2\n",
      "OK\n",
      "30 14865\n",
      "1\n",
      "30 14938\n",
      "3\n",
      "OK\n",
      "31 1132\n",
      "1\n",
      "31 1258\n",
      "3\n",
      "OK\n",
      "31 1959\n",
      "4\n",
      "OK\n",
      "31 2280\n",
      "0\n",
      "31 2281\n",
      "0\n",
      "31 2406\n",
      "0\n",
      "31 2893\n",
      "0\n",
      "31 4997\n",
      "0\n",
      "31 5731\n",
      "1\n",
      "31 7613\n",
      "3\n",
      "OK\n",
      "31 7615\n",
      "3\n",
      "OK\n",
      "31 8216\n",
      "21\n",
      "OK\n",
      "31 12411\n",
      "3\n",
      "OK\n",
      "31 12581\n",
      "3\n",
      "OK\n",
      "31 13436\n",
      "1\n",
      "31 13614\n",
      "2\n",
      "OK\n",
      "31 13689\n",
      "4\n",
      "OK\n",
      "31 14736\n",
      "2\n",
      "OK\n",
      "31 14825\n",
      "3\n",
      "OK\n",
      "32 24\n",
      "1\n",
      "32 4744\n",
      "2\n",
      "OK\n",
      "32 6258\n",
      "1\n",
      "32 6602\n",
      "1\n",
      "32 7980\n",
      "3\n",
      "OK\n",
      "32 9966\n",
      "2\n",
      "OK\n",
      "32 10373\n",
      "4\n",
      "OK\n",
      "32 10487\n",
      "2\n",
      "OK\n",
      "32 10714\n",
      "4\n",
      "OK\n",
      "32 13937\n",
      "3\n",
      "OK\n",
      "33 1868\n",
      "3\n",
      "OK\n",
      "33 3310\n",
      "3\n",
      "OK\n",
      "33 3549\n",
      "3\n",
      "OK\n",
      "33 4049\n",
      "3\n",
      "OK\n",
      "33 6951\n",
      "3\n",
      "OK\n",
      "33 7187\n",
      "1\n",
      "33 10414\n",
      "6\n",
      "OK\n",
      "33 11204\n",
      "0\n",
      "33 12345\n",
      "3\n",
      "OK\n",
      "33 12744\n",
      "4\n",
      "OK\n",
      "33 12755\n",
      "4\n",
      "OK\n",
      "33 13407\n",
      "4\n",
      "OK\n",
      "33 13568\n",
      "0\n",
      "33 14025\n",
      "3\n",
      "OK\n",
      "34 974\n",
      "2\n",
      "OK\n",
      "34 1810\n",
      "3\n",
      "OK\n",
      "34 3657\n",
      "3\n",
      "OK\n",
      "34 4179\n",
      "3\n",
      "OK\n",
      "34 4182\n",
      "3\n",
      "OK\n",
      "34 4324\n",
      "3\n",
      "OK\n",
      "34 4684\n",
      "3\n",
      "OK\n",
      "34 5427\n",
      "2\n",
      "OK\n",
      "34 7076\n",
      "6\n",
      "OK\n",
      "34 7476\n",
      "8\n",
      "OK\n",
      "34 7677\n",
      "2\n",
      "OK\n",
      "34 14091\n",
      "2\n",
      "OK\n",
      "34 14919\n",
      "2\n",
      "OK\n",
      "35 956\n",
      "3\n",
      "OK\n",
      "35 1077\n",
      "0\n",
      "35 1144\n",
      "2\n",
      "OK\n",
      "35 2620\n",
      "2\n",
      "OK\n",
      "35 3598\n",
      "1\n",
      "35 5595\n",
      "4\n",
      "OK\n",
      "35 5875\n",
      "3\n",
      "OK\n",
      "35 6459\n",
      "4\n",
      "OK\n",
      "35 6829\n",
      "0\n",
      "35 8884\n",
      "2\n",
      "OK\n",
      "35 12357\n",
      "0\n",
      "35 12573\n",
      "8\n",
      "OK\n",
      "36 888\n",
      "5\n",
      "OK\n",
      "36 2431\n",
      "3\n",
      "OK\n",
      "36 4516\n",
      "10\n",
      "OK\n",
      "36 5949\n",
      "1\n",
      "36 6360\n",
      "1\n",
      "36 6453\n",
      "3\n",
      "OK\n",
      "36 7174\n",
      "3\n",
      "OK\n",
      "36 8415\n",
      "3\n",
      "OK\n",
      "36 8440\n",
      "5\n",
      "OK\n",
      "36 11443\n",
      "4\n",
      "OK\n",
      "36 11832\n",
      "1\n",
      "36 11961\n",
      "1\n",
      "36 14378\n",
      "3\n",
      "OK\n",
      "36 14420\n",
      "3\n",
      "OK\n",
      "37 826\n",
      "3\n",
      "OK\n",
      "37 876\n",
      "3\n",
      "OK\n",
      "37 7516\n",
      "1\n",
      "37 8305\n",
      "7\n",
      "OK\n",
      "37 8683\n",
      "0\n",
      "37 9310\n",
      "3\n",
      "OK\n",
      "37 10519\n",
      "3\n",
      "OK\n",
      "37 14961\n",
      "1\n",
      "38 2101\n",
      "1\n",
      "38 3190\n",
      "3\n",
      "OK\n",
      "38 4036\n",
      "4\n",
      "OK\n",
      "38 8947\n",
      "5\n",
      "OK\n",
      "38 8983\n",
      "3\n",
      "OK\n",
      "38 9027\n",
      "3\n",
      "OK\n",
      "38 9411\n",
      "0\n",
      "38 11438\n",
      "3\n",
      "OK\n",
      "38 12170\n",
      "2\n",
      "OK\n",
      "38 12171\n",
      "4\n",
      "OK\n",
      "38 12271\n",
      "3\n",
      "OK\n",
      "38 15019\n",
      "4\n",
      "OK\n",
      "38 15092\n",
      "4\n",
      "OK\n",
      "39 214\n",
      "8\n",
      "OK\n",
      "39 2288\n",
      "4\n",
      "OK\n",
      "39 2842\n",
      "3\n",
      "OK\n",
      "39 6414\n",
      "0\n",
      "39 10736\n",
      "6\n",
      "OK\n",
      "39 13413\n",
      "3\n",
      "OK\n",
      "39 14104\n",
      "3\n",
      "OK\n",
      "40 833\n",
      "3\n",
      "OK\n",
      "40 2250\n",
      "4\n",
      "OK\n",
      "40 3544\n",
      "6\n",
      "OK\n",
      "40 8101\n",
      "2\n",
      "OK\n",
      "40 9505\n",
      "3\n",
      "OK\n",
      "40 10267\n",
      "1\n",
      "40 11809\n",
      "0\n",
      "40 13521\n",
      "4\n",
      "OK\n",
      "41 1698\n",
      "3\n",
      "OK\n",
      "41 1923\n",
      "4\n",
      "OK\n",
      "41 3272\n",
      "4\n",
      "OK\n",
      "41 9277\n",
      "5\n",
      "OK\n",
      "41 10441\n",
      "3\n",
      "OK\n",
      "41 11986\n",
      "4\n",
      "OK\n",
      "42 2272\n",
      "5\n",
      "OK\n",
      "42 3208\n",
      "4\n",
      "OK\n",
      "42 5014\n",
      "4\n",
      "OK\n",
      "42 7179\n",
      "3\n",
      "OK\n",
      "42 10420\n",
      "3\n",
      "OK\n",
      "43 9802\n",
      "2\n",
      "OK\n",
      "44 5025\n",
      "2\n",
      "OK\n",
      "44 5337\n",
      "0\n",
      "44 5810\n",
      "0\n",
      "44 10027\n",
      "6\n",
      "OK\n",
      "44 11509\n",
      "5\n",
      "OK\n",
      "45 770\n",
      "5\n",
      "OK\n",
      "45 3096\n",
      "3\n",
      "OK\n",
      "45 6045\n",
      "4\n",
      "OK\n",
      "45 7331\n",
      "5\n",
      "OK\n",
      "45 7975\n",
      "3\n",
      "OK\n",
      "45 8386\n",
      "3\n",
      "OK\n",
      "45 8623\n",
      "0\n",
      "45 9616\n",
      "2\n",
      "OK\n",
      "46 3285\n",
      "6\n",
      "OK\n",
      "46 6836\n",
      "1\n",
      "46 9602\n",
      "4\n",
      "OK\n",
      "46 9946\n",
      "4\n",
      "OK\n",
      "46 10482\n",
      "4\n",
      "OK\n",
      "46 13174\n",
      "3\n",
      "OK\n",
      "46 14310\n",
      "4\n",
      "OK\n",
      "47 2978\n",
      "3\n",
      "OK\n",
      "47 5619\n",
      "6\n",
      "OK\n",
      "47 7306\n",
      "1\n",
      "47 8689\n",
      "4\n",
      "OK\n",
      "47 9910\n",
      "5\n",
      "OK\n",
      "47 12273\n",
      "4\n",
      "OK\n",
      "48 3058\n",
      "2\n",
      "OK\n",
      "48 12705\n",
      "7\n",
      "OK\n",
      "49 3762\n",
      "3\n",
      "OK\n",
      "49 3985\n",
      "7\n",
      "OK\n",
      "49 6305\n",
      "5\n",
      "OK\n",
      "49 11363\n",
      "3\n",
      "OK\n",
      "49 14242\n",
      "3\n",
      "OK\n",
      "50 705\n",
      "0\n",
      "50 2398\n",
      "3\n",
      "OK\n",
      "50 7579\n",
      "3\n",
      "OK\n",
      "50 9245\n",
      "1\n",
      "51 1607\n",
      "3\n",
      "OK\n",
      "51 2235\n",
      "4\n",
      "OK\n",
      "51 5578\n",
      "0\n",
      "51 10830\n",
      "3\n",
      "OK\n",
      "51 11345\n",
      "3\n",
      "OK\n",
      "51 15270\n",
      "4\n",
      "OK\n",
      "52 3460\n",
      "0\n",
      "52 8152\n",
      "3\n",
      "OK\n",
      "53 4781\n",
      "3\n",
      "OK\n",
      "53 8254\n",
      "4\n",
      "OK\n",
      "53 9719\n",
      "3\n",
      "OK\n",
      "53 9881\n",
      "4\n",
      "OK\n",
      "54 893\n",
      "3\n",
      "OK\n",
      "54 5178\n",
      "2\n",
      "OK\n",
      "54 9711\n",
      "3\n",
      "OK\n",
      "54 12044\n",
      "10\n",
      "OK\n",
      "55 9776\n",
      "3\n",
      "OK\n",
      "56 3028\n",
      "7\n",
      "OK\n",
      "57 5747\n",
      "3\n",
      "OK\n",
      "57 12202\n",
      "3\n",
      "OK\n",
      "58 5922\n",
      "3\n",
      "OK\n",
      "58 6347\n",
      "10\n",
      "OK\n",
      "58 13452\n",
      "3\n",
      "OK\n",
      "58 14069\n",
      "14\n",
      "OK\n",
      "59 118\n",
      "3\n",
      "OK\n",
      "59 3603\n",
      "2\n",
      "OK\n",
      "59 4443\n",
      "3\n",
      "OK\n",
      "59 9007\n",
      "3\n",
      "OK\n",
      "59 10167\n",
      "0\n",
      "59 14964\n",
      "0\n",
      "61 12876\n",
      "0\n",
      "61 13270\n",
      "1\n",
      "61 13336\n",
      "4\n",
      "OK\n",
      "62 10334\n",
      "3\n",
      "OK\n",
      "63 995\n",
      "3\n",
      "OK\n",
      "63 3463\n",
      "6\n",
      "OK\n",
      "63 9114\n",
      "3\n",
      "OK\n",
      "64 6222\n",
      "3\n",
      "OK\n",
      "64 9551\n",
      "3\n",
      "OK\n",
      "64 10468\n",
      "3\n",
      "OK\n",
      "64 12267\n",
      "3\n",
      "OK\n",
      "64 15330\n",
      "1\n",
      "68 8004\n",
      "3\n",
      "OK\n",
      "69 12638\n",
      "3\n",
      "OK\n",
      "70 5473\n",
      "4\n",
      "OK\n",
      "70 5488\n",
      "0\n",
      "71 175\n",
      "0\n",
      "71 1701\n",
      "11\n",
      "OK\n",
      "71 6057\n",
      "3\n",
      "OK\n",
      "74 722\n",
      "3\n",
      "OK\n",
      "80 3211\n",
      "0\n",
      "81 12848\n",
      "3\n",
      "OK\n",
      "88 2821\n",
      "5\n",
      "OK\n",
      "94 1908\n",
      "1\n",
      "95 10361\n",
      "3\n",
      "OK\n",
      "97 10443\n",
      "0\n",
      "102 1619\n",
      "3\n",
      "OK\n",
      "107 14787\n",
      "0\n",
      "TOTAL NUMBER OF CONSIDERED CHANGES: 44704\n",
      "CHOSEN: 11737\n"
     ]
    }
   ],
   "source": [
    "# CHECKING PATTERNS WITH DIFFERENT PROJECTS\n",
    "\n",
    "# We consider only changes whose edit script is not empty\n",
    "\n",
    "patterns_path = \"/Users/aliscafo/Downloads/CPatMiner-master 2/SemanticChangeGraphMiner/output/patterns/repos-hybrid/1\"\n",
    "actions_path = \"/Users/aliscafo/Documents/ALINA/WORK/SPbAU/thesis/CodeDiffEditScripts/CPatMinerActions\"\n",
    "\n",
    "patterns_dir = os.fsencode(patterns_path)\n",
    "sorted_size_dirs = [int(os.fsdecode(el)) for el in os.listdir(patterns_dir) if os.fsdecode(el).isnumeric()]\n",
    "sorted_size_dirs.sort()\n",
    "\n",
    "set_of_patterns_with_different_methods = set()\n",
    "changes_with_different_methods = []\n",
    "lens = []\n",
    "\n",
    "total_num_of_possible_changes = 0\n",
    "\n",
    "for size_dir in sorted_size_dirs:\n",
    "    size_dir_str = str(size_dir)\n",
    "    sorted_id_dirs = [int(os.fsdecode(el)) for el in os.listdir(patterns_path + os.sep + size_dir_str) if os.fsdecode(el).isnumeric()]\n",
    "    sorted_id_dirs.sort()\n",
    "    \n",
    "    if 3 <= size_dir and size_dir <= 5:\n",
    "        continue\n",
    "            \n",
    "    for id_dir in sorted_id_dirs:\n",
    "        path = patterns_path + os.sep + size_dir_str + os.sep + str(id_dir) + os.sep + \"details.html\"\n",
    "        \n",
    "        if not os.path.exists(path):\n",
    "            continue\n",
    "\n",
    "        with open(path, 'r', encoding=\"latin-1\") as file:\n",
    "            content = file.read()\n",
    "        \n",
    "        print(size_dir_str, str(id_dir))\n",
    "                \n",
    "        set_of_methods = set()\n",
    "        \n",
    "        last_ind = 0\n",
    "        num_change = 1\n",
    "                \n",
    "        while True:            \n",
    "            start = 0\n",
    "            end = 0\n",
    "            \n",
    "            try:\n",
    "                start = content.index(\"<div id='method'>\", last_ind) + len(\"<div id='method'>\") \n",
    "                end = content.index(\"</div><BR>\", start)\n",
    "            except:\n",
    "                break\n",
    "                \n",
    "            last_ind = end\n",
    "            total_num_of_possible_changes += 1\n",
    "    \n",
    "            \n",
    "            name = content[start:end]\n",
    "            parts = name.split(',')\n",
    "            project_name = parts[0]\n",
    "            file_name = parts[2]\n",
    "            nickname = project_name.split('/')[0]\n",
    "            \n",
    "            es_path = actions_path + \"/\" + str(size_dir) + \"/\" + str(id_dir) + \"/sampleChange\" + str(num_change)\n",
    "            if not os.path.exists(es_path):\n",
    "                continue\n",
    "            es_file = open(es_path)\n",
    "            es = es_file.read()\n",
    "            if es == \"\":\n",
    "                continue\n",
    "            es_file.close()\n",
    "            \n",
    "            num_change += 1\n",
    "                        \n",
    "            change_tuple = (size_dir, id_dir, num_change)\n",
    "            \n",
    "            if name not in set_of_methods:\n",
    "                #print(\"Added\", change_tuple)\n",
    "                set_of_methods.add(name)\n",
    "                changes_with_different_methods.append((size_dir, id_dir, num_change))\n",
    "        \n",
    "        print(len(set_of_methods))\n",
    "        if len(set_of_methods) > 1:\n",
    "            final_ok_num += 1\n",
    "            lens.append(len(set_of_methods))\n",
    "            set_of_patterns_with_different_methods.add((size_dir, id_dir))\n",
    "            print(\"OK\")\n",
    "        elif len(set_of_methods) == 1:\n",
    "            changes_with_different_methods.pop()\n",
    "            \n",
    "\n",
    "print(\"TOTAL NUMBER OF CONSIDERED CHANGES:\", total_num_of_possible_changes)\n",
    "\n",
    "print(\"CHOSEN:\", len(changes_with_different_methods))\n",
    "\n",
    "# and \"src/test/java\" not in file_name"
   ]
  },
  {
   "cell_type": "code",
   "execution_count": 160,
   "metadata": {},
   "outputs": [
    {
     "data": {
      "text/plain": [
       "defaultdict(int,\n",
       "            {4: 505,\n",
       "             3: 1374,\n",
       "             5: 144,\n",
       "             2: 611,\n",
       "             6: 121,\n",
       "             8: 54,\n",
       "             32: 1,\n",
       "             14: 7,\n",
       "             16: 5,\n",
       "             15: 3,\n",
       "             7: 62,\n",
       "             21: 4,\n",
       "             30: 2,\n",
       "             10: 20,\n",
       "             24: 4,\n",
       "             13: 8,\n",
       "             9: 27,\n",
       "             26: 5,\n",
       "             25: 1,\n",
       "             11: 20,\n",
       "             18: 3,\n",
       "             34: 1,\n",
       "             53: 1,\n",
       "             20: 1,\n",
       "             39: 1,\n",
       "             48: 1,\n",
       "             69: 1,\n",
       "             17: 2,\n",
       "             12: 5,\n",
       "             19: 1,\n",
       "             87: 1,\n",
       "             22: 3,\n",
       "             38: 1,\n",
       "             23: 1})"
      ]
     },
     "execution_count": 160,
     "metadata": {},
     "output_type": "execute_result"
    }
   ],
   "source": [
    "distr = collections.defaultdict(int)\n",
    "\n",
    "for elem in lens:\n",
    "    distr[elem] += 1\n",
    "    \n",
    "distr"
   ]
  },
  {
   "cell_type": "code",
   "execution_count": 156,
   "metadata": {},
   "outputs": [
    {
     "data": {
      "text/plain": [
       "11737"
      ]
     },
     "execution_count": 156,
     "metadata": {},
     "output_type": "execute_result"
    }
   ],
   "source": [
    "np.array(lens).sum()"
   ]
  },
  {
   "cell_type": "code",
   "execution_count": 161,
   "metadata": {},
   "outputs": [
    {
     "data": {
      "text/plain": [
       "3001"
      ]
     },
     "execution_count": 161,
     "metadata": {},
     "output_type": "execute_result"
    }
   ],
   "source": [
    "len(lens)"
   ]
  },
  {
   "cell_type": "code",
   "execution_count": 157,
   "metadata": {},
   "outputs": [
    {
     "data": {
      "text/plain": [
       "[2,\n",
       " 2,\n",
       " 2,\n",
       " 2,\n",
       " 2,\n",
       " 2,\n",
       " 2,\n",
       " 2,\n",
       " 2,\n",
       " 2,\n",
       " 2,\n",
       " 2,\n",
       " 2,\n",
       " 2,\n",
       " 2,\n",
       " 2,\n",
       " 2,\n",
       " 2,\n",
       " 2,\n",
       " 2,\n",
       " 2,\n",
       " 2,\n",
       " 2,\n",
       " 2,\n",
       " 2,\n",
       " 2,\n",
       " 2,\n",
       " 2,\n",
       " 2,\n",
       " 2,\n",
       " 2,\n",
       " 2,\n",
       " 2,\n",
       " 2,\n",
       " 2,\n",
       " 2,\n",
       " 2,\n",
       " 2,\n",
       " 2,\n",
       " 2,\n",
       " 2,\n",
       " 2,\n",
       " 2,\n",
       " 2,\n",
       " 2,\n",
       " 2,\n",
       " 2,\n",
       " 2,\n",
       " 2,\n",
       " 2,\n",
       " 2,\n",
       " 2,\n",
       " 2,\n",
       " 2,\n",
       " 2,\n",
       " 2,\n",
       " 2,\n",
       " 2,\n",
       " 2,\n",
       " 2,\n",
       " 2,\n",
       " 2,\n",
       " 2,\n",
       " 2,\n",
       " 2,\n",
       " 2,\n",
       " 2,\n",
       " 2,\n",
       " 2,\n",
       " 2,\n",
       " 2,\n",
       " 2,\n",
       " 2,\n",
       " 2,\n",
       " 2,\n",
       " 2,\n",
       " 2,\n",
       " 2,\n",
       " 2,\n",
       " 2,\n",
       " 2,\n",
       " 2,\n",
       " 2,\n",
       " 2,\n",
       " 2,\n",
       " 2,\n",
       " 2,\n",
       " 2,\n",
       " 2,\n",
       " 2,\n",
       " 2,\n",
       " 2,\n",
       " 2,\n",
       " 2,\n",
       " 2,\n",
       " 2,\n",
       " 2,\n",
       " 2,\n",
       " 2,\n",
       " 2,\n",
       " 2,\n",
       " 2,\n",
       " 2,\n",
       " 2,\n",
       " 2,\n",
       " 2,\n",
       " 2,\n",
       " 2,\n",
       " 2,\n",
       " 2,\n",
       " 2,\n",
       " 2,\n",
       " 2,\n",
       " 2,\n",
       " 2,\n",
       " 2,\n",
       " 2,\n",
       " 2,\n",
       " 2,\n",
       " 2,\n",
       " 2,\n",
       " 2,\n",
       " 2,\n",
       " 2,\n",
       " 2,\n",
       " 2,\n",
       " 2,\n",
       " 2,\n",
       " 2,\n",
       " 2,\n",
       " 2,\n",
       " 2,\n",
       " 2,\n",
       " 2,\n",
       " 2,\n",
       " 2,\n",
       " 2,\n",
       " 2,\n",
       " 2,\n",
       " 2,\n",
       " 2,\n",
       " 2,\n",
       " 2,\n",
       " 2,\n",
       " 2,\n",
       " 2,\n",
       " 2,\n",
       " 2,\n",
       " 2,\n",
       " 2,\n",
       " 2,\n",
       " 2,\n",
       " 2,\n",
       " 2,\n",
       " 2,\n",
       " 2,\n",
       " 2,\n",
       " 2,\n",
       " 2,\n",
       " 2,\n",
       " 2,\n",
       " 2,\n",
       " 2,\n",
       " 2,\n",
       " 2,\n",
       " 2,\n",
       " 2,\n",
       " 2,\n",
       " 2,\n",
       " 2,\n",
       " 2,\n",
       " 2,\n",
       " 2,\n",
       " 2,\n",
       " 2,\n",
       " 2,\n",
       " 2,\n",
       " 2,\n",
       " 2,\n",
       " 2,\n",
       " 2,\n",
       " 2,\n",
       " 2,\n",
       " 2,\n",
       " 2,\n",
       " 2,\n",
       " 2,\n",
       " 2,\n",
       " 2,\n",
       " 2,\n",
       " 2,\n",
       " 2,\n",
       " 2,\n",
       " 2,\n",
       " 2,\n",
       " 2,\n",
       " 2,\n",
       " 2,\n",
       " 2,\n",
       " 2,\n",
       " 2,\n",
       " 2,\n",
       " 2,\n",
       " 2,\n",
       " 2,\n",
       " 2,\n",
       " 2,\n",
       " 2,\n",
       " 2,\n",
       " 2,\n",
       " 2,\n",
       " 2,\n",
       " 2,\n",
       " 2,\n",
       " 2,\n",
       " 2,\n",
       " 2,\n",
       " 2,\n",
       " 2,\n",
       " 2,\n",
       " 2,\n",
       " 2,\n",
       " 2,\n",
       " 2,\n",
       " 2,\n",
       " 2,\n",
       " 2,\n",
       " 2,\n",
       " 2,\n",
       " 2,\n",
       " 2,\n",
       " 2,\n",
       " 2,\n",
       " 2,\n",
       " 2,\n",
       " 2,\n",
       " 2,\n",
       " 2,\n",
       " 2,\n",
       " 2,\n",
       " 2,\n",
       " 2,\n",
       " 2,\n",
       " 2,\n",
       " 2,\n",
       " 2,\n",
       " 2,\n",
       " 2,\n",
       " 2,\n",
       " 2,\n",
       " 2,\n",
       " 2,\n",
       " 2,\n",
       " 2,\n",
       " 2,\n",
       " 2,\n",
       " 2,\n",
       " 2,\n",
       " 2,\n",
       " 2,\n",
       " 2,\n",
       " 2,\n",
       " 2,\n",
       " 2,\n",
       " 2,\n",
       " 2,\n",
       " 2,\n",
       " 2,\n",
       " 2,\n",
       " 2,\n",
       " 2,\n",
       " 2,\n",
       " 2,\n",
       " 2,\n",
       " 2,\n",
       " 2,\n",
       " 2,\n",
       " 2,\n",
       " 2,\n",
       " 2,\n",
       " 2,\n",
       " 2,\n",
       " 2,\n",
       " 2,\n",
       " 2,\n",
       " 2,\n",
       " 2,\n",
       " 2,\n",
       " 2,\n",
       " 2,\n",
       " 2,\n",
       " 2,\n",
       " 2,\n",
       " 2,\n",
       " 2,\n",
       " 2,\n",
       " 2,\n",
       " 2,\n",
       " 2,\n",
       " 2,\n",
       " 2,\n",
       " 2,\n",
       " 2,\n",
       " 2,\n",
       " 2,\n",
       " 2,\n",
       " 2,\n",
       " 2,\n",
       " 2,\n",
       " 2,\n",
       " 2,\n",
       " 2,\n",
       " 2,\n",
       " 2,\n",
       " 2,\n",
       " 2,\n",
       " 2,\n",
       " 2,\n",
       " 2,\n",
       " 2,\n",
       " 2,\n",
       " 2,\n",
       " 2,\n",
       " 2,\n",
       " 2,\n",
       " 2,\n",
       " 2,\n",
       " 2,\n",
       " 2,\n",
       " 2,\n",
       " 2,\n",
       " 2,\n",
       " 2,\n",
       " 2,\n",
       " 2,\n",
       " 2,\n",
       " 2,\n",
       " 2,\n",
       " 2,\n",
       " 2,\n",
       " 2,\n",
       " 2,\n",
       " 2,\n",
       " 2,\n",
       " 2,\n",
       " 2,\n",
       " 2,\n",
       " 2,\n",
       " 2,\n",
       " 2,\n",
       " 2,\n",
       " 2,\n",
       " 2,\n",
       " 2,\n",
       " 2,\n",
       " 2,\n",
       " 2,\n",
       " 2,\n",
       " 2,\n",
       " 2,\n",
       " 2,\n",
       " 2,\n",
       " 2,\n",
       " 2,\n",
       " 2,\n",
       " 2,\n",
       " 2,\n",
       " 2,\n",
       " 2,\n",
       " 2,\n",
       " 2,\n",
       " 2,\n",
       " 2,\n",
       " 2,\n",
       " 2,\n",
       " 2,\n",
       " 2,\n",
       " 2,\n",
       " 2,\n",
       " 2,\n",
       " 2,\n",
       " 2,\n",
       " 2,\n",
       " 2,\n",
       " 2,\n",
       " 2,\n",
       " 2,\n",
       " 2,\n",
       " 2,\n",
       " 2,\n",
       " 2,\n",
       " 2,\n",
       " 2,\n",
       " 2,\n",
       " 2,\n",
       " 2,\n",
       " 2,\n",
       " 2,\n",
       " 2,\n",
       " 2,\n",
       " 2,\n",
       " 2,\n",
       " 2,\n",
       " 2,\n",
       " 2,\n",
       " 2,\n",
       " 2,\n",
       " 2,\n",
       " 2,\n",
       " 2,\n",
       " 2,\n",
       " 2,\n",
       " 2,\n",
       " 2,\n",
       " 2,\n",
       " 2,\n",
       " 2,\n",
       " 2,\n",
       " 2,\n",
       " 2,\n",
       " 2,\n",
       " 2,\n",
       " 2,\n",
       " 2,\n",
       " 2,\n",
       " 2,\n",
       " 2,\n",
       " 2,\n",
       " 2,\n",
       " 2,\n",
       " 2,\n",
       " 2,\n",
       " 2,\n",
       " 2,\n",
       " 2,\n",
       " 2,\n",
       " 2,\n",
       " 2,\n",
       " 2,\n",
       " 2,\n",
       " 2,\n",
       " 2,\n",
       " 2,\n",
       " 2,\n",
       " 2,\n",
       " 2,\n",
       " 2,\n",
       " 2,\n",
       " 2,\n",
       " 2,\n",
       " 2,\n",
       " 2,\n",
       " 2,\n",
       " 2,\n",
       " 2,\n",
       " 2,\n",
       " 2,\n",
       " 2,\n",
       " 2,\n",
       " 2,\n",
       " 2,\n",
       " 2,\n",
       " 2,\n",
       " 2,\n",
       " 2,\n",
       " 2,\n",
       " 2,\n",
       " 2,\n",
       " 2,\n",
       " 2,\n",
       " 2,\n",
       " 2,\n",
       " 2,\n",
       " 2,\n",
       " 2,\n",
       " 2,\n",
       " 2,\n",
       " 2,\n",
       " 2,\n",
       " 2,\n",
       " 2,\n",
       " 2,\n",
       " 2,\n",
       " 2,\n",
       " 2,\n",
       " 2,\n",
       " 2,\n",
       " 2,\n",
       " 2,\n",
       " 2,\n",
       " 2,\n",
       " 2,\n",
       " 2,\n",
       " 2,\n",
       " 2,\n",
       " 2,\n",
       " 2,\n",
       " 2,\n",
       " 2,\n",
       " 2,\n",
       " 2,\n",
       " 2,\n",
       " 2,\n",
       " 2,\n",
       " 2,\n",
       " 2,\n",
       " 2,\n",
       " 2,\n",
       " 2,\n",
       " 2,\n",
       " 2,\n",
       " 2,\n",
       " 2,\n",
       " 2,\n",
       " 2,\n",
       " 2,\n",
       " 2,\n",
       " 2,\n",
       " 2,\n",
       " 2,\n",
       " 2,\n",
       " 2,\n",
       " 2,\n",
       " 2,\n",
       " 2,\n",
       " 2,\n",
       " 2,\n",
       " 2,\n",
       " 2,\n",
       " 2,\n",
       " 2,\n",
       " 2,\n",
       " 2,\n",
       " 2,\n",
       " 2,\n",
       " 2,\n",
       " 2,\n",
       " 2,\n",
       " 2,\n",
       " 2,\n",
       " 2,\n",
       " 2,\n",
       " 2,\n",
       " 2,\n",
       " 2,\n",
       " 2,\n",
       " 2,\n",
       " 2,\n",
       " 2,\n",
       " 2,\n",
       " 2,\n",
       " 2,\n",
       " 2,\n",
       " 2,\n",
       " 2,\n",
       " 2,\n",
       " 2,\n",
       " 2,\n",
       " 2,\n",
       " 2,\n",
       " 2,\n",
       " 2,\n",
       " 2,\n",
       " 2,\n",
       " 2,\n",
       " 2,\n",
       " 2,\n",
       " 2,\n",
       " 2,\n",
       " 2,\n",
       " 2,\n",
       " 2,\n",
       " 2,\n",
       " 2,\n",
       " 2,\n",
       " 2,\n",
       " 2,\n",
       " 2,\n",
       " 2,\n",
       " 2,\n",
       " 2,\n",
       " 2,\n",
       " 2,\n",
       " 2,\n",
       " 2,\n",
       " 2,\n",
       " 2,\n",
       " 2,\n",
       " 2,\n",
       " 2,\n",
       " 2,\n",
       " 2,\n",
       " 2,\n",
       " 2,\n",
       " 2,\n",
       " 2,\n",
       " 2,\n",
       " 2,\n",
       " 2,\n",
       " 2,\n",
       " 2,\n",
       " 2,\n",
       " 2,\n",
       " 2,\n",
       " 2,\n",
       " 2,\n",
       " 2,\n",
       " 2,\n",
       " 2,\n",
       " 2,\n",
       " 3,\n",
       " 3,\n",
       " 3,\n",
       " 3,\n",
       " 3,\n",
       " 3,\n",
       " 3,\n",
       " 3,\n",
       " 3,\n",
       " 3,\n",
       " 3,\n",
       " 3,\n",
       " 3,\n",
       " 3,\n",
       " 3,\n",
       " 3,\n",
       " 3,\n",
       " 3,\n",
       " 3,\n",
       " 3,\n",
       " 3,\n",
       " 3,\n",
       " 3,\n",
       " 3,\n",
       " 3,\n",
       " 3,\n",
       " 3,\n",
       " 3,\n",
       " 3,\n",
       " 3,\n",
       " 3,\n",
       " 3,\n",
       " 3,\n",
       " 3,\n",
       " 3,\n",
       " 3,\n",
       " 3,\n",
       " 3,\n",
       " 3,\n",
       " 3,\n",
       " 3,\n",
       " 3,\n",
       " 3,\n",
       " 3,\n",
       " 3,\n",
       " 3,\n",
       " 3,\n",
       " 3,\n",
       " 3,\n",
       " 3,\n",
       " 3,\n",
       " 3,\n",
       " 3,\n",
       " 3,\n",
       " 3,\n",
       " 3,\n",
       " 3,\n",
       " 3,\n",
       " 3,\n",
       " 3,\n",
       " 3,\n",
       " 3,\n",
       " 3,\n",
       " 3,\n",
       " 3,\n",
       " 3,\n",
       " 3,\n",
       " 3,\n",
       " 3,\n",
       " 3,\n",
       " 3,\n",
       " 3,\n",
       " 3,\n",
       " 3,\n",
       " 3,\n",
       " 3,\n",
       " 3,\n",
       " 3,\n",
       " 3,\n",
       " 3,\n",
       " 3,\n",
       " 3,\n",
       " 3,\n",
       " 3,\n",
       " 3,\n",
       " 3,\n",
       " 3,\n",
       " 3,\n",
       " 3,\n",
       " 3,\n",
       " 3,\n",
       " 3,\n",
       " 3,\n",
       " 3,\n",
       " 3,\n",
       " 3,\n",
       " 3,\n",
       " 3,\n",
       " 3,\n",
       " 3,\n",
       " 3,\n",
       " 3,\n",
       " 3,\n",
       " 3,\n",
       " 3,\n",
       " 3,\n",
       " 3,\n",
       " 3,\n",
       " 3,\n",
       " 3,\n",
       " 3,\n",
       " 3,\n",
       " 3,\n",
       " 3,\n",
       " 3,\n",
       " 3,\n",
       " 3,\n",
       " 3,\n",
       " 3,\n",
       " 3,\n",
       " 3,\n",
       " 3,\n",
       " 3,\n",
       " 3,\n",
       " 3,\n",
       " 3,\n",
       " 3,\n",
       " 3,\n",
       " 3,\n",
       " 3,\n",
       " 3,\n",
       " 3,\n",
       " 3,\n",
       " 3,\n",
       " 3,\n",
       " 3,\n",
       " 3,\n",
       " 3,\n",
       " 3,\n",
       " 3,\n",
       " 3,\n",
       " 3,\n",
       " 3,\n",
       " 3,\n",
       " 3,\n",
       " 3,\n",
       " 3,\n",
       " 3,\n",
       " 3,\n",
       " 3,\n",
       " 3,\n",
       " 3,\n",
       " 3,\n",
       " 3,\n",
       " 3,\n",
       " 3,\n",
       " 3,\n",
       " 3,\n",
       " 3,\n",
       " 3,\n",
       " 3,\n",
       " 3,\n",
       " 3,\n",
       " 3,\n",
       " 3,\n",
       " 3,\n",
       " 3,\n",
       " 3,\n",
       " 3,\n",
       " 3,\n",
       " 3,\n",
       " 3,\n",
       " 3,\n",
       " 3,\n",
       " 3,\n",
       " 3,\n",
       " 3,\n",
       " 3,\n",
       " 3,\n",
       " 3,\n",
       " 3,\n",
       " 3,\n",
       " 3,\n",
       " 3,\n",
       " 3,\n",
       " 3,\n",
       " 3,\n",
       " 3,\n",
       " 3,\n",
       " 3,\n",
       " 3,\n",
       " 3,\n",
       " 3,\n",
       " 3,\n",
       " 3,\n",
       " 3,\n",
       " 3,\n",
       " 3,\n",
       " 3,\n",
       " 3,\n",
       " 3,\n",
       " 3,\n",
       " 3,\n",
       " 3,\n",
       " 3,\n",
       " 3,\n",
       " 3,\n",
       " 3,\n",
       " 3,\n",
       " 3,\n",
       " 3,\n",
       " 3,\n",
       " 3,\n",
       " 3,\n",
       " 3,\n",
       " 3,\n",
       " 3,\n",
       " 3,\n",
       " 3,\n",
       " 3,\n",
       " 3,\n",
       " 3,\n",
       " 3,\n",
       " 3,\n",
       " 3,\n",
       " 3,\n",
       " 3,\n",
       " 3,\n",
       " 3,\n",
       " 3,\n",
       " 3,\n",
       " 3,\n",
       " 3,\n",
       " 3,\n",
       " 3,\n",
       " 3,\n",
       " 3,\n",
       " 3,\n",
       " 3,\n",
       " 3,\n",
       " 3,\n",
       " 3,\n",
       " 3,\n",
       " 3,\n",
       " 3,\n",
       " 3,\n",
       " 3,\n",
       " 3,\n",
       " 3,\n",
       " 3,\n",
       " 3,\n",
       " 3,\n",
       " 3,\n",
       " 3,\n",
       " 3,\n",
       " 3,\n",
       " 3,\n",
       " 3,\n",
       " 3,\n",
       " 3,\n",
       " 3,\n",
       " 3,\n",
       " 3,\n",
       " 3,\n",
       " 3,\n",
       " 3,\n",
       " 3,\n",
       " 3,\n",
       " 3,\n",
       " 3,\n",
       " 3,\n",
       " 3,\n",
       " 3,\n",
       " 3,\n",
       " 3,\n",
       " 3,\n",
       " 3,\n",
       " 3,\n",
       " 3,\n",
       " 3,\n",
       " 3,\n",
       " 3,\n",
       " 3,\n",
       " 3,\n",
       " 3,\n",
       " 3,\n",
       " 3,\n",
       " 3,\n",
       " 3,\n",
       " 3,\n",
       " 3,\n",
       " 3,\n",
       " 3,\n",
       " 3,\n",
       " 3,\n",
       " 3,\n",
       " 3,\n",
       " 3,\n",
       " 3,\n",
       " 3,\n",
       " 3,\n",
       " 3,\n",
       " 3,\n",
       " 3,\n",
       " 3,\n",
       " 3,\n",
       " 3,\n",
       " 3,\n",
       " 3,\n",
       " 3,\n",
       " 3,\n",
       " 3,\n",
       " 3,\n",
       " 3,\n",
       " 3,\n",
       " 3,\n",
       " 3,\n",
       " 3,\n",
       " 3,\n",
       " 3,\n",
       " 3,\n",
       " 3,\n",
       " 3,\n",
       " 3,\n",
       " 3,\n",
       " 3,\n",
       " 3,\n",
       " 3,\n",
       " 3,\n",
       " 3,\n",
       " 3,\n",
       " 3,\n",
       " 3,\n",
       " 3,\n",
       " 3,\n",
       " 3,\n",
       " 3,\n",
       " 3,\n",
       " 3,\n",
       " 3,\n",
       " 3,\n",
       " 3,\n",
       " 3,\n",
       " 3,\n",
       " 3,\n",
       " 3,\n",
       " 3,\n",
       " 3,\n",
       " 3,\n",
       " 3,\n",
       " 3,\n",
       " 3,\n",
       " 3,\n",
       " 3,\n",
       " 3,\n",
       " 3,\n",
       " 3,\n",
       " 3,\n",
       " 3,\n",
       " 3,\n",
       " 3,\n",
       " 3,\n",
       " 3,\n",
       " 3,\n",
       " 3,\n",
       " 3,\n",
       " 3,\n",
       " 3,\n",
       " 3,\n",
       " 3,\n",
       " 3,\n",
       " 3,\n",
       " 3,\n",
       " 3,\n",
       " 3,\n",
       " 3,\n",
       " 3,\n",
       " 3,\n",
       " 3,\n",
       " 3,\n",
       " 3,\n",
       " 3,\n",
       " 3,\n",
       " 3,\n",
       " 3,\n",
       " 3,\n",
       " 3,\n",
       " 3,\n",
       " 3,\n",
       " 3,\n",
       " ...]"
      ]
     },
     "execution_count": 157,
     "metadata": {},
     "output_type": "execute_result"
    }
   ],
   "source": [
    "sorted(lens)[-3000:]"
   ]
  },
  {
   "cell_type": "code",
   "execution_count": 82,
   "metadata": {},
   "outputs": [],
   "source": [
    "RESULTS_CPATMINER = \"/Volumes/Seagate/Alina/result_for_cpatminer\"\n",
    "\n",
    "def get_hists(hists_path, gram_path, changes):\n",
    "    hists = []\n",
    "\n",
    "    for elem in tqdm_notebook(changes):\n",
    "        hist_path1 = hists_path + \"/\" + str(elem[0]) + \" \" + str(elem[1]) + \"/\" + gram_path + \"/sampleChange\" + str(elem[2]) + \"_hist.txt\"\n",
    "        \n",
    "        if os.path.exists(hist_path1):\n",
    "            hist_file1 = open(hist_path1, \"r\")\n",
    "            lines = hist_file1.read().split(\"\\n\")\n",
    "            hist_data1 = [(int(line.split(\" \")[0]), int(line.split(\" \")[1])) for line in lines if line != '']\n",
    "            hists.append(hist_data1)\n",
    "            hist_file1.close()\n",
    "        else:\n",
    "            hists.append([])\n",
    "            \n",
    "    return hists\n",
    "\n",
    "def get_hists_len(hists_path, gram_path):\n",
    "    hists_len = None\n",
    "    \n",
    "    es_path = hists_path + \"/\" + \"edit_scripts_\" + gram_path + \"s_mapped.txt\"\n",
    "    es_file = open(es_path, \"r\")\n",
    "    es_lines = es_file.read().split(\"\\n\")\n",
    "    hists_len = int(es_lines[-2].split(\" \")[0][:-1]) + 1\n",
    "    es_file.close()\n",
    "\n",
    "    print(hists_len)\n",
    "    \n",
    "    return hists_len"
   ]
  },
  {
   "cell_type": "code",
   "execution_count": 35,
   "metadata": {},
   "outputs": [
    {
     "data": {
      "application/vnd.jupyter.widget-view+json": {
       "model_id": "b5291f7407904fb5927f4c333f95167a",
       "version_major": 2,
       "version_minor": 0
      },
      "text/plain": [
       "HBox(children=(IntProgress(value=0, max=11737), HTML(value='')))"
      ]
     },
     "metadata": {},
     "output_type": "display_data"
    },
    {
     "name": "stdout",
     "output_type": "stream",
     "text": [
      "\n"
     ]
    },
    {
     "data": {
      "application/vnd.jupyter.widget-view+json": {
       "model_id": "07290f5a2292434a9f60450d17d66c52",
       "version_major": 2,
       "version_minor": 0
      },
      "text/plain": [
       "HBox(children=(IntProgress(value=0, max=11737), HTML(value='')))"
      ]
     },
     "metadata": {},
     "output_type": "display_data"
    },
    {
     "name": "stdout",
     "output_type": "stream",
     "text": [
      "\n"
     ]
    },
    {
     "data": {
      "application/vnd.jupyter.widget-view+json": {
       "model_id": "8244840397d343b98d873c240079e5f9",
       "version_major": 2,
       "version_minor": 0
      },
      "text/plain": [
       "HBox(children=(IntProgress(value=0, max=11737), HTML(value='')))"
      ]
     },
     "metadata": {},
     "output_type": "display_data"
    },
    {
     "name": "stdout",
     "output_type": "stream",
     "text": [
      "\n"
     ]
    },
    {
     "data": {
      "application/vnd.jupyter.widget-view+json": {
       "model_id": "41fdd1245e4c43b88343ba03c52b57d1",
       "version_major": 2,
       "version_minor": 0
      },
      "text/plain": [
       "HBox(children=(IntProgress(value=0, max=11737), HTML(value='')))"
      ]
     },
     "metadata": {},
     "output_type": "display_data"
    },
    {
     "name": "stdout",
     "output_type": "stream",
     "text": [
      "\n"
     ]
    },
    {
     "data": {
      "application/vnd.jupyter.widget-view+json": {
       "model_id": "ebc27f4fff4e405d899d4bafcf3c5af5",
       "version_major": 2,
       "version_minor": 0
      },
      "text/plain": [
       "HBox(children=(IntProgress(value=0, max=11737), HTML(value='')))"
      ]
     },
     "metadata": {},
     "output_type": "display_data"
    },
    {
     "name": "stdout",
     "output_type": "stream",
     "text": [
      "\n"
     ]
    }
   ],
   "source": [
    "hists_1gram = get_hists(RESULTS_CPATMINER, \"1gram\")\n",
    "hists_2gram = get_hists(RESULTS_CPATMINER, \"2gram\")\n",
    "hists_3gram = get_hists(RESULTS_CPATMINER, \"3gram\")\n",
    "hists_4gram = get_hists(RESULTS_CPATMINER, \"4gram\")\n",
    "hists_5gram = get_hists(RESULTS_CPATMINER, \"5gram\")"
   ]
  },
  {
   "cell_type": "code",
   "execution_count": 36,
   "metadata": {},
   "outputs": [
    {
     "name": "stdout",
     "output_type": "stream",
     "text": [
      "3254\n",
      "41535\n",
      "108151\n",
      "178826\n",
      "237211\n"
     ]
    }
   ],
   "source": [
    "hist_len_1gram = get_hists_len(RESULTS_CPATMINER, \"1gram\")\n",
    "hist_len_2gram = get_hists_len(RESULTS_CPATMINER, \"2gram\")\n",
    "hist_len_3gram = get_hists_len(RESULTS_CPATMINER, \"3gram\")\n",
    "hist_len_4gram = get_hists_len(RESULTS_CPATMINER, \"4gram\")\n",
    "hist_len_5gram = get_hists_len(RESULTS_CPATMINER, \"5gram\")"
   ]
  },
  {
   "cell_type": "code",
   "execution_count": 37,
   "metadata": {},
   "outputs": [
    {
     "data": {
      "application/vnd.jupyter.widget-view+json": {
       "model_id": "2e82d6892999443f9ca0dd9bd51e0e43",
       "version_major": 2,
       "version_minor": 0
      },
      "text/plain": [
       "HBox(children=(IntProgress(value=0, max=11737), HTML(value='')))"
      ]
     },
     "metadata": {},
     "output_type": "display_data"
    },
    {
     "name": "stdout",
     "output_type": "stream",
     "text": [
      "\n"
     ]
    }
   ],
   "source": [
    "concat_hists_to_5gram = []\n",
    "\n",
    "num_changes = len(hists_1gram)\n",
    "\n",
    "for i in tqdm_notebook(range(num_changes)):\n",
    "    concat_hist = []\n",
    "    \n",
    "    for gram_ind, amount in hists_1gram[i]:\n",
    "        concat_hist.append((gram_ind, amount))\n",
    "    \n",
    "    for gram_ind, amount in hists_2gram[i]:\n",
    "        concat_hist.append((gram_ind + hist_len_1gram, amount))\n",
    "        \n",
    "    for gram_ind, amount in hists_3gram[i]:\n",
    "        concat_hist.append((gram_ind + hist_len_1gram + hist_len_2gram, amount))\n",
    "        \n",
    "    for gram_ind, amount in hists_4gram[i]:\n",
    "        concat_hist.append((gram_ind + hist_len_1gram + hist_len_2gram + hist_len_3gram, amount))\n",
    "        \n",
    "    for gram_ind, amount in hists_5gram[i]:\n",
    "        concat_hist.append((gram_ind + hist_len_1gram + \n",
    "                            hist_len_2gram + hist_len_3gram + hist_len_4gram, \n",
    "                            amount))\n",
    "            \n",
    "    concat_hists_to_5gram.append(concat_hist)\n",
    "\n",
    "concat_hists_len_to_5gram = hist_len_1gram + hist_len_2gram + hist_len_3gram\n",
    "concat_hists_len_to_5gram += hist_len_4gram + hist_len_5gram\n"
   ]
  },
  {
   "cell_type": "code",
   "execution_count": 40,
   "metadata": {},
   "outputs": [],
   "source": [
    "concat_hists_to_5gram = np.array(concat_hists_to_5gram)"
   ]
  },
  {
   "cell_type": "code",
   "execution_count": 41,
   "metadata": {},
   "outputs": [
    {
     "data": {
      "application/vnd.jupyter.widget-view+json": {
       "model_id": "4c6fd74e08e7479b978051bec51fa65b",
       "version_major": 2,
       "version_minor": 0
      },
      "text/plain": [
       "HBox(children=(IntProgress(value=0, max=11737), HTML(value='')))"
      ]
     },
     "metadata": {},
     "output_type": "display_data"
    },
    {
     "name": "stdout",
     "output_type": "stream",
     "text": [
      "\n"
     ]
    }
   ],
   "source": [
    "dists_to_5gram = get_dists_optimized(concat_hists_to_5gram, \n",
    "                                         canberra_metric_optimized, concat_hists_len_to_5gram)"
   ]
  },
  {
   "cell_type": "code",
   "execution_count": null,
   "metadata": {},
   "outputs": [],
   "source": [
    "def print_clustering_results_tufano_unique(clustering, dists, unique_label_to_changes, \n",
    "                                    from_change_to_unique_label, ids_per_unique_label, \n",
    "                                    without_outliers,\n",
    "                                    to_print=True):"
   ]
  },
  {
   "cell_type": "code",
   "execution_count": 125,
   "metadata": {},
   "outputs": [
    {
     "name": "stdout",
     "output_type": "stream",
     "text": [
      "Classes: 3001\n"
     ]
    }
   ],
   "source": [
    "unique_label_to_changes = collections.defaultdict(list)\n",
    "from_change_to_unique_label = collections.defaultdict(list)\n",
    "\n",
    "for elem in changes_with_different_methods:\n",
    "    unique_label_to_changes[elem[1]].append(elem)\n",
    "    from_change_to_unique_label[elem].append(elem[1])\n",
    "    \n",
    "print(\"Classes:\", len(unique_label_to_changes))"
   ]
  },
  {
   "cell_type": "code",
   "execution_count": 45,
   "metadata": {},
   "outputs": [],
   "source": [
    "tufano_clustering = sklearn.cluster.DBSCAN(eps=0.7, min_samples=2, \n",
    "                                                   metric='precomputed').fit(dists_to_5gram)"
   ]
  },
  {
   "cell_type": "code",
   "execution_count": 61,
   "metadata": {},
   "outputs": [
    {
     "name": "stdout",
     "output_type": "stream",
     "text": [
      "Start evaluate...\n",
      "Save clusters...\n"
     ]
    },
    {
     "data": {
      "application/vnd.jupyter.widget-view+json": {
       "model_id": "2389d0471fb8412caa695e3f5f6850a5",
       "version_major": 2,
       "version_minor": 0
      },
      "text/plain": [
       "HBox(children=(IntProgress(value=0, max=11737), HTML(value='')))"
      ]
     },
     "metadata": {},
     "output_type": "display_data"
    },
    {
     "name": "stdout",
     "output_type": "stream",
     "text": [
      "\n",
      "Delete outliers...\n"
     ]
    },
    {
     "data": {
      "application/vnd.jupyter.widget-view+json": {
       "model_id": "093b4b0224fc4f38965fe9e9ec151cd6",
       "version_major": 2,
       "version_minor": 0
      },
      "text/plain": [
       "HBox(children=(IntProgress(value=0, max=1935), HTML(value='')))"
      ]
     },
     "metadata": {},
     "output_type": "display_data"
    },
    {
     "name": "stdout",
     "output_type": "stream",
     "text": [
      "\n",
      "Calculate rand...\n"
     ]
    },
    {
     "data": {
      "application/vnd.jupyter.widget-view+json": {
       "model_id": "0b48ea4051a24ca18fdceced8614a4e3",
       "version_major": 2,
       "version_minor": 0
      },
      "text/plain": [
       "HBox(children=(IntProgress(value=0, max=11737), HTML(value='')))"
      ]
     },
     "metadata": {},
     "output_type": "display_data"
    },
    {
     "name": "stdout",
     "output_type": "stream",
     "text": [
      "\n",
      "Calculate confusion...\n"
     ]
    },
    {
     "data": {
      "application/vnd.jupyter.widget-view+json": {
       "model_id": "94605fc90e5b4893923ede394c5a8113",
       "version_major": 2,
       "version_minor": 0
      },
      "text/plain": [
       "HBox(children=(IntProgress(value=0, max=1935), HTML(value='')))"
      ]
     },
     "metadata": {},
     "output_type": "display_data"
    },
    {
     "name": "stdout",
     "output_type": "stream",
     "text": [
      "\n",
      "Calculate entropy & purity...\n"
     ]
    },
    {
     "data": {
      "application/vnd.jupyter.widget-view+json": {
       "model_id": "a3e45935ec2140d4af24a24c258bc499",
       "version_major": 2,
       "version_minor": 0
      },
      "text/plain": [
       "HBox(children=(IntProgress(value=0, max=1935), HTML(value='')))"
      ]
     },
     "metadata": {},
     "output_type": "display_data"
    },
    {
     "name": "stdout",
     "output_type": "stream",
     "text": [
      "\n",
      "Calculate F-measure...\n"
     ]
    },
    {
     "data": {
      "application/vnd.jupyter.widget-view+json": {
       "model_id": "b8efb03d62924db1bec5819f2fc763b9",
       "version_major": 2,
       "version_minor": 0
      },
      "text/plain": [
       "HBox(children=(IntProgress(value=0, max=3001), HTML(value='')))"
      ]
     },
     "metadata": {},
     "output_type": "display_data"
    },
    {
     "name": "stdout",
     "output_type": "stream",
     "text": [
      "\n",
      "Number of clusters: 1935\n",
      "Number of outliers: 3503/11737 (29.846%)\n",
      "\n",
      "Entropy = 0.910256\n",
      "Purity = 0.795725\n",
      "F-measure = 0.614316\n",
      "\n",
      "Rand = 99.697%\n",
      "Jaccard Index = 19.903%\n"
     ]
    },
    {
     "data": {
      "text/plain": [
       "(99.697, 0.6143162409144306)"
      ]
     },
     "execution_count": 61,
     "metadata": {},
     "output_type": "execute_result"
    }
   ],
   "source": [
    "print_clustering_results_tufano_unique(tufano_clustering, unique_label_to_changes, \n",
    "                                    from_change_to_unique_label, changes_with_different_methods, \n",
    "                                    without_outliers=True, to_print=True, only_fm=True)"
   ]
  },
  {
   "cell_type": "code",
   "execution_count": 75,
   "metadata": {},
   "outputs": [
    {
     "data": {
      "application/vnd.jupyter.widget-view+json": {
       "model_id": "2a912f5c552740d4ad408673d17ecc4d",
       "version_major": 2,
       "version_minor": 0
      },
      "text/plain": [
       "HBox(children=(IntProgress(value=0, max=20), HTML(value='')))"
      ]
     },
     "metadata": {},
     "output_type": "display_data"
    },
    {
     "name": "stdout",
     "output_type": "stream",
     "text": [
      "Start evaluate...\n",
      "Save clusters...\n"
     ]
    },
    {
     "data": {
      "application/vnd.jupyter.widget-view+json": {
       "model_id": "1f20e802349a4dd9817b0db335d7f506",
       "version_major": 2,
       "version_minor": 0
      },
      "text/plain": [
       "HBox(children=(IntProgress(value=0, max=11737), HTML(value='')))"
      ]
     },
     "metadata": {},
     "output_type": "display_data"
    },
    {
     "name": "stdout",
     "output_type": "stream",
     "text": [
      "\n",
      "Delete outliers...\n"
     ]
    },
    {
     "data": {
      "application/vnd.jupyter.widget-view+json": {
       "model_id": "80d2ee72d91a4ec8ba73711ea3ce0e84",
       "version_major": 2,
       "version_minor": 0
      },
      "text/plain": [
       "HBox(children=(IntProgress(value=0, max=1861), HTML(value='')))"
      ]
     },
     "metadata": {},
     "output_type": "display_data"
    },
    {
     "name": "stdout",
     "output_type": "stream",
     "text": [
      "\n",
      "Calculate confusion...\n"
     ]
    },
    {
     "data": {
      "application/vnd.jupyter.widget-view+json": {
       "model_id": "bed7a60bc87d4c1eaf06066685b0a334",
       "version_major": 2,
       "version_minor": 0
      },
      "text/plain": [
       "HBox(children=(IntProgress(value=0, max=1861), HTML(value='')))"
      ]
     },
     "metadata": {},
     "output_type": "display_data"
    },
    {
     "name": "stdout",
     "output_type": "stream",
     "text": [
      "\n",
      "Calculate entropy & purity...\n"
     ]
    },
    {
     "data": {
      "application/vnd.jupyter.widget-view+json": {
       "model_id": "94203db1aab24358854582063b2e7793",
       "version_major": 2,
       "version_minor": 0
      },
      "text/plain": [
       "HBox(children=(IntProgress(value=0, max=1861), HTML(value='')))"
      ]
     },
     "metadata": {},
     "output_type": "display_data"
    },
    {
     "name": "stdout",
     "output_type": "stream",
     "text": [
      "\n",
      "Calculate F-measure...\n"
     ]
    },
    {
     "data": {
      "application/vnd.jupyter.widget-view+json": {
       "model_id": "4e27966494a345e382f0c9ae2e7ba8e7",
       "version_major": 2,
       "version_minor": 0
      },
      "text/plain": [
       "HBox(children=(IntProgress(value=0, max=3001), HTML(value='')))"
      ]
     },
     "metadata": {},
     "output_type": "display_data"
    },
    {
     "name": "stdout",
     "output_type": "stream",
     "text": [
      "\n",
      "Eps = 0.1\n",
      "F-measure = 0.5459820228318738\n",
      "Start evaluate...\n",
      "Save clusters...\n"
     ]
    },
    {
     "data": {
      "application/vnd.jupyter.widget-view+json": {
       "model_id": "3915acff472c48d190d45d5234b1d6d3",
       "version_major": 2,
       "version_minor": 0
      },
      "text/plain": [
       "HBox(children=(IntProgress(value=0, max=11737), HTML(value='')))"
      ]
     },
     "metadata": {},
     "output_type": "display_data"
    },
    {
     "name": "stdout",
     "output_type": "stream",
     "text": [
      "\n",
      "Delete outliers...\n"
     ]
    },
    {
     "data": {
      "application/vnd.jupyter.widget-view+json": {
       "model_id": "52b39974bb674c73b4ee8927866e04ce",
       "version_major": 2,
       "version_minor": 0
      },
      "text/plain": [
       "HBox(children=(IntProgress(value=0, max=1891), HTML(value='')))"
      ]
     },
     "metadata": {},
     "output_type": "display_data"
    },
    {
     "name": "stdout",
     "output_type": "stream",
     "text": [
      "\n",
      "Calculate confusion...\n"
     ]
    },
    {
     "data": {
      "application/vnd.jupyter.widget-view+json": {
       "model_id": "470c56cb1e6b4106a34d06c7ad4be211",
       "version_major": 2,
       "version_minor": 0
      },
      "text/plain": [
       "HBox(children=(IntProgress(value=0, max=1891), HTML(value='')))"
      ]
     },
     "metadata": {},
     "output_type": "display_data"
    },
    {
     "name": "stdout",
     "output_type": "stream",
     "text": [
      "\n",
      "Calculate entropy & purity...\n"
     ]
    },
    {
     "data": {
      "application/vnd.jupyter.widget-view+json": {
       "model_id": "48ebfeea676442acb19ed0b127774408",
       "version_major": 2,
       "version_minor": 0
      },
      "text/plain": [
       "HBox(children=(IntProgress(value=0, max=1891), HTML(value='')))"
      ]
     },
     "metadata": {},
     "output_type": "display_data"
    },
    {
     "name": "stdout",
     "output_type": "stream",
     "text": [
      "\n",
      "Calculate F-measure...\n"
     ]
    },
    {
     "data": {
      "application/vnd.jupyter.widget-view+json": {
       "model_id": "573217fe1ade41d5a32a9a2125e2b75b",
       "version_major": 2,
       "version_minor": 0
      },
      "text/plain": [
       "HBox(children=(IntProgress(value=0, max=3001), HTML(value='')))"
      ]
     },
     "metadata": {},
     "output_type": "display_data"
    },
    {
     "name": "stdout",
     "output_type": "stream",
     "text": [
      "\n",
      "Eps = 0.15000000000000002\n",
      "F-measure = 0.5592119821282668\n",
      "Start evaluate...\n",
      "Save clusters...\n"
     ]
    },
    {
     "data": {
      "application/vnd.jupyter.widget-view+json": {
       "model_id": "0bbff175ffe6468a95d88b2deea2f2d0",
       "version_major": 2,
       "version_minor": 0
      },
      "text/plain": [
       "HBox(children=(IntProgress(value=0, max=11737), HTML(value='')))"
      ]
     },
     "metadata": {},
     "output_type": "display_data"
    },
    {
     "name": "stdout",
     "output_type": "stream",
     "text": [
      "\n",
      "Delete outliers...\n"
     ]
    },
    {
     "data": {
      "application/vnd.jupyter.widget-view+json": {
       "model_id": "be89d7df921c4d909353bd7bd82d366a",
       "version_major": 2,
       "version_minor": 0
      },
      "text/plain": [
       "HBox(children=(IntProgress(value=0, max=1933), HTML(value='')))"
      ]
     },
     "metadata": {},
     "output_type": "display_data"
    },
    {
     "name": "stdout",
     "output_type": "stream",
     "text": [
      "\n",
      "Calculate confusion...\n"
     ]
    },
    {
     "data": {
      "application/vnd.jupyter.widget-view+json": {
       "model_id": "ec0e4ce591c84593bd031d3db4074189",
       "version_major": 2,
       "version_minor": 0
      },
      "text/plain": [
       "HBox(children=(IntProgress(value=0, max=1933), HTML(value='')))"
      ]
     },
     "metadata": {},
     "output_type": "display_data"
    },
    {
     "name": "stdout",
     "output_type": "stream",
     "text": [
      "\n",
      "Calculate entropy & purity...\n"
     ]
    },
    {
     "data": {
      "application/vnd.jupyter.widget-view+json": {
       "model_id": "c2a981cfbf894b0c88515738e1ee99aa",
       "version_major": 2,
       "version_minor": 0
      },
      "text/plain": [
       "HBox(children=(IntProgress(value=0, max=1933), HTML(value='')))"
      ]
     },
     "metadata": {},
     "output_type": "display_data"
    },
    {
     "name": "stdout",
     "output_type": "stream",
     "text": [
      "\n",
      "Calculate F-measure...\n"
     ]
    },
    {
     "data": {
      "application/vnd.jupyter.widget-view+json": {
       "model_id": "5d8a8bbb8dcd4554b9a8fdbe7e7bd5b2",
       "version_major": 2,
       "version_minor": 0
      },
      "text/plain": [
       "HBox(children=(IntProgress(value=0, max=3001), HTML(value='')))"
      ]
     },
     "metadata": {},
     "output_type": "display_data"
    },
    {
     "name": "stdout",
     "output_type": "stream",
     "text": [
      "\n",
      "Eps = 0.20000000000000004\n",
      "F-measure = 0.5753849690298074\n",
      "Start evaluate...\n",
      "Save clusters...\n"
     ]
    },
    {
     "data": {
      "application/vnd.jupyter.widget-view+json": {
       "model_id": "e4bf328f8f5547a198c99bf2ed6f28a4",
       "version_major": 2,
       "version_minor": 0
      },
      "text/plain": [
       "HBox(children=(IntProgress(value=0, max=11737), HTML(value='')))"
      ]
     },
     "metadata": {},
     "output_type": "display_data"
    },
    {
     "name": "stdout",
     "output_type": "stream",
     "text": [
      "\n",
      "Delete outliers...\n"
     ]
    },
    {
     "data": {
      "application/vnd.jupyter.widget-view+json": {
       "model_id": "4c4320b568bb48289283360a995e79fa",
       "version_major": 2,
       "version_minor": 0
      },
      "text/plain": [
       "HBox(children=(IntProgress(value=0, max=1954), HTML(value='')))"
      ]
     },
     "metadata": {},
     "output_type": "display_data"
    },
    {
     "name": "stdout",
     "output_type": "stream",
     "text": [
      "\n",
      "Calculate confusion...\n"
     ]
    },
    {
     "data": {
      "application/vnd.jupyter.widget-view+json": {
       "model_id": "a9fb3d2d3b01405cb18eb03c7fc4ac1c",
       "version_major": 2,
       "version_minor": 0
      },
      "text/plain": [
       "HBox(children=(IntProgress(value=0, max=1954), HTML(value='')))"
      ]
     },
     "metadata": {},
     "output_type": "display_data"
    },
    {
     "name": "stdout",
     "output_type": "stream",
     "text": [
      "\n",
      "Calculate entropy & purity...\n"
     ]
    },
    {
     "data": {
      "application/vnd.jupyter.widget-view+json": {
       "model_id": "969cd486d38343f3b7cfa4eef17fdd8b",
       "version_major": 2,
       "version_minor": 0
      },
      "text/plain": [
       "HBox(children=(IntProgress(value=0, max=1954), HTML(value='')))"
      ]
     },
     "metadata": {},
     "output_type": "display_data"
    },
    {
     "name": "stdout",
     "output_type": "stream",
     "text": [
      "\n",
      "Calculate F-measure...\n"
     ]
    },
    {
     "data": {
      "application/vnd.jupyter.widget-view+json": {
       "model_id": "012c69b739da44ac815b5f9f0ad58d7a",
       "version_major": 2,
       "version_minor": 0
      },
      "text/plain": [
       "HBox(children=(IntProgress(value=0, max=3001), HTML(value='')))"
      ]
     },
     "metadata": {},
     "output_type": "display_data"
    },
    {
     "name": "stdout",
     "output_type": "stream",
     "text": [
      "\n",
      "Eps = 0.25000000000000006\n",
      "F-measure = 0.5881104254179511\n",
      "Start evaluate...\n",
      "Save clusters...\n"
     ]
    },
    {
     "data": {
      "application/vnd.jupyter.widget-view+json": {
       "model_id": "0b6c987161c346ce80063edab8d1e05e",
       "version_major": 2,
       "version_minor": 0
      },
      "text/plain": [
       "HBox(children=(IntProgress(value=0, max=11737), HTML(value='')))"
      ]
     },
     "metadata": {},
     "output_type": "display_data"
    },
    {
     "name": "stdout",
     "output_type": "stream",
     "text": [
      "\n",
      "Delete outliers...\n"
     ]
    },
    {
     "data": {
      "application/vnd.jupyter.widget-view+json": {
       "model_id": "73a9b878d5444bc69b5779502e2ee091",
       "version_major": 2,
       "version_minor": 0
      },
      "text/plain": [
       "HBox(children=(IntProgress(value=0, max=1981), HTML(value='')))"
      ]
     },
     "metadata": {},
     "output_type": "display_data"
    },
    {
     "name": "stdout",
     "output_type": "stream",
     "text": [
      "\n",
      "Calculate confusion...\n"
     ]
    },
    {
     "data": {
      "application/vnd.jupyter.widget-view+json": {
       "model_id": "f284dc4295b1425b9db8ae01385b605e",
       "version_major": 2,
       "version_minor": 0
      },
      "text/plain": [
       "HBox(children=(IntProgress(value=0, max=1981), HTML(value='')))"
      ]
     },
     "metadata": {},
     "output_type": "display_data"
    },
    {
     "name": "stdout",
     "output_type": "stream",
     "text": [
      "\n",
      "Calculate entropy & purity...\n"
     ]
    },
    {
     "data": {
      "application/vnd.jupyter.widget-view+json": {
       "model_id": "7643ad9d6ad745169320aaa432ab7859",
       "version_major": 2,
       "version_minor": 0
      },
      "text/plain": [
       "HBox(children=(IntProgress(value=0, max=1981), HTML(value='')))"
      ]
     },
     "metadata": {},
     "output_type": "display_data"
    },
    {
     "name": "stdout",
     "output_type": "stream",
     "text": [
      "\n",
      "Calculate F-measure...\n"
     ]
    },
    {
     "data": {
      "application/vnd.jupyter.widget-view+json": {
       "model_id": "4c816e4568724b06bf8b07952999bf26",
       "version_major": 2,
       "version_minor": 0
      },
      "text/plain": [
       "HBox(children=(IntProgress(value=0, max=3001), HTML(value='')))"
      ]
     },
     "metadata": {},
     "output_type": "display_data"
    },
    {
     "name": "stdout",
     "output_type": "stream",
     "text": [
      "\n",
      "Eps = 0.30000000000000004\n",
      "F-measure = 0.5979133000928881\n",
      "Start evaluate...\n",
      "Save clusters...\n"
     ]
    },
    {
     "data": {
      "application/vnd.jupyter.widget-view+json": {
       "model_id": "d41fc2e73e3349d59aa7caddcdb95428",
       "version_major": 2,
       "version_minor": 0
      },
      "text/plain": [
       "HBox(children=(IntProgress(value=0, max=11737), HTML(value='')))"
      ]
     },
     "metadata": {},
     "output_type": "display_data"
    },
    {
     "name": "stdout",
     "output_type": "stream",
     "text": [
      "\n",
      "Delete outliers...\n"
     ]
    },
    {
     "data": {
      "application/vnd.jupyter.widget-view+json": {
       "model_id": "8d4b0967e45443dba2860a01414e276a",
       "version_major": 2,
       "version_minor": 0
      },
      "text/plain": [
       "HBox(children=(IntProgress(value=0, max=1995), HTML(value='')))"
      ]
     },
     "metadata": {},
     "output_type": "display_data"
    },
    {
     "name": "stdout",
     "output_type": "stream",
     "text": [
      "\n",
      "Calculate confusion...\n"
     ]
    },
    {
     "data": {
      "application/vnd.jupyter.widget-view+json": {
       "model_id": "4cc7efeeb5534350a1f6adcb93eabb10",
       "version_major": 2,
       "version_minor": 0
      },
      "text/plain": [
       "HBox(children=(IntProgress(value=0, max=1995), HTML(value='')))"
      ]
     },
     "metadata": {},
     "output_type": "display_data"
    },
    {
     "name": "stdout",
     "output_type": "stream",
     "text": [
      "\n",
      "Calculate entropy & purity...\n"
     ]
    },
    {
     "data": {
      "application/vnd.jupyter.widget-view+json": {
       "model_id": "1776dc7e2ce44eb89a251defdbb9f4f5",
       "version_major": 2,
       "version_minor": 0
      },
      "text/plain": [
       "HBox(children=(IntProgress(value=0, max=1995), HTML(value='')))"
      ]
     },
     "metadata": {},
     "output_type": "display_data"
    },
    {
     "name": "stdout",
     "output_type": "stream",
     "text": [
      "\n",
      "Calculate F-measure...\n"
     ]
    },
    {
     "data": {
      "application/vnd.jupyter.widget-view+json": {
       "model_id": "b651a1ae2ee34e058c7eb9aaf4af412c",
       "version_major": 2,
       "version_minor": 0
      },
      "text/plain": [
       "HBox(children=(IntProgress(value=0, max=3001), HTML(value='')))"
      ]
     },
     "metadata": {},
     "output_type": "display_data"
    },
    {
     "name": "stdout",
     "output_type": "stream",
     "text": [
      "\n",
      "Eps = 0.3500000000000001\n",
      "F-measure = 0.6070316466883383\n",
      "Start evaluate...\n",
      "Save clusters...\n"
     ]
    },
    {
     "data": {
      "application/vnd.jupyter.widget-view+json": {
       "model_id": "281e3fc22a4745baa58497429c8f3f46",
       "version_major": 2,
       "version_minor": 0
      },
      "text/plain": [
       "HBox(children=(IntProgress(value=0, max=11737), HTML(value='')))"
      ]
     },
     "metadata": {},
     "output_type": "display_data"
    },
    {
     "name": "stdout",
     "output_type": "stream",
     "text": [
      "\n",
      "Delete outliers...\n"
     ]
    },
    {
     "data": {
      "application/vnd.jupyter.widget-view+json": {
       "model_id": "317cc4c6c1474283a4e3d6ac66390e40",
       "version_major": 2,
       "version_minor": 0
      },
      "text/plain": [
       "HBox(children=(IntProgress(value=0, max=2022), HTML(value='')))"
      ]
     },
     "metadata": {},
     "output_type": "display_data"
    },
    {
     "name": "stdout",
     "output_type": "stream",
     "text": [
      "\n",
      "Calculate confusion...\n"
     ]
    },
    {
     "data": {
      "application/vnd.jupyter.widget-view+json": {
       "model_id": "13ee6d040dda472fa47ad3a6b22021b5",
       "version_major": 2,
       "version_minor": 0
      },
      "text/plain": [
       "HBox(children=(IntProgress(value=0, max=2022), HTML(value='')))"
      ]
     },
     "metadata": {},
     "output_type": "display_data"
    },
    {
     "name": "stdout",
     "output_type": "stream",
     "text": [
      "\n",
      "Calculate entropy & purity...\n"
     ]
    },
    {
     "data": {
      "application/vnd.jupyter.widget-view+json": {
       "model_id": "7b80076db46144d0b8f9dc98d5e68d6d",
       "version_major": 2,
       "version_minor": 0
      },
      "text/plain": [
       "HBox(children=(IntProgress(value=0, max=2022), HTML(value='')))"
      ]
     },
     "metadata": {},
     "output_type": "display_data"
    },
    {
     "name": "stdout",
     "output_type": "stream",
     "text": [
      "\n",
      "Calculate F-measure...\n"
     ]
    },
    {
     "data": {
      "application/vnd.jupyter.widget-view+json": {
       "model_id": "426b1236d0a74d5882853fc4a3231b0a",
       "version_major": 2,
       "version_minor": 0
      },
      "text/plain": [
       "HBox(children=(IntProgress(value=0, max=3001), HTML(value='')))"
      ]
     },
     "metadata": {},
     "output_type": "display_data"
    },
    {
     "name": "stdout",
     "output_type": "stream",
     "text": [
      "\n",
      "Eps = 0.40000000000000013\n",
      "F-measure = 0.6183527119069784\n",
      "Start evaluate...\n",
      "Save clusters...\n"
     ]
    },
    {
     "data": {
      "application/vnd.jupyter.widget-view+json": {
       "model_id": "39459d8efa5a4b838c15c527f2212474",
       "version_major": 2,
       "version_minor": 0
      },
      "text/plain": [
       "HBox(children=(IntProgress(value=0, max=11737), HTML(value='')))"
      ]
     },
     "metadata": {},
     "output_type": "display_data"
    },
    {
     "name": "stdout",
     "output_type": "stream",
     "text": [
      "\n",
      "Delete outliers...\n"
     ]
    },
    {
     "data": {
      "application/vnd.jupyter.widget-view+json": {
       "model_id": "88d96de8fe604f40942ea713bf6fcb93",
       "version_major": 2,
       "version_minor": 0
      },
      "text/plain": [
       "HBox(children=(IntProgress(value=0, max=2046), HTML(value='')))"
      ]
     },
     "metadata": {},
     "output_type": "display_data"
    },
    {
     "name": "stdout",
     "output_type": "stream",
     "text": [
      "\n",
      "Calculate confusion...\n"
     ]
    },
    {
     "data": {
      "application/vnd.jupyter.widget-view+json": {
       "model_id": "23ba58eaf9f74063b8116ad9d9947448",
       "version_major": 2,
       "version_minor": 0
      },
      "text/plain": [
       "HBox(children=(IntProgress(value=0, max=2046), HTML(value='')))"
      ]
     },
     "metadata": {},
     "output_type": "display_data"
    },
    {
     "name": "stdout",
     "output_type": "stream",
     "text": [
      "\n",
      "Calculate entropy & purity...\n"
     ]
    },
    {
     "data": {
      "application/vnd.jupyter.widget-view+json": {
       "model_id": "ade42b16dae149ce9596690508a89637",
       "version_major": 2,
       "version_minor": 0
      },
      "text/plain": [
       "HBox(children=(IntProgress(value=0, max=2046), HTML(value='')))"
      ]
     },
     "metadata": {},
     "output_type": "display_data"
    },
    {
     "name": "stdout",
     "output_type": "stream",
     "text": [
      "\n",
      "Calculate F-measure...\n"
     ]
    },
    {
     "data": {
      "application/vnd.jupyter.widget-view+json": {
       "model_id": "6ceda6746ea849aaaaa3c3783f34355d",
       "version_major": 2,
       "version_minor": 0
      },
      "text/plain": [
       "HBox(children=(IntProgress(value=0, max=3001), HTML(value='')))"
      ]
     },
     "metadata": {},
     "output_type": "display_data"
    },
    {
     "name": "stdout",
     "output_type": "stream",
     "text": [
      "\n",
      "Eps = 0.45000000000000007\n",
      "F-measure = 0.6269067425022009\n",
      "Start evaluate...\n",
      "Save clusters...\n"
     ]
    },
    {
     "data": {
      "application/vnd.jupyter.widget-view+json": {
       "model_id": "3ccb107749c64c77937d240207c6dea7",
       "version_major": 2,
       "version_minor": 0
      },
      "text/plain": [
       "HBox(children=(IntProgress(value=0, max=11737), HTML(value='')))"
      ]
     },
     "metadata": {},
     "output_type": "display_data"
    },
    {
     "name": "stdout",
     "output_type": "stream",
     "text": [
      "\n",
      "Delete outliers...\n"
     ]
    },
    {
     "data": {
      "application/vnd.jupyter.widget-view+json": {
       "model_id": "6df8c81f5de54e8a90ffb251ddba416d",
       "version_major": 2,
       "version_minor": 0
      },
      "text/plain": [
       "HBox(children=(IntProgress(value=0, max=2044), HTML(value='')))"
      ]
     },
     "metadata": {},
     "output_type": "display_data"
    },
    {
     "name": "stdout",
     "output_type": "stream",
     "text": [
      "\n",
      "Calculate confusion...\n"
     ]
    },
    {
     "data": {
      "application/vnd.jupyter.widget-view+json": {
       "model_id": "7a779d269e884467815aca761b91a7b6",
       "version_major": 2,
       "version_minor": 0
      },
      "text/plain": [
       "HBox(children=(IntProgress(value=0, max=2044), HTML(value='')))"
      ]
     },
     "metadata": {},
     "output_type": "display_data"
    },
    {
     "name": "stdout",
     "output_type": "stream",
     "text": [
      "\n",
      "Calculate entropy & purity...\n"
     ]
    },
    {
     "data": {
      "application/vnd.jupyter.widget-view+json": {
       "model_id": "63e6c2d508254335b023d8143fbd3898",
       "version_major": 2,
       "version_minor": 0
      },
      "text/plain": [
       "HBox(children=(IntProgress(value=0, max=2044), HTML(value='')))"
      ]
     },
     "metadata": {},
     "output_type": "display_data"
    },
    {
     "name": "stdout",
     "output_type": "stream",
     "text": [
      "\n",
      "Calculate F-measure...\n"
     ]
    },
    {
     "data": {
      "application/vnd.jupyter.widget-view+json": {
       "model_id": "a0c98343bbdf4d4c985f1e88c37728d3",
       "version_major": 2,
       "version_minor": 0
      },
      "text/plain": [
       "HBox(children=(IntProgress(value=0, max=3001), HTML(value='')))"
      ]
     },
     "metadata": {},
     "output_type": "display_data"
    },
    {
     "name": "stdout",
     "output_type": "stream",
     "text": [
      "\n",
      "Eps = 0.5000000000000001\n",
      "F-measure = 0.6309012207889209\n",
      "Start evaluate...\n",
      "Save clusters...\n"
     ]
    },
    {
     "data": {
      "application/vnd.jupyter.widget-view+json": {
       "model_id": "7a6d45fb3ae0414cb6dc89e32e7b23c7",
       "version_major": 2,
       "version_minor": 0
      },
      "text/plain": [
       "HBox(children=(IntProgress(value=0, max=11737), HTML(value='')))"
      ]
     },
     "metadata": {},
     "output_type": "display_data"
    },
    {
     "name": "stdout",
     "output_type": "stream",
     "text": [
      "\n",
      "Delete outliers...\n"
     ]
    },
    {
     "data": {
      "application/vnd.jupyter.widget-view+json": {
       "model_id": "c8539417589b461683e14d7b33d5d7e7",
       "version_major": 2,
       "version_minor": 0
      },
      "text/plain": [
       "HBox(children=(IntProgress(value=0, max=2049), HTML(value='')))"
      ]
     },
     "metadata": {},
     "output_type": "display_data"
    },
    {
     "name": "stdout",
     "output_type": "stream",
     "text": [
      "\n",
      "Calculate confusion...\n"
     ]
    },
    {
     "data": {
      "application/vnd.jupyter.widget-view+json": {
       "model_id": "5a500579faf7479180c10eae84c660e1",
       "version_major": 2,
       "version_minor": 0
      },
      "text/plain": [
       "HBox(children=(IntProgress(value=0, max=2049), HTML(value='')))"
      ]
     },
     "metadata": {},
     "output_type": "display_data"
    },
    {
     "name": "stdout",
     "output_type": "stream",
     "text": [
      "\n",
      "Calculate entropy & purity...\n"
     ]
    },
    {
     "data": {
      "application/vnd.jupyter.widget-view+json": {
       "model_id": "e8b4a427100645f39c9fef36ff4c1f21",
       "version_major": 2,
       "version_minor": 0
      },
      "text/plain": [
       "HBox(children=(IntProgress(value=0, max=2049), HTML(value='')))"
      ]
     },
     "metadata": {},
     "output_type": "display_data"
    },
    {
     "name": "stdout",
     "output_type": "stream",
     "text": [
      "\n",
      "Calculate F-measure...\n"
     ]
    },
    {
     "data": {
      "application/vnd.jupyter.widget-view+json": {
       "model_id": "1c6b6ce9b32f44a9b42e9d45562f05ff",
       "version_major": 2,
       "version_minor": 0
      },
      "text/plain": [
       "HBox(children=(IntProgress(value=0, max=3001), HTML(value='')))"
      ]
     },
     "metadata": {},
     "output_type": "display_data"
    },
    {
     "name": "stdout",
     "output_type": "stream",
     "text": [
      "\n",
      "Eps = 0.5500000000000002\n",
      "F-measure = 0.6386721846775143\n",
      "Start evaluate...\n",
      "Save clusters...\n"
     ]
    },
    {
     "data": {
      "application/vnd.jupyter.widget-view+json": {
       "model_id": "4700e7eeb74743c191c4d0886eb009e4",
       "version_major": 2,
       "version_minor": 0
      },
      "text/plain": [
       "HBox(children=(IntProgress(value=0, max=11737), HTML(value='')))"
      ]
     },
     "metadata": {},
     "output_type": "display_data"
    },
    {
     "name": "stdout",
     "output_type": "stream",
     "text": [
      "\n",
      "Delete outliers...\n"
     ]
    },
    {
     "data": {
      "application/vnd.jupyter.widget-view+json": {
       "model_id": "37c5d9a027f647a1b18344b993ee79f6",
       "version_major": 2,
       "version_minor": 0
      },
      "text/plain": [
       "HBox(children=(IntProgress(value=0, max=2045), HTML(value='')))"
      ]
     },
     "metadata": {},
     "output_type": "display_data"
    },
    {
     "name": "stdout",
     "output_type": "stream",
     "text": [
      "\n",
      "Calculate confusion...\n"
     ]
    },
    {
     "data": {
      "application/vnd.jupyter.widget-view+json": {
       "model_id": "35a1d67e15d041e09a932f8bca584e5c",
       "version_major": 2,
       "version_minor": 0
      },
      "text/plain": [
       "HBox(children=(IntProgress(value=0, max=2045), HTML(value='')))"
      ]
     },
     "metadata": {},
     "output_type": "display_data"
    },
    {
     "name": "stdout",
     "output_type": "stream",
     "text": [
      "\n",
      "Calculate entropy & purity...\n"
     ]
    },
    {
     "data": {
      "application/vnd.jupyter.widget-view+json": {
       "model_id": "bbdb2ebe36134f69bfa42b0f38470808",
       "version_major": 2,
       "version_minor": 0
      },
      "text/plain": [
       "HBox(children=(IntProgress(value=0, max=2045), HTML(value='')))"
      ]
     },
     "metadata": {},
     "output_type": "display_data"
    },
    {
     "name": "stdout",
     "output_type": "stream",
     "text": [
      "\n",
      "Calculate F-measure...\n"
     ]
    },
    {
     "data": {
      "application/vnd.jupyter.widget-view+json": {
       "model_id": "61e0f08b55514134951fbfbd0cf16f63",
       "version_major": 2,
       "version_minor": 0
      },
      "text/plain": [
       "HBox(children=(IntProgress(value=0, max=3001), HTML(value='')))"
      ]
     },
     "metadata": {},
     "output_type": "display_data"
    },
    {
     "name": "stdout",
     "output_type": "stream",
     "text": [
      "\n",
      "Eps = 0.6000000000000002\n",
      "F-measure = 0.6407215588115838\n",
      "Start evaluate...\n",
      "Save clusters...\n"
     ]
    },
    {
     "data": {
      "application/vnd.jupyter.widget-view+json": {
       "model_id": "a57309cd6cb34c0390dd8e18b6c3d03d",
       "version_major": 2,
       "version_minor": 0
      },
      "text/plain": [
       "HBox(children=(IntProgress(value=0, max=11737), HTML(value='')))"
      ]
     },
     "metadata": {},
     "output_type": "display_data"
    },
    {
     "name": "stdout",
     "output_type": "stream",
     "text": [
      "\n",
      "Delete outliers...\n"
     ]
    },
    {
     "data": {
      "application/vnd.jupyter.widget-view+json": {
       "model_id": "f4c885646f294700abdfdf1d8b59cdff",
       "version_major": 2,
       "version_minor": 0
      },
      "text/plain": [
       "HBox(children=(IntProgress(value=0, max=2021), HTML(value='')))"
      ]
     },
     "metadata": {},
     "output_type": "display_data"
    },
    {
     "name": "stdout",
     "output_type": "stream",
     "text": [
      "\n",
      "Calculate confusion...\n"
     ]
    },
    {
     "data": {
      "application/vnd.jupyter.widget-view+json": {
       "model_id": "839d85c2d1a14249abd6b48d5b1614a2",
       "version_major": 2,
       "version_minor": 0
      },
      "text/plain": [
       "HBox(children=(IntProgress(value=0, max=2021), HTML(value='')))"
      ]
     },
     "metadata": {},
     "output_type": "display_data"
    },
    {
     "name": "stdout",
     "output_type": "stream",
     "text": [
      "\n",
      "Calculate entropy & purity...\n"
     ]
    },
    {
     "data": {
      "application/vnd.jupyter.widget-view+json": {
       "model_id": "7a0a704e18ea46298513a983d52d1fbb",
       "version_major": 2,
       "version_minor": 0
      },
      "text/plain": [
       "HBox(children=(IntProgress(value=0, max=2021), HTML(value='')))"
      ]
     },
     "metadata": {},
     "output_type": "display_data"
    },
    {
     "name": "stdout",
     "output_type": "stream",
     "text": [
      "\n",
      "Calculate F-measure...\n"
     ]
    },
    {
     "data": {
      "application/vnd.jupyter.widget-view+json": {
       "model_id": "d600da16ddd14538b223dddd932edef3",
       "version_major": 2,
       "version_minor": 0
      },
      "text/plain": [
       "HBox(children=(IntProgress(value=0, max=3001), HTML(value='')))"
      ]
     },
     "metadata": {},
     "output_type": "display_data"
    },
    {
     "name": "stdout",
     "output_type": "stream",
     "text": [
      "\n",
      "Eps = 0.6500000000000001\n",
      "F-measure = 0.6401483907430576\n",
      "Start evaluate...\n",
      "Save clusters...\n"
     ]
    },
    {
     "data": {
      "application/vnd.jupyter.widget-view+json": {
       "model_id": "424e709350a945908efe3c102c9cab3e",
       "version_major": 2,
       "version_minor": 0
      },
      "text/plain": [
       "HBox(children=(IntProgress(value=0, max=11737), HTML(value='')))"
      ]
     },
     "metadata": {},
     "output_type": "display_data"
    },
    {
     "name": "stdout",
     "output_type": "stream",
     "text": [
      "\n",
      "Delete outliers...\n"
     ]
    },
    {
     "data": {
      "application/vnd.jupyter.widget-view+json": {
       "model_id": "514afbf4acde42c88c105b1653977c5d",
       "version_major": 2,
       "version_minor": 0
      },
      "text/plain": [
       "HBox(children=(IntProgress(value=0, max=1935), HTML(value='')))"
      ]
     },
     "metadata": {},
     "output_type": "display_data"
    },
    {
     "name": "stdout",
     "output_type": "stream",
     "text": [
      "\n",
      "Calculate confusion...\n"
     ]
    },
    {
     "data": {
      "application/vnd.jupyter.widget-view+json": {
       "model_id": "9c3499e114e94ccd885fedb02b7a1369",
       "version_major": 2,
       "version_minor": 0
      },
      "text/plain": [
       "HBox(children=(IntProgress(value=0, max=1935), HTML(value='')))"
      ]
     },
     "metadata": {},
     "output_type": "display_data"
    },
    {
     "name": "stdout",
     "output_type": "stream",
     "text": [
      "\n",
      "Calculate entropy & purity...\n"
     ]
    },
    {
     "data": {
      "application/vnd.jupyter.widget-view+json": {
       "model_id": "55c083cf95164768bfa35b37f8fa3f32",
       "version_major": 2,
       "version_minor": 0
      },
      "text/plain": [
       "HBox(children=(IntProgress(value=0, max=1935), HTML(value='')))"
      ]
     },
     "metadata": {},
     "output_type": "display_data"
    },
    {
     "name": "stdout",
     "output_type": "stream",
     "text": [
      "\n",
      "Calculate F-measure...\n"
     ]
    },
    {
     "data": {
      "application/vnd.jupyter.widget-view+json": {
       "model_id": "418b238634c743bf816c5c649ea6b904",
       "version_major": 2,
       "version_minor": 0
      },
      "text/plain": [
       "HBox(children=(IntProgress(value=0, max=3001), HTML(value='')))"
      ]
     },
     "metadata": {},
     "output_type": "display_data"
    },
    {
     "name": "stdout",
     "output_type": "stream",
     "text": [
      "\n",
      "Eps = 0.7000000000000002\n",
      "F-measure = 0.6143162409144306\n",
      "Start evaluate...\n",
      "Save clusters...\n"
     ]
    },
    {
     "data": {
      "application/vnd.jupyter.widget-view+json": {
       "model_id": "5962d20380df442bb59bafa17ef43e98",
       "version_major": 2,
       "version_minor": 0
      },
      "text/plain": [
       "HBox(children=(IntProgress(value=0, max=11737), HTML(value='')))"
      ]
     },
     "metadata": {},
     "output_type": "display_data"
    },
    {
     "name": "stdout",
     "output_type": "stream",
     "text": [
      "\n",
      "Delete outliers...\n"
     ]
    },
    {
     "data": {
      "application/vnd.jupyter.widget-view+json": {
       "model_id": "f5ca782711c8401c8c5590f127466c43",
       "version_major": 2,
       "version_minor": 0
      },
      "text/plain": [
       "HBox(children=(IntProgress(value=0, max=1788), HTML(value='')))"
      ]
     },
     "metadata": {},
     "output_type": "display_data"
    },
    {
     "name": "stdout",
     "output_type": "stream",
     "text": [
      "\n",
      "Calculate confusion...\n"
     ]
    },
    {
     "data": {
      "application/vnd.jupyter.widget-view+json": {
       "model_id": "83f66b85b74a4fe894b57675cfb9eae2",
       "version_major": 2,
       "version_minor": 0
      },
      "text/plain": [
       "HBox(children=(IntProgress(value=0, max=1788), HTML(value='')))"
      ]
     },
     "metadata": {},
     "output_type": "display_data"
    },
    {
     "name": "stdout",
     "output_type": "stream",
     "text": [
      "\n",
      "Calculate entropy & purity...\n"
     ]
    },
    {
     "data": {
      "application/vnd.jupyter.widget-view+json": {
       "model_id": "59d8183e1b4c4c23b0c6b77259eb52c8",
       "version_major": 2,
       "version_minor": 0
      },
      "text/plain": [
       "HBox(children=(IntProgress(value=0, max=1788), HTML(value='')))"
      ]
     },
     "metadata": {},
     "output_type": "display_data"
    },
    {
     "name": "stdout",
     "output_type": "stream",
     "text": [
      "Start evaluate...\n",
      "Save clusters...\n"
     ]
    },
    {
     "data": {
      "application/vnd.jupyter.widget-view+json": {
       "model_id": "3f386ad6d0964d3887571d63801cf225",
       "version_major": 2,
       "version_minor": 0
      },
      "text/plain": [
       "HBox(children=(IntProgress(value=0, max=11737), HTML(value='')))"
      ]
     },
     "metadata": {},
     "output_type": "display_data"
    },
    {
     "name": "stdout",
     "output_type": "stream",
     "text": [
      "\n",
      "Delete outliers...\n"
     ]
    },
    {
     "data": {
      "application/vnd.jupyter.widget-view+json": {
       "model_id": "a899c6cd20f8453180683edf8729e254",
       "version_major": 2,
       "version_minor": 0
      },
      "text/plain": [
       "HBox(children=(IntProgress(value=0, max=1505), HTML(value='')))"
      ]
     },
     "metadata": {},
     "output_type": "display_data"
    },
    {
     "name": "stdout",
     "output_type": "stream",
     "text": [
      "\n",
      "Calculate confusion...\n"
     ]
    },
    {
     "data": {
      "application/vnd.jupyter.widget-view+json": {
       "model_id": "aa398a8b65024d7fa4f4ed75af400aa7",
       "version_major": 2,
       "version_minor": 0
      },
      "text/plain": [
       "HBox(children=(IntProgress(value=0, max=1505), HTML(value='')))"
      ]
     },
     "metadata": {},
     "output_type": "display_data"
    },
    {
     "name": "stdout",
     "output_type": "stream",
     "text": [
      "\n",
      "Calculate entropy & purity...\n"
     ]
    },
    {
     "data": {
      "application/vnd.jupyter.widget-view+json": {
       "model_id": "a89d20ee4dc5438882d27e88cb631dea",
       "version_major": 2,
       "version_minor": 0
      },
      "text/plain": [
       "HBox(children=(IntProgress(value=0, max=1505), HTML(value='')))"
      ]
     },
     "metadata": {},
     "output_type": "display_data"
    },
    {
     "name": "stdout",
     "output_type": "stream",
     "text": [
      "\n",
      "Calculate F-measure...\n"
     ]
    },
    {
     "data": {
      "application/vnd.jupyter.widget-view+json": {
       "model_id": "e5dbd9a2781740969fa902e80004f613",
       "version_major": 2,
       "version_minor": 0
      },
      "text/plain": [
       "HBox(children=(IntProgress(value=0, max=3001), HTML(value='')))"
      ]
     },
     "metadata": {},
     "output_type": "display_data"
    },
    {
     "name": "stdout",
     "output_type": "stream",
     "text": [
      "\n",
      "Eps = 0.8000000000000002\n",
      "F-measure = 0.4596412888221975\n",
      "Start evaluate...\n",
      "Save clusters...\n"
     ]
    },
    {
     "data": {
      "application/vnd.jupyter.widget-view+json": {
       "model_id": "de49840633b742d29421c116ebbbb0d4",
       "version_major": 2,
       "version_minor": 0
      },
      "text/plain": [
       "HBox(children=(IntProgress(value=0, max=11737), HTML(value='')))"
      ]
     },
     "metadata": {},
     "output_type": "display_data"
    },
    {
     "name": "stdout",
     "output_type": "stream",
     "text": [
      "\n",
      "Delete outliers...\n"
     ]
    },
    {
     "data": {
      "application/vnd.jupyter.widget-view+json": {
       "model_id": "c3a63e3a26ae47de9266fdcf8ffc46f0",
       "version_major": 2,
       "version_minor": 0
      },
      "text/plain": [
       "HBox(children=(IntProgress(value=0, max=1035), HTML(value='')))"
      ]
     },
     "metadata": {},
     "output_type": "display_data"
    },
    {
     "name": "stdout",
     "output_type": "stream",
     "text": [
      "\n",
      "Calculate confusion...\n"
     ]
    },
    {
     "data": {
      "application/vnd.jupyter.widget-view+json": {
       "model_id": "6dc4dfc683304ad38a469eff15ac544b",
       "version_major": 2,
       "version_minor": 0
      },
      "text/plain": [
       "HBox(children=(IntProgress(value=0, max=1035), HTML(value='')))"
      ]
     },
     "metadata": {},
     "output_type": "display_data"
    },
    {
     "name": "stdout",
     "output_type": "stream",
     "text": [
      "\n",
      "Calculate entropy & purity...\n"
     ]
    },
    {
     "data": {
      "application/vnd.jupyter.widget-view+json": {
       "model_id": "289d3890cdc945cd92db48d8ac2dabd1",
       "version_major": 2,
       "version_minor": 0
      },
      "text/plain": [
       "HBox(children=(IntProgress(value=0, max=1035), HTML(value='')))"
      ]
     },
     "metadata": {},
     "output_type": "display_data"
    },
    {
     "name": "stdout",
     "output_type": "stream",
     "text": [
      "\n",
      "Calculate F-measure...\n"
     ]
    },
    {
     "data": {
      "application/vnd.jupyter.widget-view+json": {
       "model_id": "7e3d0e1f214e41aab5a04c566893e15a",
       "version_major": 2,
       "version_minor": 0
      },
      "text/plain": [
       "HBox(children=(IntProgress(value=0, max=3001), HTML(value='')))"
      ]
     },
     "metadata": {},
     "output_type": "display_data"
    },
    {
     "name": "stdout",
     "output_type": "stream",
     "text": [
      "\n",
      "Eps = 0.8500000000000002\n",
      "F-measure = 0.29404161237528387\n",
      "Start evaluate...\n",
      "Save clusters...\n"
     ]
    },
    {
     "data": {
      "application/vnd.jupyter.widget-view+json": {
       "model_id": "e00bcee89cfc48c990cf48206e58650d",
       "version_major": 2,
       "version_minor": 0
      },
      "text/plain": [
       "HBox(children=(IntProgress(value=0, max=11737), HTML(value='')))"
      ]
     },
     "metadata": {},
     "output_type": "display_data"
    },
    {
     "name": "stdout",
     "output_type": "stream",
     "text": [
      "\n",
      "Delete outliers...\n"
     ]
    },
    {
     "data": {
      "application/vnd.jupyter.widget-view+json": {
       "model_id": "918469b361cf4131bc1ab93d102dad8d",
       "version_major": 2,
       "version_minor": 0
      },
      "text/plain": [
       "HBox(children=(IntProgress(value=0, max=469), HTML(value='')))"
      ]
     },
     "metadata": {},
     "output_type": "display_data"
    },
    {
     "name": "stdout",
     "output_type": "stream",
     "text": [
      "\n",
      "Calculate confusion...\n"
     ]
    },
    {
     "data": {
      "application/vnd.jupyter.widget-view+json": {
       "model_id": "09b5e09146bb484b9d17d31d304588e3",
       "version_major": 2,
       "version_minor": 0
      },
      "text/plain": [
       "HBox(children=(IntProgress(value=0, max=469), HTML(value='')))"
      ]
     },
     "metadata": {},
     "output_type": "display_data"
    },
    {
     "name": "stdout",
     "output_type": "stream",
     "text": [
      "\n",
      "Calculate entropy & purity...\n"
     ]
    },
    {
     "data": {
      "application/vnd.jupyter.widget-view+json": {
       "model_id": "be9842c7773b4834b64dc8d583a766c4",
       "version_major": 2,
       "version_minor": 0
      },
      "text/plain": [
       "HBox(children=(IntProgress(value=0, max=469), HTML(value='')))"
      ]
     },
     "metadata": {},
     "output_type": "display_data"
    },
    {
     "name": "stdout",
     "output_type": "stream",
     "text": [
      "\n",
      "Calculate F-measure...\n"
     ]
    },
    {
     "data": {
      "application/vnd.jupyter.widget-view+json": {
       "model_id": "8a1199a4de914d6081283b35970629da",
       "version_major": 2,
       "version_minor": 0
      },
      "text/plain": [
       "HBox(children=(IntProgress(value=0, max=3001), HTML(value='')))"
      ]
     },
     "metadata": {},
     "output_type": "display_data"
    },
    {
     "name": "stdout",
     "output_type": "stream",
     "text": [
      "\n",
      "Eps = 0.9000000000000002\n",
      "F-measure = 0.12450626992052646\n",
      "Start evaluate...\n",
      "Save clusters...\n"
     ]
    },
    {
     "data": {
      "application/vnd.jupyter.widget-view+json": {
       "model_id": "827870d2e27d45e5a8202b36d77900cb",
       "version_major": 2,
       "version_minor": 0
      },
      "text/plain": [
       "HBox(children=(IntProgress(value=0, max=11737), HTML(value='')))"
      ]
     },
     "metadata": {},
     "output_type": "display_data"
    },
    {
     "name": "stdout",
     "output_type": "stream",
     "text": [
      "\n",
      "Delete outliers...\n"
     ]
    },
    {
     "data": {
      "application/vnd.jupyter.widget-view+json": {
       "model_id": "b09d0615887943a9a1e01c7ffc25ef50",
       "version_major": 2,
       "version_minor": 0
      },
      "text/plain": [
       "HBox(children=(IntProgress(value=0, max=29), HTML(value='')))"
      ]
     },
     "metadata": {},
     "output_type": "display_data"
    },
    {
     "name": "stdout",
     "output_type": "stream",
     "text": [
      "\n",
      "Calculate confusion...\n"
     ]
    },
    {
     "data": {
      "application/vnd.jupyter.widget-view+json": {
       "model_id": "42087eb8b5f8444bb2b33b23d605777f",
       "version_major": 2,
       "version_minor": 0
      },
      "text/plain": [
       "HBox(children=(IntProgress(value=0, max=29), HTML(value='')))"
      ]
     },
     "metadata": {},
     "output_type": "display_data"
    },
    {
     "name": "stdout",
     "output_type": "stream",
     "text": [
      "\n",
      "Calculate entropy & purity...\n"
     ]
    },
    {
     "data": {
      "application/vnd.jupyter.widget-view+json": {
       "model_id": "a3ec875d47a7457992e7603b87048231",
       "version_major": 2,
       "version_minor": 0
      },
      "text/plain": [
       "HBox(children=(IntProgress(value=0, max=29), HTML(value='')))"
      ]
     },
     "metadata": {},
     "output_type": "display_data"
    },
    {
     "name": "stdout",
     "output_type": "stream",
     "text": [
      "\n",
      "Calculate F-measure...\n"
     ]
    },
    {
     "data": {
      "application/vnd.jupyter.widget-view+json": {
       "model_id": "e17b485bbc5b41588fae5f3ceb22272b",
       "version_major": 2,
       "version_minor": 0
      },
      "text/plain": [
       "HBox(children=(IntProgress(value=0, max=3001), HTML(value='')))"
      ]
     },
     "metadata": {},
     "output_type": "display_data"
    },
    {
     "name": "stdout",
     "output_type": "stream",
     "text": [
      "\n",
      "Eps = 0.9500000000000003\n",
      "F-measure = 0.008297038496324698\n",
      "Start evaluate...\n",
      "Save clusters...\n"
     ]
    },
    {
     "data": {
      "application/vnd.jupyter.widget-view+json": {
       "model_id": "0ee7bf35d7044d348c681bbbfeaea239",
       "version_major": 2,
       "version_minor": 0
      },
      "text/plain": [
       "HBox(children=(IntProgress(value=0, max=11737), HTML(value='')))"
      ]
     },
     "metadata": {},
     "output_type": "display_data"
    },
    {
     "name": "stdout",
     "output_type": "stream",
     "text": [
      "\n",
      "Delete outliers...\n"
     ]
    },
    {
     "data": {
      "application/vnd.jupyter.widget-view+json": {
       "model_id": "5f5ca924fe93408c873663f3581e5823",
       "version_major": 2,
       "version_minor": 0
      },
      "text/plain": [
       "HBox(children=(IntProgress(value=0, max=1), HTML(value='')))"
      ]
     },
     "metadata": {},
     "output_type": "display_data"
    },
    {
     "name": "stdout",
     "output_type": "stream",
     "text": [
      "\n",
      "Calculate confusion...\n"
     ]
    },
    {
     "data": {
      "application/vnd.jupyter.widget-view+json": {
       "model_id": "fc4a79471c024cc6af7e474fc4f10e15",
       "version_major": 2,
       "version_minor": 0
      },
      "text/plain": [
       "HBox(children=(IntProgress(value=0, max=1), HTML(value='')))"
      ]
     },
     "metadata": {},
     "output_type": "display_data"
    },
    {
     "name": "stdout",
     "output_type": "stream",
     "text": [
      "\n",
      "Calculate entropy & purity...\n"
     ]
    },
    {
     "data": {
      "application/vnd.jupyter.widget-view+json": {
       "model_id": "519f40edd92147f1b13b21bdfb5ebeeb",
       "version_major": 2,
       "version_minor": 0
      },
      "text/plain": [
       "HBox(children=(IntProgress(value=0, max=1), HTML(value='')))"
      ]
     },
     "metadata": {},
     "output_type": "display_data"
    },
    {
     "name": "stdout",
     "output_type": "stream",
     "text": [
      "\n",
      "Calculate F-measure...\n"
     ]
    },
    {
     "data": {
      "application/vnd.jupyter.widget-view+json": {
       "model_id": "0b0ec65a538a4622a116c550eb933bc6",
       "version_major": 2,
       "version_minor": 0
      },
      "text/plain": [
       "HBox(children=(IntProgress(value=0, max=3001), HTML(value='')))"
      ]
     },
     "metadata": {},
     "output_type": "display_data"
    },
    {
     "name": "stdout",
     "output_type": "stream",
     "text": [
      "\n",
      "Eps = 1.0000000000000004\n",
      "F-measure = 0.0012474516447588515\n",
      "Start evaluate...\n",
      "Save clusters...\n"
     ]
    },
    {
     "data": {
      "application/vnd.jupyter.widget-view+json": {
       "model_id": "73464962646b483396a96197dd4a56d5",
       "version_major": 2,
       "version_minor": 0
      },
      "text/plain": [
       "HBox(children=(IntProgress(value=0, max=11737), HTML(value='')))"
      ]
     },
     "metadata": {},
     "output_type": "display_data"
    },
    {
     "name": "stdout",
     "output_type": "stream",
     "text": [
      "\n",
      "Delete outliers...\n"
     ]
    },
    {
     "data": {
      "application/vnd.jupyter.widget-view+json": {
       "model_id": "5f9600d05f3847069b72448462618934",
       "version_major": 2,
       "version_minor": 0
      },
      "text/plain": [
       "HBox(children=(IntProgress(value=0, max=1), HTML(value='')))"
      ]
     },
     "metadata": {},
     "output_type": "display_data"
    },
    {
     "name": "stdout",
     "output_type": "stream",
     "text": [
      "\n",
      "Calculate confusion...\n"
     ]
    },
    {
     "data": {
      "application/vnd.jupyter.widget-view+json": {
       "model_id": "efa5186c22404924893ead70e5c95936",
       "version_major": 2,
       "version_minor": 0
      },
      "text/plain": [
       "HBox(children=(IntProgress(value=0, max=1), HTML(value='')))"
      ]
     },
     "metadata": {},
     "output_type": "display_data"
    },
    {
     "name": "stdout",
     "output_type": "stream",
     "text": [
      "\n",
      "Calculate entropy & purity...\n"
     ]
    },
    {
     "data": {
      "application/vnd.jupyter.widget-view+json": {
       "model_id": "656898ea4c1743ef8f987eb34d382611",
       "version_major": 2,
       "version_minor": 0
      },
      "text/plain": [
       "HBox(children=(IntProgress(value=0, max=1), HTML(value='')))"
      ]
     },
     "metadata": {},
     "output_type": "display_data"
    },
    {
     "name": "stdout",
     "output_type": "stream",
     "text": [
      "\n",
      "Calculate F-measure...\n"
     ]
    },
    {
     "data": {
      "application/vnd.jupyter.widget-view+json": {
       "model_id": "c2f79c300c4e4faa8e03842cbd19c9c7",
       "version_major": 2,
       "version_minor": 0
      },
      "text/plain": [
       "HBox(children=(IntProgress(value=0, max=3001), HTML(value='')))"
      ]
     },
     "metadata": {},
     "output_type": "display_data"
    },
    {
     "name": "stdout",
     "output_type": "stream",
     "text": [
      "\n",
      "Eps = 1.0500000000000003\n",
      "F-measure = 0.0012474516447588515\n",
      "\n",
      "0.6000000000000002 0.6407215588115838\n",
      "Start evaluate...\n",
      "Save clusters...\n"
     ]
    },
    {
     "data": {
      "application/vnd.jupyter.widget-view+json": {
       "model_id": "d78c68df36e04d1aa66d2ff6393ba4b5",
       "version_major": 2,
       "version_minor": 0
      },
      "text/plain": [
       "HBox(children=(IntProgress(value=0, max=11737), HTML(value='')))"
      ]
     },
     "metadata": {},
     "output_type": "display_data"
    },
    {
     "name": "stdout",
     "output_type": "stream",
     "text": [
      "\n",
      "Delete outliers...\n"
     ]
    },
    {
     "data": {
      "application/vnd.jupyter.widget-view+json": {
       "model_id": "20027fa814d64ca289ba12603b91846f",
       "version_major": 2,
       "version_minor": 0
      },
      "text/plain": [
       "HBox(children=(IntProgress(value=0, max=2045), HTML(value='')))"
      ]
     },
     "metadata": {},
     "output_type": "display_data"
    },
    {
     "name": "stdout",
     "output_type": "stream",
     "text": [
      "\n",
      "Calculate rand...\n"
     ]
    },
    {
     "data": {
      "application/vnd.jupyter.widget-view+json": {
       "model_id": "e1a3bc000bd4422e86e7fe209ed5fba9",
       "version_major": 2,
       "version_minor": 0
      },
      "text/plain": [
       "HBox(children=(IntProgress(value=0, max=11737), HTML(value='')))"
      ]
     },
     "metadata": {},
     "output_type": "display_data"
    },
    {
     "name": "stdout",
     "output_type": "stream",
     "text": [
      "\n",
      "Calculate confusion...\n"
     ]
    },
    {
     "data": {
      "application/vnd.jupyter.widget-view+json": {
       "model_id": "e4105603cdd94ff9a596c80608a3b342",
       "version_major": 2,
       "version_minor": 0
      },
      "text/plain": [
       "HBox(children=(IntProgress(value=0, max=2045), HTML(value='')))"
      ]
     },
     "metadata": {},
     "output_type": "display_data"
    },
    {
     "name": "stdout",
     "output_type": "stream",
     "text": [
      "\n",
      "Calculate entropy & purity...\n"
     ]
    },
    {
     "data": {
      "application/vnd.jupyter.widget-view+json": {
       "model_id": "3afa7870e50b468d8b52f1f2fdc63576",
       "version_major": 2,
       "version_minor": 0
      },
      "text/plain": [
       "HBox(children=(IntProgress(value=0, max=2045), HTML(value='')))"
      ]
     },
     "metadata": {},
     "output_type": "display_data"
    },
    {
     "name": "stdout",
     "output_type": "stream",
     "text": [
      "\n",
      "Calculate F-measure...\n"
     ]
    },
    {
     "data": {
      "application/vnd.jupyter.widget-view+json": {
       "model_id": "e611d383242a43359bd34570461da70a",
       "version_major": 2,
       "version_minor": 0
      },
      "text/plain": [
       "HBox(children=(IntProgress(value=0, max=3001), HTML(value='')))"
      ]
     },
     "metadata": {},
     "output_type": "display_data"
    },
    {
     "name": "stdout",
     "output_type": "stream",
     "text": [
      "\n",
      "Number of clusters: 2045\n",
      "Number of outliers: 3849/11737 (32.794%)\n",
      "\n",
      "Entropy = 0.477972\n",
      "Purity = 0.863337\n",
      "F-measure = 0.640722\n",
      "\n",
      "Rand = 99.918%\n",
      "Jaccard Index = 48.838%\n"
     ]
    }
   ],
   "source": [
    "max_fm = 0\n",
    "best_eps = 0\n",
    "best_clustering = None\n",
    "\n",
    "for eps in tqdm_notebook(np.arange(0.1, 1.1, 0.05)):\n",
    "    tufano_clustering = sklearn.cluster.DBSCAN(eps=eps, min_samples=2, \n",
    "                                                   metric='precomputed').fit(dists_to_5gram)\n",
    "    \n",
    "    rand, fm = print_clustering_results_tufano_unique(tufano_clustering, unique_label_to_changes, \n",
    "                                    from_change_to_unique_label, changes_with_different_methods, \n",
    "                                    without_outliers=True, to_print=False, only_fm=True)\n",
    "    print(\"Eps =\", eps)\n",
    "    print(\"F-measure =\", fm)\n",
    "    \n",
    "    if fm > max_fm:\n",
    "        max_fm = fm\n",
    "        best_eps = eps\n",
    "        best_clustering = tufano_clustering\n",
    "\n",
    "print(best_eps, max_fm)\n",
    "\n",
    "\n",
    "rand, fm = print_clustering_results_tufano_unique(best_clustering, unique_label_to_changes, \n",
    "                                    from_change_to_unique_label, changes_with_different_methods, \n",
    "                                    without_outliers=True, to_print=True)"
   ]
  },
  {
   "cell_type": "code",
   "execution_count": 100,
   "metadata": {},
   "outputs": [
    {
     "data": {
      "application/vnd.jupyter.widget-view+json": {
       "model_id": "c9112063d3834525b439213ce181d988",
       "version_major": 2,
       "version_minor": 0
      },
      "text/plain": [
       "HBox(children=(IntProgress(value=0, max=20), HTML(value='')))"
      ]
     },
     "metadata": {},
     "output_type": "display_data"
    },
    {
     "name": "stdout",
     "output_type": "stream",
     "text": [
      "Start evaluate...\n",
      "Save clusters...\n"
     ]
    },
    {
     "data": {
      "application/vnd.jupyter.widget-view+json": {
       "model_id": "d00366796ea9484393dd4bbc1083d9f6",
       "version_major": 2,
       "version_minor": 0
      },
      "text/plain": [
       "HBox(children=(IntProgress(value=0, max=11737), HTML(value='')))"
      ]
     },
     "metadata": {},
     "output_type": "display_data"
    },
    {
     "name": "stdout",
     "output_type": "stream",
     "text": [
      "\n",
      "Delete outliers...\n"
     ]
    },
    {
     "data": {
      "application/vnd.jupyter.widget-view+json": {
       "model_id": "1534c59f6eee48a3ae5fa598a2b310f2",
       "version_major": 2,
       "version_minor": 0
      },
      "text/plain": [
       "HBox(children=(IntProgress(value=0, max=2049), HTML(value='')))"
      ]
     },
     "metadata": {},
     "output_type": "display_data"
    },
    {
     "name": "stdout",
     "output_type": "stream",
     "text": [
      "\n",
      "Calculate confusion...\n"
     ]
    },
    {
     "data": {
      "application/vnd.jupyter.widget-view+json": {
       "model_id": "56b9bc011bf64f2699eea1aaad8aa6f1",
       "version_major": 2,
       "version_minor": 0
      },
      "text/plain": [
       "HBox(children=(IntProgress(value=0, max=2049), HTML(value='')))"
      ]
     },
     "metadata": {},
     "output_type": "display_data"
    },
    {
     "name": "stdout",
     "output_type": "stream",
     "text": [
      "\n",
      "Calculate entropy & purity...\n"
     ]
    },
    {
     "data": {
      "application/vnd.jupyter.widget-view+json": {
       "model_id": "a3f461c3a4e542278bc411927035b883",
       "version_major": 2,
       "version_minor": 0
      },
      "text/plain": [
       "HBox(children=(IntProgress(value=0, max=2049), HTML(value='')))"
      ]
     },
     "metadata": {},
     "output_type": "display_data"
    },
    {
     "name": "stdout",
     "output_type": "stream",
     "text": [
      "\n",
      "Calculate F-measure...\n"
     ]
    },
    {
     "data": {
      "application/vnd.jupyter.widget-view+json": {
       "model_id": "561c322c54af47d385373d507050b180",
       "version_major": 2,
       "version_minor": 0
      },
      "text/plain": [
       "HBox(children=(IntProgress(value=0, max=3001), HTML(value='')))"
      ]
     },
     "metadata": {},
     "output_type": "display_data"
    },
    {
     "name": "stdout",
     "output_type": "stream",
     "text": [
      "\n",
      "Eps = 0.55\n",
      "F-measure = 0.6386721846775143\n",
      "Start evaluate...\n",
      "Save clusters...\n"
     ]
    },
    {
     "data": {
      "application/vnd.jupyter.widget-view+json": {
       "model_id": "76219e7da7e84c84b1663918a30f8501",
       "version_major": 2,
       "version_minor": 0
      },
      "text/plain": [
       "HBox(children=(IntProgress(value=0, max=11737), HTML(value='')))"
      ]
     },
     "metadata": {},
     "output_type": "display_data"
    },
    {
     "name": "stdout",
     "output_type": "stream",
     "text": [
      "\n",
      "Delete outliers...\n"
     ]
    },
    {
     "data": {
      "application/vnd.jupyter.widget-view+json": {
       "model_id": "5d868c0a42464245bbf6ad208ffe521e",
       "version_major": 2,
       "version_minor": 0
      },
      "text/plain": [
       "HBox(children=(IntProgress(value=0, max=2048), HTML(value='')))"
      ]
     },
     "metadata": {},
     "output_type": "display_data"
    },
    {
     "name": "stdout",
     "output_type": "stream",
     "text": [
      "\n",
      "Calculate confusion...\n"
     ]
    },
    {
     "data": {
      "application/vnd.jupyter.widget-view+json": {
       "model_id": "56e3542ec5ae40d1b1c25949bd674372",
       "version_major": 2,
       "version_minor": 0
      },
      "text/plain": [
       "HBox(children=(IntProgress(value=0, max=2048), HTML(value='')))"
      ]
     },
     "metadata": {},
     "output_type": "display_data"
    },
    {
     "name": "stdout",
     "output_type": "stream",
     "text": [
      "\n",
      "Calculate entropy & purity...\n"
     ]
    },
    {
     "data": {
      "application/vnd.jupyter.widget-view+json": {
       "model_id": "f4bc3e6a108d4d24abe8a338f9043a5f",
       "version_major": 2,
       "version_minor": 0
      },
      "text/plain": [
       "HBox(children=(IntProgress(value=0, max=2048), HTML(value='')))"
      ]
     },
     "metadata": {},
     "output_type": "display_data"
    },
    {
     "name": "stdout",
     "output_type": "stream",
     "text": [
      "\n",
      "Calculate F-measure...\n"
     ]
    },
    {
     "data": {
      "application/vnd.jupyter.widget-view+json": {
       "model_id": "3e4398a06af14e66986396f1df1aa0d5",
       "version_major": 2,
       "version_minor": 0
      },
      "text/plain": [
       "HBox(children=(IntProgress(value=0, max=3001), HTML(value='')))"
      ]
     },
     "metadata": {},
     "output_type": "display_data"
    },
    {
     "name": "stdout",
     "output_type": "stream",
     "text": [
      "\n",
      "Eps = 0.555\n",
      "F-measure = 0.6385041838163905\n",
      "Start evaluate...\n",
      "Save clusters...\n"
     ]
    },
    {
     "data": {
      "application/vnd.jupyter.widget-view+json": {
       "model_id": "7949e55484b0471a97a73f5689fb1c4c",
       "version_major": 2,
       "version_minor": 0
      },
      "text/plain": [
       "HBox(children=(IntProgress(value=0, max=11737), HTML(value='')))"
      ]
     },
     "metadata": {},
     "output_type": "display_data"
    },
    {
     "name": "stdout",
     "output_type": "stream",
     "text": [
      "\n",
      "Delete outliers...\n"
     ]
    },
    {
     "data": {
      "application/vnd.jupyter.widget-view+json": {
       "model_id": "4010942c9fa341a79cc8ee694c02bbab",
       "version_major": 2,
       "version_minor": 0
      },
      "text/plain": [
       "HBox(children=(IntProgress(value=0, max=2055), HTML(value='')))"
      ]
     },
     "metadata": {},
     "output_type": "display_data"
    },
    {
     "name": "stdout",
     "output_type": "stream",
     "text": [
      "\n",
      "Calculate confusion...\n"
     ]
    },
    {
     "data": {
      "application/vnd.jupyter.widget-view+json": {
       "model_id": "d973c26027af4bb0b27988b3e05ac61c",
       "version_major": 2,
       "version_minor": 0
      },
      "text/plain": [
       "HBox(children=(IntProgress(value=0, max=2055), HTML(value='')))"
      ]
     },
     "metadata": {},
     "output_type": "display_data"
    },
    {
     "name": "stdout",
     "output_type": "stream",
     "text": [
      "\n",
      "Calculate entropy & purity...\n"
     ]
    },
    {
     "data": {
      "application/vnd.jupyter.widget-view+json": {
       "model_id": "7ad79b33f98a4f91b53cc9c245bfc52e",
       "version_major": 2,
       "version_minor": 0
      },
      "text/plain": [
       "HBox(children=(IntProgress(value=0, max=2055), HTML(value='')))"
      ]
     },
     "metadata": {},
     "output_type": "display_data"
    },
    {
     "name": "stdout",
     "output_type": "stream",
     "text": [
      "\n",
      "Calculate F-measure...\n"
     ]
    },
    {
     "data": {
      "application/vnd.jupyter.widget-view+json": {
       "model_id": "a09d2d5210334caaa54afe934e73ffb2",
       "version_major": 2,
       "version_minor": 0
      },
      "text/plain": [
       "HBox(children=(IntProgress(value=0, max=3001), HTML(value='')))"
      ]
     },
     "metadata": {},
     "output_type": "display_data"
    },
    {
     "name": "stdout",
     "output_type": "stream",
     "text": [
      "\n",
      "Eps = 0.56\n",
      "F-measure = 0.6400534832101138\n",
      "Start evaluate...\n",
      "Save clusters...\n"
     ]
    },
    {
     "data": {
      "application/vnd.jupyter.widget-view+json": {
       "model_id": "05122fcca2f844a8a64138f49f929686",
       "version_major": 2,
       "version_minor": 0
      },
      "text/plain": [
       "HBox(children=(IntProgress(value=0, max=11737), HTML(value='')))"
      ]
     },
     "metadata": {},
     "output_type": "display_data"
    },
    {
     "name": "stdout",
     "output_type": "stream",
     "text": [
      "\n",
      "Delete outliers...\n"
     ]
    },
    {
     "data": {
      "application/vnd.jupyter.widget-view+json": {
       "model_id": "7827c2e87a0c4db891c7d9749782e7cb",
       "version_major": 2,
       "version_minor": 0
      },
      "text/plain": [
       "HBox(children=(IntProgress(value=0, max=2058), HTML(value='')))"
      ]
     },
     "metadata": {},
     "output_type": "display_data"
    },
    {
     "name": "stdout",
     "output_type": "stream",
     "text": [
      "\n",
      "Calculate confusion...\n"
     ]
    },
    {
     "data": {
      "application/vnd.jupyter.widget-view+json": {
       "model_id": "21776b9429be44dabe852e940c5deb3f",
       "version_major": 2,
       "version_minor": 0
      },
      "text/plain": [
       "HBox(children=(IntProgress(value=0, max=2058), HTML(value='')))"
      ]
     },
     "metadata": {},
     "output_type": "display_data"
    },
    {
     "name": "stdout",
     "output_type": "stream",
     "text": [
      "\n",
      "Calculate entropy & purity...\n"
     ]
    },
    {
     "data": {
      "application/vnd.jupyter.widget-view+json": {
       "model_id": "76d153fda69f400c80ed97ca7e60cac6",
       "version_major": 2,
       "version_minor": 0
      },
      "text/plain": [
       "HBox(children=(IntProgress(value=0, max=2058), HTML(value='')))"
      ]
     },
     "metadata": {},
     "output_type": "display_data"
    },
    {
     "name": "stdout",
     "output_type": "stream",
     "text": [
      "\n",
      "Calculate F-measure...\n"
     ]
    },
    {
     "data": {
      "application/vnd.jupyter.widget-view+json": {
       "model_id": "91880893943f4245a74bee7289c2ece2",
       "version_major": 2,
       "version_minor": 0
      },
      "text/plain": [
       "HBox(children=(IntProgress(value=0, max=3001), HTML(value='')))"
      ]
     },
     "metadata": {},
     "output_type": "display_data"
    },
    {
     "name": "stdout",
     "output_type": "stream",
     "text": [
      "\n",
      "Eps = 0.5650000000000001\n",
      "F-measure = 0.6407976909778359\n",
      "Start evaluate...\n",
      "Save clusters...\n"
     ]
    },
    {
     "data": {
      "application/vnd.jupyter.widget-view+json": {
       "model_id": "96de2f90c8d145b2aefcb8ab054ac357",
       "version_major": 2,
       "version_minor": 0
      },
      "text/plain": [
       "HBox(children=(IntProgress(value=0, max=11737), HTML(value='')))"
      ]
     },
     "metadata": {},
     "output_type": "display_data"
    },
    {
     "name": "stdout",
     "output_type": "stream",
     "text": [
      "\n",
      "Delete outliers...\n"
     ]
    },
    {
     "data": {
      "application/vnd.jupyter.widget-view+json": {
       "model_id": "02d1372c117e4d6d8771700bec853f21",
       "version_major": 2,
       "version_minor": 0
      },
      "text/plain": [
       "HBox(children=(IntProgress(value=0, max=2057), HTML(value='')))"
      ]
     },
     "metadata": {},
     "output_type": "display_data"
    },
    {
     "name": "stdout",
     "output_type": "stream",
     "text": [
      "\n",
      "Calculate confusion...\n"
     ]
    },
    {
     "data": {
      "application/vnd.jupyter.widget-view+json": {
       "model_id": "c3200b407d52455dbd0d0f506c8226b9",
       "version_major": 2,
       "version_minor": 0
      },
      "text/plain": [
       "HBox(children=(IntProgress(value=0, max=2057), HTML(value='')))"
      ]
     },
     "metadata": {},
     "output_type": "display_data"
    },
    {
     "name": "stdout",
     "output_type": "stream",
     "text": [
      "\n",
      "Calculate entropy & purity...\n"
     ]
    },
    {
     "data": {
      "application/vnd.jupyter.widget-view+json": {
       "model_id": "913ad9c360414d65ae2401e07b4ae377",
       "version_major": 2,
       "version_minor": 0
      },
      "text/plain": [
       "HBox(children=(IntProgress(value=0, max=2057), HTML(value='')))"
      ]
     },
     "metadata": {},
     "output_type": "display_data"
    },
    {
     "name": "stdout",
     "output_type": "stream",
     "text": [
      "\n",
      "Calculate F-measure...\n"
     ]
    },
    {
     "data": {
      "application/vnd.jupyter.widget-view+json": {
       "model_id": "50f7358515884c41b6a74470df05da25",
       "version_major": 2,
       "version_minor": 0
      },
      "text/plain": [
       "HBox(children=(IntProgress(value=0, max=3001), HTML(value='')))"
      ]
     },
     "metadata": {},
     "output_type": "display_data"
    },
    {
     "name": "stdout",
     "output_type": "stream",
     "text": [
      "\n",
      "Eps = 0.5700000000000001\n",
      "F-measure = 0.6413990597487441\n",
      "Start evaluate...\n",
      "Save clusters...\n"
     ]
    },
    {
     "data": {
      "application/vnd.jupyter.widget-view+json": {
       "model_id": "32259c2e443545dc9ef94fac85090b07",
       "version_major": 2,
       "version_minor": 0
      },
      "text/plain": [
       "HBox(children=(IntProgress(value=0, max=11737), HTML(value='')))"
      ]
     },
     "metadata": {},
     "output_type": "display_data"
    },
    {
     "name": "stdout",
     "output_type": "stream",
     "text": [
      "\n",
      "Delete outliers...\n"
     ]
    },
    {
     "data": {
      "application/vnd.jupyter.widget-view+json": {
       "model_id": "87df7fc4dd5a45bd8392ef7d0b49201f",
       "version_major": 2,
       "version_minor": 0
      },
      "text/plain": [
       "HBox(children=(IntProgress(value=0, max=2047), HTML(value='')))"
      ]
     },
     "metadata": {},
     "output_type": "display_data"
    },
    {
     "name": "stdout",
     "output_type": "stream",
     "text": [
      "\n",
      "Calculate confusion...\n"
     ]
    },
    {
     "data": {
      "application/vnd.jupyter.widget-view+json": {
       "model_id": "648db2c0a56d4c0fb06b572f70a4a60f",
       "version_major": 2,
       "version_minor": 0
      },
      "text/plain": [
       "HBox(children=(IntProgress(value=0, max=2047), HTML(value='')))"
      ]
     },
     "metadata": {},
     "output_type": "display_data"
    },
    {
     "name": "stdout",
     "output_type": "stream",
     "text": [
      "\n",
      "Calculate entropy & purity...\n"
     ]
    },
    {
     "data": {
      "application/vnd.jupyter.widget-view+json": {
       "model_id": "0388afcc978d43ab97fdf4d192b8a50b",
       "version_major": 2,
       "version_minor": 0
      },
      "text/plain": [
       "HBox(children=(IntProgress(value=0, max=2047), HTML(value='')))"
      ]
     },
     "metadata": {},
     "output_type": "display_data"
    },
    {
     "name": "stdout",
     "output_type": "stream",
     "text": [
      "\n",
      "Calculate F-measure...\n"
     ]
    },
    {
     "data": {
      "application/vnd.jupyter.widget-view+json": {
       "model_id": "2bfe0aaa93ac42d7902914290854d06c",
       "version_major": 2,
       "version_minor": 0
      },
      "text/plain": [
       "HBox(children=(IntProgress(value=0, max=3001), HTML(value='')))"
      ]
     },
     "metadata": {},
     "output_type": "display_data"
    },
    {
     "name": "stdout",
     "output_type": "stream",
     "text": [
      "\n",
      "Eps = 0.5750000000000001\n",
      "F-measure = 0.6391676850617208\n",
      "Start evaluate...\n",
      "Save clusters...\n"
     ]
    },
    {
     "data": {
      "application/vnd.jupyter.widget-view+json": {
       "model_id": "13e72c5d90c84f4eaf2d19ba2506a282",
       "version_major": 2,
       "version_minor": 0
      },
      "text/plain": [
       "HBox(children=(IntProgress(value=0, max=11737), HTML(value='')))"
      ]
     },
     "metadata": {},
     "output_type": "display_data"
    },
    {
     "name": "stdout",
     "output_type": "stream",
     "text": [
      "\n",
      "Delete outliers...\n"
     ]
    },
    {
     "data": {
      "application/vnd.jupyter.widget-view+json": {
       "model_id": "61c7515b793846629e9c08a8d1fd94a3",
       "version_major": 2,
       "version_minor": 0
      },
      "text/plain": [
       "HBox(children=(IntProgress(value=0, max=2049), HTML(value='')))"
      ]
     },
     "metadata": {},
     "output_type": "display_data"
    },
    {
     "name": "stdout",
     "output_type": "stream",
     "text": [
      "\n",
      "Calculate confusion...\n"
     ]
    },
    {
     "data": {
      "application/vnd.jupyter.widget-view+json": {
       "model_id": "b8e8defe5db5426cb7571da609bc2b20",
       "version_major": 2,
       "version_minor": 0
      },
      "text/plain": [
       "HBox(children=(IntProgress(value=0, max=2049), HTML(value='')))"
      ]
     },
     "metadata": {},
     "output_type": "display_data"
    },
    {
     "name": "stdout",
     "output_type": "stream",
     "text": [
      "\n",
      "Calculate entropy & purity...\n"
     ]
    },
    {
     "data": {
      "application/vnd.jupyter.widget-view+json": {
       "model_id": "00b4efe8142c4b4b9fea100db8d7c539",
       "version_major": 2,
       "version_minor": 0
      },
      "text/plain": [
       "HBox(children=(IntProgress(value=0, max=2049), HTML(value='')))"
      ]
     },
     "metadata": {},
     "output_type": "display_data"
    },
    {
     "name": "stdout",
     "output_type": "stream",
     "text": [
      "\n",
      "Calculate F-measure...\n"
     ]
    },
    {
     "data": {
      "application/vnd.jupyter.widget-view+json": {
       "model_id": "7ce62f657c0e45cb9da6ebf84ddd82a3",
       "version_major": 2,
       "version_minor": 0
      },
      "text/plain": [
       "HBox(children=(IntProgress(value=0, max=3001), HTML(value='')))"
      ]
     },
     "metadata": {},
     "output_type": "display_data"
    },
    {
     "name": "stdout",
     "output_type": "stream",
     "text": [
      "\n",
      "Eps = 0.5800000000000001\n",
      "F-measure = 0.6395466283201146\n",
      "Start evaluate...\n",
      "Save clusters...\n"
     ]
    },
    {
     "data": {
      "application/vnd.jupyter.widget-view+json": {
       "model_id": "0620e2c6e03b4935be8f3615ede48fb8",
       "version_major": 2,
       "version_minor": 0
      },
      "text/plain": [
       "HBox(children=(IntProgress(value=0, max=11737), HTML(value='')))"
      ]
     },
     "metadata": {},
     "output_type": "display_data"
    },
    {
     "name": "stdout",
     "output_type": "stream",
     "text": [
      "\n",
      "Delete outliers...\n"
     ]
    },
    {
     "data": {
      "application/vnd.jupyter.widget-view+json": {
       "model_id": "fa224e0d44f24c528110fcf80dea0f4a",
       "version_major": 2,
       "version_minor": 0
      },
      "text/plain": [
       "HBox(children=(IntProgress(value=0, max=2048), HTML(value='')))"
      ]
     },
     "metadata": {},
     "output_type": "display_data"
    },
    {
     "name": "stdout",
     "output_type": "stream",
     "text": [
      "\n",
      "Calculate confusion...\n"
     ]
    },
    {
     "data": {
      "application/vnd.jupyter.widget-view+json": {
       "model_id": "52954ba8f7f549efbeddcf417acdb1c9",
       "version_major": 2,
       "version_minor": 0
      },
      "text/plain": [
       "HBox(children=(IntProgress(value=0, max=2048), HTML(value='')))"
      ]
     },
     "metadata": {},
     "output_type": "display_data"
    },
    {
     "name": "stdout",
     "output_type": "stream",
     "text": [
      "\n",
      "Calculate entropy & purity...\n"
     ]
    },
    {
     "data": {
      "application/vnd.jupyter.widget-view+json": {
       "model_id": "6369e2fd70804f68ae94125e59f6748a",
       "version_major": 2,
       "version_minor": 0
      },
      "text/plain": [
       "HBox(children=(IntProgress(value=0, max=2048), HTML(value='')))"
      ]
     },
     "metadata": {},
     "output_type": "display_data"
    },
    {
     "name": "stdout",
     "output_type": "stream",
     "text": [
      "\n",
      "Calculate F-measure...\n"
     ]
    },
    {
     "data": {
      "application/vnd.jupyter.widget-view+json": {
       "model_id": "45371b0ec46e454299a2ff5e65e92b84",
       "version_major": 2,
       "version_minor": 0
      },
      "text/plain": [
       "HBox(children=(IntProgress(value=0, max=3001), HTML(value='')))"
      ]
     },
     "metadata": {},
     "output_type": "display_data"
    },
    {
     "name": "stdout",
     "output_type": "stream",
     "text": [
      "\n",
      "Eps = 0.5850000000000001\n",
      "F-measure = 0.6406414858444618\n",
      "Start evaluate...\n",
      "Save clusters...\n"
     ]
    },
    {
     "data": {
      "application/vnd.jupyter.widget-view+json": {
       "model_id": "ef5addccec0b4636a1e670e744f85c88",
       "version_major": 2,
       "version_minor": 0
      },
      "text/plain": [
       "HBox(children=(IntProgress(value=0, max=11737), HTML(value='')))"
      ]
     },
     "metadata": {},
     "output_type": "display_data"
    },
    {
     "name": "stdout",
     "output_type": "stream",
     "text": [
      "\n",
      "Delete outliers...\n"
     ]
    },
    {
     "data": {
      "application/vnd.jupyter.widget-view+json": {
       "model_id": "d8b8b0d914894fd4a6c516bcfb393cc4",
       "version_major": 2,
       "version_minor": 0
      },
      "text/plain": [
       "HBox(children=(IntProgress(value=0, max=2048), HTML(value='')))"
      ]
     },
     "metadata": {},
     "output_type": "display_data"
    },
    {
     "name": "stdout",
     "output_type": "stream",
     "text": [
      "\n",
      "Calculate confusion...\n"
     ]
    },
    {
     "data": {
      "application/vnd.jupyter.widget-view+json": {
       "model_id": "bb24eddcd4cb4367aaeb5638c59b5315",
       "version_major": 2,
       "version_minor": 0
      },
      "text/plain": [
       "HBox(children=(IntProgress(value=0, max=2048), HTML(value='')))"
      ]
     },
     "metadata": {},
     "output_type": "display_data"
    },
    {
     "name": "stdout",
     "output_type": "stream",
     "text": [
      "\n",
      "Calculate entropy & purity...\n"
     ]
    },
    {
     "data": {
      "application/vnd.jupyter.widget-view+json": {
       "model_id": "75d2cfd789834bcabf29a9ddacae1855",
       "version_major": 2,
       "version_minor": 0
      },
      "text/plain": [
       "HBox(children=(IntProgress(value=0, max=2048), HTML(value='')))"
      ]
     },
     "metadata": {},
     "output_type": "display_data"
    },
    {
     "name": "stdout",
     "output_type": "stream",
     "text": [
      "\n",
      "Calculate F-measure...\n"
     ]
    },
    {
     "data": {
      "application/vnd.jupyter.widget-view+json": {
       "model_id": "fe8110d6a60d413589bd46cd1fb28e5d",
       "version_major": 2,
       "version_minor": 0
      },
      "text/plain": [
       "HBox(children=(IntProgress(value=0, max=3001), HTML(value='')))"
      ]
     },
     "metadata": {},
     "output_type": "display_data"
    },
    {
     "name": "stdout",
     "output_type": "stream",
     "text": [
      "\n",
      "Eps = 0.5900000000000001\n",
      "F-measure = 0.6401914440641706\n",
      "Start evaluate...\n",
      "Save clusters...\n"
     ]
    },
    {
     "data": {
      "application/vnd.jupyter.widget-view+json": {
       "model_id": "e2cee8ffa90d40b9a8e17a19bb7cbf21",
       "version_major": 2,
       "version_minor": 0
      },
      "text/plain": [
       "HBox(children=(IntProgress(value=0, max=11737), HTML(value='')))"
      ]
     },
     "metadata": {},
     "output_type": "display_data"
    },
    {
     "name": "stdout",
     "output_type": "stream",
     "text": [
      "\n",
      "Delete outliers...\n"
     ]
    },
    {
     "data": {
      "application/vnd.jupyter.widget-view+json": {
       "model_id": "449b0559f2ab45f8b3e6298697016222",
       "version_major": 2,
       "version_minor": 0
      },
      "text/plain": [
       "HBox(children=(IntProgress(value=0, max=2049), HTML(value='')))"
      ]
     },
     "metadata": {},
     "output_type": "display_data"
    },
    {
     "name": "stdout",
     "output_type": "stream",
     "text": [
      "\n",
      "Calculate confusion...\n"
     ]
    },
    {
     "data": {
      "application/vnd.jupyter.widget-view+json": {
       "model_id": "6a333bab5b594dd08ecf4620981de23e",
       "version_major": 2,
       "version_minor": 0
      },
      "text/plain": [
       "HBox(children=(IntProgress(value=0, max=2049), HTML(value='')))"
      ]
     },
     "metadata": {},
     "output_type": "display_data"
    },
    {
     "name": "stdout",
     "output_type": "stream",
     "text": [
      "\n",
      "Calculate entropy & purity...\n"
     ]
    },
    {
     "data": {
      "application/vnd.jupyter.widget-view+json": {
       "model_id": "43d6db384f794def9c7958a9d60be722",
       "version_major": 2,
       "version_minor": 0
      },
      "text/plain": [
       "HBox(children=(IntProgress(value=0, max=2049), HTML(value='')))"
      ]
     },
     "metadata": {},
     "output_type": "display_data"
    },
    {
     "name": "stdout",
     "output_type": "stream",
     "text": [
      "\n",
      "Calculate F-measure...\n"
     ]
    },
    {
     "data": {
      "application/vnd.jupyter.widget-view+json": {
       "model_id": "1d6253c3d2464f199e375e7afdb3f7b8",
       "version_major": 2,
       "version_minor": 0
      },
      "text/plain": [
       "HBox(children=(IntProgress(value=0, max=3001), HTML(value='')))"
      ]
     },
     "metadata": {},
     "output_type": "display_data"
    },
    {
     "name": "stdout",
     "output_type": "stream",
     "text": [
      "\n",
      "Eps = 0.5950000000000001\n",
      "F-measure = 0.6416660850638897\n",
      "Start evaluate...\n",
      "Save clusters...\n"
     ]
    },
    {
     "data": {
      "application/vnd.jupyter.widget-view+json": {
       "model_id": "f0f275c678d94ed5bd5bb95c77178726",
       "version_major": 2,
       "version_minor": 0
      },
      "text/plain": [
       "HBox(children=(IntProgress(value=0, max=11737), HTML(value='')))"
      ]
     },
     "metadata": {},
     "output_type": "display_data"
    },
    {
     "name": "stdout",
     "output_type": "stream",
     "text": [
      "\n",
      "Delete outliers...\n"
     ]
    },
    {
     "data": {
      "application/vnd.jupyter.widget-view+json": {
       "model_id": "a9f0fa3ce73a432fba47f69971463f8f",
       "version_major": 2,
       "version_minor": 0
      },
      "text/plain": [
       "HBox(children=(IntProgress(value=0, max=2045), HTML(value='')))"
      ]
     },
     "metadata": {},
     "output_type": "display_data"
    },
    {
     "name": "stdout",
     "output_type": "stream",
     "text": [
      "\n",
      "Calculate confusion...\n"
     ]
    },
    {
     "data": {
      "application/vnd.jupyter.widget-view+json": {
       "model_id": "626498b271544a8b95849ae43f2edc88",
       "version_major": 2,
       "version_minor": 0
      },
      "text/plain": [
       "HBox(children=(IntProgress(value=0, max=2045), HTML(value='')))"
      ]
     },
     "metadata": {},
     "output_type": "display_data"
    },
    {
     "name": "stdout",
     "output_type": "stream",
     "text": [
      "\n",
      "Calculate entropy & purity...\n"
     ]
    },
    {
     "data": {
      "application/vnd.jupyter.widget-view+json": {
       "model_id": "779cbf21183846769ee60966b6214450",
       "version_major": 2,
       "version_minor": 0
      },
      "text/plain": [
       "HBox(children=(IntProgress(value=0, max=2045), HTML(value='')))"
      ]
     },
     "metadata": {},
     "output_type": "display_data"
    },
    {
     "name": "stdout",
     "output_type": "stream",
     "text": [
      "\n",
      "Calculate F-measure...\n"
     ]
    },
    {
     "data": {
      "application/vnd.jupyter.widget-view+json": {
       "model_id": "66c625661072443981938d92e90db44a",
       "version_major": 2,
       "version_minor": 0
      },
      "text/plain": [
       "HBox(children=(IntProgress(value=0, max=3001), HTML(value='')))"
      ]
     },
     "metadata": {},
     "output_type": "display_data"
    },
    {
     "name": "stdout",
     "output_type": "stream",
     "text": [
      "\n",
      "Eps = 0.6000000000000001\n",
      "F-measure = 0.6407215588115838\n",
      "Start evaluate...\n",
      "Save clusters...\n"
     ]
    },
    {
     "data": {
      "application/vnd.jupyter.widget-view+json": {
       "model_id": "e7150293314a40b69416bd374daaac77",
       "version_major": 2,
       "version_minor": 0
      },
      "text/plain": [
       "HBox(children=(IntProgress(value=0, max=11737), HTML(value='')))"
      ]
     },
     "metadata": {},
     "output_type": "display_data"
    },
    {
     "name": "stdout",
     "output_type": "stream",
     "text": [
      "\n",
      "Delete outliers...\n"
     ]
    },
    {
     "data": {
      "application/vnd.jupyter.widget-view+json": {
       "model_id": "82a05c69ad75496d8662720b16405967",
       "version_major": 2,
       "version_minor": 0
      },
      "text/plain": [
       "HBox(children=(IntProgress(value=0, max=2047), HTML(value='')))"
      ]
     },
     "metadata": {},
     "output_type": "display_data"
    },
    {
     "name": "stdout",
     "output_type": "stream",
     "text": [
      "\n",
      "Calculate confusion...\n"
     ]
    },
    {
     "data": {
      "application/vnd.jupyter.widget-view+json": {
       "model_id": "cf8eff106aab4489b061f4ac4adcff6e",
       "version_major": 2,
       "version_minor": 0
      },
      "text/plain": [
       "HBox(children=(IntProgress(value=0, max=2047), HTML(value='')))"
      ]
     },
     "metadata": {},
     "output_type": "display_data"
    },
    {
     "name": "stdout",
     "output_type": "stream",
     "text": [
      "\n",
      "Calculate entropy & purity...\n"
     ]
    },
    {
     "data": {
      "application/vnd.jupyter.widget-view+json": {
       "model_id": "5ee3902f566847c88301082548f759a8",
       "version_major": 2,
       "version_minor": 0
      },
      "text/plain": [
       "HBox(children=(IntProgress(value=0, max=2047), HTML(value='')))"
      ]
     },
     "metadata": {},
     "output_type": "display_data"
    },
    {
     "name": "stdout",
     "output_type": "stream",
     "text": [
      "\n",
      "Calculate F-measure...\n"
     ]
    },
    {
     "data": {
      "application/vnd.jupyter.widget-view+json": {
       "model_id": "ecae9337de7c47f1b03d46c162b5203a",
       "version_major": 2,
       "version_minor": 0
      },
      "text/plain": [
       "HBox(children=(IntProgress(value=0, max=3001), HTML(value='')))"
      ]
     },
     "metadata": {},
     "output_type": "display_data"
    },
    {
     "name": "stdout",
     "output_type": "stream",
     "text": [
      "\n",
      "Eps = 0.6050000000000001\n",
      "F-measure = 0.6415942360666418\n",
      "Start evaluate...\n",
      "Save clusters...\n"
     ]
    },
    {
     "data": {
      "application/vnd.jupyter.widget-view+json": {
       "model_id": "e3a9cf17da034980b702ba3d6e121336",
       "version_major": 2,
       "version_minor": 0
      },
      "text/plain": [
       "HBox(children=(IntProgress(value=0, max=11737), HTML(value='')))"
      ]
     },
     "metadata": {},
     "output_type": "display_data"
    },
    {
     "name": "stdout",
     "output_type": "stream",
     "text": [
      "\n",
      "Delete outliers...\n"
     ]
    },
    {
     "data": {
      "application/vnd.jupyter.widget-view+json": {
       "model_id": "a6d5d4bca43b401f9d1b8d77a3984f57",
       "version_major": 2,
       "version_minor": 0
      },
      "text/plain": [
       "HBox(children=(IntProgress(value=0, max=2041), HTML(value='')))"
      ]
     },
     "metadata": {},
     "output_type": "display_data"
    },
    {
     "name": "stdout",
     "output_type": "stream",
     "text": [
      "\n",
      "Calculate confusion...\n"
     ]
    },
    {
     "data": {
      "application/vnd.jupyter.widget-view+json": {
       "model_id": "8027b56fdebf40a793deb130b0c9ca15",
       "version_major": 2,
       "version_minor": 0
      },
      "text/plain": [
       "HBox(children=(IntProgress(value=0, max=2041), HTML(value='')))"
      ]
     },
     "metadata": {},
     "output_type": "display_data"
    },
    {
     "name": "stdout",
     "output_type": "stream",
     "text": [
      "\n",
      "Calculate entropy & purity...\n"
     ]
    },
    {
     "data": {
      "application/vnd.jupyter.widget-view+json": {
       "model_id": "0c60c151ef18408288b81245a931d62f",
       "version_major": 2,
       "version_minor": 0
      },
      "text/plain": [
       "HBox(children=(IntProgress(value=0, max=2041), HTML(value='')))"
      ]
     },
     "metadata": {},
     "output_type": "display_data"
    },
    {
     "name": "stdout",
     "output_type": "stream",
     "text": [
      "\n",
      "Calculate F-measure...\n"
     ]
    },
    {
     "data": {
      "application/vnd.jupyter.widget-view+json": {
       "model_id": "82dffaf116c848429c68435f44ad55e7",
       "version_major": 2,
       "version_minor": 0
      },
      "text/plain": [
       "HBox(children=(IntProgress(value=0, max=3001), HTML(value='')))"
      ]
     },
     "metadata": {},
     "output_type": "display_data"
    },
    {
     "name": "stdout",
     "output_type": "stream",
     "text": [
      "\n",
      "Eps = 0.6100000000000001\n",
      "F-measure = 0.6401806269778821\n",
      "Start evaluate...\n",
      "Save clusters...\n"
     ]
    },
    {
     "data": {
      "application/vnd.jupyter.widget-view+json": {
       "model_id": "556ae5edd0e64128bb205b8149bf07e9",
       "version_major": 2,
       "version_minor": 0
      },
      "text/plain": [
       "HBox(children=(IntProgress(value=0, max=11737), HTML(value='')))"
      ]
     },
     "metadata": {},
     "output_type": "display_data"
    },
    {
     "name": "stdout",
     "output_type": "stream",
     "text": [
      "\n",
      "Delete outliers...\n"
     ]
    },
    {
     "data": {
      "application/vnd.jupyter.widget-view+json": {
       "model_id": "c8bbbb7b48e64488acdca9cf06dae9b7",
       "version_major": 2,
       "version_minor": 0
      },
      "text/plain": [
       "HBox(children=(IntProgress(value=0, max=2038), HTML(value='')))"
      ]
     },
     "metadata": {},
     "output_type": "display_data"
    },
    {
     "name": "stdout",
     "output_type": "stream",
     "text": [
      "\n",
      "Calculate confusion...\n"
     ]
    },
    {
     "data": {
      "application/vnd.jupyter.widget-view+json": {
       "model_id": "f954c5e4c727490c82f412eacf5bc0d0",
       "version_major": 2,
       "version_minor": 0
      },
      "text/plain": [
       "HBox(children=(IntProgress(value=0, max=2038), HTML(value='')))"
      ]
     },
     "metadata": {},
     "output_type": "display_data"
    },
    {
     "name": "stdout",
     "output_type": "stream",
     "text": [
      "\n",
      "Calculate entropy & purity...\n"
     ]
    },
    {
     "data": {
      "application/vnd.jupyter.widget-view+json": {
       "model_id": "d4565d48b2a44072813a9e3e3041d16a",
       "version_major": 2,
       "version_minor": 0
      },
      "text/plain": [
       "HBox(children=(IntProgress(value=0, max=2038), HTML(value='')))"
      ]
     },
     "metadata": {},
     "output_type": "display_data"
    },
    {
     "name": "stdout",
     "output_type": "stream",
     "text": [
      "\n",
      "Calculate F-measure...\n"
     ]
    },
    {
     "data": {
      "application/vnd.jupyter.widget-view+json": {
       "model_id": "ceda831594414ed9899e9a2745145c55",
       "version_major": 2,
       "version_minor": 0
      },
      "text/plain": [
       "HBox(children=(IntProgress(value=0, max=3001), HTML(value='')))"
      ]
     },
     "metadata": {},
     "output_type": "display_data"
    },
    {
     "name": "stdout",
     "output_type": "stream",
     "text": [
      "\n",
      "Eps = 0.6150000000000001\n",
      "F-measure = 0.6411787229785999\n",
      "Start evaluate...\n",
      "Save clusters...\n"
     ]
    },
    {
     "data": {
      "application/vnd.jupyter.widget-view+json": {
       "model_id": "2c5c7cf13c0844abbe0cd3cbd3e95f53",
       "version_major": 2,
       "version_minor": 0
      },
      "text/plain": [
       "HBox(children=(IntProgress(value=0, max=11737), HTML(value='')))"
      ]
     },
     "metadata": {},
     "output_type": "display_data"
    },
    {
     "name": "stdout",
     "output_type": "stream",
     "text": [
      "\n",
      "Delete outliers...\n"
     ]
    },
    {
     "data": {
      "application/vnd.jupyter.widget-view+json": {
       "model_id": "ff7d80e6d0b9463fa17b7cccada826bc",
       "version_major": 2,
       "version_minor": 0
      },
      "text/plain": [
       "HBox(children=(IntProgress(value=0, max=2038), HTML(value='')))"
      ]
     },
     "metadata": {},
     "output_type": "display_data"
    },
    {
     "name": "stdout",
     "output_type": "stream",
     "text": [
      "\n",
      "Calculate confusion...\n"
     ]
    },
    {
     "data": {
      "application/vnd.jupyter.widget-view+json": {
       "model_id": "1a00cf1f386d4099be0e8cb5eac807ca",
       "version_major": 2,
       "version_minor": 0
      },
      "text/plain": [
       "HBox(children=(IntProgress(value=0, max=2038), HTML(value='')))"
      ]
     },
     "metadata": {},
     "output_type": "display_data"
    },
    {
     "name": "stdout",
     "output_type": "stream",
     "text": [
      "\n",
      "Calculate entropy & purity...\n"
     ]
    },
    {
     "data": {
      "application/vnd.jupyter.widget-view+json": {
       "model_id": "64911b6bad43479795905fe91ffad353",
       "version_major": 2,
       "version_minor": 0
      },
      "text/plain": [
       "HBox(children=(IntProgress(value=0, max=2038), HTML(value='')))"
      ]
     },
     "metadata": {},
     "output_type": "display_data"
    },
    {
     "name": "stdout",
     "output_type": "stream",
     "text": [
      "\n",
      "Calculate F-measure...\n"
     ]
    },
    {
     "data": {
      "application/vnd.jupyter.widget-view+json": {
       "model_id": "ed87b1e24f6f4f1e931b2b80c99b9248",
       "version_major": 2,
       "version_minor": 0
      },
      "text/plain": [
       "HBox(children=(IntProgress(value=0, max=3001), HTML(value='')))"
      ]
     },
     "metadata": {},
     "output_type": "display_data"
    },
    {
     "name": "stdout",
     "output_type": "stream",
     "text": [
      "\n",
      "Eps = 0.6200000000000001\n",
      "F-measure = 0.6418865848651008\n",
      "Start evaluate...\n",
      "Save clusters...\n"
     ]
    },
    {
     "data": {
      "application/vnd.jupyter.widget-view+json": {
       "model_id": "873a5b071249465791cfe7f0c1051e39",
       "version_major": 2,
       "version_minor": 0
      },
      "text/plain": [
       "HBox(children=(IntProgress(value=0, max=11737), HTML(value='')))"
      ]
     },
     "metadata": {},
     "output_type": "display_data"
    },
    {
     "name": "stdout",
     "output_type": "stream",
     "text": [
      "\n",
      "Delete outliers...\n"
     ]
    },
    {
     "data": {
      "application/vnd.jupyter.widget-view+json": {
       "model_id": "70366ae35db8478296a5f0d26d452bce",
       "version_major": 2,
       "version_minor": 0
      },
      "text/plain": [
       "HBox(children=(IntProgress(value=0, max=2029), HTML(value='')))"
      ]
     },
     "metadata": {},
     "output_type": "display_data"
    },
    {
     "name": "stdout",
     "output_type": "stream",
     "text": [
      "\n",
      "Calculate confusion...\n"
     ]
    },
    {
     "data": {
      "application/vnd.jupyter.widget-view+json": {
       "model_id": "f8b4f597aad14474ab95310dedd4d40d",
       "version_major": 2,
       "version_minor": 0
      },
      "text/plain": [
       "HBox(children=(IntProgress(value=0, max=2029), HTML(value='')))"
      ]
     },
     "metadata": {},
     "output_type": "display_data"
    },
    {
     "name": "stdout",
     "output_type": "stream",
     "text": [
      "\n",
      "Calculate entropy & purity...\n"
     ]
    },
    {
     "data": {
      "application/vnd.jupyter.widget-view+json": {
       "model_id": "9c66a91a19d84c66a8cc11f36318aad8",
       "version_major": 2,
       "version_minor": 0
      },
      "text/plain": [
       "HBox(children=(IntProgress(value=0, max=2029), HTML(value='')))"
      ]
     },
     "metadata": {},
     "output_type": "display_data"
    },
    {
     "name": "stdout",
     "output_type": "stream",
     "text": [
      "\n",
      "Calculate F-measure...\n"
     ]
    },
    {
     "data": {
      "application/vnd.jupyter.widget-view+json": {
       "model_id": "cba866c8fa1a4d70a2a163108abaf2cd",
       "version_major": 2,
       "version_minor": 0
      },
      "text/plain": [
       "HBox(children=(IntProgress(value=0, max=3001), HTML(value='')))"
      ]
     },
     "metadata": {},
     "output_type": "display_data"
    },
    {
     "name": "stdout",
     "output_type": "stream",
     "text": [
      "\n",
      "Eps = 0.6250000000000001\n",
      "F-measure = 0.6394991329743259\n",
      "Start evaluate...\n",
      "Save clusters...\n"
     ]
    },
    {
     "data": {
      "application/vnd.jupyter.widget-view+json": {
       "model_id": "e9a8ea9b6b554d359eb159b585740892",
       "version_major": 2,
       "version_minor": 0
      },
      "text/plain": [
       "HBox(children=(IntProgress(value=0, max=11737), HTML(value='')))"
      ]
     },
     "metadata": {},
     "output_type": "display_data"
    },
    {
     "name": "stdout",
     "output_type": "stream",
     "text": [
      "\n",
      "Delete outliers...\n"
     ]
    },
    {
     "data": {
      "application/vnd.jupyter.widget-view+json": {
       "model_id": "b56c8013babf40518843f3cdd7d7d0a9",
       "version_major": 2,
       "version_minor": 0
      },
      "text/plain": [
       "HBox(children=(IntProgress(value=0, max=2032), HTML(value='')))"
      ]
     },
     "metadata": {},
     "output_type": "display_data"
    },
    {
     "name": "stdout",
     "output_type": "stream",
     "text": [
      "\n",
      "Calculate confusion...\n"
     ]
    },
    {
     "data": {
      "application/vnd.jupyter.widget-view+json": {
       "model_id": "6801f3301cb7474f9db4f7aff95b9b42",
       "version_major": 2,
       "version_minor": 0
      },
      "text/plain": [
       "HBox(children=(IntProgress(value=0, max=2032), HTML(value='')))"
      ]
     },
     "metadata": {},
     "output_type": "display_data"
    },
    {
     "name": "stdout",
     "output_type": "stream",
     "text": [
      "\n",
      "Calculate entropy & purity...\n"
     ]
    },
    {
     "data": {
      "application/vnd.jupyter.widget-view+json": {
       "model_id": "c8e4f1e8d7fc439cb17ff1065c5055a1",
       "version_major": 2,
       "version_minor": 0
      },
      "text/plain": [
       "HBox(children=(IntProgress(value=0, max=2032), HTML(value='')))"
      ]
     },
     "metadata": {},
     "output_type": "display_data"
    },
    {
     "name": "stdout",
     "output_type": "stream",
     "text": [
      "\n",
      "Calculate F-measure...\n"
     ]
    },
    {
     "data": {
      "application/vnd.jupyter.widget-view+json": {
       "model_id": "b245f4ad37a84812bca7ade794baf238",
       "version_major": 2,
       "version_minor": 0
      },
      "text/plain": [
       "HBox(children=(IntProgress(value=0, max=3001), HTML(value='')))"
      ]
     },
     "metadata": {},
     "output_type": "display_data"
    },
    {
     "name": "stdout",
     "output_type": "stream",
     "text": [
      "\n",
      "Eps = 0.6300000000000001\n",
      "F-measure = 0.6409494687296496\n",
      "Start evaluate...\n",
      "Save clusters...\n"
     ]
    },
    {
     "data": {
      "application/vnd.jupyter.widget-view+json": {
       "model_id": "10de581ca4e44fcb9d6cd75b60c845d3",
       "version_major": 2,
       "version_minor": 0
      },
      "text/plain": [
       "HBox(children=(IntProgress(value=0, max=11737), HTML(value='')))"
      ]
     },
     "metadata": {},
     "output_type": "display_data"
    },
    {
     "name": "stdout",
     "output_type": "stream",
     "text": [
      "\n",
      "Delete outliers...\n"
     ]
    },
    {
     "data": {
      "application/vnd.jupyter.widget-view+json": {
       "model_id": "ba92c8763b88479580f3ab12f42632cd",
       "version_major": 2,
       "version_minor": 0
      },
      "text/plain": [
       "HBox(children=(IntProgress(value=0, max=2032), HTML(value='')))"
      ]
     },
     "metadata": {},
     "output_type": "display_data"
    },
    {
     "name": "stdout",
     "output_type": "stream",
     "text": [
      "\n",
      "Calculate confusion...\n"
     ]
    },
    {
     "data": {
      "application/vnd.jupyter.widget-view+json": {
       "model_id": "f93870d06a7544b2b90d3d0c9b912282",
       "version_major": 2,
       "version_minor": 0
      },
      "text/plain": [
       "HBox(children=(IntProgress(value=0, max=2032), HTML(value='')))"
      ]
     },
     "metadata": {},
     "output_type": "display_data"
    },
    {
     "name": "stdout",
     "output_type": "stream",
     "text": [
      "\n",
      "Calculate entropy & purity...\n"
     ]
    },
    {
     "data": {
      "application/vnd.jupyter.widget-view+json": {
       "model_id": "c69a11178173425fa832adebc5fad449",
       "version_major": 2,
       "version_minor": 0
      },
      "text/plain": [
       "HBox(children=(IntProgress(value=0, max=2032), HTML(value='')))"
      ]
     },
     "metadata": {},
     "output_type": "display_data"
    },
    {
     "name": "stdout",
     "output_type": "stream",
     "text": [
      "\n",
      "Calculate F-measure...\n"
     ]
    },
    {
     "data": {
      "application/vnd.jupyter.widget-view+json": {
       "model_id": "aed656337ce04948b83005be58a1752c",
       "version_major": 2,
       "version_minor": 0
      },
      "text/plain": [
       "HBox(children=(IntProgress(value=0, max=3001), HTML(value='')))"
      ]
     },
     "metadata": {},
     "output_type": "display_data"
    },
    {
     "name": "stdout",
     "output_type": "stream",
     "text": [
      "\n",
      "Eps = 0.6350000000000001\n",
      "F-measure = 0.6411536680180757\n",
      "Start evaluate...\n",
      "Save clusters...\n"
     ]
    },
    {
     "data": {
      "application/vnd.jupyter.widget-view+json": {
       "model_id": "b8d52f9f66d144f6a22b8a6f1f438c75",
       "version_major": 2,
       "version_minor": 0
      },
      "text/plain": [
       "HBox(children=(IntProgress(value=0, max=11737), HTML(value='')))"
      ]
     },
     "metadata": {},
     "output_type": "display_data"
    },
    {
     "name": "stdout",
     "output_type": "stream",
     "text": [
      "\n",
      "Delete outliers...\n"
     ]
    },
    {
     "data": {
      "application/vnd.jupyter.widget-view+json": {
       "model_id": "436c20797a6a4c538963802ce58153c2",
       "version_major": 2,
       "version_minor": 0
      },
      "text/plain": [
       "HBox(children=(IntProgress(value=0, max=2031), HTML(value='')))"
      ]
     },
     "metadata": {},
     "output_type": "display_data"
    },
    {
     "name": "stdout",
     "output_type": "stream",
     "text": [
      "\n",
      "Calculate confusion...\n"
     ]
    },
    {
     "data": {
      "application/vnd.jupyter.widget-view+json": {
       "model_id": "07ec5ebf4e2c412ba5167b430c0d7a7b",
       "version_major": 2,
       "version_minor": 0
      },
      "text/plain": [
       "HBox(children=(IntProgress(value=0, max=2031), HTML(value='')))"
      ]
     },
     "metadata": {},
     "output_type": "display_data"
    },
    {
     "name": "stdout",
     "output_type": "stream",
     "text": [
      "\n",
      "Calculate entropy & purity...\n"
     ]
    },
    {
     "data": {
      "application/vnd.jupyter.widget-view+json": {
       "model_id": "f628d1e85cc84c668de79ceb033dfd0b",
       "version_major": 2,
       "version_minor": 0
      },
      "text/plain": [
       "HBox(children=(IntProgress(value=0, max=2031), HTML(value='')))"
      ]
     },
     "metadata": {},
     "output_type": "display_data"
    },
    {
     "name": "stdout",
     "output_type": "stream",
     "text": [
      "\n",
      "Calculate F-measure...\n"
     ]
    },
    {
     "data": {
      "application/vnd.jupyter.widget-view+json": {
       "model_id": "5ba9393a41554368973a10a283c398d2",
       "version_major": 2,
       "version_minor": 0
      },
      "text/plain": [
       "HBox(children=(IntProgress(value=0, max=3001), HTML(value='')))"
      ]
     },
     "metadata": {},
     "output_type": "display_data"
    },
    {
     "name": "stdout",
     "output_type": "stream",
     "text": [
      "\n",
      "Eps = 0.6400000000000001\n",
      "F-measure = 0.6404903921165993\n",
      "Start evaluate...\n",
      "Save clusters...\n"
     ]
    },
    {
     "data": {
      "application/vnd.jupyter.widget-view+json": {
       "model_id": "b512a0b44fe94a8cbbf0ec70a2d923b0",
       "version_major": 2,
       "version_minor": 0
      },
      "text/plain": [
       "HBox(children=(IntProgress(value=0, max=11737), HTML(value='')))"
      ]
     },
     "metadata": {},
     "output_type": "display_data"
    },
    {
     "name": "stdout",
     "output_type": "stream",
     "text": [
      "\n",
      "Delete outliers...\n"
     ]
    },
    {
     "data": {
      "application/vnd.jupyter.widget-view+json": {
       "model_id": "09b184a361ce4b9983a82b74f046dc77",
       "version_major": 2,
       "version_minor": 0
      },
      "text/plain": [
       "HBox(children=(IntProgress(value=0, max=2029), HTML(value='')))"
      ]
     },
     "metadata": {},
     "output_type": "display_data"
    },
    {
     "name": "stdout",
     "output_type": "stream",
     "text": [
      "\n",
      "Calculate confusion...\n"
     ]
    },
    {
     "data": {
      "application/vnd.jupyter.widget-view+json": {
       "model_id": "7f7883b7b6d84f6a889d45840b5def20",
       "version_major": 2,
       "version_minor": 0
      },
      "text/plain": [
       "HBox(children=(IntProgress(value=0, max=2029), HTML(value='')))"
      ]
     },
     "metadata": {},
     "output_type": "display_data"
    },
    {
     "name": "stdout",
     "output_type": "stream",
     "text": [
      "\n",
      "Calculate entropy & purity...\n"
     ]
    },
    {
     "data": {
      "application/vnd.jupyter.widget-view+json": {
       "model_id": "b3fdd5e0e925406e9955829516073a18",
       "version_major": 2,
       "version_minor": 0
      },
      "text/plain": [
       "HBox(children=(IntProgress(value=0, max=2029), HTML(value='')))"
      ]
     },
     "metadata": {},
     "output_type": "display_data"
    },
    {
     "name": "stdout",
     "output_type": "stream",
     "text": [
      "\n",
      "Calculate F-measure...\n"
     ]
    },
    {
     "data": {
      "application/vnd.jupyter.widget-view+json": {
       "model_id": "b112e7f03eee4b0d9fab9a1887ef8f63",
       "version_major": 2,
       "version_minor": 0
      },
      "text/plain": [
       "HBox(children=(IntProgress(value=0, max=3001), HTML(value='')))"
      ]
     },
     "metadata": {},
     "output_type": "display_data"
    },
    {
     "name": "stdout",
     "output_type": "stream",
     "text": [
      "\n",
      "Eps = 0.6450000000000001\n",
      "F-measure = 0.6413018443838469\n",
      "\n",
      "0.6200000000000001 0.6418865848651008\n",
      "Start evaluate...\n",
      "Save clusters...\n"
     ]
    },
    {
     "data": {
      "application/vnd.jupyter.widget-view+json": {
       "model_id": "ed039469ce1544b5b80235b13a4f8c0a",
       "version_major": 2,
       "version_minor": 0
      },
      "text/plain": [
       "HBox(children=(IntProgress(value=0, max=11737), HTML(value='')))"
      ]
     },
     "metadata": {},
     "output_type": "display_data"
    },
    {
     "name": "stdout",
     "output_type": "stream",
     "text": [
      "\n",
      "Delete outliers...\n"
     ]
    },
    {
     "data": {
      "application/vnd.jupyter.widget-view+json": {
       "model_id": "4d5dde33175a471da3c81d984352207c",
       "version_major": 2,
       "version_minor": 0
      },
      "text/plain": [
       "HBox(children=(IntProgress(value=0, max=2038), HTML(value='')))"
      ]
     },
     "metadata": {},
     "output_type": "display_data"
    },
    {
     "name": "stdout",
     "output_type": "stream",
     "text": [
      "\n",
      "Calculate rand...\n"
     ]
    },
    {
     "data": {
      "application/vnd.jupyter.widget-view+json": {
       "model_id": "7b58773888cb4ced867ea7b362a181cc",
       "version_major": 2,
       "version_minor": 0
      },
      "text/plain": [
       "HBox(children=(IntProgress(value=0, max=11737), HTML(value='')))"
      ]
     },
     "metadata": {},
     "output_type": "display_data"
    },
    {
     "name": "stdout",
     "output_type": "stream",
     "text": [
      "\n",
      "Calculate confusion...\n"
     ]
    },
    {
     "data": {
      "application/vnd.jupyter.widget-view+json": {
       "model_id": "f757284bcc7c403eb1965a549f24a168",
       "version_major": 2,
       "version_minor": 0
      },
      "text/plain": [
       "HBox(children=(IntProgress(value=0, max=2038), HTML(value='')))"
      ]
     },
     "metadata": {},
     "output_type": "display_data"
    },
    {
     "name": "stdout",
     "output_type": "stream",
     "text": [
      "\n",
      "Calculate entropy & purity...\n"
     ]
    },
    {
     "data": {
      "application/vnd.jupyter.widget-view+json": {
       "model_id": "2316dfceadd649979d11b254981543ad",
       "version_major": 2,
       "version_minor": 0
      },
      "text/plain": [
       "HBox(children=(IntProgress(value=0, max=2038), HTML(value='')))"
      ]
     },
     "metadata": {},
     "output_type": "display_data"
    },
    {
     "name": "stdout",
     "output_type": "stream",
     "text": [
      "\n",
      "Calculate F-measure...\n"
     ]
    },
    {
     "data": {
      "application/vnd.jupyter.widget-view+json": {
       "model_id": "6015549e28794e52b826e3b32be1c0cf",
       "version_major": 2,
       "version_minor": 0
      },
      "text/plain": [
       "HBox(children=(IntProgress(value=0, max=3001), HTML(value='')))"
      ]
     },
     "metadata": {},
     "output_type": "display_data"
    },
    {
     "name": "stdout",
     "output_type": "stream",
     "text": [
      "\n",
      "Number of clusters: 2038\n",
      "Number of outliers: 3786/11737 (32.257%)\n",
      "\n",
      "Entropy = 0.509308\n",
      "Purity = 0.857754\n",
      "F-measure = 0.641887\n",
      "\n",
      "Rand = 99.913%\n",
      "Jaccard Index = 47.134%\n"
     ]
    }
   ],
   "source": [
    "max_fm = 0\n",
    "best_eps = 0\n",
    "best_clustering = None\n",
    "\n",
    "for eps in tqdm_notebook(np.arange(0.55, 0.65, 0.005)):\n",
    "    tufano_clustering = sklearn.cluster.DBSCAN(eps=eps, min_samples=2, \n",
    "                                                   metric='precomputed').fit(dists_to_5gram)\n",
    "    \n",
    "    rand, fm = print_clustering_results_tufano_unique(tufano_clustering, unique_label_to_changes, \n",
    "                                    from_change_to_unique_label, changes_with_different_methods, \n",
    "                                    without_outliers=True, to_print=False, only_fm=True)\n",
    "    print(\"Eps =\", eps)\n",
    "    print(\"F-measure =\", fm)\n",
    "    \n",
    "    if fm > max_fm:\n",
    "        max_fm = fm\n",
    "        best_eps = eps\n",
    "        best_clustering = tufano_clustering\n",
    "\n",
    "print(best_eps, max_fm)\n",
    "\n",
    "\n",
    "rand, fm = print_clustering_results_tufano_unique(best_clustering, unique_label_to_changes, \n",
    "                                    from_change_to_unique_label, changes_with_different_methods, \n",
    "                                    without_outliers=True, to_print=True)"
   ]
  },
  {
   "cell_type": "code",
   "execution_count": 139,
   "metadata": {},
   "outputs": [
    {
     "name": "stdout",
     "output_type": "stream",
     "text": [
      "Start evaluate...\n",
      "Save clusters...\n"
     ]
    },
    {
     "data": {
      "application/vnd.jupyter.widget-view+json": {
       "model_id": "3e82a6a5bc8a4d41bb688d03e630d6d1",
       "version_major": 2,
       "version_minor": 0
      },
      "text/plain": [
       "HBox(children=(IntProgress(value=0, max=11737), HTML(value='')))"
      ]
     },
     "metadata": {},
     "output_type": "display_data"
    },
    {
     "name": "stdout",
     "output_type": "stream",
     "text": [
      "\n",
      "Delete outliers...\n"
     ]
    },
    {
     "data": {
      "application/vnd.jupyter.widget-view+json": {
       "model_id": "4d253ad330cb4c468ccfcea733cbe713",
       "version_major": 2,
       "version_minor": 0
      },
      "text/plain": [
       "HBox(children=(IntProgress(value=0, max=2038), HTML(value='')))"
      ]
     },
     "metadata": {},
     "output_type": "display_data"
    },
    {
     "name": "stdout",
     "output_type": "stream",
     "text": [
      "\n",
      "Calculate confusion...\n"
     ]
    },
    {
     "data": {
      "application/vnd.jupyter.widget-view+json": {
       "model_id": "5c17a5f91b2e412b8e910ead8904e81b",
       "version_major": 2,
       "version_minor": 0
      },
      "text/plain": [
       "HBox(children=(IntProgress(value=0, max=2038), HTML(value='')))"
      ]
     },
     "metadata": {},
     "output_type": "display_data"
    },
    {
     "name": "stdout",
     "output_type": "stream",
     "text": [
      "\n",
      "Calculate entropy & purity...\n"
     ]
    },
    {
     "data": {
      "application/vnd.jupyter.widget-view+json": {
       "model_id": "7a64915866c94e97a8e63c1010e355d7",
       "version_major": 2,
       "version_minor": 0
      },
      "text/plain": [
       "HBox(children=(IntProgress(value=0, max=2038), HTML(value='')))"
      ]
     },
     "metadata": {},
     "output_type": "display_data"
    },
    {
     "name": "stdout",
     "output_type": "stream",
     "text": [
      "\n",
      "Calculate F-measure...\n"
     ]
    },
    {
     "data": {
      "application/vnd.jupyter.widget-view+json": {
       "model_id": "dee22417f8894775b0535acc32a5948a",
       "version_major": 2,
       "version_minor": 0
      },
      "text/plain": [
       "HBox(children=(IntProgress(value=0, max=3001), HTML(value='')))"
      ]
     },
     "metadata": {},
     "output_type": "display_data"
    },
    {
     "name": "stdout",
     "output_type": "stream",
     "text": [
      "\n",
      "Number of clusters: 2038\n",
      "Number of outliers: 3786/11737 (32.257%)\n",
      "\n",
      "Entropy = 0.509308\n",
      "Purity = 0.857754\n",
      "F-measure = 0.641887\n",
      "\n",
      "Rand = 0%\n",
      "Jaccard Index = 0%\n",
      "Pure classes: 1771\n"
     ]
    }
   ],
   "source": [
    "tufano_clustering = sklearn.cluster.DBSCAN(eps=0.62, min_samples=2, \n",
    "                                                   metric='precomputed').fit(dists_to_5gram)\n",
    "    \n",
    "rand, fm = print_clustering_results_tufano_unique(tufano_clustering, unique_label_to_changes, \n",
    "                                from_change_to_unique_label, changes_with_different_methods, \n",
    "                                without_outliers=True, to_print=True, only_fm=True)"
   ]
  },
  {
   "cell_type": "code",
   "execution_count": null,
   "metadata": {},
   "outputs": [],
   "source": []
  },
  {
   "cell_type": "code",
   "execution_count": null,
   "metadata": {},
   "outputs": [],
   "source": []
  },
  {
   "cell_type": "code",
   "execution_count": null,
   "metadata": {},
   "outputs": [],
   "source": []
  },
  {
   "cell_type": "code",
   "execution_count": null,
   "metadata": {},
   "outputs": [],
   "source": []
  },
  {
   "cell_type": "code",
   "execution_count": null,
   "metadata": {},
   "outputs": [],
   "source": []
  },
  {
   "cell_type": "code",
   "execution_count": null,
   "metadata": {},
   "outputs": [],
   "source": []
  },
  {
   "cell_type": "code",
   "execution_count": null,
   "metadata": {},
   "outputs": [],
   "source": []
  },
  {
   "cell_type": "code",
   "execution_count": null,
   "metadata": {},
   "outputs": [],
   "source": []
  },
  {
   "cell_type": "code",
   "execution_count": null,
   "metadata": {},
   "outputs": [],
   "source": []
  },
  {
   "cell_type": "code",
   "execution_count": 151,
   "metadata": {},
   "outputs": [
    {
     "data": {
      "text/plain": [
       "10515"
      ]
     },
     "execution_count": 151,
     "metadata": {},
     "output_type": "execute_result"
    }
   ],
   "source": [
    "changes_with_different_methods_filtered = [elem for elem in changes_with_different_methods \n",
    "                                           if len(unique_label_to_changes[elem[1]]) > 2]\n",
    "len(changes_with_different_methods_filtered)"
   ]
  },
  {
   "cell_type": "code",
   "execution_count": 83,
   "metadata": {},
   "outputs": [
    {
     "data": {
      "application/vnd.jupyter.widget-view+json": {
       "model_id": "254a3a3c4ef14ca69a9811e875496e0a",
       "version_major": 2,
       "version_minor": 0
      },
      "text/plain": [
       "HBox(children=(IntProgress(value=0, max=4373), HTML(value='')))"
      ]
     },
     "metadata": {},
     "output_type": "display_data"
    },
    {
     "name": "stdout",
     "output_type": "stream",
     "text": [
      "\n"
     ]
    },
    {
     "data": {
      "application/vnd.jupyter.widget-view+json": {
       "model_id": "203dfd9f84a9446a8b7e7029e08bc488",
       "version_major": 2,
       "version_minor": 0
      },
      "text/plain": [
       "HBox(children=(IntProgress(value=0, max=4373), HTML(value='')))"
      ]
     },
     "metadata": {},
     "output_type": "display_data"
    },
    {
     "name": "stdout",
     "output_type": "stream",
     "text": [
      "\n"
     ]
    },
    {
     "data": {
      "application/vnd.jupyter.widget-view+json": {
       "model_id": "6814d271dc2f4eaa950e0db22a23a46f",
       "version_major": 2,
       "version_minor": 0
      },
      "text/plain": [
       "HBox(children=(IntProgress(value=0, max=4373), HTML(value='')))"
      ]
     },
     "metadata": {},
     "output_type": "display_data"
    },
    {
     "name": "stdout",
     "output_type": "stream",
     "text": [
      "\n"
     ]
    },
    {
     "data": {
      "application/vnd.jupyter.widget-view+json": {
       "model_id": "d963437a0a67451c8fbee2d51715ff76",
       "version_major": 2,
       "version_minor": 0
      },
      "text/plain": [
       "HBox(children=(IntProgress(value=0, max=4373), HTML(value='')))"
      ]
     },
     "metadata": {},
     "output_type": "display_data"
    },
    {
     "name": "stdout",
     "output_type": "stream",
     "text": [
      "\n"
     ]
    },
    {
     "data": {
      "application/vnd.jupyter.widget-view+json": {
       "model_id": "c97a3146fff1461fa00c363b6055e3b0",
       "version_major": 2,
       "version_minor": 0
      },
      "text/plain": [
       "HBox(children=(IntProgress(value=0, max=4373), HTML(value='')))"
      ]
     },
     "metadata": {},
     "output_type": "display_data"
    },
    {
     "name": "stdout",
     "output_type": "stream",
     "text": [
      "\n"
     ]
    }
   ],
   "source": [
    "hists_1gram_filtered = get_hists(RESULTS_CPATMINER, \"1gram\", changes_with_different_methods_filtered)\n",
    "hists_2gram_filtered = get_hists(RESULTS_CPATMINER, \"2gram\", changes_with_different_methods_filtered)\n",
    "hists_3gram_filtered = get_hists(RESULTS_CPATMINER, \"3gram\", changes_with_different_methods_filtered)\n",
    "hists_4gram_filtered = get_hists(RESULTS_CPATMINER, \"4gram\", changes_with_different_methods_filtered)\n",
    "hists_5gram_filtered = get_hists(RESULTS_CPATMINER, \"5gram\", changes_with_different_methods_filtered)"
   ]
  },
  {
   "cell_type": "code",
   "execution_count": 85,
   "metadata": {},
   "outputs": [
    {
     "data": {
      "application/vnd.jupyter.widget-view+json": {
       "model_id": "86a137ef12b741f18c3306bfbfee2a6c",
       "version_major": 2,
       "version_minor": 0
      },
      "text/plain": [
       "HBox(children=(IntProgress(value=0, max=4373), HTML(value='')))"
      ]
     },
     "metadata": {},
     "output_type": "display_data"
    },
    {
     "name": "stdout",
     "output_type": "stream",
     "text": [
      "\n"
     ]
    }
   ],
   "source": [
    "concat_hists_filtered_to_5gram = []\n",
    "\n",
    "num_changes = len(hists_1gram_filtered)\n",
    "\n",
    "for i in tqdm_notebook(range(num_changes)):\n",
    "    concat_hist = []\n",
    "    \n",
    "    for gram_ind, amount in hists_1gram_filtered[i]:\n",
    "        concat_hist.append((gram_ind, amount))\n",
    "    \n",
    "    for gram_ind, amount in hists_2gram_filtered[i]:\n",
    "        concat_hist.append((gram_ind + hist_len_1gram, amount))\n",
    "        \n",
    "    for gram_ind, amount in hists_3gram_filtered[i]:\n",
    "        concat_hist.append((gram_ind + hist_len_1gram + hist_len_2gram, amount))\n",
    "        \n",
    "    for gram_ind, amount in hists_4gram_filtered[i]:\n",
    "        concat_hist.append((gram_ind + hist_len_1gram + hist_len_2gram + hist_len_3gram, amount))\n",
    "        \n",
    "    for gram_ind, amount in hists_5gram_filtered[i]:\n",
    "        concat_hist.append((gram_ind + hist_len_1gram + \n",
    "                            hist_len_2gram + hist_len_3gram + hist_len_4gram, \n",
    "                            amount))\n",
    "            \n",
    "    concat_hists_filtered_to_5gram.append(concat_hist)\n",
    "\n",
    "concat_hists_len_to_5gram = hist_len_1gram + hist_len_2gram + hist_len_3gram\n",
    "concat_hists_len_to_5gram += hist_len_4gram + hist_len_5gram\n"
   ]
  },
  {
   "cell_type": "code",
   "execution_count": 86,
   "metadata": {},
   "outputs": [],
   "source": [
    "concat_hists_filtered_to_5gram = np.array(concat_hists_filtered_to_5gram)"
   ]
  },
  {
   "cell_type": "code",
   "execution_count": 87,
   "metadata": {},
   "outputs": [
    {
     "data": {
      "application/vnd.jupyter.widget-view+json": {
       "model_id": "fe211bc98f5d49fd9bbce2eba934f766",
       "version_major": 2,
       "version_minor": 0
      },
      "text/plain": [
       "HBox(children=(IntProgress(value=0, max=4373), HTML(value='')))"
      ]
     },
     "metadata": {},
     "output_type": "display_data"
    },
    {
     "name": "stdout",
     "output_type": "stream",
     "text": [
      "\n"
     ]
    }
   ],
   "source": [
    "dists_filtered_to_5gram = get_dists_optimized(concat_hists_filtered_to_5gram, \n",
    "                                         canberra_metric_optimized, concat_hists_len_to_5gram)"
   ]
  },
  {
   "cell_type": "code",
   "execution_count": 154,
   "metadata": {},
   "outputs": [
    {
     "name": "stdout",
     "output_type": "stream",
     "text": [
      "2390\n"
     ]
    }
   ],
   "source": [
    "unique_label_to_changes_filtered = collections.defaultdict(list)\n",
    "from_change_to_unique_label_filtered = collections.defaultdict(list)\n",
    "\n",
    "for elem in changes_with_different_methods_filtered:\n",
    "    unique_label_to_changes_filtered[elem[1]].append(elem)\n",
    "    from_change_to_unique_label_filtered[elem].append(elem[1])\n",
    "    \n",
    "print(len(unique_label_to_changes_filtered))"
   ]
  },
  {
   "cell_type": "code",
   "execution_count": 89,
   "metadata": {},
   "outputs": [
    {
     "data": {
      "application/vnd.jupyter.widget-view+json": {
       "model_id": "70df8b3ae0f44d789ceb5262ad8a6fce",
       "version_major": 2,
       "version_minor": 0
      },
      "text/plain": [
       "HBox(children=(IntProgress(value=0, max=20), HTML(value='')))"
      ]
     },
     "metadata": {},
     "output_type": "display_data"
    },
    {
     "name": "stdout",
     "output_type": "stream",
     "text": [
      "Start evaluate...\n",
      "Save clusters...\n"
     ]
    },
    {
     "data": {
      "application/vnd.jupyter.widget-view+json": {
       "model_id": "64e162e506e04b0eb4410af08454aad8",
       "version_major": 2,
       "version_minor": 0
      },
      "text/plain": [
       "HBox(children=(IntProgress(value=0, max=4373), HTML(value='')))"
      ]
     },
     "metadata": {},
     "output_type": "display_data"
    },
    {
     "name": "stdout",
     "output_type": "stream",
     "text": [
      "\n",
      "Delete outliers...\n"
     ]
    },
    {
     "data": {
      "application/vnd.jupyter.widget-view+json": {
       "model_id": "abd576e854904a5aac8b6c244a3e2039",
       "version_major": 2,
       "version_minor": 0
      },
      "text/plain": [
       "HBox(children=(IntProgress(value=0, max=596), HTML(value='')))"
      ]
     },
     "metadata": {},
     "output_type": "display_data"
    },
    {
     "name": "stdout",
     "output_type": "stream",
     "text": [
      "\n",
      "Calculate confusion...\n"
     ]
    },
    {
     "data": {
      "application/vnd.jupyter.widget-view+json": {
       "model_id": "abcb4fce49c54291b7e10613cd27f337",
       "version_major": 2,
       "version_minor": 0
      },
      "text/plain": [
       "HBox(children=(IntProgress(value=0, max=596), HTML(value='')))"
      ]
     },
     "metadata": {},
     "output_type": "display_data"
    },
    {
     "name": "stdout",
     "output_type": "stream",
     "text": [
      "\n",
      "Calculate entropy & purity...\n"
     ]
    },
    {
     "data": {
      "application/vnd.jupyter.widget-view+json": {
       "model_id": "6037c3d683c043d8a958c0dfc79d86b8",
       "version_major": 2,
       "version_minor": 0
      },
      "text/plain": [
       "HBox(children=(IntProgress(value=0, max=596), HTML(value='')))"
      ]
     },
     "metadata": {},
     "output_type": "display_data"
    },
    {
     "name": "stdout",
     "output_type": "stream",
     "text": [
      "\n",
      "Calculate F-measure...\n"
     ]
    },
    {
     "data": {
      "application/vnd.jupyter.widget-view+json": {
       "model_id": "29d365a0d10d4c92b31ab9db2611cd93",
       "version_major": 2,
       "version_minor": 0
      },
      "text/plain": [
       "HBox(children=(IntProgress(value=0, max=511), HTML(value='')))"
      ]
     },
     "metadata": {},
     "output_type": "display_data"
    },
    {
     "name": "stdout",
     "output_type": "stream",
     "text": [
      "\n",
      "Eps = 0.1\n",
      "F-measure = 0.7222121051166008\n",
      "Start evaluate...\n",
      "Save clusters...\n"
     ]
    },
    {
     "data": {
      "application/vnd.jupyter.widget-view+json": {
       "model_id": "e9a818bc7e964aa3a353683422188f97",
       "version_major": 2,
       "version_minor": 0
      },
      "text/plain": [
       "HBox(children=(IntProgress(value=0, max=4373), HTML(value='')))"
      ]
     },
     "metadata": {},
     "output_type": "display_data"
    },
    {
     "name": "stdout",
     "output_type": "stream",
     "text": [
      "\n",
      "Delete outliers...\n"
     ]
    },
    {
     "data": {
      "application/vnd.jupyter.widget-view+json": {
       "model_id": "ff8467718d324e168b0c98725c8d72e7",
       "version_major": 2,
       "version_minor": 0
      },
      "text/plain": [
       "HBox(children=(IntProgress(value=0, max=588), HTML(value='')))"
      ]
     },
     "metadata": {},
     "output_type": "display_data"
    },
    {
     "name": "stdout",
     "output_type": "stream",
     "text": [
      "\n",
      "Calculate confusion...\n"
     ]
    },
    {
     "data": {
      "application/vnd.jupyter.widget-view+json": {
       "model_id": "c9b66ea991304f9caeeae440f7d5fe0b",
       "version_major": 2,
       "version_minor": 0
      },
      "text/plain": [
       "HBox(children=(IntProgress(value=0, max=588), HTML(value='')))"
      ]
     },
     "metadata": {},
     "output_type": "display_data"
    },
    {
     "name": "stdout",
     "output_type": "stream",
     "text": [
      "\n",
      "Calculate entropy & purity...\n"
     ]
    },
    {
     "data": {
      "application/vnd.jupyter.widget-view+json": {
       "model_id": "ec6240b0baa44bce9a4ae35e56738115",
       "version_major": 2,
       "version_minor": 0
      },
      "text/plain": [
       "HBox(children=(IntProgress(value=0, max=588), HTML(value='')))"
      ]
     },
     "metadata": {},
     "output_type": "display_data"
    },
    {
     "name": "stdout",
     "output_type": "stream",
     "text": [
      "\n",
      "Calculate F-measure...\n"
     ]
    },
    {
     "data": {
      "application/vnd.jupyter.widget-view+json": {
       "model_id": "c029904452ba4d438bb543d4abb68138",
       "version_major": 2,
       "version_minor": 0
      },
      "text/plain": [
       "HBox(children=(IntProgress(value=0, max=511), HTML(value='')))"
      ]
     },
     "metadata": {},
     "output_type": "display_data"
    },
    {
     "name": "stdout",
     "output_type": "stream",
     "text": [
      "\n",
      "Eps = 0.15000000000000002\n",
      "F-measure = 0.7357756463000191\n",
      "Start evaluate...\n",
      "Save clusters...\n"
     ]
    },
    {
     "data": {
      "application/vnd.jupyter.widget-view+json": {
       "model_id": "ad7e9dbecc0b4b9e87c70940567a5aa3",
       "version_major": 2,
       "version_minor": 0
      },
      "text/plain": [
       "HBox(children=(IntProgress(value=0, max=4373), HTML(value='')))"
      ]
     },
     "metadata": {},
     "output_type": "display_data"
    },
    {
     "name": "stdout",
     "output_type": "stream",
     "text": [
      "\n",
      "Delete outliers...\n"
     ]
    },
    {
     "data": {
      "application/vnd.jupyter.widget-view+json": {
       "model_id": "c297124c5fb14b7ca4cb98178d38fcb2",
       "version_major": 2,
       "version_minor": 0
      },
      "text/plain": [
       "HBox(children=(IntProgress(value=0, max=581), HTML(value='')))"
      ]
     },
     "metadata": {},
     "output_type": "display_data"
    },
    {
     "name": "stdout",
     "output_type": "stream",
     "text": [
      "\n",
      "Calculate confusion...\n"
     ]
    },
    {
     "data": {
      "application/vnd.jupyter.widget-view+json": {
       "model_id": "64b4e5567c7d43429c28b85293fcf447",
       "version_major": 2,
       "version_minor": 0
      },
      "text/plain": [
       "HBox(children=(IntProgress(value=0, max=581), HTML(value='')))"
      ]
     },
     "metadata": {},
     "output_type": "display_data"
    },
    {
     "name": "stdout",
     "output_type": "stream",
     "text": [
      "\n",
      "Calculate entropy & purity...\n"
     ]
    },
    {
     "data": {
      "application/vnd.jupyter.widget-view+json": {
       "model_id": "fc3668aae2e14174a346e6ada1088af0",
       "version_major": 2,
       "version_minor": 0
      },
      "text/plain": [
       "HBox(children=(IntProgress(value=0, max=581), HTML(value='')))"
      ]
     },
     "metadata": {},
     "output_type": "display_data"
    },
    {
     "name": "stdout",
     "output_type": "stream",
     "text": [
      "\n",
      "Calculate F-measure...\n"
     ]
    },
    {
     "data": {
      "application/vnd.jupyter.widget-view+json": {
       "model_id": "f4bb9eed5faa403ba6f6a97f21662ce3",
       "version_major": 2,
       "version_minor": 0
      },
      "text/plain": [
       "HBox(children=(IntProgress(value=0, max=511), HTML(value='')))"
      ]
     },
     "metadata": {},
     "output_type": "display_data"
    },
    {
     "name": "stdout",
     "output_type": "stream",
     "text": [
      "\n",
      "Eps = 0.20000000000000004\n",
      "F-measure = 0.749242365996106\n",
      "Start evaluate...\n",
      "Save clusters...\n"
     ]
    },
    {
     "data": {
      "application/vnd.jupyter.widget-view+json": {
       "model_id": "9146282c119b4ec5a978d05bed20f952",
       "version_major": 2,
       "version_minor": 0
      },
      "text/plain": [
       "HBox(children=(IntProgress(value=0, max=4373), HTML(value='')))"
      ]
     },
     "metadata": {},
     "output_type": "display_data"
    },
    {
     "name": "stdout",
     "output_type": "stream",
     "text": [
      "\n",
      "Delete outliers...\n"
     ]
    },
    {
     "data": {
      "application/vnd.jupyter.widget-view+json": {
       "model_id": "67e575249c7c40cf96500130c6192dab",
       "version_major": 2,
       "version_minor": 0
      },
      "text/plain": [
       "HBox(children=(IntProgress(value=0, max=568), HTML(value='')))"
      ]
     },
     "metadata": {},
     "output_type": "display_data"
    },
    {
     "name": "stdout",
     "output_type": "stream",
     "text": [
      "\n",
      "Calculate confusion...\n"
     ]
    },
    {
     "data": {
      "application/vnd.jupyter.widget-view+json": {
       "model_id": "09d0a5d00bf14aa68d5264f193afaff5",
       "version_major": 2,
       "version_minor": 0
      },
      "text/plain": [
       "HBox(children=(IntProgress(value=0, max=568), HTML(value='')))"
      ]
     },
     "metadata": {},
     "output_type": "display_data"
    },
    {
     "name": "stdout",
     "output_type": "stream",
     "text": [
      "\n",
      "Calculate entropy & purity...\n"
     ]
    },
    {
     "data": {
      "application/vnd.jupyter.widget-view+json": {
       "model_id": "2d15d6a3c1394bb5980f8409de0e02b9",
       "version_major": 2,
       "version_minor": 0
      },
      "text/plain": [
       "HBox(children=(IntProgress(value=0, max=568), HTML(value='')))"
      ]
     },
     "metadata": {},
     "output_type": "display_data"
    },
    {
     "name": "stdout",
     "output_type": "stream",
     "text": [
      "\n",
      "Calculate F-measure...\n"
     ]
    },
    {
     "data": {
      "application/vnd.jupyter.widget-view+json": {
       "model_id": "8d2bf864abe346b0bce7c8c54d31d34f",
       "version_major": 2,
       "version_minor": 0
      },
      "text/plain": [
       "HBox(children=(IntProgress(value=0, max=511), HTML(value='')))"
      ]
     },
     "metadata": {},
     "output_type": "display_data"
    },
    {
     "name": "stdout",
     "output_type": "stream",
     "text": [
      "\n",
      "Eps = 0.25000000000000006\n",
      "F-measure = 0.7603836800189181\n",
      "Start evaluate...\n",
      "Save clusters...\n"
     ]
    },
    {
     "data": {
      "application/vnd.jupyter.widget-view+json": {
       "model_id": "9092de54693d46dd8da22ed7ff952b63",
       "version_major": 2,
       "version_minor": 0
      },
      "text/plain": [
       "HBox(children=(IntProgress(value=0, max=4373), HTML(value='')))"
      ]
     },
     "metadata": {},
     "output_type": "display_data"
    },
    {
     "name": "stdout",
     "output_type": "stream",
     "text": [
      "\n",
      "Delete outliers...\n"
     ]
    },
    {
     "data": {
      "application/vnd.jupyter.widget-view+json": {
       "model_id": "861f8e7d8f95488fa97e1b0f44413da6",
       "version_major": 2,
       "version_minor": 0
      },
      "text/plain": [
       "HBox(children=(IntProgress(value=0, max=565), HTML(value='')))"
      ]
     },
     "metadata": {},
     "output_type": "display_data"
    },
    {
     "name": "stdout",
     "output_type": "stream",
     "text": [
      "\n",
      "Calculate confusion...\n"
     ]
    },
    {
     "data": {
      "application/vnd.jupyter.widget-view+json": {
       "model_id": "81aa1ce8a45d4cf382e08505218a1e3b",
       "version_major": 2,
       "version_minor": 0
      },
      "text/plain": [
       "HBox(children=(IntProgress(value=0, max=565), HTML(value='')))"
      ]
     },
     "metadata": {},
     "output_type": "display_data"
    },
    {
     "name": "stdout",
     "output_type": "stream",
     "text": [
      "\n",
      "Calculate entropy & purity...\n"
     ]
    },
    {
     "data": {
      "application/vnd.jupyter.widget-view+json": {
       "model_id": "4bc4b208086d4cd89409542c59399aea",
       "version_major": 2,
       "version_minor": 0
      },
      "text/plain": [
       "HBox(children=(IntProgress(value=0, max=565), HTML(value='')))"
      ]
     },
     "metadata": {},
     "output_type": "display_data"
    },
    {
     "name": "stdout",
     "output_type": "stream",
     "text": [
      "\n",
      "Calculate F-measure...\n"
     ]
    },
    {
     "data": {
      "application/vnd.jupyter.widget-view+json": {
       "model_id": "e066315fa54d45229504da93af0db46f",
       "version_major": 2,
       "version_minor": 0
      },
      "text/plain": [
       "HBox(children=(IntProgress(value=0, max=511), HTML(value='')))"
      ]
     },
     "metadata": {},
     "output_type": "display_data"
    },
    {
     "name": "stdout",
     "output_type": "stream",
     "text": [
      "\n",
      "Eps = 0.30000000000000004\n",
      "F-measure = 0.7666050504203188\n",
      "Start evaluate...\n",
      "Save clusters...\n"
     ]
    },
    {
     "data": {
      "application/vnd.jupyter.widget-view+json": {
       "model_id": "877bb6d092a34b49b46cc3b145c1a486",
       "version_major": 2,
       "version_minor": 0
      },
      "text/plain": [
       "HBox(children=(IntProgress(value=0, max=4373), HTML(value='')))"
      ]
     },
     "metadata": {},
     "output_type": "display_data"
    },
    {
     "name": "stdout",
     "output_type": "stream",
     "text": [
      "\n",
      "Delete outliers...\n"
     ]
    },
    {
     "data": {
      "application/vnd.jupyter.widget-view+json": {
       "model_id": "944f6023dc4b4088acfe0bdc3b153024",
       "version_major": 2,
       "version_minor": 0
      },
      "text/plain": [
       "HBox(children=(IntProgress(value=0, max=557), HTML(value='')))"
      ]
     },
     "metadata": {},
     "output_type": "display_data"
    },
    {
     "name": "stdout",
     "output_type": "stream",
     "text": [
      "\n",
      "Calculate confusion...\n"
     ]
    },
    {
     "data": {
      "application/vnd.jupyter.widget-view+json": {
       "model_id": "1957b461ce794a3c8b10d9836cf1c166",
       "version_major": 2,
       "version_minor": 0
      },
      "text/plain": [
       "HBox(children=(IntProgress(value=0, max=557), HTML(value='')))"
      ]
     },
     "metadata": {},
     "output_type": "display_data"
    },
    {
     "name": "stdout",
     "output_type": "stream",
     "text": [
      "\n",
      "Calculate entropy & purity...\n"
     ]
    },
    {
     "data": {
      "application/vnd.jupyter.widget-view+json": {
       "model_id": "4ef53b3264e94559907dddbd510c4f53",
       "version_major": 2,
       "version_minor": 0
      },
      "text/plain": [
       "HBox(children=(IntProgress(value=0, max=557), HTML(value='')))"
      ]
     },
     "metadata": {},
     "output_type": "display_data"
    },
    {
     "name": "stdout",
     "output_type": "stream",
     "text": [
      "\n",
      "Calculate F-measure...\n"
     ]
    },
    {
     "data": {
      "application/vnd.jupyter.widget-view+json": {
       "model_id": "cf442ac2e56a4fdf93a8f51f8ced065c",
       "version_major": 2,
       "version_minor": 0
      },
      "text/plain": [
       "HBox(children=(IntProgress(value=0, max=511), HTML(value='')))"
      ]
     },
     "metadata": {},
     "output_type": "display_data"
    },
    {
     "name": "stdout",
     "output_type": "stream",
     "text": [
      "\n",
      "Eps = 0.3500000000000001\n",
      "F-measure = 0.7739594466880033\n",
      "Start evaluate...\n",
      "Save clusters...\n"
     ]
    },
    {
     "data": {
      "application/vnd.jupyter.widget-view+json": {
       "model_id": "0c7bb66c0eb74009932268cfb51d7167",
       "version_major": 2,
       "version_minor": 0
      },
      "text/plain": [
       "HBox(children=(IntProgress(value=0, max=4373), HTML(value='')))"
      ]
     },
     "metadata": {},
     "output_type": "display_data"
    },
    {
     "name": "stdout",
     "output_type": "stream",
     "text": [
      "\n",
      "Delete outliers...\n"
     ]
    },
    {
     "data": {
      "application/vnd.jupyter.widget-view+json": {
       "model_id": "b6010f46fa764719bdd6164081fc2717",
       "version_major": 2,
       "version_minor": 0
      },
      "text/plain": [
       "HBox(children=(IntProgress(value=0, max=551), HTML(value='')))"
      ]
     },
     "metadata": {},
     "output_type": "display_data"
    },
    {
     "name": "stdout",
     "output_type": "stream",
     "text": [
      "\n",
      "Calculate confusion...\n"
     ]
    },
    {
     "data": {
      "application/vnd.jupyter.widget-view+json": {
       "model_id": "cf98906b133b492ca6d488c6e1bb3dfd",
       "version_major": 2,
       "version_minor": 0
      },
      "text/plain": [
       "HBox(children=(IntProgress(value=0, max=551), HTML(value='')))"
      ]
     },
     "metadata": {},
     "output_type": "display_data"
    },
    {
     "name": "stdout",
     "output_type": "stream",
     "text": [
      "\n",
      "Calculate entropy & purity...\n"
     ]
    },
    {
     "data": {
      "application/vnd.jupyter.widget-view+json": {
       "model_id": "da688e14b25346c38b6c43812ff3ba8a",
       "version_major": 2,
       "version_minor": 0
      },
      "text/plain": [
       "HBox(children=(IntProgress(value=0, max=551), HTML(value='')))"
      ]
     },
     "metadata": {},
     "output_type": "display_data"
    },
    {
     "name": "stdout",
     "output_type": "stream",
     "text": [
      "\n",
      "Calculate F-measure...\n"
     ]
    },
    {
     "data": {
      "application/vnd.jupyter.widget-view+json": {
       "model_id": "822a457ec573411ebb4cb818075e1234",
       "version_major": 2,
       "version_minor": 0
      },
      "text/plain": [
       "HBox(children=(IntProgress(value=0, max=511), HTML(value='')))"
      ]
     },
     "metadata": {},
     "output_type": "display_data"
    },
    {
     "name": "stdout",
     "output_type": "stream",
     "text": [
      "\n",
      "Eps = 0.40000000000000013\n",
      "F-measure = 0.7786575235324729\n",
      "Start evaluate...\n",
      "Save clusters...\n"
     ]
    },
    {
     "data": {
      "application/vnd.jupyter.widget-view+json": {
       "model_id": "d2faac8ae54943a484f67c1215821903",
       "version_major": 2,
       "version_minor": 0
      },
      "text/plain": [
       "HBox(children=(IntProgress(value=0, max=4373), HTML(value='')))"
      ]
     },
     "metadata": {},
     "output_type": "display_data"
    },
    {
     "name": "stdout",
     "output_type": "stream",
     "text": [
      "\n",
      "Delete outliers...\n"
     ]
    },
    {
     "data": {
      "application/vnd.jupyter.widget-view+json": {
       "model_id": "e16636a81bbb450ca486c7ab5f2e3102",
       "version_major": 2,
       "version_minor": 0
      },
      "text/plain": [
       "HBox(children=(IntProgress(value=0, max=547), HTML(value='')))"
      ]
     },
     "metadata": {},
     "output_type": "display_data"
    },
    {
     "name": "stdout",
     "output_type": "stream",
     "text": [
      "\n",
      "Calculate confusion...\n"
     ]
    },
    {
     "data": {
      "application/vnd.jupyter.widget-view+json": {
       "model_id": "b901d52dae4146eb8b51b66195565baa",
       "version_major": 2,
       "version_minor": 0
      },
      "text/plain": [
       "HBox(children=(IntProgress(value=0, max=547), HTML(value='')))"
      ]
     },
     "metadata": {},
     "output_type": "display_data"
    },
    {
     "name": "stdout",
     "output_type": "stream",
     "text": [
      "\n",
      "Calculate entropy & purity...\n"
     ]
    },
    {
     "data": {
      "application/vnd.jupyter.widget-view+json": {
       "model_id": "b84b11fbbaf04c3eb3adcd8bdcc66505",
       "version_major": 2,
       "version_minor": 0
      },
      "text/plain": [
       "HBox(children=(IntProgress(value=0, max=547), HTML(value='')))"
      ]
     },
     "metadata": {},
     "output_type": "display_data"
    },
    {
     "name": "stdout",
     "output_type": "stream",
     "text": [
      "\n",
      "Calculate F-measure...\n"
     ]
    },
    {
     "data": {
      "application/vnd.jupyter.widget-view+json": {
       "model_id": "6775462e717b48f3acde1da41bcda79e",
       "version_major": 2,
       "version_minor": 0
      },
      "text/plain": [
       "HBox(children=(IntProgress(value=0, max=511), HTML(value='')))"
      ]
     },
     "metadata": {},
     "output_type": "display_data"
    },
    {
     "name": "stdout",
     "output_type": "stream",
     "text": [
      "\n",
      "Eps = 0.45000000000000007\n",
      "F-measure = 0.7825089686151363\n",
      "Start evaluate...\n",
      "Save clusters...\n"
     ]
    },
    {
     "data": {
      "application/vnd.jupyter.widget-view+json": {
       "model_id": "1f059ed612aa42deb99a072b5752bd8c",
       "version_major": 2,
       "version_minor": 0
      },
      "text/plain": [
       "HBox(children=(IntProgress(value=0, max=4373), HTML(value='')))"
      ]
     },
     "metadata": {},
     "output_type": "display_data"
    },
    {
     "name": "stdout",
     "output_type": "stream",
     "text": [
      "\n",
      "Delete outliers...\n"
     ]
    },
    {
     "data": {
      "application/vnd.jupyter.widget-view+json": {
       "model_id": "96cbe1eaed2041ab980b1b2895dd8423",
       "version_major": 2,
       "version_minor": 0
      },
      "text/plain": [
       "HBox(children=(IntProgress(value=0, max=532), HTML(value='')))"
      ]
     },
     "metadata": {},
     "output_type": "display_data"
    },
    {
     "name": "stdout",
     "output_type": "stream",
     "text": [
      "\n",
      "Calculate confusion...\n"
     ]
    },
    {
     "data": {
      "application/vnd.jupyter.widget-view+json": {
       "model_id": "cba7d879631e4fa3953dfff6c96f45d1",
       "version_major": 2,
       "version_minor": 0
      },
      "text/plain": [
       "HBox(children=(IntProgress(value=0, max=532), HTML(value='')))"
      ]
     },
     "metadata": {},
     "output_type": "display_data"
    },
    {
     "name": "stdout",
     "output_type": "stream",
     "text": [
      "\n",
      "Calculate entropy & purity...\n"
     ]
    },
    {
     "data": {
      "application/vnd.jupyter.widget-view+json": {
       "model_id": "c88538b9663c451f8bc06dee3b8a6f76",
       "version_major": 2,
       "version_minor": 0
      },
      "text/plain": [
       "HBox(children=(IntProgress(value=0, max=532), HTML(value='')))"
      ]
     },
     "metadata": {},
     "output_type": "display_data"
    },
    {
     "name": "stdout",
     "output_type": "stream",
     "text": [
      "\n",
      "Calculate F-measure...\n"
     ]
    },
    {
     "data": {
      "application/vnd.jupyter.widget-view+json": {
       "model_id": "c6c22d8804b24210930e3b093bd5a9fb",
       "version_major": 2,
       "version_minor": 0
      },
      "text/plain": [
       "HBox(children=(IntProgress(value=0, max=511), HTML(value='')))"
      ]
     },
     "metadata": {},
     "output_type": "display_data"
    },
    {
     "name": "stdout",
     "output_type": "stream",
     "text": [
      "\n",
      "Eps = 0.5000000000000001\n",
      "F-measure = 0.7838755835161242\n",
      "Start evaluate...\n",
      "Save clusters...\n"
     ]
    },
    {
     "data": {
      "application/vnd.jupyter.widget-view+json": {
       "model_id": "0f010023f9d54baa8b7fbd8ab4ac2cec",
       "version_major": 2,
       "version_minor": 0
      },
      "text/plain": [
       "HBox(children=(IntProgress(value=0, max=4373), HTML(value='')))"
      ]
     },
     "metadata": {},
     "output_type": "display_data"
    },
    {
     "name": "stdout",
     "output_type": "stream",
     "text": [
      "\n",
      "Delete outliers...\n"
     ]
    },
    {
     "data": {
      "application/vnd.jupyter.widget-view+json": {
       "model_id": "e810e71c7c344a3e93d00c444912460a",
       "version_major": 2,
       "version_minor": 0
      },
      "text/plain": [
       "HBox(children=(IntProgress(value=0, max=522), HTML(value='')))"
      ]
     },
     "metadata": {},
     "output_type": "display_data"
    },
    {
     "name": "stdout",
     "output_type": "stream",
     "text": [
      "\n",
      "Calculate confusion...\n"
     ]
    },
    {
     "data": {
      "application/vnd.jupyter.widget-view+json": {
       "model_id": "5772ea384036427394d45faf69b6ecbe",
       "version_major": 2,
       "version_minor": 0
      },
      "text/plain": [
       "HBox(children=(IntProgress(value=0, max=522), HTML(value='')))"
      ]
     },
     "metadata": {},
     "output_type": "display_data"
    },
    {
     "name": "stdout",
     "output_type": "stream",
     "text": [
      "\n",
      "Calculate entropy & purity...\n"
     ]
    },
    {
     "data": {
      "application/vnd.jupyter.widget-view+json": {
       "model_id": "fe6f7b4b92e64037bb647ef2ff19b7fd",
       "version_major": 2,
       "version_minor": 0
      },
      "text/plain": [
       "HBox(children=(IntProgress(value=0, max=522), HTML(value='')))"
      ]
     },
     "metadata": {},
     "output_type": "display_data"
    },
    {
     "name": "stdout",
     "output_type": "stream",
     "text": [
      "\n",
      "Calculate F-measure...\n"
     ]
    },
    {
     "data": {
      "application/vnd.jupyter.widget-view+json": {
       "model_id": "471d37373f9b4c93ac6b37de6bef6b52",
       "version_major": 2,
       "version_minor": 0
      },
      "text/plain": [
       "HBox(children=(IntProgress(value=0, max=511), HTML(value='')))"
      ]
     },
     "metadata": {},
     "output_type": "display_data"
    },
    {
     "name": "stdout",
     "output_type": "stream",
     "text": [
      "\n",
      "Eps = 0.5500000000000002\n",
      "F-measure = 0.788242565701633\n",
      "Start evaluate...\n",
      "Save clusters...\n"
     ]
    },
    {
     "data": {
      "application/vnd.jupyter.widget-view+json": {
       "model_id": "380617e0548545ddae2f089df0b1b1d1",
       "version_major": 2,
       "version_minor": 0
      },
      "text/plain": [
       "HBox(children=(IntProgress(value=0, max=4373), HTML(value='')))"
      ]
     },
     "metadata": {},
     "output_type": "display_data"
    },
    {
     "name": "stdout",
     "output_type": "stream",
     "text": [
      "\n",
      "Delete outliers...\n"
     ]
    },
    {
     "data": {
      "application/vnd.jupyter.widget-view+json": {
       "model_id": "6a7b31911d7247548bc9fdc51b484991",
       "version_major": 2,
       "version_minor": 0
      },
      "text/plain": [
       "HBox(children=(IntProgress(value=0, max=507), HTML(value='')))"
      ]
     },
     "metadata": {},
     "output_type": "display_data"
    },
    {
     "name": "stdout",
     "output_type": "stream",
     "text": [
      "\n",
      "Calculate confusion...\n"
     ]
    },
    {
     "data": {
      "application/vnd.jupyter.widget-view+json": {
       "model_id": "85135baa2b1d49809e515f9c9a5abc7e",
       "version_major": 2,
       "version_minor": 0
      },
      "text/plain": [
       "HBox(children=(IntProgress(value=0, max=507), HTML(value='')))"
      ]
     },
     "metadata": {},
     "output_type": "display_data"
    },
    {
     "name": "stdout",
     "output_type": "stream",
     "text": [
      "\n",
      "Calculate entropy & purity...\n"
     ]
    },
    {
     "data": {
      "application/vnd.jupyter.widget-view+json": {
       "model_id": "3dbe0eba2d114ae68bfbd788745cff07",
       "version_major": 2,
       "version_minor": 0
      },
      "text/plain": [
       "HBox(children=(IntProgress(value=0, max=507), HTML(value='')))"
      ]
     },
     "metadata": {},
     "output_type": "display_data"
    },
    {
     "name": "stdout",
     "output_type": "stream",
     "text": [
      "\n",
      "Calculate F-measure...\n"
     ]
    },
    {
     "data": {
      "application/vnd.jupyter.widget-view+json": {
       "model_id": "943ed29a9e224761b6250112617b0f7f",
       "version_major": 2,
       "version_minor": 0
      },
      "text/plain": [
       "HBox(children=(IntProgress(value=0, max=511), HTML(value='')))"
      ]
     },
     "metadata": {},
     "output_type": "display_data"
    },
    {
     "name": "stdout",
     "output_type": "stream",
     "text": [
      "\n",
      "Eps = 0.6000000000000002\n",
      "F-measure = 0.7911760735911368\n",
      "Start evaluate...\n",
      "Save clusters...\n"
     ]
    },
    {
     "data": {
      "application/vnd.jupyter.widget-view+json": {
       "model_id": "adfa6dcdd5eb448680e54045435370fe",
       "version_major": 2,
       "version_minor": 0
      },
      "text/plain": [
       "HBox(children=(IntProgress(value=0, max=4373), HTML(value='')))"
      ]
     },
     "metadata": {},
     "output_type": "display_data"
    },
    {
     "name": "stdout",
     "output_type": "stream",
     "text": [
      "\n",
      "Delete outliers...\n"
     ]
    },
    {
     "data": {
      "application/vnd.jupyter.widget-view+json": {
       "model_id": "ece7a9e252394bc8a8a53cc0f2b280f7",
       "version_major": 2,
       "version_minor": 0
      },
      "text/plain": [
       "HBox(children=(IntProgress(value=0, max=489), HTML(value='')))"
      ]
     },
     "metadata": {},
     "output_type": "display_data"
    },
    {
     "name": "stdout",
     "output_type": "stream",
     "text": [
      "\n",
      "Calculate confusion...\n"
     ]
    },
    {
     "data": {
      "application/vnd.jupyter.widget-view+json": {
       "model_id": "1a1636d8ce134e6a9fcdf54e5077d80a",
       "version_major": 2,
       "version_minor": 0
      },
      "text/plain": [
       "HBox(children=(IntProgress(value=0, max=489), HTML(value='')))"
      ]
     },
     "metadata": {},
     "output_type": "display_data"
    },
    {
     "name": "stdout",
     "output_type": "stream",
     "text": [
      "\n",
      "Calculate entropy & purity...\n"
     ]
    },
    {
     "data": {
      "application/vnd.jupyter.widget-view+json": {
       "model_id": "77fae737a4fe4d9eb43b752eca3d98ab",
       "version_major": 2,
       "version_minor": 0
      },
      "text/plain": [
       "HBox(children=(IntProgress(value=0, max=489), HTML(value='')))"
      ]
     },
     "metadata": {},
     "output_type": "display_data"
    },
    {
     "name": "stdout",
     "output_type": "stream",
     "text": [
      "\n",
      "Calculate F-measure...\n"
     ]
    },
    {
     "data": {
      "application/vnd.jupyter.widget-view+json": {
       "model_id": "e87470dec89e4c8ca7376a1a173bbebe",
       "version_major": 2,
       "version_minor": 0
      },
      "text/plain": [
       "HBox(children=(IntProgress(value=0, max=511), HTML(value='')))"
      ]
     },
     "metadata": {},
     "output_type": "display_data"
    },
    {
     "name": "stdout",
     "output_type": "stream",
     "text": [
      "\n",
      "Eps = 0.6500000000000001\n",
      "F-measure = 0.7939555764012072\n",
      "Start evaluate...\n",
      "Save clusters...\n"
     ]
    },
    {
     "data": {
      "application/vnd.jupyter.widget-view+json": {
       "model_id": "7bb402580ad44136b851290d6d32d807",
       "version_major": 2,
       "version_minor": 0
      },
      "text/plain": [
       "HBox(children=(IntProgress(value=0, max=4373), HTML(value='')))"
      ]
     },
     "metadata": {},
     "output_type": "display_data"
    },
    {
     "name": "stdout",
     "output_type": "stream",
     "text": [
      "\n",
      "Delete outliers...\n"
     ]
    },
    {
     "data": {
      "application/vnd.jupyter.widget-view+json": {
       "model_id": "b99d4d40c46f46dd97fd049be0951724",
       "version_major": 2,
       "version_minor": 0
      },
      "text/plain": [
       "HBox(children=(IntProgress(value=0, max=463), HTML(value='')))"
      ]
     },
     "metadata": {},
     "output_type": "display_data"
    },
    {
     "name": "stdout",
     "output_type": "stream",
     "text": [
      "\n",
      "Calculate confusion...\n"
     ]
    },
    {
     "data": {
      "application/vnd.jupyter.widget-view+json": {
       "model_id": "79308fe24cb9425da89fec73732f1ef0",
       "version_major": 2,
       "version_minor": 0
      },
      "text/plain": [
       "HBox(children=(IntProgress(value=0, max=463), HTML(value='')))"
      ]
     },
     "metadata": {},
     "output_type": "display_data"
    },
    {
     "name": "stdout",
     "output_type": "stream",
     "text": [
      "\n",
      "Calculate entropy & purity...\n"
     ]
    },
    {
     "data": {
      "application/vnd.jupyter.widget-view+json": {
       "model_id": "85f85b61ca7a4b37ba4ce2e016435532",
       "version_major": 2,
       "version_minor": 0
      },
      "text/plain": [
       "HBox(children=(IntProgress(value=0, max=463), HTML(value='')))"
      ]
     },
     "metadata": {},
     "output_type": "display_data"
    },
    {
     "name": "stdout",
     "output_type": "stream",
     "text": [
      "\n",
      "Calculate F-measure...\n"
     ]
    },
    {
     "data": {
      "application/vnd.jupyter.widget-view+json": {
       "model_id": "bc5f028af9904802b6a7782ab148e92e",
       "version_major": 2,
       "version_minor": 0
      },
      "text/plain": [
       "HBox(children=(IntProgress(value=0, max=511), HTML(value='')))"
      ]
     },
     "metadata": {},
     "output_type": "display_data"
    },
    {
     "name": "stdout",
     "output_type": "stream",
     "text": [
      "\n",
      "Eps = 0.7000000000000002\n",
      "F-measure = 0.7777966439152346\n",
      "Start evaluate...\n",
      "Save clusters...\n"
     ]
    },
    {
     "data": {
      "application/vnd.jupyter.widget-view+json": {
       "model_id": "8f62deadda3c4c8987c3b6d5b4c89f57",
       "version_major": 2,
       "version_minor": 0
      },
      "text/plain": [
       "HBox(children=(IntProgress(value=0, max=4373), HTML(value='')))"
      ]
     },
     "metadata": {},
     "output_type": "display_data"
    },
    {
     "name": "stdout",
     "output_type": "stream",
     "text": [
      "\n",
      "Delete outliers...\n"
     ]
    },
    {
     "data": {
      "application/vnd.jupyter.widget-view+json": {
       "model_id": "1f1da944900f437eab7b9c23cc6be959",
       "version_major": 2,
       "version_minor": 0
      },
      "text/plain": [
       "HBox(children=(IntProgress(value=0, max=425), HTML(value='')))"
      ]
     },
     "metadata": {},
     "output_type": "display_data"
    },
    {
     "name": "stdout",
     "output_type": "stream",
     "text": [
      "\n",
      "Calculate confusion...\n"
     ]
    },
    {
     "data": {
      "application/vnd.jupyter.widget-view+json": {
       "model_id": "22bff78e3e9c48cf94ce66a17e709f18",
       "version_major": 2,
       "version_minor": 0
      },
      "text/plain": [
       "HBox(children=(IntProgress(value=0, max=425), HTML(value='')))"
      ]
     },
     "metadata": {},
     "output_type": "display_data"
    },
    {
     "name": "stdout",
     "output_type": "stream",
     "text": [
      "\n",
      "Calculate entropy & purity...\n"
     ]
    },
    {
     "data": {
      "application/vnd.jupyter.widget-view+json": {
       "model_id": "0f9ebde9099c4ad3ab1bf183afbe1730",
       "version_major": 2,
       "version_minor": 0
      },
      "text/plain": [
       "HBox(children=(IntProgress(value=0, max=425), HTML(value='')))"
      ]
     },
     "metadata": {},
     "output_type": "display_data"
    },
    {
     "name": "stdout",
     "output_type": "stream",
     "text": [
      "\n",
      "Calculate F-measure...\n"
     ]
    },
    {
     "data": {
      "application/vnd.jupyter.widget-view+json": {
       "model_id": "c41ed58e592e4102977eaa28e674a841",
       "version_major": 2,
       "version_minor": 0
      },
      "text/plain": [
       "HBox(children=(IntProgress(value=0, max=511), HTML(value='')))"
      ]
     },
     "metadata": {},
     "output_type": "display_data"
    },
    {
     "name": "stdout",
     "output_type": "stream",
     "text": [
      "\n",
      "Eps = 0.7500000000000002\n",
      "F-measure = 0.7524062276389183\n",
      "Start evaluate...\n",
      "Save clusters...\n"
     ]
    },
    {
     "data": {
      "application/vnd.jupyter.widget-view+json": {
       "model_id": "17a009f4c6214198869982ca142f8112",
       "version_major": 2,
       "version_minor": 0
      },
      "text/plain": [
       "HBox(children=(IntProgress(value=0, max=4373), HTML(value='')))"
      ]
     },
     "metadata": {},
     "output_type": "display_data"
    },
    {
     "name": "stdout",
     "output_type": "stream",
     "text": [
      "\n",
      "Delete outliers...\n"
     ]
    },
    {
     "data": {
      "application/vnd.jupyter.widget-view+json": {
       "model_id": "0ff868b9b0764407aac45bb0e5ede932",
       "version_major": 2,
       "version_minor": 0
      },
      "text/plain": [
       "HBox(children=(IntProgress(value=0, max=360), HTML(value='')))"
      ]
     },
     "metadata": {},
     "output_type": "display_data"
    },
    {
     "name": "stdout",
     "output_type": "stream",
     "text": [
      "\n",
      "Calculate confusion...\n"
     ]
    },
    {
     "data": {
      "application/vnd.jupyter.widget-view+json": {
       "model_id": "5eb9492eca854027b4298410113eaeea",
       "version_major": 2,
       "version_minor": 0
      },
      "text/plain": [
       "HBox(children=(IntProgress(value=0, max=360), HTML(value='')))"
      ]
     },
     "metadata": {},
     "output_type": "display_data"
    },
    {
     "name": "stdout",
     "output_type": "stream",
     "text": [
      "\n",
      "Calculate entropy & purity...\n"
     ]
    },
    {
     "data": {
      "application/vnd.jupyter.widget-view+json": {
       "model_id": "9a1980b9c07b4815be2753568e37b5ba",
       "version_major": 2,
       "version_minor": 0
      },
      "text/plain": [
       "HBox(children=(IntProgress(value=0, max=360), HTML(value='')))"
      ]
     },
     "metadata": {},
     "output_type": "display_data"
    },
    {
     "name": "stdout",
     "output_type": "stream",
     "text": [
      "\n",
      "Calculate F-measure...\n"
     ]
    },
    {
     "data": {
      "application/vnd.jupyter.widget-view+json": {
       "model_id": "b3a4c4a3f07042dfa2b4526297930bb7",
       "version_major": 2,
       "version_minor": 0
      },
      "text/plain": [
       "HBox(children=(IntProgress(value=0, max=511), HTML(value='')))"
      ]
     },
     "metadata": {},
     "output_type": "display_data"
    },
    {
     "name": "stdout",
     "output_type": "stream",
     "text": [
      "\n",
      "Eps = 0.8000000000000002\n",
      "F-measure = 0.6663686219837499\n",
      "Start evaluate...\n",
      "Save clusters...\n"
     ]
    },
    {
     "data": {
      "application/vnd.jupyter.widget-view+json": {
       "model_id": "06b11da22f4148f9aa1e1abf5432db1d",
       "version_major": 2,
       "version_minor": 0
      },
      "text/plain": [
       "HBox(children=(IntProgress(value=0, max=4373), HTML(value='')))"
      ]
     },
     "metadata": {},
     "output_type": "display_data"
    },
    {
     "name": "stdout",
     "output_type": "stream",
     "text": [
      "\n",
      "Delete outliers...\n"
     ]
    },
    {
     "data": {
      "application/vnd.jupyter.widget-view+json": {
       "model_id": "5ac18bb1895e401a828d1fa4c5aaf554",
       "version_major": 2,
       "version_minor": 0
      },
      "text/plain": [
       "HBox(children=(IntProgress(value=0, max=257), HTML(value='')))"
      ]
     },
     "metadata": {},
     "output_type": "display_data"
    },
    {
     "name": "stdout",
     "output_type": "stream",
     "text": [
      "\n",
      "Calculate confusion...\n"
     ]
    },
    {
     "data": {
      "application/vnd.jupyter.widget-view+json": {
       "model_id": "2005b9777eb84e688c191029f375cfa3",
       "version_major": 2,
       "version_minor": 0
      },
      "text/plain": [
       "HBox(children=(IntProgress(value=0, max=257), HTML(value='')))"
      ]
     },
     "metadata": {},
     "output_type": "display_data"
    },
    {
     "name": "stdout",
     "output_type": "stream",
     "text": [
      "\n",
      "Calculate entropy & purity...\n"
     ]
    },
    {
     "data": {
      "application/vnd.jupyter.widget-view+json": {
       "model_id": "34daebb59f5341eda344e6dea08edf6a",
       "version_major": 2,
       "version_minor": 0
      },
      "text/plain": [
       "HBox(children=(IntProgress(value=0, max=257), HTML(value='')))"
      ]
     },
     "metadata": {},
     "output_type": "display_data"
    },
    {
     "name": "stdout",
     "output_type": "stream",
     "text": [
      "\n",
      "Calculate F-measure...\n"
     ]
    },
    {
     "data": {
      "application/vnd.jupyter.widget-view+json": {
       "model_id": "6407488848bb431c87320ed25d4c158d",
       "version_major": 2,
       "version_minor": 0
      },
      "text/plain": [
       "HBox(children=(IntProgress(value=0, max=511), HTML(value='')))"
      ]
     },
     "metadata": {},
     "output_type": "display_data"
    },
    {
     "name": "stdout",
     "output_type": "stream",
     "text": [
      "\n",
      "Eps = 0.8500000000000002\n",
      "F-measure = 0.43518337880113434\n",
      "Start evaluate...\n",
      "Save clusters...\n"
     ]
    },
    {
     "data": {
      "application/vnd.jupyter.widget-view+json": {
       "model_id": "a2b995d9ff9546778c2f58dd575abbd8",
       "version_major": 2,
       "version_minor": 0
      },
      "text/plain": [
       "HBox(children=(IntProgress(value=0, max=4373), HTML(value='')))"
      ]
     },
     "metadata": {},
     "output_type": "display_data"
    },
    {
     "name": "stdout",
     "output_type": "stream",
     "text": [
      "\n",
      "Delete outliers...\n"
     ]
    },
    {
     "data": {
      "application/vnd.jupyter.widget-view+json": {
       "model_id": "b3e9f71fd0a24e65b634d696e869bec1",
       "version_major": 2,
       "version_minor": 0
      },
      "text/plain": [
       "HBox(children=(IntProgress(value=0, max=126), HTML(value='')))"
      ]
     },
     "metadata": {},
     "output_type": "display_data"
    },
    {
     "name": "stdout",
     "output_type": "stream",
     "text": [
      "\n",
      "Calculate confusion...\n"
     ]
    },
    {
     "data": {
      "application/vnd.jupyter.widget-view+json": {
       "model_id": "5977b3b3dacd4cd8a3fa512b295ccb23",
       "version_major": 2,
       "version_minor": 0
      },
      "text/plain": [
       "HBox(children=(IntProgress(value=0, max=126), HTML(value='')))"
      ]
     },
     "metadata": {},
     "output_type": "display_data"
    },
    {
     "name": "stdout",
     "output_type": "stream",
     "text": [
      "\n",
      "Calculate entropy & purity...\n"
     ]
    },
    {
     "data": {
      "application/vnd.jupyter.widget-view+json": {
       "model_id": "b82836ddf34a4be9a86fc3658f332885",
       "version_major": 2,
       "version_minor": 0
      },
      "text/plain": [
       "HBox(children=(IntProgress(value=0, max=126), HTML(value='')))"
      ]
     },
     "metadata": {},
     "output_type": "display_data"
    },
    {
     "name": "stdout",
     "output_type": "stream",
     "text": [
      "\n",
      "Calculate F-measure...\n"
     ]
    },
    {
     "data": {
      "application/vnd.jupyter.widget-view+json": {
       "model_id": "be4a48461c094fb09fa0c3ef7e2b3a43",
       "version_major": 2,
       "version_minor": 0
      },
      "text/plain": [
       "HBox(children=(IntProgress(value=0, max=511), HTML(value='')))"
      ]
     },
     "metadata": {},
     "output_type": "display_data"
    },
    {
     "name": "stdout",
     "output_type": "stream",
     "text": [
      "\n",
      "Eps = 0.9000000000000002\n",
      "F-measure = 0.2072115825585001\n",
      "Start evaluate...\n",
      "Save clusters...\n"
     ]
    },
    {
     "data": {
      "application/vnd.jupyter.widget-view+json": {
       "model_id": "134bdab7e29646ea8a883bef7ff91220",
       "version_major": 2,
       "version_minor": 0
      },
      "text/plain": [
       "HBox(children=(IntProgress(value=0, max=4373), HTML(value='')))"
      ]
     },
     "metadata": {},
     "output_type": "display_data"
    },
    {
     "name": "stdout",
     "output_type": "stream",
     "text": [
      "\n",
      "Delete outliers...\n"
     ]
    },
    {
     "data": {
      "application/vnd.jupyter.widget-view+json": {
       "model_id": "3c6d93a5bd1147269184b12922c55308",
       "version_major": 2,
       "version_minor": 0
      },
      "text/plain": [
       "HBox(children=(IntProgress(value=0, max=16), HTML(value='')))"
      ]
     },
     "metadata": {},
     "output_type": "display_data"
    },
    {
     "name": "stdout",
     "output_type": "stream",
     "text": [
      "\n",
      "Calculate confusion...\n"
     ]
    },
    {
     "data": {
      "application/vnd.jupyter.widget-view+json": {
       "model_id": "119cb00aae4f467b8a076d0319d8e260",
       "version_major": 2,
       "version_minor": 0
      },
      "text/plain": [
       "HBox(children=(IntProgress(value=0, max=16), HTML(value='')))"
      ]
     },
     "metadata": {},
     "output_type": "display_data"
    },
    {
     "name": "stdout",
     "output_type": "stream",
     "text": [
      "\n",
      "Calculate entropy & purity...\n"
     ]
    },
    {
     "data": {
      "application/vnd.jupyter.widget-view+json": {
       "model_id": "e341a2a8cb75451e903acd1640d4e0d4",
       "version_major": 2,
       "version_minor": 0
      },
      "text/plain": [
       "HBox(children=(IntProgress(value=0, max=16), HTML(value='')))"
      ]
     },
     "metadata": {},
     "output_type": "display_data"
    },
    {
     "name": "stdout",
     "output_type": "stream",
     "text": [
      "\n",
      "Calculate F-measure...\n"
     ]
    },
    {
     "data": {
      "application/vnd.jupyter.widget-view+json": {
       "model_id": "643a7ea663b64a14a2985b7756aeffbf",
       "version_major": 2,
       "version_minor": 0
      },
      "text/plain": [
       "HBox(children=(IntProgress(value=0, max=511), HTML(value='')))"
      ]
     },
     "metadata": {},
     "output_type": "display_data"
    },
    {
     "name": "stdout",
     "output_type": "stream",
     "text": [
      "\n",
      "Eps = 0.9500000000000003\n",
      "F-measure = 0.028137267587380728\n",
      "Start evaluate...\n",
      "Save clusters...\n"
     ]
    },
    {
     "data": {
      "application/vnd.jupyter.widget-view+json": {
       "model_id": "b4449e3a5aa244fd8cc3c856e73540a7",
       "version_major": 2,
       "version_minor": 0
      },
      "text/plain": [
       "HBox(children=(IntProgress(value=0, max=4373), HTML(value='')))"
      ]
     },
     "metadata": {},
     "output_type": "display_data"
    },
    {
     "name": "stdout",
     "output_type": "stream",
     "text": [
      "\n",
      "Delete outliers...\n"
     ]
    },
    {
     "data": {
      "application/vnd.jupyter.widget-view+json": {
       "model_id": "b03f8e0efcda40dc978ef0d9140bf87d",
       "version_major": 2,
       "version_minor": 0
      },
      "text/plain": [
       "HBox(children=(IntProgress(value=0, max=1), HTML(value='')))"
      ]
     },
     "metadata": {},
     "output_type": "display_data"
    },
    {
     "name": "stdout",
     "output_type": "stream",
     "text": [
      "\n",
      "Calculate confusion...\n"
     ]
    },
    {
     "data": {
      "application/vnd.jupyter.widget-view+json": {
       "model_id": "0a9e66ccee794cd582722b8b726e23e1",
       "version_major": 2,
       "version_minor": 0
      },
      "text/plain": [
       "HBox(children=(IntProgress(value=0, max=1), HTML(value='')))"
      ]
     },
     "metadata": {},
     "output_type": "display_data"
    },
    {
     "name": "stdout",
     "output_type": "stream",
     "text": [
      "\n",
      "Calculate entropy & purity...\n"
     ]
    },
    {
     "data": {
      "application/vnd.jupyter.widget-view+json": {
       "model_id": "0fe10f648284422eb223527c6525c123",
       "version_major": 2,
       "version_minor": 0
      },
      "text/plain": [
       "HBox(children=(IntProgress(value=0, max=1), HTML(value='')))"
      ]
     },
     "metadata": {},
     "output_type": "display_data"
    },
    {
     "name": "stdout",
     "output_type": "stream",
     "text": [
      "\n",
      "Calculate F-measure...\n"
     ]
    },
    {
     "data": {
      "application/vnd.jupyter.widget-view+json": {
       "model_id": "8d85e0f3edee401880b9b8e5aa1ae7f9",
       "version_major": 2,
       "version_minor": 0
      },
      "text/plain": [
       "HBox(children=(IntProgress(value=0, max=511), HTML(value='')))"
      ]
     },
     "metadata": {},
     "output_type": "display_data"
    },
    {
     "name": "stdout",
     "output_type": "stream",
     "text": [
      "\n",
      "Eps = 1.0000000000000004\n",
      "F-measure = 0.006563398606578413\n",
      "Start evaluate...\n",
      "Save clusters...\n"
     ]
    },
    {
     "data": {
      "application/vnd.jupyter.widget-view+json": {
       "model_id": "32c464ab9fb341c48009a88387f6143b",
       "version_major": 2,
       "version_minor": 0
      },
      "text/plain": [
       "HBox(children=(IntProgress(value=0, max=4373), HTML(value='')))"
      ]
     },
     "metadata": {},
     "output_type": "display_data"
    },
    {
     "name": "stdout",
     "output_type": "stream",
     "text": [
      "\n",
      "Delete outliers...\n"
     ]
    },
    {
     "data": {
      "application/vnd.jupyter.widget-view+json": {
       "model_id": "bd81455b0d8d4ebd844a7873a5dc3722",
       "version_major": 2,
       "version_minor": 0
      },
      "text/plain": [
       "HBox(children=(IntProgress(value=0, max=1), HTML(value='')))"
      ]
     },
     "metadata": {},
     "output_type": "display_data"
    },
    {
     "name": "stdout",
     "output_type": "stream",
     "text": [
      "\n",
      "Calculate confusion...\n"
     ]
    },
    {
     "data": {
      "application/vnd.jupyter.widget-view+json": {
       "model_id": "89d5a50de3ff451dbad4b7bf29f4d2d9",
       "version_major": 2,
       "version_minor": 0
      },
      "text/plain": [
       "HBox(children=(IntProgress(value=0, max=1), HTML(value='')))"
      ]
     },
     "metadata": {},
     "output_type": "display_data"
    },
    {
     "name": "stdout",
     "output_type": "stream",
     "text": [
      "\n",
      "Calculate entropy & purity...\n"
     ]
    },
    {
     "data": {
      "application/vnd.jupyter.widget-view+json": {
       "model_id": "54e55fd7903d4f39a34d401b5a7d34a7",
       "version_major": 2,
       "version_minor": 0
      },
      "text/plain": [
       "HBox(children=(IntProgress(value=0, max=1), HTML(value='')))"
      ]
     },
     "metadata": {},
     "output_type": "display_data"
    },
    {
     "name": "stdout",
     "output_type": "stream",
     "text": [
      "\n",
      "Calculate F-measure...\n"
     ]
    },
    {
     "data": {
      "application/vnd.jupyter.widget-view+json": {
       "model_id": "b780bcecd4524cb890d99f67d041d604",
       "version_major": 2,
       "version_minor": 0
      },
      "text/plain": [
       "HBox(children=(IntProgress(value=0, max=511), HTML(value='')))"
      ]
     },
     "metadata": {},
     "output_type": "display_data"
    },
    {
     "name": "stdout",
     "output_type": "stream",
     "text": [
      "\n",
      "Eps = 1.0500000000000003\n",
      "F-measure = 0.006563398606578413\n",
      "\n",
      "0.6500000000000001 0.7939555764012072\n",
      "Start evaluate...\n",
      "Save clusters...\n"
     ]
    },
    {
     "data": {
      "application/vnd.jupyter.widget-view+json": {
       "model_id": "ef25bb012fcd4a20925a3da6d04dc947",
       "version_major": 2,
       "version_minor": 0
      },
      "text/plain": [
       "HBox(children=(IntProgress(value=0, max=4373), HTML(value='')))"
      ]
     },
     "metadata": {},
     "output_type": "display_data"
    },
    {
     "name": "stdout",
     "output_type": "stream",
     "text": [
      "\n",
      "Delete outliers...\n"
     ]
    },
    {
     "data": {
      "application/vnd.jupyter.widget-view+json": {
       "model_id": "1b670db874ed47da97cd1a0ac89cb692",
       "version_major": 2,
       "version_minor": 0
      },
      "text/plain": [
       "HBox(children=(IntProgress(value=0, max=489), HTML(value='')))"
      ]
     },
     "metadata": {},
     "output_type": "display_data"
    },
    {
     "name": "stdout",
     "output_type": "stream",
     "text": [
      "\n",
      "Calculate rand...\n"
     ]
    },
    {
     "data": {
      "application/vnd.jupyter.widget-view+json": {
       "model_id": "35fd8576506e469cac7890999a6fd6e1",
       "version_major": 2,
       "version_minor": 0
      },
      "text/plain": [
       "HBox(children=(IntProgress(value=0, max=4373), HTML(value='')))"
      ]
     },
     "metadata": {},
     "output_type": "display_data"
    },
    {
     "name": "stdout",
     "output_type": "stream",
     "text": [
      "\n",
      "Calculate confusion...\n"
     ]
    },
    {
     "data": {
      "application/vnd.jupyter.widget-view+json": {
       "model_id": "a68f541d0844452ca8f6c7325cc88747",
       "version_major": 2,
       "version_minor": 0
      },
      "text/plain": [
       "HBox(children=(IntProgress(value=0, max=489), HTML(value='')))"
      ]
     },
     "metadata": {},
     "output_type": "display_data"
    },
    {
     "name": "stdout",
     "output_type": "stream",
     "text": [
      "\n",
      "Calculate entropy & purity...\n"
     ]
    },
    {
     "data": {
      "application/vnd.jupyter.widget-view+json": {
       "model_id": "af373631a31a4067a3625b0e9963bcdf",
       "version_major": 2,
       "version_minor": 0
      },
      "text/plain": [
       "HBox(children=(IntProgress(value=0, max=489), HTML(value='')))"
      ]
     },
     "metadata": {},
     "output_type": "display_data"
    },
    {
     "name": "stdout",
     "output_type": "stream",
     "text": [
      "\n",
      "Calculate F-measure...\n"
     ]
    },
    {
     "data": {
      "application/vnd.jupyter.widget-view+json": {
       "model_id": "9ef9007453aa4cbb887885075a8613f6",
       "version_major": 2,
       "version_minor": 0
      },
      "text/plain": [
       "HBox(children=(IntProgress(value=0, max=511), HTML(value='')))"
      ]
     },
     "metadata": {},
     "output_type": "display_data"
    },
    {
     "name": "stdout",
     "output_type": "stream",
     "text": [
      "\n",
      "Number of clusters: 489\n",
      "Number of outliers: 646/4373 (14.772%)\n",
      "\n",
      "Entropy = 0.351802\n",
      "Purity = 0.885967\n",
      "F-measure = 0.793956\n",
      "\n",
      "Rand = 99.822%\n",
      "Jaccard Index = 64.014%\n"
     ]
    }
   ],
   "source": [
    "max_fm = 0\n",
    "best_eps = 0\n",
    "best_clustering = None\n",
    "\n",
    "for eps in tqdm_notebook(np.arange(0.1, 1.1, 0.05)):\n",
    "    tufano_clustering = sklearn.cluster.DBSCAN(eps=eps, min_samples=2, \n",
    "                                                   metric='precomputed').fit(dists_filtered_to_5gram)\n",
    "    \n",
    "    rand, fm = print_clustering_results_tufano_unique(tufano_clustering, unique_label_to_changes_filtered, \n",
    "                                    from_change_to_unique_label_filtered, changes_with_different_methods_filtered, \n",
    "                                    without_outliers=True, to_print=False, only_fm=True)\n",
    "    print(\"Eps =\", eps)\n",
    "    print(\"F-measure =\", fm)\n",
    "    \n",
    "    if fm > max_fm:\n",
    "        max_fm = fm\n",
    "        best_eps = eps\n",
    "        best_clustering = tufano_clustering\n",
    "\n",
    "print(best_eps, max_fm)\n",
    "\n",
    "\n",
    "rand, fm = print_clustering_results_tufano_unique(best_clustering, unique_label_to_changes_filtered, \n",
    "                                    from_change_to_unique_label_filtered, changes_with_different_methods_filtered, \n",
    "                                    without_outliers=True, to_print=True)"
   ]
  },
  {
   "cell_type": "code",
   "execution_count": 90,
   "metadata": {},
   "outputs": [
    {
     "data": {
      "application/vnd.jupyter.widget-view+json": {
       "model_id": "5176beaa4e0e4fcb8c95c934323e7f21",
       "version_major": 2,
       "version_minor": 0
      },
      "text/plain": [
       "HBox(children=(IntProgress(value=0, max=20), HTML(value='')))"
      ]
     },
     "metadata": {},
     "output_type": "display_data"
    },
    {
     "name": "stdout",
     "output_type": "stream",
     "text": [
      "Start evaluate...\n",
      "Save clusters...\n"
     ]
    },
    {
     "data": {
      "application/vnd.jupyter.widget-view+json": {
       "model_id": "389bc30c9642492d9b42131b2b53bcd6",
       "version_major": 2,
       "version_minor": 0
      },
      "text/plain": [
       "HBox(children=(IntProgress(value=0, max=4373), HTML(value='')))"
      ]
     },
     "metadata": {},
     "output_type": "display_data"
    },
    {
     "name": "stdout",
     "output_type": "stream",
     "text": [
      "\n",
      "Delete outliers...\n"
     ]
    },
    {
     "data": {
      "application/vnd.jupyter.widget-view+json": {
       "model_id": "006fe800cb144aea9f330c36d99ba5b5",
       "version_major": 2,
       "version_minor": 0
      },
      "text/plain": [
       "HBox(children=(IntProgress(value=0, max=507), HTML(value='')))"
      ]
     },
     "metadata": {},
     "output_type": "display_data"
    },
    {
     "name": "stdout",
     "output_type": "stream",
     "text": [
      "\n",
      "Calculate confusion...\n"
     ]
    },
    {
     "data": {
      "application/vnd.jupyter.widget-view+json": {
       "model_id": "14c51271b2b84562ba3564693a09d741",
       "version_major": 2,
       "version_minor": 0
      },
      "text/plain": [
       "HBox(children=(IntProgress(value=0, max=507), HTML(value='')))"
      ]
     },
     "metadata": {},
     "output_type": "display_data"
    },
    {
     "name": "stdout",
     "output_type": "stream",
     "text": [
      "\n",
      "Calculate entropy & purity...\n"
     ]
    },
    {
     "data": {
      "application/vnd.jupyter.widget-view+json": {
       "model_id": "c20a0ff9fb224c04b650344fd5aa8c4c",
       "version_major": 2,
       "version_minor": 0
      },
      "text/plain": [
       "HBox(children=(IntProgress(value=0, max=507), HTML(value='')))"
      ]
     },
     "metadata": {},
     "output_type": "display_data"
    },
    {
     "name": "stdout",
     "output_type": "stream",
     "text": [
      "\n",
      "Calculate F-measure...\n"
     ]
    },
    {
     "data": {
      "application/vnd.jupyter.widget-view+json": {
       "model_id": "9d9b105225b34edf83afed57629d6626",
       "version_major": 2,
       "version_minor": 0
      },
      "text/plain": [
       "HBox(children=(IntProgress(value=0, max=511), HTML(value='')))"
      ]
     },
     "metadata": {},
     "output_type": "display_data"
    },
    {
     "name": "stdout",
     "output_type": "stream",
     "text": [
      "\n",
      "Eps = 0.6\n",
      "F-measure = 0.7911760735911368\n",
      "Start evaluate...\n",
      "Save clusters...\n"
     ]
    },
    {
     "data": {
      "application/vnd.jupyter.widget-view+json": {
       "model_id": "87e179c4dce34d1ba4e125a76c197f5b",
       "version_major": 2,
       "version_minor": 0
      },
      "text/plain": [
       "HBox(children=(IntProgress(value=0, max=4373), HTML(value='')))"
      ]
     },
     "metadata": {},
     "output_type": "display_data"
    },
    {
     "name": "stdout",
     "output_type": "stream",
     "text": [
      "\n",
      "Delete outliers...\n"
     ]
    },
    {
     "data": {
      "application/vnd.jupyter.widget-view+json": {
       "model_id": "2d6682179c9443748d27746895f5389e",
       "version_major": 2,
       "version_minor": 0
      },
      "text/plain": [
       "HBox(children=(IntProgress(value=0, max=507), HTML(value='')))"
      ]
     },
     "metadata": {},
     "output_type": "display_data"
    },
    {
     "name": "stdout",
     "output_type": "stream",
     "text": [
      "\n",
      "Calculate confusion...\n"
     ]
    },
    {
     "data": {
      "application/vnd.jupyter.widget-view+json": {
       "model_id": "2181514e26a04969afa23e2df6249660",
       "version_major": 2,
       "version_minor": 0
      },
      "text/plain": [
       "HBox(children=(IntProgress(value=0, max=507), HTML(value='')))"
      ]
     },
     "metadata": {},
     "output_type": "display_data"
    },
    {
     "name": "stdout",
     "output_type": "stream",
     "text": [
      "\n",
      "Calculate entropy & purity...\n"
     ]
    },
    {
     "data": {
      "application/vnd.jupyter.widget-view+json": {
       "model_id": "2b971565ac11448492d40eee02841232",
       "version_major": 2,
       "version_minor": 0
      },
      "text/plain": [
       "HBox(children=(IntProgress(value=0, max=507), HTML(value='')))"
      ]
     },
     "metadata": {},
     "output_type": "display_data"
    },
    {
     "name": "stdout",
     "output_type": "stream",
     "text": [
      "\n",
      "Calculate F-measure...\n"
     ]
    },
    {
     "data": {
      "application/vnd.jupyter.widget-view+json": {
       "model_id": "ad307076557d4c6c9bbec4078d114767",
       "version_major": 2,
       "version_minor": 0
      },
      "text/plain": [
       "HBox(children=(IntProgress(value=0, max=511), HTML(value='')))"
      ]
     },
     "metadata": {},
     "output_type": "display_data"
    },
    {
     "name": "stdout",
     "output_type": "stream",
     "text": [
      "\n",
      "Eps = 0.605\n",
      "F-measure = 0.7916229654825202\n",
      "Start evaluate...\n",
      "Save clusters...\n"
     ]
    },
    {
     "data": {
      "application/vnd.jupyter.widget-view+json": {
       "model_id": "685c1e39d0734ee1b1b7b69a9637c030",
       "version_major": 2,
       "version_minor": 0
      },
      "text/plain": [
       "HBox(children=(IntProgress(value=0, max=4373), HTML(value='')))"
      ]
     },
     "metadata": {},
     "output_type": "display_data"
    },
    {
     "name": "stdout",
     "output_type": "stream",
     "text": [
      "\n",
      "Delete outliers...\n"
     ]
    },
    {
     "data": {
      "application/vnd.jupyter.widget-view+json": {
       "model_id": "e4fc4e89ec874ba8ae35e392be954365",
       "version_major": 2,
       "version_minor": 0
      },
      "text/plain": [
       "HBox(children=(IntProgress(value=0, max=505), HTML(value='')))"
      ]
     },
     "metadata": {},
     "output_type": "display_data"
    },
    {
     "name": "stdout",
     "output_type": "stream",
     "text": [
      "\n",
      "Calculate confusion...\n"
     ]
    },
    {
     "data": {
      "application/vnd.jupyter.widget-view+json": {
       "model_id": "03edecf961264f2dbdaab71ede06ba28",
       "version_major": 2,
       "version_minor": 0
      },
      "text/plain": [
       "HBox(children=(IntProgress(value=0, max=505), HTML(value='')))"
      ]
     },
     "metadata": {},
     "output_type": "display_data"
    },
    {
     "name": "stdout",
     "output_type": "stream",
     "text": [
      "\n",
      "Calculate entropy & purity...\n"
     ]
    },
    {
     "data": {
      "application/vnd.jupyter.widget-view+json": {
       "model_id": "b429d224d4c544e5b2e2f4e3192d9951",
       "version_major": 2,
       "version_minor": 0
      },
      "text/plain": [
       "HBox(children=(IntProgress(value=0, max=505), HTML(value='')))"
      ]
     },
     "metadata": {},
     "output_type": "display_data"
    },
    {
     "name": "stdout",
     "output_type": "stream",
     "text": [
      "\n",
      "Calculate F-measure...\n"
     ]
    },
    {
     "data": {
      "application/vnd.jupyter.widget-view+json": {
       "model_id": "01869d2404544fe2a3eac80cac890314",
       "version_major": 2,
       "version_minor": 0
      },
      "text/plain": [
       "HBox(children=(IntProgress(value=0, max=511), HTML(value='')))"
      ]
     },
     "metadata": {},
     "output_type": "display_data"
    },
    {
     "name": "stdout",
     "output_type": "stream",
     "text": [
      "\n",
      "Eps = 0.61\n",
      "F-measure = 0.7926137347559328\n",
      "Start evaluate...\n",
      "Save clusters...\n"
     ]
    },
    {
     "data": {
      "application/vnd.jupyter.widget-view+json": {
       "model_id": "09ff16bcf2194f5884f2776e30140d69",
       "version_major": 2,
       "version_minor": 0
      },
      "text/plain": [
       "HBox(children=(IntProgress(value=0, max=4373), HTML(value='')))"
      ]
     },
     "metadata": {},
     "output_type": "display_data"
    },
    {
     "name": "stdout",
     "output_type": "stream",
     "text": [
      "\n",
      "Delete outliers...\n"
     ]
    },
    {
     "data": {
      "application/vnd.jupyter.widget-view+json": {
       "model_id": "8184ff12e7d44f20982e2495e1824213",
       "version_major": 2,
       "version_minor": 0
      },
      "text/plain": [
       "HBox(children=(IntProgress(value=0, max=501), HTML(value='')))"
      ]
     },
     "metadata": {},
     "output_type": "display_data"
    },
    {
     "name": "stdout",
     "output_type": "stream",
     "text": [
      "\n",
      "Calculate confusion...\n"
     ]
    },
    {
     "data": {
      "application/vnd.jupyter.widget-view+json": {
       "model_id": "a65fdbac83f449139bae4de02480cde0",
       "version_major": 2,
       "version_minor": 0
      },
      "text/plain": [
       "HBox(children=(IntProgress(value=0, max=501), HTML(value='')))"
      ]
     },
     "metadata": {},
     "output_type": "display_data"
    },
    {
     "name": "stdout",
     "output_type": "stream",
     "text": [
      "\n",
      "Calculate entropy & purity...\n"
     ]
    },
    {
     "data": {
      "application/vnd.jupyter.widget-view+json": {
       "model_id": "cd0ae0eccde649b6a8d39d6580941a6d",
       "version_major": 2,
       "version_minor": 0
      },
      "text/plain": [
       "HBox(children=(IntProgress(value=0, max=501), HTML(value='')))"
      ]
     },
     "metadata": {},
     "output_type": "display_data"
    },
    {
     "name": "stdout",
     "output_type": "stream",
     "text": [
      "\n",
      "Calculate F-measure...\n"
     ]
    },
    {
     "data": {
      "application/vnd.jupyter.widget-view+json": {
       "model_id": "48276cdd106c4b47b0aca67de841a0b3",
       "version_major": 2,
       "version_minor": 0
      },
      "text/plain": [
       "HBox(children=(IntProgress(value=0, max=511), HTML(value='')))"
      ]
     },
     "metadata": {},
     "output_type": "display_data"
    },
    {
     "name": "stdout",
     "output_type": "stream",
     "text": [
      "\n",
      "Eps = 0.615\n",
      "F-measure = 0.7944561450232472\n",
      "Start evaluate...\n",
      "Save clusters...\n"
     ]
    },
    {
     "data": {
      "application/vnd.jupyter.widget-view+json": {
       "model_id": "3876b8f3867d467091f7231eb411f381",
       "version_major": 2,
       "version_minor": 0
      },
      "text/plain": [
       "HBox(children=(IntProgress(value=0, max=4373), HTML(value='')))"
      ]
     },
     "metadata": {},
     "output_type": "display_data"
    },
    {
     "name": "stdout",
     "output_type": "stream",
     "text": [
      "\n",
      "Delete outliers...\n"
     ]
    },
    {
     "data": {
      "application/vnd.jupyter.widget-view+json": {
       "model_id": "75663c868179424a9404b7ffc593f72e",
       "version_major": 2,
       "version_minor": 0
      },
      "text/plain": [
       "HBox(children=(IntProgress(value=0, max=499), HTML(value='')))"
      ]
     },
     "metadata": {},
     "output_type": "display_data"
    },
    {
     "name": "stdout",
     "output_type": "stream",
     "text": [
      "\n",
      "Calculate confusion...\n"
     ]
    },
    {
     "data": {
      "application/vnd.jupyter.widget-view+json": {
       "model_id": "b1c37705266c4669a201490d458e943a",
       "version_major": 2,
       "version_minor": 0
      },
      "text/plain": [
       "HBox(children=(IntProgress(value=0, max=499), HTML(value='')))"
      ]
     },
     "metadata": {},
     "output_type": "display_data"
    },
    {
     "name": "stdout",
     "output_type": "stream",
     "text": [
      "\n",
      "Calculate entropy & purity...\n"
     ]
    },
    {
     "data": {
      "application/vnd.jupyter.widget-view+json": {
       "model_id": "d29c43d6daf44612a7fe53e78f7829b6",
       "version_major": 2,
       "version_minor": 0
      },
      "text/plain": [
       "HBox(children=(IntProgress(value=0, max=499), HTML(value='')))"
      ]
     },
     "metadata": {},
     "output_type": "display_data"
    },
    {
     "name": "stdout",
     "output_type": "stream",
     "text": [
      "\n",
      "Calculate F-measure...\n"
     ]
    },
    {
     "data": {
      "application/vnd.jupyter.widget-view+json": {
       "model_id": "269c20d2e7c44c6e9c7246be4bf40dcd",
       "version_major": 2,
       "version_minor": 0
      },
      "text/plain": [
       "HBox(children=(IntProgress(value=0, max=511), HTML(value='')))"
      ]
     },
     "metadata": {},
     "output_type": "display_data"
    },
    {
     "name": "stdout",
     "output_type": "stream",
     "text": [
      "\n",
      "Eps = 0.62\n",
      "F-measure = 0.7951304073230985\n",
      "Start evaluate...\n",
      "Save clusters...\n"
     ]
    },
    {
     "data": {
      "application/vnd.jupyter.widget-view+json": {
       "model_id": "29552e7cc25e477e8a996308b73910eb",
       "version_major": 2,
       "version_minor": 0
      },
      "text/plain": [
       "HBox(children=(IntProgress(value=0, max=4373), HTML(value='')))"
      ]
     },
     "metadata": {},
     "output_type": "display_data"
    },
    {
     "name": "stdout",
     "output_type": "stream",
     "text": [
      "\n",
      "Delete outliers...\n"
     ]
    },
    {
     "data": {
      "application/vnd.jupyter.widget-view+json": {
       "model_id": "3d2e9a5989564927a3ffb6e0cd1e5fff",
       "version_major": 2,
       "version_minor": 0
      },
      "text/plain": [
       "HBox(children=(IntProgress(value=0, max=495), HTML(value='')))"
      ]
     },
     "metadata": {},
     "output_type": "display_data"
    },
    {
     "name": "stdout",
     "output_type": "stream",
     "text": [
      "\n",
      "Calculate confusion...\n"
     ]
    },
    {
     "data": {
      "application/vnd.jupyter.widget-view+json": {
       "model_id": "c17fe77e4d8c4b6c8fdebddf9ecc5ffd",
       "version_major": 2,
       "version_minor": 0
      },
      "text/plain": [
       "HBox(children=(IntProgress(value=0, max=495), HTML(value='')))"
      ]
     },
     "metadata": {},
     "output_type": "display_data"
    },
    {
     "name": "stdout",
     "output_type": "stream",
     "text": [
      "\n",
      "Calculate entropy & purity...\n"
     ]
    },
    {
     "data": {
      "application/vnd.jupyter.widget-view+json": {
       "model_id": "ebd0d9317726472e8d0235bec292cf87",
       "version_major": 2,
       "version_minor": 0
      },
      "text/plain": [
       "HBox(children=(IntProgress(value=0, max=495), HTML(value='')))"
      ]
     },
     "metadata": {},
     "output_type": "display_data"
    },
    {
     "name": "stdout",
     "output_type": "stream",
     "text": [
      "\n",
      "Calculate F-measure...\n"
     ]
    },
    {
     "data": {
      "application/vnd.jupyter.widget-view+json": {
       "model_id": "ef2f1acd30e94097a1b18984c7eaf096",
       "version_major": 2,
       "version_minor": 0
      },
      "text/plain": [
       "HBox(children=(IntProgress(value=0, max=511), HTML(value='')))"
      ]
     },
     "metadata": {},
     "output_type": "display_data"
    },
    {
     "name": "stdout",
     "output_type": "stream",
     "text": [
      "\n",
      "Eps = 0.625\n",
      "F-measure = 0.7928026855052837\n",
      "Start evaluate...\n",
      "Save clusters...\n"
     ]
    },
    {
     "data": {
      "application/vnd.jupyter.widget-view+json": {
       "model_id": "f63bd9591d284eebbab219f4ffe90ddd",
       "version_major": 2,
       "version_minor": 0
      },
      "text/plain": [
       "HBox(children=(IntProgress(value=0, max=4373), HTML(value='')))"
      ]
     },
     "metadata": {},
     "output_type": "display_data"
    },
    {
     "name": "stdout",
     "output_type": "stream",
     "text": [
      "\n",
      "Delete outliers...\n"
     ]
    },
    {
     "data": {
      "application/vnd.jupyter.widget-view+json": {
       "model_id": "d66f7747ea1e40b1be27d715ebaaee57",
       "version_major": 2,
       "version_minor": 0
      },
      "text/plain": [
       "HBox(children=(IntProgress(value=0, max=494), HTML(value='')))"
      ]
     },
     "metadata": {},
     "output_type": "display_data"
    },
    {
     "name": "stdout",
     "output_type": "stream",
     "text": [
      "\n",
      "Calculate confusion...\n"
     ]
    },
    {
     "data": {
      "application/vnd.jupyter.widget-view+json": {
       "model_id": "0247248e0a7d425eaae1a3c5d7b45d6e",
       "version_major": 2,
       "version_minor": 0
      },
      "text/plain": [
       "HBox(children=(IntProgress(value=0, max=494), HTML(value='')))"
      ]
     },
     "metadata": {},
     "output_type": "display_data"
    },
    {
     "name": "stdout",
     "output_type": "stream",
     "text": [
      "\n",
      "Calculate entropy & purity...\n"
     ]
    },
    {
     "data": {
      "application/vnd.jupyter.widget-view+json": {
       "model_id": "598e78346c554868a769ea70127e9af3",
       "version_major": 2,
       "version_minor": 0
      },
      "text/plain": [
       "HBox(children=(IntProgress(value=0, max=494), HTML(value='')))"
      ]
     },
     "metadata": {},
     "output_type": "display_data"
    },
    {
     "name": "stdout",
     "output_type": "stream",
     "text": [
      "\n",
      "Calculate F-measure...\n"
     ]
    },
    {
     "data": {
      "application/vnd.jupyter.widget-view+json": {
       "model_id": "f175c179298347e996e4635203be3b28",
       "version_major": 2,
       "version_minor": 0
      },
      "text/plain": [
       "HBox(children=(IntProgress(value=0, max=511), HTML(value='')))"
      ]
     },
     "metadata": {},
     "output_type": "display_data"
    },
    {
     "name": "stdout",
     "output_type": "stream",
     "text": [
      "\n",
      "Eps = 0.63\n",
      "F-measure = 0.7931675776673253\n",
      "Start evaluate...\n",
      "Save clusters...\n"
     ]
    },
    {
     "data": {
      "application/vnd.jupyter.widget-view+json": {
       "model_id": "7005cabc50b347799c71c294762648f8",
       "version_major": 2,
       "version_minor": 0
      },
      "text/plain": [
       "HBox(children=(IntProgress(value=0, max=4373), HTML(value='')))"
      ]
     },
     "metadata": {},
     "output_type": "display_data"
    },
    {
     "name": "stdout",
     "output_type": "stream",
     "text": [
      "\n",
      "Delete outliers...\n"
     ]
    },
    {
     "data": {
      "application/vnd.jupyter.widget-view+json": {
       "model_id": "ab953e38b9cf48a78dd37c667f802288",
       "version_major": 2,
       "version_minor": 0
      },
      "text/plain": [
       "HBox(children=(IntProgress(value=0, max=493), HTML(value='')))"
      ]
     },
     "metadata": {},
     "output_type": "display_data"
    },
    {
     "name": "stdout",
     "output_type": "stream",
     "text": [
      "\n",
      "Calculate confusion...\n"
     ]
    },
    {
     "data": {
      "application/vnd.jupyter.widget-view+json": {
       "model_id": "e0bda61e875a4c07b02e3b2360b0f010",
       "version_major": 2,
       "version_minor": 0
      },
      "text/plain": [
       "HBox(children=(IntProgress(value=0, max=493), HTML(value='')))"
      ]
     },
     "metadata": {},
     "output_type": "display_data"
    },
    {
     "name": "stdout",
     "output_type": "stream",
     "text": [
      "\n",
      "Calculate entropy & purity...\n"
     ]
    },
    {
     "data": {
      "application/vnd.jupyter.widget-view+json": {
       "model_id": "14ba8c0356154d96bf004cf4078a8601",
       "version_major": 2,
       "version_minor": 0
      },
      "text/plain": [
       "HBox(children=(IntProgress(value=0, max=493), HTML(value='')))"
      ]
     },
     "metadata": {},
     "output_type": "display_data"
    },
    {
     "name": "stdout",
     "output_type": "stream",
     "text": [
      "\n",
      "Calculate F-measure...\n"
     ]
    },
    {
     "data": {
      "application/vnd.jupyter.widget-view+json": {
       "model_id": "047e42c8942547a58a3368913b3df200",
       "version_major": 2,
       "version_minor": 0
      },
      "text/plain": [
       "HBox(children=(IntProgress(value=0, max=511), HTML(value='')))"
      ]
     },
     "metadata": {},
     "output_type": "display_data"
    },
    {
     "name": "stdout",
     "output_type": "stream",
     "text": [
      "\n",
      "Eps = 0.635\n",
      "F-measure = 0.7926158007612469\n",
      "Start evaluate...\n",
      "Save clusters...\n"
     ]
    },
    {
     "data": {
      "application/vnd.jupyter.widget-view+json": {
       "model_id": "7b115e7de7ec480fb4cdb6a2b0e427ae",
       "version_major": 2,
       "version_minor": 0
      },
      "text/plain": [
       "HBox(children=(IntProgress(value=0, max=4373), HTML(value='')))"
      ]
     },
     "metadata": {},
     "output_type": "display_data"
    },
    {
     "name": "stdout",
     "output_type": "stream",
     "text": [
      "\n",
      "Delete outliers...\n"
     ]
    },
    {
     "data": {
      "application/vnd.jupyter.widget-view+json": {
       "model_id": "a1a8ecba34e24b4d9adf02446a8045b5",
       "version_major": 2,
       "version_minor": 0
      },
      "text/plain": [
       "HBox(children=(IntProgress(value=0, max=493), HTML(value='')))"
      ]
     },
     "metadata": {},
     "output_type": "display_data"
    },
    {
     "name": "stdout",
     "output_type": "stream",
     "text": [
      "\n",
      "Calculate confusion...\n"
     ]
    },
    {
     "data": {
      "application/vnd.jupyter.widget-view+json": {
       "model_id": "2aacef686fb44aeb9d80e421bd896a3d",
       "version_major": 2,
       "version_minor": 0
      },
      "text/plain": [
       "HBox(children=(IntProgress(value=0, max=493), HTML(value='')))"
      ]
     },
     "metadata": {},
     "output_type": "display_data"
    },
    {
     "name": "stdout",
     "output_type": "stream",
     "text": [
      "\n",
      "Calculate entropy & purity...\n"
     ]
    },
    {
     "data": {
      "application/vnd.jupyter.widget-view+json": {
       "model_id": "bd094b8ad022496191f7121fd2aef6a4",
       "version_major": 2,
       "version_minor": 0
      },
      "text/plain": [
       "HBox(children=(IntProgress(value=0, max=493), HTML(value='')))"
      ]
     },
     "metadata": {},
     "output_type": "display_data"
    },
    {
     "name": "stdout",
     "output_type": "stream",
     "text": [
      "\n",
      "Calculate F-measure...\n"
     ]
    },
    {
     "data": {
      "application/vnd.jupyter.widget-view+json": {
       "model_id": "147d9cc730664600b75c2ad496440c15",
       "version_major": 2,
       "version_minor": 0
      },
      "text/plain": [
       "HBox(children=(IntProgress(value=0, max=511), HTML(value='')))"
      ]
     },
     "metadata": {},
     "output_type": "display_data"
    },
    {
     "name": "stdout",
     "output_type": "stream",
     "text": [
      "\n",
      "Eps = 0.64\n",
      "F-measure = 0.7931723433369984\n",
      "Start evaluate...\n",
      "Save clusters...\n"
     ]
    },
    {
     "data": {
      "application/vnd.jupyter.widget-view+json": {
       "model_id": "5a5b9038ea9a448896c3c696bdfa3280",
       "version_major": 2,
       "version_minor": 0
      },
      "text/plain": [
       "HBox(children=(IntProgress(value=0, max=4373), HTML(value='')))"
      ]
     },
     "metadata": {},
     "output_type": "display_data"
    },
    {
     "name": "stdout",
     "output_type": "stream",
     "text": [
      "\n",
      "Delete outliers...\n"
     ]
    },
    {
     "data": {
      "application/vnd.jupyter.widget-view+json": {
       "model_id": "e25c52f2f7f44d359d02e81eebe0fa4e",
       "version_major": 2,
       "version_minor": 0
      },
      "text/plain": [
       "HBox(children=(IntProgress(value=0, max=492), HTML(value='')))"
      ]
     },
     "metadata": {},
     "output_type": "display_data"
    },
    {
     "name": "stdout",
     "output_type": "stream",
     "text": [
      "\n",
      "Calculate confusion...\n"
     ]
    },
    {
     "data": {
      "application/vnd.jupyter.widget-view+json": {
       "model_id": "c6c9ea0e28954dc88897e668cc54c893",
       "version_major": 2,
       "version_minor": 0
      },
      "text/plain": [
       "HBox(children=(IntProgress(value=0, max=492), HTML(value='')))"
      ]
     },
     "metadata": {},
     "output_type": "display_data"
    },
    {
     "name": "stdout",
     "output_type": "stream",
     "text": [
      "\n",
      "Calculate entropy & purity...\n"
     ]
    },
    {
     "data": {
      "application/vnd.jupyter.widget-view+json": {
       "model_id": "04a7d7d0a5074f629a619b504c722d71",
       "version_major": 2,
       "version_minor": 0
      },
      "text/plain": [
       "HBox(children=(IntProgress(value=0, max=492), HTML(value='')))"
      ]
     },
     "metadata": {},
     "output_type": "display_data"
    },
    {
     "name": "stdout",
     "output_type": "stream",
     "text": [
      "\n",
      "Calculate F-measure...\n"
     ]
    },
    {
     "data": {
      "application/vnd.jupyter.widget-view+json": {
       "model_id": "9b6ec3889ec7412cb0cf45e03868cafa",
       "version_major": 2,
       "version_minor": 0
      },
      "text/plain": [
       "HBox(children=(IntProgress(value=0, max=511), HTML(value='')))"
      ]
     },
     "metadata": {},
     "output_type": "display_data"
    },
    {
     "name": "stdout",
     "output_type": "stream",
     "text": [
      "\n",
      "Eps = 0.645\n",
      "F-measure = 0.7946995010935878\n",
      "Start evaluate...\n",
      "Save clusters...\n"
     ]
    },
    {
     "data": {
      "application/vnd.jupyter.widget-view+json": {
       "model_id": "13b51360ccae47b7999457e9fe70d774",
       "version_major": 2,
       "version_minor": 0
      },
      "text/plain": [
       "HBox(children=(IntProgress(value=0, max=4373), HTML(value='')))"
      ]
     },
     "metadata": {},
     "output_type": "display_data"
    },
    {
     "name": "stdout",
     "output_type": "stream",
     "text": [
      "\n",
      "Delete outliers...\n"
     ]
    },
    {
     "data": {
      "application/vnd.jupyter.widget-view+json": {
       "model_id": "235d63430b4844ad9b15e2fb89d577f2",
       "version_major": 2,
       "version_minor": 0
      },
      "text/plain": [
       "HBox(children=(IntProgress(value=0, max=489), HTML(value='')))"
      ]
     },
     "metadata": {},
     "output_type": "display_data"
    },
    {
     "name": "stdout",
     "output_type": "stream",
     "text": [
      "\n",
      "Calculate confusion...\n"
     ]
    },
    {
     "data": {
      "application/vnd.jupyter.widget-view+json": {
       "model_id": "bcae4c5f5b8c42f0aad210c4ec938e4c",
       "version_major": 2,
       "version_minor": 0
      },
      "text/plain": [
       "HBox(children=(IntProgress(value=0, max=489), HTML(value='')))"
      ]
     },
     "metadata": {},
     "output_type": "display_data"
    },
    {
     "name": "stdout",
     "output_type": "stream",
     "text": [
      "\n",
      "Calculate entropy & purity...\n"
     ]
    },
    {
     "data": {
      "application/vnd.jupyter.widget-view+json": {
       "model_id": "41e4fc3db23649a089a9dda988189245",
       "version_major": 2,
       "version_minor": 0
      },
      "text/plain": [
       "HBox(children=(IntProgress(value=0, max=489), HTML(value='')))"
      ]
     },
     "metadata": {},
     "output_type": "display_data"
    },
    {
     "name": "stdout",
     "output_type": "stream",
     "text": [
      "\n",
      "Calculate F-measure...\n"
     ]
    },
    {
     "data": {
      "application/vnd.jupyter.widget-view+json": {
       "model_id": "5dc3392474ef47b1a25dc570a0b8c977",
       "version_major": 2,
       "version_minor": 0
      },
      "text/plain": [
       "HBox(children=(IntProgress(value=0, max=511), HTML(value='')))"
      ]
     },
     "metadata": {},
     "output_type": "display_data"
    },
    {
     "name": "stdout",
     "output_type": "stream",
     "text": [
      "\n",
      "Eps = 0.65\n",
      "F-measure = 0.7939555764012072\n",
      "Start evaluate...\n",
      "Save clusters...\n"
     ]
    },
    {
     "data": {
      "application/vnd.jupyter.widget-view+json": {
       "model_id": "7b22dd02a9c9485a8ae5929bdf783f1c",
       "version_major": 2,
       "version_minor": 0
      },
      "text/plain": [
       "HBox(children=(IntProgress(value=0, max=4373), HTML(value='')))"
      ]
     },
     "metadata": {},
     "output_type": "display_data"
    },
    {
     "name": "stdout",
     "output_type": "stream",
     "text": [
      "\n",
      "Delete outliers...\n"
     ]
    },
    {
     "data": {
      "application/vnd.jupyter.widget-view+json": {
       "model_id": "874c58f765fb4f618cbcf12330388c41",
       "version_major": 2,
       "version_minor": 0
      },
      "text/plain": [
       "HBox(children=(IntProgress(value=0, max=488), HTML(value='')))"
      ]
     },
     "metadata": {},
     "output_type": "display_data"
    },
    {
     "name": "stdout",
     "output_type": "stream",
     "text": [
      "\n",
      "Calculate confusion...\n"
     ]
    },
    {
     "data": {
      "application/vnd.jupyter.widget-view+json": {
       "model_id": "1e86e47897d347db8fcc83660359d61e",
       "version_major": 2,
       "version_minor": 0
      },
      "text/plain": [
       "HBox(children=(IntProgress(value=0, max=488), HTML(value='')))"
      ]
     },
     "metadata": {},
     "output_type": "display_data"
    },
    {
     "name": "stdout",
     "output_type": "stream",
     "text": [
      "\n",
      "Calculate entropy & purity...\n"
     ]
    },
    {
     "data": {
      "application/vnd.jupyter.widget-view+json": {
       "model_id": "2d81bc42120c4530825ef39c132bd7a0",
       "version_major": 2,
       "version_minor": 0
      },
      "text/plain": [
       "HBox(children=(IntProgress(value=0, max=488), HTML(value='')))"
      ]
     },
     "metadata": {},
     "output_type": "display_data"
    },
    {
     "name": "stdout",
     "output_type": "stream",
     "text": [
      "\n",
      "Calculate F-measure...\n"
     ]
    },
    {
     "data": {
      "application/vnd.jupyter.widget-view+json": {
       "model_id": "6ccc89279b6641fb98bc9e699ac825a4",
       "version_major": 2,
       "version_minor": 0
      },
      "text/plain": [
       "HBox(children=(IntProgress(value=0, max=511), HTML(value='')))"
      ]
     },
     "metadata": {},
     "output_type": "display_data"
    },
    {
     "name": "stdout",
     "output_type": "stream",
     "text": [
      "\n",
      "Eps = 0.655\n",
      "F-measure = 0.7950316929328101\n",
      "Start evaluate...\n",
      "Save clusters...\n"
     ]
    },
    {
     "data": {
      "application/vnd.jupyter.widget-view+json": {
       "model_id": "a9d5b8bdadbe4587aa15352f9fe25f7b",
       "version_major": 2,
       "version_minor": 0
      },
      "text/plain": [
       "HBox(children=(IntProgress(value=0, max=4373), HTML(value='')))"
      ]
     },
     "metadata": {},
     "output_type": "display_data"
    },
    {
     "name": "stdout",
     "output_type": "stream",
     "text": [
      "\n",
      "Delete outliers...\n"
     ]
    },
    {
     "data": {
      "application/vnd.jupyter.widget-view+json": {
       "model_id": "ee76f069dd374f02b8984300a8395dea",
       "version_major": 2,
       "version_minor": 0
      },
      "text/plain": [
       "HBox(children=(IntProgress(value=0, max=487), HTML(value='')))"
      ]
     },
     "metadata": {},
     "output_type": "display_data"
    },
    {
     "name": "stdout",
     "output_type": "stream",
     "text": [
      "\n",
      "Calculate confusion...\n"
     ]
    },
    {
     "data": {
      "application/vnd.jupyter.widget-view+json": {
       "model_id": "e6e398319b884fd5a96ce69309e829b8",
       "version_major": 2,
       "version_minor": 0
      },
      "text/plain": [
       "HBox(children=(IntProgress(value=0, max=487), HTML(value='')))"
      ]
     },
     "metadata": {},
     "output_type": "display_data"
    },
    {
     "name": "stdout",
     "output_type": "stream",
     "text": [
      "\n",
      "Calculate entropy & purity...\n"
     ]
    },
    {
     "data": {
      "application/vnd.jupyter.widget-view+json": {
       "model_id": "d0cf51279f284d028da6d2b968a74bde",
       "version_major": 2,
       "version_minor": 0
      },
      "text/plain": [
       "HBox(children=(IntProgress(value=0, max=487), HTML(value='')))"
      ]
     },
     "metadata": {},
     "output_type": "display_data"
    },
    {
     "name": "stdout",
     "output_type": "stream",
     "text": [
      "\n",
      "Calculate F-measure...\n"
     ]
    },
    {
     "data": {
      "application/vnd.jupyter.widget-view+json": {
       "model_id": "af0c3e56b40e48b988fe68f43e02965c",
       "version_major": 2,
       "version_minor": 0
      },
      "text/plain": [
       "HBox(children=(IntProgress(value=0, max=511), HTML(value='')))"
      ]
     },
     "metadata": {},
     "output_type": "display_data"
    },
    {
     "name": "stdout",
     "output_type": "stream",
     "text": [
      "\n",
      "Eps = 0.66\n",
      "F-measure = 0.7946581545876275\n",
      "Start evaluate...\n",
      "Save clusters...\n"
     ]
    },
    {
     "data": {
      "application/vnd.jupyter.widget-view+json": {
       "model_id": "9a33a3e5af004b08a0ebf222ccbdf3e2",
       "version_major": 2,
       "version_minor": 0
      },
      "text/plain": [
       "HBox(children=(IntProgress(value=0, max=4373), HTML(value='')))"
      ]
     },
     "metadata": {},
     "output_type": "display_data"
    },
    {
     "name": "stdout",
     "output_type": "stream",
     "text": [
      "\n",
      "Delete outliers...\n"
     ]
    },
    {
     "data": {
      "application/vnd.jupyter.widget-view+json": {
       "model_id": "588075bef4484d5ab57fd812b9873b2d",
       "version_major": 2,
       "version_minor": 0
      },
      "text/plain": [
       "HBox(children=(IntProgress(value=0, max=487), HTML(value='')))"
      ]
     },
     "metadata": {},
     "output_type": "display_data"
    },
    {
     "name": "stdout",
     "output_type": "stream",
     "text": [
      "\n",
      "Calculate confusion...\n"
     ]
    },
    {
     "data": {
      "application/vnd.jupyter.widget-view+json": {
       "model_id": "9656b02b1d3e459f8d964370911a8e94",
       "version_major": 2,
       "version_minor": 0
      },
      "text/plain": [
       "HBox(children=(IntProgress(value=0, max=487), HTML(value='')))"
      ]
     },
     "metadata": {},
     "output_type": "display_data"
    },
    {
     "name": "stdout",
     "output_type": "stream",
     "text": [
      "\n",
      "Calculate entropy & purity...\n"
     ]
    },
    {
     "data": {
      "application/vnd.jupyter.widget-view+json": {
       "model_id": "ef316272ae8e45b999789d4be131594d",
       "version_major": 2,
       "version_minor": 0
      },
      "text/plain": [
       "HBox(children=(IntProgress(value=0, max=487), HTML(value='')))"
      ]
     },
     "metadata": {},
     "output_type": "display_data"
    },
    {
     "name": "stdout",
     "output_type": "stream",
     "text": [
      "\n",
      "Calculate F-measure...\n"
     ]
    },
    {
     "data": {
      "application/vnd.jupyter.widget-view+json": {
       "model_id": "80e789b267324c2197e6c33f0c2c5f31",
       "version_major": 2,
       "version_minor": 0
      },
      "text/plain": [
       "HBox(children=(IntProgress(value=0, max=511), HTML(value='')))"
      ]
     },
     "metadata": {},
     "output_type": "display_data"
    },
    {
     "name": "stdout",
     "output_type": "stream",
     "text": [
      "\n",
      "Eps = 0.665\n",
      "F-measure = 0.7946581545876275\n",
      "Start evaluate...\n",
      "Save clusters...\n"
     ]
    },
    {
     "data": {
      "application/vnd.jupyter.widget-view+json": {
       "model_id": "706f90acdd7b4443be52a2dd0e6ddb89",
       "version_major": 2,
       "version_minor": 0
      },
      "text/plain": [
       "HBox(children=(IntProgress(value=0, max=4373), HTML(value='')))"
      ]
     },
     "metadata": {},
     "output_type": "display_data"
    },
    {
     "name": "stdout",
     "output_type": "stream",
     "text": [
      "\n",
      "Delete outliers...\n"
     ]
    },
    {
     "data": {
      "application/vnd.jupyter.widget-view+json": {
       "model_id": "e7f53513d4e041c197690f1164aa6635",
       "version_major": 2,
       "version_minor": 0
      },
      "text/plain": [
       "HBox(children=(IntProgress(value=0, max=482), HTML(value='')))"
      ]
     },
     "metadata": {},
     "output_type": "display_data"
    },
    {
     "name": "stdout",
     "output_type": "stream",
     "text": [
      "\n",
      "Calculate confusion...\n"
     ]
    },
    {
     "data": {
      "application/vnd.jupyter.widget-view+json": {
       "model_id": "84da3b55ae5945358201bdcfc1d923fb",
       "version_major": 2,
       "version_minor": 0
      },
      "text/plain": [
       "HBox(children=(IntProgress(value=0, max=482), HTML(value='')))"
      ]
     },
     "metadata": {},
     "output_type": "display_data"
    },
    {
     "name": "stdout",
     "output_type": "stream",
     "text": [
      "\n",
      "Calculate entropy & purity...\n"
     ]
    },
    {
     "data": {
      "application/vnd.jupyter.widget-view+json": {
       "model_id": "a99be8aba1d3464f905f3d072ab32267",
       "version_major": 2,
       "version_minor": 0
      },
      "text/plain": [
       "HBox(children=(IntProgress(value=0, max=482), HTML(value='')))"
      ]
     },
     "metadata": {},
     "output_type": "display_data"
    },
    {
     "name": "stdout",
     "output_type": "stream",
     "text": [
      "\n",
      "Calculate F-measure...\n"
     ]
    },
    {
     "data": {
      "application/vnd.jupyter.widget-view+json": {
       "model_id": "3741ba5df51e4b62bacc53678f848ebd",
       "version_major": 2,
       "version_minor": 0
      },
      "text/plain": [
       "HBox(children=(IntProgress(value=0, max=511), HTML(value='')))"
      ]
     },
     "metadata": {},
     "output_type": "display_data"
    },
    {
     "name": "stdout",
     "output_type": "stream",
     "text": [
      "\n",
      "Eps = 0.67\n",
      "F-measure = 0.7922838417666309\n",
      "Start evaluate...\n",
      "Save clusters...\n"
     ]
    },
    {
     "data": {
      "application/vnd.jupyter.widget-view+json": {
       "model_id": "52f181f4b4bc4d9f817df071d1728792",
       "version_major": 2,
       "version_minor": 0
      },
      "text/plain": [
       "HBox(children=(IntProgress(value=0, max=4373), HTML(value='')))"
      ]
     },
     "metadata": {},
     "output_type": "display_data"
    },
    {
     "name": "stdout",
     "output_type": "stream",
     "text": [
      "\n",
      "Delete outliers...\n"
     ]
    },
    {
     "data": {
      "application/vnd.jupyter.widget-view+json": {
       "model_id": "b427c1a319de46f3b03028a14453c560",
       "version_major": 2,
       "version_minor": 0
      },
      "text/plain": [
       "HBox(children=(IntProgress(value=0, max=482), HTML(value='')))"
      ]
     },
     "metadata": {},
     "output_type": "display_data"
    },
    {
     "name": "stdout",
     "output_type": "stream",
     "text": [
      "\n",
      "Calculate confusion...\n"
     ]
    },
    {
     "data": {
      "application/vnd.jupyter.widget-view+json": {
       "model_id": "6bcb6048dcef4053abb460ca7ca60015",
       "version_major": 2,
       "version_minor": 0
      },
      "text/plain": [
       "HBox(children=(IntProgress(value=0, max=482), HTML(value='')))"
      ]
     },
     "metadata": {},
     "output_type": "display_data"
    },
    {
     "name": "stdout",
     "output_type": "stream",
     "text": [
      "\n",
      "Calculate entropy & purity...\n"
     ]
    },
    {
     "data": {
      "application/vnd.jupyter.widget-view+json": {
       "model_id": "17e32c2bc652400596d006c8e6ac5019",
       "version_major": 2,
       "version_minor": 0
      },
      "text/plain": [
       "HBox(children=(IntProgress(value=0, max=482), HTML(value='')))"
      ]
     },
     "metadata": {},
     "output_type": "display_data"
    },
    {
     "name": "stdout",
     "output_type": "stream",
     "text": [
      "\n",
      "Calculate F-measure...\n"
     ]
    },
    {
     "data": {
      "application/vnd.jupyter.widget-view+json": {
       "model_id": "276910db8940412fb49db4c226057025",
       "version_major": 2,
       "version_minor": 0
      },
      "text/plain": [
       "HBox(children=(IntProgress(value=0, max=511), HTML(value='')))"
      ]
     },
     "metadata": {},
     "output_type": "display_data"
    },
    {
     "name": "stdout",
     "output_type": "stream",
     "text": [
      "\n",
      "Eps = 0.675\n",
      "F-measure = 0.7926234928340095\n",
      "Start evaluate...\n",
      "Save clusters...\n"
     ]
    },
    {
     "data": {
      "application/vnd.jupyter.widget-view+json": {
       "model_id": "ee673c6932974c70bf149d8e39bf5f2a",
       "version_major": 2,
       "version_minor": 0
      },
      "text/plain": [
       "HBox(children=(IntProgress(value=0, max=4373), HTML(value='')))"
      ]
     },
     "metadata": {},
     "output_type": "display_data"
    },
    {
     "name": "stdout",
     "output_type": "stream",
     "text": [
      "\n",
      "Delete outliers...\n"
     ]
    },
    {
     "data": {
      "application/vnd.jupyter.widget-view+json": {
       "model_id": "ec050feeab0c431db2ac6f90640e6388",
       "version_major": 2,
       "version_minor": 0
      },
      "text/plain": [
       "HBox(children=(IntProgress(value=0, max=481), HTML(value='')))"
      ]
     },
     "metadata": {},
     "output_type": "display_data"
    },
    {
     "name": "stdout",
     "output_type": "stream",
     "text": [
      "\n",
      "Calculate confusion...\n"
     ]
    },
    {
     "data": {
      "application/vnd.jupyter.widget-view+json": {
       "model_id": "fc339c6c63244c33aaaba5db143709ba",
       "version_major": 2,
       "version_minor": 0
      },
      "text/plain": [
       "HBox(children=(IntProgress(value=0, max=481), HTML(value='')))"
      ]
     },
     "metadata": {},
     "output_type": "display_data"
    },
    {
     "name": "stdout",
     "output_type": "stream",
     "text": [
      "\n",
      "Calculate entropy & purity...\n"
     ]
    },
    {
     "data": {
      "application/vnd.jupyter.widget-view+json": {
       "model_id": "d17aa3c117544ce28ee81c34624008ac",
       "version_major": 2,
       "version_minor": 0
      },
      "text/plain": [
       "HBox(children=(IntProgress(value=0, max=481), HTML(value='')))"
      ]
     },
     "metadata": {},
     "output_type": "display_data"
    },
    {
     "name": "stdout",
     "output_type": "stream",
     "text": [
      "\n",
      "Calculate F-measure...\n"
     ]
    },
    {
     "data": {
      "application/vnd.jupyter.widget-view+json": {
       "model_id": "8afb92e3d7a64d9a8cfa24293bf4098e",
       "version_major": 2,
       "version_minor": 0
      },
      "text/plain": [
       "HBox(children=(IntProgress(value=0, max=511), HTML(value='')))"
      ]
     },
     "metadata": {},
     "output_type": "display_data"
    },
    {
     "name": "stdout",
     "output_type": "stream",
     "text": [
      "\n",
      "Eps = 0.68\n",
      "F-measure = 0.7916999001901899\n",
      "Start evaluate...\n",
      "Save clusters...\n"
     ]
    },
    {
     "data": {
      "application/vnd.jupyter.widget-view+json": {
       "model_id": "3766aedaa7674d24b85308b04cb32074",
       "version_major": 2,
       "version_minor": 0
      },
      "text/plain": [
       "HBox(children=(IntProgress(value=0, max=4373), HTML(value='')))"
      ]
     },
     "metadata": {},
     "output_type": "display_data"
    },
    {
     "name": "stdout",
     "output_type": "stream",
     "text": [
      "\n",
      "Delete outliers...\n"
     ]
    },
    {
     "data": {
      "application/vnd.jupyter.widget-view+json": {
       "model_id": "d1b383bcd68b4e4e83ae58f1690d2d5d",
       "version_major": 2,
       "version_minor": 0
      },
      "text/plain": [
       "HBox(children=(IntProgress(value=0, max=477), HTML(value='')))"
      ]
     },
     "metadata": {},
     "output_type": "display_data"
    },
    {
     "name": "stdout",
     "output_type": "stream",
     "text": [
      "\n",
      "Calculate confusion...\n"
     ]
    },
    {
     "data": {
      "application/vnd.jupyter.widget-view+json": {
       "model_id": "da460200f5eb4d16835b373a21c81d87",
       "version_major": 2,
       "version_minor": 0
      },
      "text/plain": [
       "HBox(children=(IntProgress(value=0, max=477), HTML(value='')))"
      ]
     },
     "metadata": {},
     "output_type": "display_data"
    },
    {
     "name": "stdout",
     "output_type": "stream",
     "text": [
      "\n",
      "Calculate entropy & purity...\n"
     ]
    },
    {
     "data": {
      "application/vnd.jupyter.widget-view+json": {
       "model_id": "d567584647234b6a8ac684862e2e4a5d",
       "version_major": 2,
       "version_minor": 0
      },
      "text/plain": [
       "HBox(children=(IntProgress(value=0, max=477), HTML(value='')))"
      ]
     },
     "metadata": {},
     "output_type": "display_data"
    },
    {
     "name": "stdout",
     "output_type": "stream",
     "text": [
      "\n",
      "Calculate F-measure...\n"
     ]
    },
    {
     "data": {
      "application/vnd.jupyter.widget-view+json": {
       "model_id": "d77cc30cba364c028ca0eacb0b671792",
       "version_major": 2,
       "version_minor": 0
      },
      "text/plain": [
       "HBox(children=(IntProgress(value=0, max=511), HTML(value='')))"
      ]
     },
     "metadata": {},
     "output_type": "display_data"
    },
    {
     "name": "stdout",
     "output_type": "stream",
     "text": [
      "\n",
      "Eps = 0.685\n",
      "F-measure = 0.7881306619344848\n",
      "Start evaluate...\n",
      "Save clusters...\n"
     ]
    },
    {
     "data": {
      "application/vnd.jupyter.widget-view+json": {
       "model_id": "9d9c4212e92a491ea73a3713d00a3523",
       "version_major": 2,
       "version_minor": 0
      },
      "text/plain": [
       "HBox(children=(IntProgress(value=0, max=4373), HTML(value='')))"
      ]
     },
     "metadata": {},
     "output_type": "display_data"
    },
    {
     "name": "stdout",
     "output_type": "stream",
     "text": [
      "\n",
      "Delete outliers...\n"
     ]
    },
    {
     "data": {
      "application/vnd.jupyter.widget-view+json": {
       "model_id": "83b6d6c67fc04cbe88aa2cfa5effd1b2",
       "version_major": 2,
       "version_minor": 0
      },
      "text/plain": [
       "HBox(children=(IntProgress(value=0, max=474), HTML(value='')))"
      ]
     },
     "metadata": {},
     "output_type": "display_data"
    },
    {
     "name": "stdout",
     "output_type": "stream",
     "text": [
      "\n",
      "Calculate confusion...\n"
     ]
    },
    {
     "data": {
      "application/vnd.jupyter.widget-view+json": {
       "model_id": "064d13bcaec94cb490bdf013bcfd5b4e",
       "version_major": 2,
       "version_minor": 0
      },
      "text/plain": [
       "HBox(children=(IntProgress(value=0, max=474), HTML(value='')))"
      ]
     },
     "metadata": {},
     "output_type": "display_data"
    },
    {
     "name": "stdout",
     "output_type": "stream",
     "text": [
      "\n",
      "Calculate entropy & purity...\n"
     ]
    },
    {
     "data": {
      "application/vnd.jupyter.widget-view+json": {
       "model_id": "78cd1aa4d5614e4087008fe1e585ca3e",
       "version_major": 2,
       "version_minor": 0
      },
      "text/plain": [
       "HBox(children=(IntProgress(value=0, max=474), HTML(value='')))"
      ]
     },
     "metadata": {},
     "output_type": "display_data"
    },
    {
     "name": "stdout",
     "output_type": "stream",
     "text": [
      "\n",
      "Calculate F-measure...\n"
     ]
    },
    {
     "data": {
      "application/vnd.jupyter.widget-view+json": {
       "model_id": "56e22ed1b67546e99bf79dfff572ff94",
       "version_major": 2,
       "version_minor": 0
      },
      "text/plain": [
       "HBox(children=(IntProgress(value=0, max=511), HTML(value='')))"
      ]
     },
     "metadata": {},
     "output_type": "display_data"
    },
    {
     "name": "stdout",
     "output_type": "stream",
     "text": [
      "\n",
      "Eps = 0.6900000000000001\n",
      "F-measure = 0.7851178115840209\n",
      "Start evaluate...\n",
      "Save clusters...\n"
     ]
    },
    {
     "data": {
      "application/vnd.jupyter.widget-view+json": {
       "model_id": "02ca442f88e744a08148613cbe503591",
       "version_major": 2,
       "version_minor": 0
      },
      "text/plain": [
       "HBox(children=(IntProgress(value=0, max=4373), HTML(value='')))"
      ]
     },
     "metadata": {},
     "output_type": "display_data"
    },
    {
     "name": "stdout",
     "output_type": "stream",
     "text": [
      "\n",
      "Delete outliers...\n"
     ]
    },
    {
     "data": {
      "application/vnd.jupyter.widget-view+json": {
       "model_id": "e5ad6300b5414ca9a0c933db0a58f13a",
       "version_major": 2,
       "version_minor": 0
      },
      "text/plain": [
       "HBox(children=(IntProgress(value=0, max=467), HTML(value='')))"
      ]
     },
     "metadata": {},
     "output_type": "display_data"
    },
    {
     "name": "stdout",
     "output_type": "stream",
     "text": [
      "\n",
      "Calculate confusion...\n"
     ]
    },
    {
     "data": {
      "application/vnd.jupyter.widget-view+json": {
       "model_id": "2840d474a3854032a58f6810566c6727",
       "version_major": 2,
       "version_minor": 0
      },
      "text/plain": [
       "HBox(children=(IntProgress(value=0, max=467), HTML(value='')))"
      ]
     },
     "metadata": {},
     "output_type": "display_data"
    },
    {
     "name": "stdout",
     "output_type": "stream",
     "text": [
      "\n",
      "Calculate entropy & purity...\n"
     ]
    },
    {
     "data": {
      "application/vnd.jupyter.widget-view+json": {
       "model_id": "a5b46142efba49e9a4f01c1979837aae",
       "version_major": 2,
       "version_minor": 0
      },
      "text/plain": [
       "HBox(children=(IntProgress(value=0, max=467), HTML(value='')))"
      ]
     },
     "metadata": {},
     "output_type": "display_data"
    },
    {
     "name": "stdout",
     "output_type": "stream",
     "text": [
      "\n",
      "Calculate F-measure...\n"
     ]
    },
    {
     "data": {
      "application/vnd.jupyter.widget-view+json": {
       "model_id": "ec8b4171d3fe4dcd9db75d7f7659f8d5",
       "version_major": 2,
       "version_minor": 0
      },
      "text/plain": [
       "HBox(children=(IntProgress(value=0, max=511), HTML(value='')))"
      ]
     },
     "metadata": {},
     "output_type": "display_data"
    },
    {
     "name": "stdout",
     "output_type": "stream",
     "text": [
      "\n",
      "Eps = 0.6950000000000001\n",
      "F-measure = 0.7801349963648627\n",
      "\n",
      "0.62 0.7951304073230985\n",
      "Start evaluate...\n",
      "Save clusters...\n"
     ]
    },
    {
     "data": {
      "application/vnd.jupyter.widget-view+json": {
       "model_id": "fb33439b088a4625a8d707eac29e0351",
       "version_major": 2,
       "version_minor": 0
      },
      "text/plain": [
       "HBox(children=(IntProgress(value=0, max=4373), HTML(value='')))"
      ]
     },
     "metadata": {},
     "output_type": "display_data"
    },
    {
     "name": "stdout",
     "output_type": "stream",
     "text": [
      "\n",
      "Delete outliers...\n"
     ]
    },
    {
     "data": {
      "application/vnd.jupyter.widget-view+json": {
       "model_id": "1e20ae4c47a64ab694073e3ff84b394e",
       "version_major": 2,
       "version_minor": 0
      },
      "text/plain": [
       "HBox(children=(IntProgress(value=0, max=499), HTML(value='')))"
      ]
     },
     "metadata": {},
     "output_type": "display_data"
    },
    {
     "name": "stdout",
     "output_type": "stream",
     "text": [
      "\n",
      "Calculate rand...\n"
     ]
    },
    {
     "data": {
      "application/vnd.jupyter.widget-view+json": {
       "model_id": "bfe7abcb57474d139d9f18fa998bc59d",
       "version_major": 2,
       "version_minor": 0
      },
      "text/plain": [
       "HBox(children=(IntProgress(value=0, max=4373), HTML(value='')))"
      ]
     },
     "metadata": {},
     "output_type": "display_data"
    },
    {
     "name": "stdout",
     "output_type": "stream",
     "text": [
      "\n",
      "Calculate confusion...\n"
     ]
    },
    {
     "data": {
      "application/vnd.jupyter.widget-view+json": {
       "model_id": "a9f1477bcc3c444e862255cf38b2877c",
       "version_major": 2,
       "version_minor": 0
      },
      "text/plain": [
       "HBox(children=(IntProgress(value=0, max=499), HTML(value='')))"
      ]
     },
     "metadata": {},
     "output_type": "display_data"
    },
    {
     "name": "stdout",
     "output_type": "stream",
     "text": [
      "\n",
      "Calculate entropy & purity...\n"
     ]
    },
    {
     "data": {
      "application/vnd.jupyter.widget-view+json": {
       "model_id": "e88eda9457b34f198c0f37449d09fa1d",
       "version_major": 2,
       "version_minor": 0
      },
      "text/plain": [
       "HBox(children=(IntProgress(value=0, max=499), HTML(value='')))"
      ]
     },
     "metadata": {},
     "output_type": "display_data"
    },
    {
     "name": "stdout",
     "output_type": "stream",
     "text": [
      "\n",
      "Calculate F-measure...\n"
     ]
    },
    {
     "data": {
      "application/vnd.jupyter.widget-view+json": {
       "model_id": "d99d962599ac4352bccd909f193a06e6",
       "version_major": 2,
       "version_minor": 0
      },
      "text/plain": [
       "HBox(children=(IntProgress(value=0, max=511), HTML(value='')))"
      ]
     },
     "metadata": {},
     "output_type": "display_data"
    },
    {
     "name": "stdout",
     "output_type": "stream",
     "text": [
      "\n",
      "Number of clusters: 499\n",
      "Number of outliers: 671/4373 (15.344%)\n",
      "\n",
      "Entropy = 0.31561\n",
      "Purity = 0.893301\n",
      "F-measure = 0.79513\n",
      "\n",
      "Rand = 99.839%\n",
      "Jaccard Index = 66.341%\n"
     ]
    }
   ],
   "source": [
    "max_fm = 0\n",
    "best_eps = 0\n",
    "best_clustering = None\n",
    "\n",
    "for eps in tqdm_notebook(np.arange(0.6, 0.7, 0.005)):\n",
    "    tufano_clustering = sklearn.cluster.DBSCAN(eps=eps, min_samples=2, \n",
    "                                                   metric='precomputed').fit(dists_filtered_to_5gram)\n",
    "    \n",
    "    rand, fm = print_clustering_results_tufano_unique(tufano_clustering, unique_label_to_changes_filtered, \n",
    "                                    from_change_to_unique_label_filtered, changes_with_different_methods_filtered, \n",
    "                                    without_outliers=True, to_print=False, only_fm=True)\n",
    "    print(\"Eps =\", eps)\n",
    "    print(\"F-measure =\", fm)\n",
    "    \n",
    "    if fm > max_fm:\n",
    "        max_fm = fm\n",
    "        best_eps = eps\n",
    "        best_clustering = tufano_clustering\n",
    "\n",
    "print(best_eps, max_fm)\n",
    "\n",
    "\n",
    "rand, fm = print_clustering_results_tufano_unique(best_clustering, unique_label_to_changes_filtered, \n",
    "                                    from_change_to_unique_label_filtered, changes_with_different_methods_filtered, \n",
    "                                    without_outliers=True, to_print=True)"
   ]
  },
  {
   "cell_type": "code",
   "execution_count": null,
   "metadata": {},
   "outputs": [],
   "source": []
  },
  {
   "cell_type": "code",
   "execution_count": null,
   "metadata": {},
   "outputs": [],
   "source": []
  },
  {
   "cell_type": "code",
   "execution_count": null,
   "metadata": {},
   "outputs": [],
   "source": []
  },
  {
   "cell_type": "code",
   "execution_count": null,
   "metadata": {},
   "outputs": [],
   "source": []
  },
  {
   "cell_type": "code",
   "execution_count": null,
   "metadata": {},
   "outputs": [],
   "source": []
  },
  {
   "cell_type": "code",
   "execution_count": null,
   "metadata": {},
   "outputs": [],
   "source": []
  },
  {
   "cell_type": "code",
   "execution_count": 147,
   "metadata": {},
   "outputs": [
    {
     "data": {
      "text/plain": [
       "1818"
      ]
     },
     "execution_count": 147,
     "metadata": {},
     "output_type": "execute_result"
    }
   ],
   "source": [
    "changes_with_different_methods_filtered5 = [elem for elem in changes_with_different_methods \n",
    "                                           if len(unique_label_to_changes[elem[1]]) > 9]\n",
    "len(changes_with_different_methods_filtered5)"
   ]
  },
  {
   "cell_type": "code",
   "execution_count": 110,
   "metadata": {},
   "outputs": [
    {
     "data": {
      "application/vnd.jupyter.widget-view+json": {
       "model_id": "2972453c2860464d8ddd408dd14d2a26",
       "version_major": 2,
       "version_minor": 0
      },
      "text/plain": [
       "HBox(children=(IntProgress(value=0, max=6393), HTML(value='')))"
      ]
     },
     "metadata": {},
     "output_type": "display_data"
    },
    {
     "name": "stdout",
     "output_type": "stream",
     "text": [
      "\n"
     ]
    },
    {
     "data": {
      "application/vnd.jupyter.widget-view+json": {
       "model_id": "b8190d2f7a91498c869d801a4eadd56f",
       "version_major": 2,
       "version_minor": 0
      },
      "text/plain": [
       "HBox(children=(IntProgress(value=0, max=6393), HTML(value='')))"
      ]
     },
     "metadata": {},
     "output_type": "display_data"
    },
    {
     "name": "stdout",
     "output_type": "stream",
     "text": [
      "\n"
     ]
    },
    {
     "data": {
      "application/vnd.jupyter.widget-view+json": {
       "model_id": "965c4250e93c409f8d76a8fe7b2d8f67",
       "version_major": 2,
       "version_minor": 0
      },
      "text/plain": [
       "HBox(children=(IntProgress(value=0, max=6393), HTML(value='')))"
      ]
     },
     "metadata": {},
     "output_type": "display_data"
    },
    {
     "name": "stdout",
     "output_type": "stream",
     "text": [
      "\n"
     ]
    },
    {
     "data": {
      "application/vnd.jupyter.widget-view+json": {
       "model_id": "4555e6b82fe543b4bf8e44c8efd4e7cb",
       "version_major": 2,
       "version_minor": 0
      },
      "text/plain": [
       "HBox(children=(IntProgress(value=0, max=6393), HTML(value='')))"
      ]
     },
     "metadata": {},
     "output_type": "display_data"
    },
    {
     "name": "stdout",
     "output_type": "stream",
     "text": [
      "\n"
     ]
    },
    {
     "data": {
      "application/vnd.jupyter.widget-view+json": {
       "model_id": "b09e172096144d4da116d1a194b53ac6",
       "version_major": 2,
       "version_minor": 0
      },
      "text/plain": [
       "HBox(children=(IntProgress(value=0, max=6393), HTML(value='')))"
      ]
     },
     "metadata": {},
     "output_type": "display_data"
    },
    {
     "name": "stdout",
     "output_type": "stream",
     "text": [
      "\n"
     ]
    }
   ],
   "source": [
    "hists_1gram_filtered5 = get_hists(RESULTS_CPATMINER, \"1gram\", changes_with_different_methods_filtered5)\n",
    "hists_2gram_filtered5 = get_hists(RESULTS_CPATMINER, \"2gram\", changes_with_different_methods_filtered5)\n",
    "hists_3gram_filtered5 = get_hists(RESULTS_CPATMINER, \"3gram\", changes_with_different_methods_filtered5)\n",
    "hists_4gram_filtered5 = get_hists(RESULTS_CPATMINER, \"4gram\", changes_with_different_methods_filtered5)\n",
    "hists_5gram_filtered5 = get_hists(RESULTS_CPATMINER, \"5gram\", changes_with_different_methods_filtered5)"
   ]
  },
  {
   "cell_type": "code",
   "execution_count": 111,
   "metadata": {},
   "outputs": [
    {
     "data": {
      "application/vnd.jupyter.widget-view+json": {
       "model_id": "d1371a509c28453f9dd0ca6fa5cb7208",
       "version_major": 2,
       "version_minor": 0
      },
      "text/plain": [
       "HBox(children=(IntProgress(value=0, max=6393), HTML(value='')))"
      ]
     },
     "metadata": {},
     "output_type": "display_data"
    },
    {
     "name": "stdout",
     "output_type": "stream",
     "text": [
      "\n"
     ]
    }
   ],
   "source": [
    "concat_hists_filtered5_to_5gram = []\n",
    "\n",
    "num_changes = len(hists_1gram_filtered5)\n",
    "\n",
    "for i in tqdm_notebook(range(num_changes)):\n",
    "    concat_hist = []\n",
    "    \n",
    "    for gram_ind, amount in hists_1gram_filtered5[i]:\n",
    "        concat_hist.append((gram_ind, amount))\n",
    "    \n",
    "    for gram_ind, amount in hists_2gram_filtered5[i]:\n",
    "        concat_hist.append((gram_ind + hist_len_1gram, amount))\n",
    "        \n",
    "    for gram_ind, amount in hists_3gram_filtered5[i]:\n",
    "        concat_hist.append((gram_ind + hist_len_1gram + hist_len_2gram, amount))\n",
    "        \n",
    "    for gram_ind, amount in hists_4gram_filtered5[i]:\n",
    "        concat_hist.append((gram_ind + hist_len_1gram + hist_len_2gram + hist_len_3gram, amount))\n",
    "        \n",
    "    for gram_ind, amount in hists_5gram_filtered5[i]:\n",
    "        concat_hist.append((gram_ind + hist_len_1gram + \n",
    "                            hist_len_2gram + hist_len_3gram + hist_len_4gram, \n",
    "                            amount))\n",
    "            \n",
    "    concat_hists_filtered5_to_5gram.append(concat_hist)\n",
    "\n",
    "concat_hists_len_to_5gram = hist_len_1gram + hist_len_2gram + hist_len_3gram\n",
    "concat_hists_len_to_5gram += hist_len_4gram + hist_len_5gram\n",
    "\n",
    "concat_hists_filtered5_to_5gram = np.array(concat_hists_filtered5_to_5gram)\n"
   ]
  },
  {
   "cell_type": "code",
   "execution_count": 112,
   "metadata": {},
   "outputs": [
    {
     "data": {
      "application/vnd.jupyter.widget-view+json": {
       "model_id": "1b1379788b5b416f85fe865d5959cea5",
       "version_major": 2,
       "version_minor": 0
      },
      "text/plain": [
       "HBox(children=(IntProgress(value=0, max=6393), HTML(value='')))"
      ]
     },
     "metadata": {},
     "output_type": "display_data"
    },
    {
     "name": "stdout",
     "output_type": "stream",
     "text": [
      "\n"
     ]
    }
   ],
   "source": [
    "dists_filtered3_to_5gram = get_dists_optimized(concat_hists_filtered5_to_5gram, \n",
    "                                         canberra_metric_optimized, concat_hists_len_to_5gram)"
   ]
  },
  {
   "cell_type": "code",
   "execution_count": 104,
   "metadata": {},
   "outputs": [
    {
     "data": {
      "application/vnd.jupyter.widget-view+json": {
       "model_id": "3287d61a68cc48be99955f83d13f51e2",
       "version_major": 2,
       "version_minor": 0
      },
      "text/plain": [
       "HBox(children=(IntProgress(value=0, max=1818), HTML(value='')))"
      ]
     },
     "metadata": {},
     "output_type": "display_data"
    },
    {
     "name": "stdout",
     "output_type": "stream",
     "text": [
      "\n"
     ]
    }
   ],
   "source": [
    "dists_filtered10_to_5gram = get_dists_optimized(concat_hists_filtered5_to_5gram, \n",
    "                                         canberra_metric_optimized, concat_hists_len_to_5gram)"
   ]
  },
  {
   "cell_type": "code",
   "execution_count": 95,
   "metadata": {},
   "outputs": [
    {
     "data": {
      "application/vnd.jupyter.widget-view+json": {
       "model_id": "5076a4095eaf440eb4df5f75c009003e",
       "version_major": 2,
       "version_minor": 0
      },
      "text/plain": [
       "HBox(children=(IntProgress(value=0, max=3653), HTML(value='')))"
      ]
     },
     "metadata": {},
     "output_type": "display_data"
    },
    {
     "name": "stdout",
     "output_type": "stream",
     "text": [
      "\n"
     ]
    }
   ],
   "source": [
    "dists_filtered5_to_5gram = get_dists_optimized(concat_hists_filtered5_to_5gram, \n",
    "                                         canberra_metric_optimized, concat_hists_len_to_5gram)"
   ]
  },
  {
   "cell_type": "code",
   "execution_count": 148,
   "metadata": {},
   "outputs": [
    {
     "name": "stdout",
     "output_type": "stream",
     "text": [
      "Classes: 103\n"
     ]
    }
   ],
   "source": [
    "unique_label_to_changes_filtered5 = collections.defaultdict(list)\n",
    "from_change_to_unique_label_filtered5 = collections.defaultdict(list)\n",
    "\n",
    "for elem in changes_with_different_methods_filtered5:\n",
    "    unique_label_to_changes_filtered5[elem[1]].append(elem)\n",
    "    from_change_to_unique_label_filtered5[elem].append(elem[1])\n",
    "    \n",
    "print(\"Classes:\", len(unique_label_to_changes_filtered5))\n",
    "    "
   ]
  },
  {
   "cell_type": "code",
   "execution_count": 123,
   "metadata": {},
   "outputs": [
    {
     "data": {
      "application/vnd.jupyter.widget-view+json": {
       "model_id": "dbfeda0a2bc64933a0f16e3a83c154ec",
       "version_major": 2,
       "version_minor": 0
      },
      "text/plain": [
       "HBox(children=(IntProgress(value=0, max=20), HTML(value='')))"
      ]
     },
     "metadata": {},
     "output_type": "display_data"
    },
    {
     "name": "stdout",
     "output_type": "stream",
     "text": [
      "Start evaluate...\n",
      "Save clusters...\n"
     ]
    },
    {
     "data": {
      "application/vnd.jupyter.widget-view+json": {
       "model_id": "70b8c7c113a940f5a301b65b7480c425",
       "version_major": 2,
       "version_minor": 0
      },
      "text/plain": [
       "HBox(children=(IntProgress(value=0, max=1818), HTML(value='')))"
      ]
     },
     "metadata": {},
     "output_type": "display_data"
    },
    {
     "name": "stdout",
     "output_type": "stream",
     "text": [
      "\n",
      "Delete outliers...\n"
     ]
    },
    {
     "data": {
      "application/vnd.jupyter.widget-view+json": {
       "model_id": "a06c7d975c4646d3ac3b8d5a2003bdfa",
       "version_major": 2,
       "version_minor": 0
      },
      "text/plain": [
       "HBox(children=(IntProgress(value=0, max=159), HTML(value='')))"
      ]
     },
     "metadata": {},
     "output_type": "display_data"
    },
    {
     "name": "stdout",
     "output_type": "stream",
     "text": [
      "\n",
      "Calculate confusion...\n"
     ]
    },
    {
     "data": {
      "application/vnd.jupyter.widget-view+json": {
       "model_id": "20a702ba2cdd413c87eb3d7d40e54294",
       "version_major": 2,
       "version_minor": 0
      },
      "text/plain": [
       "HBox(children=(IntProgress(value=0, max=159), HTML(value='')))"
      ]
     },
     "metadata": {},
     "output_type": "display_data"
    },
    {
     "name": "stdout",
     "output_type": "stream",
     "text": [
      "\n",
      "Calculate entropy & purity...\n"
     ]
    },
    {
     "data": {
      "application/vnd.jupyter.widget-view+json": {
       "model_id": "93aee84c42bf4ba09b6bcd197d25e0d7",
       "version_major": 2,
       "version_minor": 0
      },
      "text/plain": [
       "HBox(children=(IntProgress(value=0, max=159), HTML(value='')))"
      ]
     },
     "metadata": {},
     "output_type": "display_data"
    },
    {
     "name": "stdout",
     "output_type": "stream",
     "text": [
      "\n",
      "Calculate F-measure...\n"
     ]
    },
    {
     "data": {
      "application/vnd.jupyter.widget-view+json": {
       "model_id": "b70b8f42a41549f5b0975f26d76be23a",
       "version_major": 2,
       "version_minor": 0
      },
      "text/plain": [
       "HBox(children=(IntProgress(value=0, max=103), HTML(value='')))"
      ]
     },
     "metadata": {},
     "output_type": "display_data"
    },
    {
     "name": "stdout",
     "output_type": "stream",
     "text": [
      "\n",
      "Eps = 0.1\n",
      "F-measure = 0.7810342248069188\n",
      "Start evaluate...\n",
      "Save clusters...\n"
     ]
    },
    {
     "data": {
      "application/vnd.jupyter.widget-view+json": {
       "model_id": "23af75e41ac445e28614a3124ad67e36",
       "version_major": 2,
       "version_minor": 0
      },
      "text/plain": [
       "HBox(children=(IntProgress(value=0, max=1818), HTML(value='')))"
      ]
     },
     "metadata": {},
     "output_type": "display_data"
    },
    {
     "name": "stdout",
     "output_type": "stream",
     "text": [
      "\n",
      "Delete outliers...\n"
     ]
    },
    {
     "data": {
      "application/vnd.jupyter.widget-view+json": {
       "model_id": "8dd5af4246184d1d9e0d4eb0a37364d8",
       "version_major": 2,
       "version_minor": 0
      },
      "text/plain": [
       "HBox(children=(IntProgress(value=0, max=153), HTML(value='')))"
      ]
     },
     "metadata": {},
     "output_type": "display_data"
    },
    {
     "name": "stdout",
     "output_type": "stream",
     "text": [
      "\n",
      "Calculate confusion...\n"
     ]
    },
    {
     "data": {
      "application/vnd.jupyter.widget-view+json": {
       "model_id": "ab72cb53d5294384902bc1c509e51cf5",
       "version_major": 2,
       "version_minor": 0
      },
      "text/plain": [
       "HBox(children=(IntProgress(value=0, max=153), HTML(value='')))"
      ]
     },
     "metadata": {},
     "output_type": "display_data"
    },
    {
     "name": "stdout",
     "output_type": "stream",
     "text": [
      "\n",
      "Calculate entropy & purity...\n"
     ]
    },
    {
     "data": {
      "application/vnd.jupyter.widget-view+json": {
       "model_id": "ea3b9efe260744bf931ccadd78931d02",
       "version_major": 2,
       "version_minor": 0
      },
      "text/plain": [
       "HBox(children=(IntProgress(value=0, max=153), HTML(value='')))"
      ]
     },
     "metadata": {},
     "output_type": "display_data"
    },
    {
     "name": "stdout",
     "output_type": "stream",
     "text": [
      "\n",
      "Calculate F-measure...\n"
     ]
    },
    {
     "data": {
      "application/vnd.jupyter.widget-view+json": {
       "model_id": "d336402549e04be78d852b4e19b9560b",
       "version_major": 2,
       "version_minor": 0
      },
      "text/plain": [
       "HBox(children=(IntProgress(value=0, max=103), HTML(value='')))"
      ]
     },
     "metadata": {},
     "output_type": "display_data"
    },
    {
     "name": "stdout",
     "output_type": "stream",
     "text": [
      "\n",
      "Eps = 0.15000000000000002\n",
      "F-measure = 0.78817340091294\n",
      "Start evaluate...\n",
      "Save clusters...\n"
     ]
    },
    {
     "data": {
      "application/vnd.jupyter.widget-view+json": {
       "model_id": "9f4c86703bde4771bc36101106b8f540",
       "version_major": 2,
       "version_minor": 0
      },
      "text/plain": [
       "HBox(children=(IntProgress(value=0, max=1818), HTML(value='')))"
      ]
     },
     "metadata": {},
     "output_type": "display_data"
    },
    {
     "name": "stdout",
     "output_type": "stream",
     "text": [
      "\n",
      "Delete outliers...\n"
     ]
    },
    {
     "data": {
      "application/vnd.jupyter.widget-view+json": {
       "model_id": "4c0341d562904c1b8372effffa816a9c",
       "version_major": 2,
       "version_minor": 0
      },
      "text/plain": [
       "HBox(children=(IntProgress(value=0, max=149), HTML(value='')))"
      ]
     },
     "metadata": {},
     "output_type": "display_data"
    },
    {
     "name": "stdout",
     "output_type": "stream",
     "text": [
      "\n",
      "Calculate confusion...\n"
     ]
    },
    {
     "data": {
      "application/vnd.jupyter.widget-view+json": {
       "model_id": "cf86aea0b6c14020a37efc325497491f",
       "version_major": 2,
       "version_minor": 0
      },
      "text/plain": [
       "HBox(children=(IntProgress(value=0, max=149), HTML(value='')))"
      ]
     },
     "metadata": {},
     "output_type": "display_data"
    },
    {
     "name": "stdout",
     "output_type": "stream",
     "text": [
      "\n",
      "Calculate entropy & purity...\n"
     ]
    },
    {
     "data": {
      "application/vnd.jupyter.widget-view+json": {
       "model_id": "fc0e7c987b6540189b5235d4362054d1",
       "version_major": 2,
       "version_minor": 0
      },
      "text/plain": [
       "HBox(children=(IntProgress(value=0, max=149), HTML(value='')))"
      ]
     },
     "metadata": {},
     "output_type": "display_data"
    },
    {
     "name": "stdout",
     "output_type": "stream",
     "text": [
      "\n",
      "Calculate F-measure...\n"
     ]
    },
    {
     "data": {
      "application/vnd.jupyter.widget-view+json": {
       "model_id": "fd7198759c054079a52a864c47812ab3",
       "version_major": 2,
       "version_minor": 0
      },
      "text/plain": [
       "HBox(children=(IntProgress(value=0, max=103), HTML(value='')))"
      ]
     },
     "metadata": {},
     "output_type": "display_data"
    },
    {
     "name": "stdout",
     "output_type": "stream",
     "text": [
      "\n",
      "Eps = 0.20000000000000004\n",
      "F-measure = 0.7951013922289897\n",
      "Start evaluate...\n",
      "Save clusters...\n"
     ]
    },
    {
     "data": {
      "application/vnd.jupyter.widget-view+json": {
       "model_id": "c76aba241b0f490bb26af43074a61376",
       "version_major": 2,
       "version_minor": 0
      },
      "text/plain": [
       "HBox(children=(IntProgress(value=0, max=1818), HTML(value='')))"
      ]
     },
     "metadata": {},
     "output_type": "display_data"
    },
    {
     "name": "stdout",
     "output_type": "stream",
     "text": [
      "\n",
      "Delete outliers...\n"
     ]
    },
    {
     "data": {
      "application/vnd.jupyter.widget-view+json": {
       "model_id": "f51bca168c4b4b0cb9e0053d83785b43",
       "version_major": 2,
       "version_minor": 0
      },
      "text/plain": [
       "HBox(children=(IntProgress(value=0, max=139), HTML(value='')))"
      ]
     },
     "metadata": {},
     "output_type": "display_data"
    },
    {
     "name": "stdout",
     "output_type": "stream",
     "text": [
      "\n",
      "Calculate confusion...\n"
     ]
    },
    {
     "data": {
      "application/vnd.jupyter.widget-view+json": {
       "model_id": "59815fc50698422da421ba497ab18c11",
       "version_major": 2,
       "version_minor": 0
      },
      "text/plain": [
       "HBox(children=(IntProgress(value=0, max=139), HTML(value='')))"
      ]
     },
     "metadata": {},
     "output_type": "display_data"
    },
    {
     "name": "stdout",
     "output_type": "stream",
     "text": [
      "\n",
      "Calculate entropy & purity...\n"
     ]
    },
    {
     "data": {
      "application/vnd.jupyter.widget-view+json": {
       "model_id": "b602b053913041edabd0d0104e47998b",
       "version_major": 2,
       "version_minor": 0
      },
      "text/plain": [
       "HBox(children=(IntProgress(value=0, max=139), HTML(value='')))"
      ]
     },
     "metadata": {},
     "output_type": "display_data"
    },
    {
     "name": "stdout",
     "output_type": "stream",
     "text": [
      "\n",
      "Calculate F-measure...\n"
     ]
    },
    {
     "data": {
      "application/vnd.jupyter.widget-view+json": {
       "model_id": "a77c3c9cabae4233be5f1447f0e2a6c7",
       "version_major": 2,
       "version_minor": 0
      },
      "text/plain": [
       "HBox(children=(IntProgress(value=0, max=103), HTML(value='')))"
      ]
     },
     "metadata": {},
     "output_type": "display_data"
    },
    {
     "name": "stdout",
     "output_type": "stream",
     "text": [
      "\n",
      "Eps = 0.25000000000000006\n",
      "F-measure = 0.810613902951956\n",
      "Start evaluate...\n",
      "Save clusters...\n"
     ]
    },
    {
     "data": {
      "application/vnd.jupyter.widget-view+json": {
       "model_id": "61e947af6b7941bdab58cda38a0fcfa4",
       "version_major": 2,
       "version_minor": 0
      },
      "text/plain": [
       "HBox(children=(IntProgress(value=0, max=1818), HTML(value='')))"
      ]
     },
     "metadata": {},
     "output_type": "display_data"
    },
    {
     "name": "stdout",
     "output_type": "stream",
     "text": [
      "\n",
      "Delete outliers...\n"
     ]
    },
    {
     "data": {
      "application/vnd.jupyter.widget-view+json": {
       "model_id": "e328fcf5d3c543128b406c47f6238749",
       "version_major": 2,
       "version_minor": 0
      },
      "text/plain": [
       "HBox(children=(IntProgress(value=0, max=134), HTML(value='')))"
      ]
     },
     "metadata": {},
     "output_type": "display_data"
    },
    {
     "name": "stdout",
     "output_type": "stream",
     "text": [
      "\n",
      "Calculate confusion...\n"
     ]
    },
    {
     "data": {
      "application/vnd.jupyter.widget-view+json": {
       "model_id": "baff451794474299994c4eb073daaef3",
       "version_major": 2,
       "version_minor": 0
      },
      "text/plain": [
       "HBox(children=(IntProgress(value=0, max=134), HTML(value='')))"
      ]
     },
     "metadata": {},
     "output_type": "display_data"
    },
    {
     "name": "stdout",
     "output_type": "stream",
     "text": [
      "\n",
      "Calculate entropy & purity...\n"
     ]
    },
    {
     "data": {
      "application/vnd.jupyter.widget-view+json": {
       "model_id": "d7ebeaf7f57a4baea67fdde14835d7a5",
       "version_major": 2,
       "version_minor": 0
      },
      "text/plain": [
       "HBox(children=(IntProgress(value=0, max=134), HTML(value='')))"
      ]
     },
     "metadata": {},
     "output_type": "display_data"
    },
    {
     "name": "stdout",
     "output_type": "stream",
     "text": [
      "\n",
      "Calculate F-measure...\n"
     ]
    },
    {
     "data": {
      "application/vnd.jupyter.widget-view+json": {
       "model_id": "80e95cc40a464319b8f595ed9f1dd52a",
       "version_major": 2,
       "version_minor": 0
      },
      "text/plain": [
       "HBox(children=(IntProgress(value=0, max=103), HTML(value='')))"
      ]
     },
     "metadata": {},
     "output_type": "display_data"
    },
    {
     "name": "stdout",
     "output_type": "stream",
     "text": [
      "\n",
      "Eps = 0.30000000000000004\n",
      "F-measure = 0.8147578835113205\n",
      "Start evaluate...\n",
      "Save clusters...\n"
     ]
    },
    {
     "data": {
      "application/vnd.jupyter.widget-view+json": {
       "model_id": "a48ca05add344d42bb70d2fe0c08c016",
       "version_major": 2,
       "version_minor": 0
      },
      "text/plain": [
       "HBox(children=(IntProgress(value=0, max=1818), HTML(value='')))"
      ]
     },
     "metadata": {},
     "output_type": "display_data"
    },
    {
     "name": "stdout",
     "output_type": "stream",
     "text": [
      "\n",
      "Delete outliers...\n"
     ]
    },
    {
     "data": {
      "application/vnd.jupyter.widget-view+json": {
       "model_id": "603ca69911f046d99421e323da6f16ba",
       "version_major": 2,
       "version_minor": 0
      },
      "text/plain": [
       "HBox(children=(IntProgress(value=0, max=129), HTML(value='')))"
      ]
     },
     "metadata": {},
     "output_type": "display_data"
    },
    {
     "name": "stdout",
     "output_type": "stream",
     "text": [
      "\n",
      "Calculate confusion...\n"
     ]
    },
    {
     "data": {
      "application/vnd.jupyter.widget-view+json": {
       "model_id": "d48dd3b71d3c4b9e88a9e3532e5a2585",
       "version_major": 2,
       "version_minor": 0
      },
      "text/plain": [
       "HBox(children=(IntProgress(value=0, max=129), HTML(value='')))"
      ]
     },
     "metadata": {},
     "output_type": "display_data"
    },
    {
     "name": "stdout",
     "output_type": "stream",
     "text": [
      "\n",
      "Calculate entropy & purity...\n"
     ]
    },
    {
     "data": {
      "application/vnd.jupyter.widget-view+json": {
       "model_id": "5704ae3f5e834e6c80de510295b4a5ae",
       "version_major": 2,
       "version_minor": 0
      },
      "text/plain": [
       "HBox(children=(IntProgress(value=0, max=129), HTML(value='')))"
      ]
     },
     "metadata": {},
     "output_type": "display_data"
    },
    {
     "name": "stdout",
     "output_type": "stream",
     "text": [
      "\n",
      "Calculate F-measure...\n"
     ]
    },
    {
     "data": {
      "application/vnd.jupyter.widget-view+json": {
       "model_id": "6912255ec6254596acb964b42a0f51cb",
       "version_major": 2,
       "version_minor": 0
      },
      "text/plain": [
       "HBox(children=(IntProgress(value=0, max=103), HTML(value='')))"
      ]
     },
     "metadata": {},
     "output_type": "display_data"
    },
    {
     "name": "stdout",
     "output_type": "stream",
     "text": [
      "\n",
      "Eps = 0.3500000000000001\n",
      "F-measure = 0.8184591175686287\n",
      "Start evaluate...\n",
      "Save clusters...\n"
     ]
    },
    {
     "data": {
      "application/vnd.jupyter.widget-view+json": {
       "model_id": "e0c4c1d7cacd4f738ac1f26ace047812",
       "version_major": 2,
       "version_minor": 0
      },
      "text/plain": [
       "HBox(children=(IntProgress(value=0, max=1818), HTML(value='')))"
      ]
     },
     "metadata": {},
     "output_type": "display_data"
    },
    {
     "name": "stdout",
     "output_type": "stream",
     "text": [
      "\n",
      "Delete outliers...\n"
     ]
    },
    {
     "data": {
      "application/vnd.jupyter.widget-view+json": {
       "model_id": "48de5fedf6be4e7fb53b593697088f41",
       "version_major": 2,
       "version_minor": 0
      },
      "text/plain": [
       "HBox(children=(IntProgress(value=0, max=125), HTML(value='')))"
      ]
     },
     "metadata": {},
     "output_type": "display_data"
    },
    {
     "name": "stdout",
     "output_type": "stream",
     "text": [
      "\n",
      "Calculate confusion...\n"
     ]
    },
    {
     "data": {
      "application/vnd.jupyter.widget-view+json": {
       "model_id": "ed6fb966af764d848f0b8330353790f5",
       "version_major": 2,
       "version_minor": 0
      },
      "text/plain": [
       "HBox(children=(IntProgress(value=0, max=125), HTML(value='')))"
      ]
     },
     "metadata": {},
     "output_type": "display_data"
    },
    {
     "name": "stdout",
     "output_type": "stream",
     "text": [
      "\n",
      "Calculate entropy & purity...\n"
     ]
    },
    {
     "data": {
      "application/vnd.jupyter.widget-view+json": {
       "model_id": "546620575ac74038ba2c798159030d0a",
       "version_major": 2,
       "version_minor": 0
      },
      "text/plain": [
       "HBox(children=(IntProgress(value=0, max=125), HTML(value='')))"
      ]
     },
     "metadata": {},
     "output_type": "display_data"
    },
    {
     "name": "stdout",
     "output_type": "stream",
     "text": [
      "\n",
      "Calculate F-measure...\n"
     ]
    },
    {
     "data": {
      "application/vnd.jupyter.widget-view+json": {
       "model_id": "01c0dce65c9645ddbdfb3aab1c796426",
       "version_major": 2,
       "version_minor": 0
      },
      "text/plain": [
       "HBox(children=(IntProgress(value=0, max=103), HTML(value='')))"
      ]
     },
     "metadata": {},
     "output_type": "display_data"
    },
    {
     "name": "stdout",
     "output_type": "stream",
     "text": [
      "\n",
      "Eps = 0.40000000000000013\n",
      "F-measure = 0.8246486404403358\n",
      "Start evaluate...\n",
      "Save clusters...\n"
     ]
    },
    {
     "data": {
      "application/vnd.jupyter.widget-view+json": {
       "model_id": "ae7d03c4fb0548bda5a3f2f19bcd124b",
       "version_major": 2,
       "version_minor": 0
      },
      "text/plain": [
       "HBox(children=(IntProgress(value=0, max=1818), HTML(value='')))"
      ]
     },
     "metadata": {},
     "output_type": "display_data"
    },
    {
     "name": "stdout",
     "output_type": "stream",
     "text": [
      "\n",
      "Delete outliers...\n"
     ]
    },
    {
     "data": {
      "application/vnd.jupyter.widget-view+json": {
       "model_id": "12f85ae68bb944d5b50f038112cb71bf",
       "version_major": 2,
       "version_minor": 0
      },
      "text/plain": [
       "HBox(children=(IntProgress(value=0, max=125), HTML(value='')))"
      ]
     },
     "metadata": {},
     "output_type": "display_data"
    },
    {
     "name": "stdout",
     "output_type": "stream",
     "text": [
      "\n",
      "Calculate confusion...\n"
     ]
    },
    {
     "data": {
      "application/vnd.jupyter.widget-view+json": {
       "model_id": "b5f447ee1c9a4772933de8aece39275d",
       "version_major": 2,
       "version_minor": 0
      },
      "text/plain": [
       "HBox(children=(IntProgress(value=0, max=125), HTML(value='')))"
      ]
     },
     "metadata": {},
     "output_type": "display_data"
    },
    {
     "name": "stdout",
     "output_type": "stream",
     "text": [
      "\n",
      "Calculate entropy & purity...\n"
     ]
    },
    {
     "data": {
      "application/vnd.jupyter.widget-view+json": {
       "model_id": "74d1f64e1e8c47518452121aeaa6e097",
       "version_major": 2,
       "version_minor": 0
      },
      "text/plain": [
       "HBox(children=(IntProgress(value=0, max=125), HTML(value='')))"
      ]
     },
     "metadata": {},
     "output_type": "display_data"
    },
    {
     "name": "stdout",
     "output_type": "stream",
     "text": [
      "\n",
      "Calculate F-measure...\n"
     ]
    },
    {
     "data": {
      "application/vnd.jupyter.widget-view+json": {
       "model_id": "20bde71900484f3198f3487dd12f660a",
       "version_major": 2,
       "version_minor": 0
      },
      "text/plain": [
       "HBox(children=(IntProgress(value=0, max=103), HTML(value='')))"
      ]
     },
     "metadata": {},
     "output_type": "display_data"
    },
    {
     "name": "stdout",
     "output_type": "stream",
     "text": [
      "\n",
      "Eps = 0.45000000000000007\n",
      "F-measure = 0.826312747816717\n",
      "Start evaluate...\n",
      "Save clusters...\n"
     ]
    },
    {
     "data": {
      "application/vnd.jupyter.widget-view+json": {
       "model_id": "a4e63deb193e43b48e91ddc5376dbf19",
       "version_major": 2,
       "version_minor": 0
      },
      "text/plain": [
       "HBox(children=(IntProgress(value=0, max=1818), HTML(value='')))"
      ]
     },
     "metadata": {},
     "output_type": "display_data"
    },
    {
     "name": "stdout",
     "output_type": "stream",
     "text": [
      "\n",
      "Delete outliers...\n"
     ]
    },
    {
     "data": {
      "application/vnd.jupyter.widget-view+json": {
       "model_id": "888ce396392f420a906622a1b239e3f8",
       "version_major": 2,
       "version_minor": 0
      },
      "text/plain": [
       "HBox(children=(IntProgress(value=0, max=121), HTML(value='')))"
      ]
     },
     "metadata": {},
     "output_type": "display_data"
    },
    {
     "name": "stdout",
     "output_type": "stream",
     "text": [
      "\n",
      "Calculate confusion...\n"
     ]
    },
    {
     "data": {
      "application/vnd.jupyter.widget-view+json": {
       "model_id": "7df21c5540d14bfbae05eeb62cccae51",
       "version_major": 2,
       "version_minor": 0
      },
      "text/plain": [
       "HBox(children=(IntProgress(value=0, max=121), HTML(value='')))"
      ]
     },
     "metadata": {},
     "output_type": "display_data"
    },
    {
     "name": "stdout",
     "output_type": "stream",
     "text": [
      "\n",
      "Calculate entropy & purity...\n"
     ]
    },
    {
     "data": {
      "application/vnd.jupyter.widget-view+json": {
       "model_id": "24495fba92ab4ffb82ef3e925cb1e375",
       "version_major": 2,
       "version_minor": 0
      },
      "text/plain": [
       "HBox(children=(IntProgress(value=0, max=121), HTML(value='')))"
      ]
     },
     "metadata": {},
     "output_type": "display_data"
    },
    {
     "name": "stdout",
     "output_type": "stream",
     "text": [
      "\n",
      "Calculate F-measure...\n"
     ]
    },
    {
     "data": {
      "application/vnd.jupyter.widget-view+json": {
       "model_id": "3d7b621f66a642daa1235dd3824861de",
       "version_major": 2,
       "version_minor": 0
      },
      "text/plain": [
       "HBox(children=(IntProgress(value=0, max=103), HTML(value='')))"
      ]
     },
     "metadata": {},
     "output_type": "display_data"
    },
    {
     "name": "stdout",
     "output_type": "stream",
     "text": [
      "\n",
      "Eps = 0.5000000000000001\n",
      "F-measure = 0.8335244642717126\n",
      "Start evaluate...\n",
      "Save clusters...\n"
     ]
    },
    {
     "data": {
      "application/vnd.jupyter.widget-view+json": {
       "model_id": "d93a0c3e8f054223a57a8901713cb1bc",
       "version_major": 2,
       "version_minor": 0
      },
      "text/plain": [
       "HBox(children=(IntProgress(value=0, max=1818), HTML(value='')))"
      ]
     },
     "metadata": {},
     "output_type": "display_data"
    },
    {
     "name": "stdout",
     "output_type": "stream",
     "text": [
      "\n",
      "Delete outliers...\n"
     ]
    },
    {
     "data": {
      "application/vnd.jupyter.widget-view+json": {
       "model_id": "f2ebf34a029a4c208fd142fe5cc54513",
       "version_major": 2,
       "version_minor": 0
      },
      "text/plain": [
       "HBox(children=(IntProgress(value=0, max=116), HTML(value='')))"
      ]
     },
     "metadata": {},
     "output_type": "display_data"
    },
    {
     "name": "stdout",
     "output_type": "stream",
     "text": [
      "\n",
      "Calculate confusion...\n"
     ]
    },
    {
     "data": {
      "application/vnd.jupyter.widget-view+json": {
       "model_id": "d439115171814bd3810d8429937cdcd5",
       "version_major": 2,
       "version_minor": 0
      },
      "text/plain": [
       "HBox(children=(IntProgress(value=0, max=116), HTML(value='')))"
      ]
     },
     "metadata": {},
     "output_type": "display_data"
    },
    {
     "name": "stdout",
     "output_type": "stream",
     "text": [
      "\n",
      "Calculate entropy & purity...\n"
     ]
    },
    {
     "data": {
      "application/vnd.jupyter.widget-view+json": {
       "model_id": "1a95062a591d4785be4b11b4689df202",
       "version_major": 2,
       "version_minor": 0
      },
      "text/plain": [
       "HBox(children=(IntProgress(value=0, max=116), HTML(value='')))"
      ]
     },
     "metadata": {},
     "output_type": "display_data"
    },
    {
     "name": "stdout",
     "output_type": "stream",
     "text": [
      "\n",
      "Calculate F-measure...\n"
     ]
    },
    {
     "data": {
      "application/vnd.jupyter.widget-view+json": {
       "model_id": "27119c4930bd4abcbfa73d76efa1b5a5",
       "version_major": 2,
       "version_minor": 0
      },
      "text/plain": [
       "HBox(children=(IntProgress(value=0, max=103), HTML(value='')))"
      ]
     },
     "metadata": {},
     "output_type": "display_data"
    },
    {
     "name": "stdout",
     "output_type": "stream",
     "text": [
      "\n",
      "Eps = 0.5500000000000002\n",
      "F-measure = 0.8394861909117939\n",
      "Start evaluate...\n",
      "Save clusters...\n"
     ]
    },
    {
     "data": {
      "application/vnd.jupyter.widget-view+json": {
       "model_id": "69addbc960584d30964cc2c336eb1c7c",
       "version_major": 2,
       "version_minor": 0
      },
      "text/plain": [
       "HBox(children=(IntProgress(value=0, max=1818), HTML(value='')))"
      ]
     },
     "metadata": {},
     "output_type": "display_data"
    },
    {
     "name": "stdout",
     "output_type": "stream",
     "text": [
      "\n",
      "Delete outliers...\n"
     ]
    },
    {
     "data": {
      "application/vnd.jupyter.widget-view+json": {
       "model_id": "6ec462b3cdd840ca9ff6d724fe6255dc",
       "version_major": 2,
       "version_minor": 0
      },
      "text/plain": [
       "HBox(children=(IntProgress(value=0, max=113), HTML(value='')))"
      ]
     },
     "metadata": {},
     "output_type": "display_data"
    },
    {
     "name": "stdout",
     "output_type": "stream",
     "text": [
      "\n",
      "Calculate confusion...\n"
     ]
    },
    {
     "data": {
      "application/vnd.jupyter.widget-view+json": {
       "model_id": "8a99bb19d4e344108d2383647719fb36",
       "version_major": 2,
       "version_minor": 0
      },
      "text/plain": [
       "HBox(children=(IntProgress(value=0, max=113), HTML(value='')))"
      ]
     },
     "metadata": {},
     "output_type": "display_data"
    },
    {
     "name": "stdout",
     "output_type": "stream",
     "text": [
      "\n",
      "Calculate entropy & purity...\n"
     ]
    },
    {
     "data": {
      "application/vnd.jupyter.widget-view+json": {
       "model_id": "19b06996e67142b9b362172add097a75",
       "version_major": 2,
       "version_minor": 0
      },
      "text/plain": [
       "HBox(children=(IntProgress(value=0, max=113), HTML(value='')))"
      ]
     },
     "metadata": {},
     "output_type": "display_data"
    },
    {
     "name": "stdout",
     "output_type": "stream",
     "text": [
      "\n",
      "Calculate F-measure...\n"
     ]
    },
    {
     "data": {
      "application/vnd.jupyter.widget-view+json": {
       "model_id": "ca31cfaef6e644f3a557a2277d15e58f",
       "version_major": 2,
       "version_minor": 0
      },
      "text/plain": [
       "HBox(children=(IntProgress(value=0, max=103), HTML(value='')))"
      ]
     },
     "metadata": {},
     "output_type": "display_data"
    },
    {
     "name": "stdout",
     "output_type": "stream",
     "text": [
      "\n",
      "Eps = 0.6000000000000002\n",
      "F-measure = 0.8478958941976507\n",
      "Start evaluate...\n",
      "Save clusters...\n"
     ]
    },
    {
     "data": {
      "application/vnd.jupyter.widget-view+json": {
       "model_id": "216ff5dcec7348e69c74060012c7ca83",
       "version_major": 2,
       "version_minor": 0
      },
      "text/plain": [
       "HBox(children=(IntProgress(value=0, max=1818), HTML(value='')))"
      ]
     },
     "metadata": {},
     "output_type": "display_data"
    },
    {
     "name": "stdout",
     "output_type": "stream",
     "text": [
      "\n",
      "Delete outliers...\n"
     ]
    },
    {
     "data": {
      "application/vnd.jupyter.widget-view+json": {
       "model_id": "efef5894e7d242d0a9296fb2e43e0d6f",
       "version_major": 2,
       "version_minor": 0
      },
      "text/plain": [
       "HBox(children=(IntProgress(value=0, max=109), HTML(value='')))"
      ]
     },
     "metadata": {},
     "output_type": "display_data"
    },
    {
     "name": "stdout",
     "output_type": "stream",
     "text": [
      "\n",
      "Calculate confusion...\n"
     ]
    },
    {
     "data": {
      "application/vnd.jupyter.widget-view+json": {
       "model_id": "6bab8ef57d14494b950c3df468688161",
       "version_major": 2,
       "version_minor": 0
      },
      "text/plain": [
       "HBox(children=(IntProgress(value=0, max=109), HTML(value='')))"
      ]
     },
     "metadata": {},
     "output_type": "display_data"
    },
    {
     "name": "stdout",
     "output_type": "stream",
     "text": [
      "\n",
      "Calculate entropy & purity...\n"
     ]
    },
    {
     "data": {
      "application/vnd.jupyter.widget-view+json": {
       "model_id": "84c147559ef24fae89cfb78b8ff29195",
       "version_major": 2,
       "version_minor": 0
      },
      "text/plain": [
       "HBox(children=(IntProgress(value=0, max=109), HTML(value='')))"
      ]
     },
     "metadata": {},
     "output_type": "display_data"
    },
    {
     "name": "stdout",
     "output_type": "stream",
     "text": [
      "\n",
      "Calculate F-measure...\n"
     ]
    },
    {
     "data": {
      "application/vnd.jupyter.widget-view+json": {
       "model_id": "8462ec149892416898bf62006deae4f3",
       "version_major": 2,
       "version_minor": 0
      },
      "text/plain": [
       "HBox(children=(IntProgress(value=0, max=103), HTML(value='')))"
      ]
     },
     "metadata": {},
     "output_type": "display_data"
    },
    {
     "name": "stdout",
     "output_type": "stream",
     "text": [
      "\n",
      "Eps = 0.6500000000000001\n",
      "F-measure = 0.8510846385792896\n",
      "Start evaluate...\n",
      "Save clusters...\n"
     ]
    },
    {
     "data": {
      "application/vnd.jupyter.widget-view+json": {
       "model_id": "8fee4d9ccaad431f9316d3821c850505",
       "version_major": 2,
       "version_minor": 0
      },
      "text/plain": [
       "HBox(children=(IntProgress(value=0, max=1818), HTML(value='')))"
      ]
     },
     "metadata": {},
     "output_type": "display_data"
    },
    {
     "name": "stdout",
     "output_type": "stream",
     "text": [
      "\n",
      "Delete outliers...\n"
     ]
    },
    {
     "data": {
      "application/vnd.jupyter.widget-view+json": {
       "model_id": "618118969e02446d920d5da5f8d1a3e2",
       "version_major": 2,
       "version_minor": 0
      },
      "text/plain": [
       "HBox(children=(IntProgress(value=0, max=102), HTML(value='')))"
      ]
     },
     "metadata": {},
     "output_type": "display_data"
    },
    {
     "name": "stdout",
     "output_type": "stream",
     "text": [
      "\n",
      "Calculate confusion...\n"
     ]
    },
    {
     "data": {
      "application/vnd.jupyter.widget-view+json": {
       "model_id": "f82619c6d19a45d9b05cf0d703dba3b7",
       "version_major": 2,
       "version_minor": 0
      },
      "text/plain": [
       "HBox(children=(IntProgress(value=0, max=102), HTML(value='')))"
      ]
     },
     "metadata": {},
     "output_type": "display_data"
    },
    {
     "name": "stdout",
     "output_type": "stream",
     "text": [
      "\n",
      "Calculate entropy & purity...\n"
     ]
    },
    {
     "data": {
      "application/vnd.jupyter.widget-view+json": {
       "model_id": "0ed54734127c41de9db233001448fd07",
       "version_major": 2,
       "version_minor": 0
      },
      "text/plain": [
       "HBox(children=(IntProgress(value=0, max=102), HTML(value='')))"
      ]
     },
     "metadata": {},
     "output_type": "display_data"
    },
    {
     "name": "stdout",
     "output_type": "stream",
     "text": [
      "\n",
      "Calculate F-measure...\n"
     ]
    },
    {
     "data": {
      "application/vnd.jupyter.widget-view+json": {
       "model_id": "e12eb8e6a1234d0788a6853c3e6e94ee",
       "version_major": 2,
       "version_minor": 0
      },
      "text/plain": [
       "HBox(children=(IntProgress(value=0, max=103), HTML(value='')))"
      ]
     },
     "metadata": {},
     "output_type": "display_data"
    },
    {
     "name": "stdout",
     "output_type": "stream",
     "text": [
      "\n",
      "Eps = 0.7000000000000002\n",
      "F-measure = 0.8519394758748977\n",
      "Start evaluate...\n",
      "Save clusters...\n"
     ]
    },
    {
     "data": {
      "application/vnd.jupyter.widget-view+json": {
       "model_id": "0eb7fb5e2d8540c79f7ba5c1d0420905",
       "version_major": 2,
       "version_minor": 0
      },
      "text/plain": [
       "HBox(children=(IntProgress(value=0, max=1818), HTML(value='')))"
      ]
     },
     "metadata": {},
     "output_type": "display_data"
    },
    {
     "name": "stdout",
     "output_type": "stream",
     "text": [
      "\n",
      "Delete outliers...\n"
     ]
    },
    {
     "data": {
      "application/vnd.jupyter.widget-view+json": {
       "model_id": "a376840f5f7c426385434ef558df1877",
       "version_major": 2,
       "version_minor": 0
      },
      "text/plain": [
       "HBox(children=(IntProgress(value=0, max=96), HTML(value='')))"
      ]
     },
     "metadata": {},
     "output_type": "display_data"
    },
    {
     "name": "stdout",
     "output_type": "stream",
     "text": [
      "\n",
      "Calculate confusion...\n"
     ]
    },
    {
     "data": {
      "application/vnd.jupyter.widget-view+json": {
       "model_id": "b33621902bb348d78a57d5d70ed7f49f",
       "version_major": 2,
       "version_minor": 0
      },
      "text/plain": [
       "HBox(children=(IntProgress(value=0, max=96), HTML(value='')))"
      ]
     },
     "metadata": {},
     "output_type": "display_data"
    },
    {
     "name": "stdout",
     "output_type": "stream",
     "text": [
      "\n",
      "Calculate entropy & purity...\n"
     ]
    },
    {
     "data": {
      "application/vnd.jupyter.widget-view+json": {
       "model_id": "2602afac8dfc4c74899ef4e996770c81",
       "version_major": 2,
       "version_minor": 0
      },
      "text/plain": [
       "HBox(children=(IntProgress(value=0, max=96), HTML(value='')))"
      ]
     },
     "metadata": {},
     "output_type": "display_data"
    },
    {
     "name": "stdout",
     "output_type": "stream",
     "text": [
      "\n",
      "Calculate F-measure...\n"
     ]
    },
    {
     "data": {
      "application/vnd.jupyter.widget-view+json": {
       "model_id": "362f6de8ec8143dcbd06de55cab90899",
       "version_major": 2,
       "version_minor": 0
      },
      "text/plain": [
       "HBox(children=(IntProgress(value=0, max=103), HTML(value='')))"
      ]
     },
     "metadata": {},
     "output_type": "display_data"
    },
    {
     "name": "stdout",
     "output_type": "stream",
     "text": [
      "\n",
      "Eps = 0.7500000000000002\n",
      "F-measure = 0.8563249196886672\n",
      "Start evaluate...\n",
      "Save clusters...\n"
     ]
    },
    {
     "data": {
      "application/vnd.jupyter.widget-view+json": {
       "model_id": "6b0b3d77ee5b4c7fad517687e033001c",
       "version_major": 2,
       "version_minor": 0
      },
      "text/plain": [
       "HBox(children=(IntProgress(value=0, max=1818), HTML(value='')))"
      ]
     },
     "metadata": {},
     "output_type": "display_data"
    },
    {
     "name": "stdout",
     "output_type": "stream",
     "text": [
      "\n",
      "Delete outliers...\n"
     ]
    },
    {
     "data": {
      "application/vnd.jupyter.widget-view+json": {
       "model_id": "ebcac208465f4feca98d7753b7c7d6cc",
       "version_major": 2,
       "version_minor": 0
      },
      "text/plain": [
       "HBox(children=(IntProgress(value=0, max=87), HTML(value='')))"
      ]
     },
     "metadata": {},
     "output_type": "display_data"
    },
    {
     "name": "stdout",
     "output_type": "stream",
     "text": [
      "\n",
      "Calculate confusion...\n"
     ]
    },
    {
     "data": {
      "application/vnd.jupyter.widget-view+json": {
       "model_id": "6752ccb3d5ec40bda2d4af172a43a47a",
       "version_major": 2,
       "version_minor": 0
      },
      "text/plain": [
       "HBox(children=(IntProgress(value=0, max=87), HTML(value='')))"
      ]
     },
     "metadata": {},
     "output_type": "display_data"
    },
    {
     "name": "stdout",
     "output_type": "stream",
     "text": [
      "\n",
      "Calculate entropy & purity...\n"
     ]
    },
    {
     "data": {
      "application/vnd.jupyter.widget-view+json": {
       "model_id": "900fa1e17b1a41f3b2a7f904ab9bf359",
       "version_major": 2,
       "version_minor": 0
      },
      "text/plain": [
       "HBox(children=(IntProgress(value=0, max=87), HTML(value='')))"
      ]
     },
     "metadata": {},
     "output_type": "display_data"
    },
    {
     "name": "stdout",
     "output_type": "stream",
     "text": [
      "\n",
      "Calculate F-measure...\n"
     ]
    },
    {
     "data": {
      "application/vnd.jupyter.widget-view+json": {
       "model_id": "d2c5c906bab1486c94cff64f37a22b22",
       "version_major": 2,
       "version_minor": 0
      },
      "text/plain": [
       "HBox(children=(IntProgress(value=0, max=103), HTML(value='')))"
      ]
     },
     "metadata": {},
     "output_type": "display_data"
    },
    {
     "name": "stdout",
     "output_type": "stream",
     "text": [
      "\n",
      "Eps = 0.8000000000000002\n",
      "F-measure = 0.8322864734766499\n",
      "Start evaluate...\n",
      "Save clusters...\n"
     ]
    },
    {
     "data": {
      "application/vnd.jupyter.widget-view+json": {
       "model_id": "36ddaf8e37af4625a91f9ef50bdbb397",
       "version_major": 2,
       "version_minor": 0
      },
      "text/plain": [
       "HBox(children=(IntProgress(value=0, max=1818), HTML(value='')))"
      ]
     },
     "metadata": {},
     "output_type": "display_data"
    },
    {
     "name": "stdout",
     "output_type": "stream",
     "text": [
      "\n",
      "Delete outliers...\n"
     ]
    },
    {
     "data": {
      "application/vnd.jupyter.widget-view+json": {
       "model_id": "5e7be3fb4ad0463e8c7c493ee9ac5f11",
       "version_major": 2,
       "version_minor": 0
      },
      "text/plain": [
       "HBox(children=(IntProgress(value=0, max=71), HTML(value='')))"
      ]
     },
     "metadata": {},
     "output_type": "display_data"
    },
    {
     "name": "stdout",
     "output_type": "stream",
     "text": [
      "\n",
      "Calculate confusion...\n"
     ]
    },
    {
     "data": {
      "application/vnd.jupyter.widget-view+json": {
       "model_id": "90e06503d8b448f49e6809c7470d9619",
       "version_major": 2,
       "version_minor": 0
      },
      "text/plain": [
       "HBox(children=(IntProgress(value=0, max=71), HTML(value='')))"
      ]
     },
     "metadata": {},
     "output_type": "display_data"
    },
    {
     "name": "stdout",
     "output_type": "stream",
     "text": [
      "\n",
      "Calculate entropy & purity...\n"
     ]
    },
    {
     "data": {
      "application/vnd.jupyter.widget-view+json": {
       "model_id": "7826bcb1ce0b4188a4421a95ec4d6526",
       "version_major": 2,
       "version_minor": 0
      },
      "text/plain": [
       "HBox(children=(IntProgress(value=0, max=71), HTML(value='')))"
      ]
     },
     "metadata": {},
     "output_type": "display_data"
    },
    {
     "name": "stdout",
     "output_type": "stream",
     "text": [
      "\n",
      "Calculate F-measure...\n"
     ]
    },
    {
     "data": {
      "application/vnd.jupyter.widget-view+json": {
       "model_id": "51877a320bb74d39af78a8daddbcf3ec",
       "version_major": 2,
       "version_minor": 0
      },
      "text/plain": [
       "HBox(children=(IntProgress(value=0, max=103), HTML(value='')))"
      ]
     },
     "metadata": {},
     "output_type": "display_data"
    },
    {
     "name": "stdout",
     "output_type": "stream",
     "text": [
      "\n",
      "Eps = 0.8500000000000002\n",
      "F-measure = 0.7226095177618288\n",
      "Start evaluate...\n",
      "Save clusters...\n"
     ]
    },
    {
     "data": {
      "application/vnd.jupyter.widget-view+json": {
       "model_id": "3f11b264a2934e07886b0970915192eb",
       "version_major": 2,
       "version_minor": 0
      },
      "text/plain": [
       "HBox(children=(IntProgress(value=0, max=1818), HTML(value='')))"
      ]
     },
     "metadata": {},
     "output_type": "display_data"
    },
    {
     "name": "stdout",
     "output_type": "stream",
     "text": [
      "\n",
      "Delete outliers...\n"
     ]
    },
    {
     "data": {
      "application/vnd.jupyter.widget-view+json": {
       "model_id": "02d33f0bda8b4b5ca73500f90aef553a",
       "version_major": 2,
       "version_minor": 0
      },
      "text/plain": [
       "HBox(children=(IntProgress(value=0, max=42), HTML(value='')))"
      ]
     },
     "metadata": {},
     "output_type": "display_data"
    },
    {
     "name": "stdout",
     "output_type": "stream",
     "text": [
      "\n",
      "Calculate confusion...\n"
     ]
    },
    {
     "data": {
      "application/vnd.jupyter.widget-view+json": {
       "model_id": "90abe98f359640f1b8b677daf3aa628f",
       "version_major": 2,
       "version_minor": 0
      },
      "text/plain": [
       "HBox(children=(IntProgress(value=0, max=42), HTML(value='')))"
      ]
     },
     "metadata": {},
     "output_type": "display_data"
    },
    {
     "name": "stdout",
     "output_type": "stream",
     "text": [
      "\n",
      "Calculate entropy & purity...\n"
     ]
    },
    {
     "data": {
      "application/vnd.jupyter.widget-view+json": {
       "model_id": "6df5a75ac76d4a438cf67643e6e81ed0",
       "version_major": 2,
       "version_minor": 0
      },
      "text/plain": [
       "HBox(children=(IntProgress(value=0, max=42), HTML(value='')))"
      ]
     },
     "metadata": {},
     "output_type": "display_data"
    },
    {
     "name": "stdout",
     "output_type": "stream",
     "text": [
      "\n",
      "Calculate F-measure...\n"
     ]
    },
    {
     "data": {
      "application/vnd.jupyter.widget-view+json": {
       "model_id": "71fad2cc87bd417a8693754e01332d4d",
       "version_major": 2,
       "version_minor": 0
      },
      "text/plain": [
       "HBox(children=(IntProgress(value=0, max=103), HTML(value='')))"
      ]
     },
     "metadata": {},
     "output_type": "display_data"
    },
    {
     "name": "stdout",
     "output_type": "stream",
     "text": [
      "\n",
      "Eps = 0.9000000000000002\n",
      "F-measure = 0.3724377784605341\n",
      "Start evaluate...\n",
      "Save clusters...\n"
     ]
    },
    {
     "data": {
      "application/vnd.jupyter.widget-view+json": {
       "model_id": "6738ca3bdd52405e8e8bfedece3e162f",
       "version_major": 2,
       "version_minor": 0
      },
      "text/plain": [
       "HBox(children=(IntProgress(value=0, max=1818), HTML(value='')))"
      ]
     },
     "metadata": {},
     "output_type": "display_data"
    },
    {
     "name": "stdout",
     "output_type": "stream",
     "text": [
      "\n",
      "Delete outliers...\n"
     ]
    },
    {
     "data": {
      "application/vnd.jupyter.widget-view+json": {
       "model_id": "fa750de4f91d46ab923aeae9ca095c26",
       "version_major": 2,
       "version_minor": 0
      },
      "text/plain": [
       "HBox(children=(IntProgress(value=0, max=9), HTML(value='')))"
      ]
     },
     "metadata": {},
     "output_type": "display_data"
    },
    {
     "name": "stdout",
     "output_type": "stream",
     "text": [
      "\n",
      "Calculate confusion...\n"
     ]
    },
    {
     "data": {
      "application/vnd.jupyter.widget-view+json": {
       "model_id": "8a172daa8f05434e8590c375b38cfb69",
       "version_major": 2,
       "version_minor": 0
      },
      "text/plain": [
       "HBox(children=(IntProgress(value=0, max=9), HTML(value='')))"
      ]
     },
     "metadata": {},
     "output_type": "display_data"
    },
    {
     "name": "stdout",
     "output_type": "stream",
     "text": [
      "\n",
      "Calculate entropy & purity...\n"
     ]
    },
    {
     "data": {
      "application/vnd.jupyter.widget-view+json": {
       "model_id": "86f85cdcdb7b4a7e84ad9909d43ec0d9",
       "version_major": 2,
       "version_minor": 0
      },
      "text/plain": [
       "HBox(children=(IntProgress(value=0, max=9), HTML(value='')))"
      ]
     },
     "metadata": {},
     "output_type": "display_data"
    },
    {
     "name": "stdout",
     "output_type": "stream",
     "text": [
      "\n",
      "Calculate F-measure...\n"
     ]
    },
    {
     "data": {
      "application/vnd.jupyter.widget-view+json": {
       "model_id": "9254ba992609489c9e4f85f6efec7d46",
       "version_major": 2,
       "version_minor": 0
      },
      "text/plain": [
       "HBox(children=(IntProgress(value=0, max=103), HTML(value='')))"
      ]
     },
     "metadata": {},
     "output_type": "display_data"
    },
    {
     "name": "stdout",
     "output_type": "stream",
     "text": [
      "\n",
      "Eps = 0.9500000000000003\n",
      "F-measure = 0.08597551572402211\n",
      "Start evaluate...\n",
      "Save clusters...\n"
     ]
    },
    {
     "data": {
      "application/vnd.jupyter.widget-view+json": {
       "model_id": "46ad71a929884d42bd68364bdfe32b34",
       "version_major": 2,
       "version_minor": 0
      },
      "text/plain": [
       "HBox(children=(IntProgress(value=0, max=1818), HTML(value='')))"
      ]
     },
     "metadata": {},
     "output_type": "display_data"
    },
    {
     "name": "stdout",
     "output_type": "stream",
     "text": [
      "\n",
      "Delete outliers...\n"
     ]
    },
    {
     "data": {
      "application/vnd.jupyter.widget-view+json": {
       "model_id": "92c0790429684bd18959d2a23162a7e0",
       "version_major": 2,
       "version_minor": 0
      },
      "text/plain": [
       "HBox(children=(IntProgress(value=0, max=1), HTML(value='')))"
      ]
     },
     "metadata": {},
     "output_type": "display_data"
    },
    {
     "name": "stdout",
     "output_type": "stream",
     "text": [
      "\n",
      "Calculate confusion...\n"
     ]
    },
    {
     "data": {
      "application/vnd.jupyter.widget-view+json": {
       "model_id": "ad708902ec07467dab65bae4f22d40d6",
       "version_major": 2,
       "version_minor": 0
      },
      "text/plain": [
       "HBox(children=(IntProgress(value=0, max=1), HTML(value='')))"
      ]
     },
     "metadata": {},
     "output_type": "display_data"
    },
    {
     "name": "stdout",
     "output_type": "stream",
     "text": [
      "\n",
      "Calculate entropy & purity...\n"
     ]
    },
    {
     "data": {
      "application/vnd.jupyter.widget-view+json": {
       "model_id": "55160719e8024116845b3de1a24aca6f",
       "version_major": 2,
       "version_minor": 0
      },
      "text/plain": [
       "HBox(children=(IntProgress(value=0, max=1), HTML(value='')))"
      ]
     },
     "metadata": {},
     "output_type": "display_data"
    },
    {
     "name": "stdout",
     "output_type": "stream",
     "text": [
      "\n",
      "Calculate F-measure...\n"
     ]
    },
    {
     "data": {
      "application/vnd.jupyter.widget-view+json": {
       "model_id": "0cfc97793efc4fa1838b33cd08f53c03",
       "version_major": 2,
       "version_minor": 0
      },
      "text/plain": [
       "HBox(children=(IntProgress(value=0, max=103), HTML(value='')))"
      ]
     },
     "metadata": {},
     "output_type": "display_data"
    },
    {
     "name": "stdout",
     "output_type": "stream",
     "text": [
      "\n",
      "Eps = 1.0000000000000004\n",
      "F-measure = 0.02757143590527473\n",
      "Start evaluate...\n",
      "Save clusters...\n"
     ]
    },
    {
     "data": {
      "application/vnd.jupyter.widget-view+json": {
       "model_id": "7113671d2328456b902ac6477c7e8681",
       "version_major": 2,
       "version_minor": 0
      },
      "text/plain": [
       "HBox(children=(IntProgress(value=0, max=1818), HTML(value='')))"
      ]
     },
     "metadata": {},
     "output_type": "display_data"
    },
    {
     "name": "stdout",
     "output_type": "stream",
     "text": [
      "\n",
      "Delete outliers...\n"
     ]
    },
    {
     "data": {
      "application/vnd.jupyter.widget-view+json": {
       "model_id": "6de3d08325484a8eb2a13f457f40447c",
       "version_major": 2,
       "version_minor": 0
      },
      "text/plain": [
       "HBox(children=(IntProgress(value=0, max=1), HTML(value='')))"
      ]
     },
     "metadata": {},
     "output_type": "display_data"
    },
    {
     "name": "stdout",
     "output_type": "stream",
     "text": [
      "\n",
      "Calculate confusion...\n"
     ]
    },
    {
     "data": {
      "application/vnd.jupyter.widget-view+json": {
       "model_id": "471320e71d964a36af54059f023bb935",
       "version_major": 2,
       "version_minor": 0
      },
      "text/plain": [
       "HBox(children=(IntProgress(value=0, max=1), HTML(value='')))"
      ]
     },
     "metadata": {},
     "output_type": "display_data"
    },
    {
     "name": "stdout",
     "output_type": "stream",
     "text": [
      "\n",
      "Calculate entropy & purity...\n"
     ]
    },
    {
     "data": {
      "application/vnd.jupyter.widget-view+json": {
       "model_id": "b8abc30039a242b7b44798643e60b062",
       "version_major": 2,
       "version_minor": 0
      },
      "text/plain": [
       "HBox(children=(IntProgress(value=0, max=1), HTML(value='')))"
      ]
     },
     "metadata": {},
     "output_type": "display_data"
    },
    {
     "name": "stdout",
     "output_type": "stream",
     "text": [
      "\n",
      "Calculate F-measure...\n"
     ]
    },
    {
     "data": {
      "application/vnd.jupyter.widget-view+json": {
       "model_id": "2d481c9115894ec5b5ec36097e9ad82b",
       "version_major": 2,
       "version_minor": 0
      },
      "text/plain": [
       "HBox(children=(IntProgress(value=0, max=103), HTML(value='')))"
      ]
     },
     "metadata": {},
     "output_type": "display_data"
    },
    {
     "name": "stdout",
     "output_type": "stream",
     "text": [
      "\n",
      "Eps = 1.0500000000000003\n",
      "F-measure = 0.02757143590527473\n",
      "\n",
      "0.7500000000000002 0.8563249196886672\n",
      "Start evaluate...\n",
      "Save clusters...\n"
     ]
    },
    {
     "data": {
      "application/vnd.jupyter.widget-view+json": {
       "model_id": "57f34c752f624056b6215daf16bcb8f2",
       "version_major": 2,
       "version_minor": 0
      },
      "text/plain": [
       "HBox(children=(IntProgress(value=0, max=1818), HTML(value='')))"
      ]
     },
     "metadata": {},
     "output_type": "display_data"
    },
    {
     "name": "stdout",
     "output_type": "stream",
     "text": [
      "\n",
      "Delete outliers...\n"
     ]
    },
    {
     "data": {
      "application/vnd.jupyter.widget-view+json": {
       "model_id": "c6fd3d7d1fd34eaeba1364a7ec36dbc2",
       "version_major": 2,
       "version_minor": 0
      },
      "text/plain": [
       "HBox(children=(IntProgress(value=0, max=96), HTML(value='')))"
      ]
     },
     "metadata": {},
     "output_type": "display_data"
    },
    {
     "name": "stdout",
     "output_type": "stream",
     "text": [
      "\n",
      "Calculate rand...\n"
     ]
    },
    {
     "data": {
      "application/vnd.jupyter.widget-view+json": {
       "model_id": "c32eb62b19784c8889794bc272ad2417",
       "version_major": 2,
       "version_minor": 0
      },
      "text/plain": [
       "HBox(children=(IntProgress(value=0, max=1818), HTML(value='')))"
      ]
     },
     "metadata": {},
     "output_type": "display_data"
    },
    {
     "name": "stdout",
     "output_type": "stream",
     "text": [
      "\n",
      "Calculate confusion...\n"
     ]
    },
    {
     "data": {
      "application/vnd.jupyter.widget-view+json": {
       "model_id": "17e5a3c28d854a788ded5230b766dbf5",
       "version_major": 2,
       "version_minor": 0
      },
      "text/plain": [
       "HBox(children=(IntProgress(value=0, max=96), HTML(value='')))"
      ]
     },
     "metadata": {},
     "output_type": "display_data"
    },
    {
     "name": "stdout",
     "output_type": "stream",
     "text": [
      "\n",
      "Calculate entropy & purity...\n"
     ]
    },
    {
     "data": {
      "application/vnd.jupyter.widget-view+json": {
       "model_id": "22e6aa42938140b3bea63a6b23641798",
       "version_major": 2,
       "version_minor": 0
      },
      "text/plain": [
       "HBox(children=(IntProgress(value=0, max=96), HTML(value='')))"
      ]
     },
     "metadata": {},
     "output_type": "display_data"
    },
    {
     "name": "stdout",
     "output_type": "stream",
     "text": [
      "\n",
      "Calculate F-measure...\n"
     ]
    },
    {
     "data": {
      "application/vnd.jupyter.widget-view+json": {
       "model_id": "d96005c407ff44e0807f6de3bd3b7f8c",
       "version_major": 2,
       "version_minor": 0
      },
      "text/plain": [
       "HBox(children=(IntProgress(value=0, max=103), HTML(value='')))"
      ]
     },
     "metadata": {},
     "output_type": "display_data"
    },
    {
     "name": "stdout",
     "output_type": "stream",
     "text": [
      "\n",
      "Number of clusters: 96\n",
      "Number of outliers: 149/1818 (8.196%)\n",
      "\n",
      "Entropy = 0.243253\n",
      "Purity = 0.901738\n",
      "F-measure = 0.856325\n",
      "\n",
      "Rand = 99.567%\n",
      "Jaccard Index = 75.2%\n"
     ]
    }
   ],
   "source": [
    "max_fm = 0\n",
    "best_eps = 0\n",
    "best_clustering = None\n",
    "\n",
    "for eps in tqdm_notebook(np.arange(0.1, 1.1, 0.05)):\n",
    "    tufano_clustering = sklearn.cluster.DBSCAN(eps=eps, min_samples=2, \n",
    "                                                   metric='precomputed').fit(dists_filtered10_to_5gram)\n",
    "    \n",
    "    rand, fm = print_clustering_results_tufano_unique(tufano_clustering, unique_label_to_changes_filtered5, \n",
    "                                    from_change_to_unique_label_filtered5, changes_with_different_methods_filtered5, \n",
    "                                    without_outliers=True, to_print=False, only_fm=True)\n",
    "    print(\"Eps =\", eps)\n",
    "    print(\"F-measure =\", fm)\n",
    "    \n",
    "    if fm > max_fm:\n",
    "        max_fm = fm\n",
    "        best_eps = eps\n",
    "        best_clustering = tufano_clustering\n",
    "\n",
    "print(best_eps, max_fm)\n",
    "\n",
    "\n",
    "rand, fm = print_clustering_results_tufano_unique(best_clustering, unique_label_to_changes_filtered5, \n",
    "                                    from_change_to_unique_label_filtered5, changes_with_different_methods_filtered5, \n",
    "                                    without_outliers=True, to_print=True)"
   ]
  },
  {
   "cell_type": "code",
   "execution_count": 124,
   "metadata": {},
   "outputs": [
    {
     "data": {
      "application/vnd.jupyter.widget-view+json": {
       "model_id": "f575dcbd9a594a9cb2a71dce1451dada",
       "version_major": 2,
       "version_minor": 0
      },
      "text/plain": [
       "HBox(children=(IntProgress(value=0, max=21), HTML(value='')))"
      ]
     },
     "metadata": {},
     "output_type": "display_data"
    },
    {
     "name": "stdout",
     "output_type": "stream",
     "text": [
      "Start evaluate...\n",
      "Save clusters...\n"
     ]
    },
    {
     "data": {
      "application/vnd.jupyter.widget-view+json": {
       "model_id": "20ec38597d584effa22588d89cc98a3f",
       "version_major": 2,
       "version_minor": 0
      },
      "text/plain": [
       "HBox(children=(IntProgress(value=0, max=1818), HTML(value='')))"
      ]
     },
     "metadata": {},
     "output_type": "display_data"
    },
    {
     "name": "stdout",
     "output_type": "stream",
     "text": [
      "\n",
      "Delete outliers...\n"
     ]
    },
    {
     "data": {
      "application/vnd.jupyter.widget-view+json": {
       "model_id": "5bb811f2743c4e8683e47a8bb847be17",
       "version_major": 2,
       "version_minor": 0
      },
      "text/plain": [
       "HBox(children=(IntProgress(value=0, max=102), HTML(value='')))"
      ]
     },
     "metadata": {},
     "output_type": "display_data"
    },
    {
     "name": "stdout",
     "output_type": "stream",
     "text": [
      "\n",
      "Calculate confusion...\n"
     ]
    },
    {
     "data": {
      "application/vnd.jupyter.widget-view+json": {
       "model_id": "b124ea26407e4824a0df0eb544716261",
       "version_major": 2,
       "version_minor": 0
      },
      "text/plain": [
       "HBox(children=(IntProgress(value=0, max=102), HTML(value='')))"
      ]
     },
     "metadata": {},
     "output_type": "display_data"
    },
    {
     "name": "stdout",
     "output_type": "stream",
     "text": [
      "\n",
      "Calculate entropy & purity...\n"
     ]
    },
    {
     "data": {
      "application/vnd.jupyter.widget-view+json": {
       "model_id": "942be351fd4942b290a366dac7b85c29",
       "version_major": 2,
       "version_minor": 0
      },
      "text/plain": [
       "HBox(children=(IntProgress(value=0, max=102), HTML(value='')))"
      ]
     },
     "metadata": {},
     "output_type": "display_data"
    },
    {
     "name": "stdout",
     "output_type": "stream",
     "text": [
      "\n",
      "Calculate F-measure...\n"
     ]
    },
    {
     "data": {
      "application/vnd.jupyter.widget-view+json": {
       "model_id": "c4963ebedefd4f02a91e3d1034e1b47d",
       "version_major": 2,
       "version_minor": 0
      },
      "text/plain": [
       "HBox(children=(IntProgress(value=0, max=103), HTML(value='')))"
      ]
     },
     "metadata": {},
     "output_type": "display_data"
    },
    {
     "name": "stdout",
     "output_type": "stream",
     "text": [
      "\n",
      "Eps = 0.7\n",
      "F-measure = 0.8519394758748977\n",
      "Start evaluate...\n",
      "Save clusters...\n"
     ]
    },
    {
     "data": {
      "application/vnd.jupyter.widget-view+json": {
       "model_id": "de51118a34304e43a7d6c6beab0e661a",
       "version_major": 2,
       "version_minor": 0
      },
      "text/plain": [
       "HBox(children=(IntProgress(value=0, max=1818), HTML(value='')))"
      ]
     },
     "metadata": {},
     "output_type": "display_data"
    },
    {
     "name": "stdout",
     "output_type": "stream",
     "text": [
      "\n",
      "Delete outliers...\n"
     ]
    },
    {
     "data": {
      "application/vnd.jupyter.widget-view+json": {
       "model_id": "3daa606ceb894f239cfeab98bab4645f",
       "version_major": 2,
       "version_minor": 0
      },
      "text/plain": [
       "HBox(children=(IntProgress(value=0, max=102), HTML(value='')))"
      ]
     },
     "metadata": {},
     "output_type": "display_data"
    },
    {
     "name": "stdout",
     "output_type": "stream",
     "text": [
      "\n",
      "Calculate confusion...\n"
     ]
    },
    {
     "data": {
      "application/vnd.jupyter.widget-view+json": {
       "model_id": "92af1acbee4940cf8ba43568c00cd409",
       "version_major": 2,
       "version_minor": 0
      },
      "text/plain": [
       "HBox(children=(IntProgress(value=0, max=102), HTML(value='')))"
      ]
     },
     "metadata": {},
     "output_type": "display_data"
    },
    {
     "name": "stdout",
     "output_type": "stream",
     "text": [
      "\n",
      "Calculate entropy & purity...\n"
     ]
    },
    {
     "data": {
      "application/vnd.jupyter.widget-view+json": {
       "model_id": "0cdd68e4313243319431adfd9c4e4480",
       "version_major": 2,
       "version_minor": 0
      },
      "text/plain": [
       "HBox(children=(IntProgress(value=0, max=102), HTML(value='')))"
      ]
     },
     "metadata": {},
     "output_type": "display_data"
    },
    {
     "name": "stdout",
     "output_type": "stream",
     "text": [
      "\n",
      "Calculate F-measure...\n"
     ]
    },
    {
     "data": {
      "application/vnd.jupyter.widget-view+json": {
       "model_id": "34100c6c53c945fdbb99fba90ef19828",
       "version_major": 2,
       "version_minor": 0
      },
      "text/plain": [
       "HBox(children=(IntProgress(value=0, max=103), HTML(value='')))"
      ]
     },
     "metadata": {},
     "output_type": "display_data"
    },
    {
     "name": "stdout",
     "output_type": "stream",
     "text": [
      "\n",
      "Eps = 0.705\n",
      "F-measure = 0.8519394758748977\n",
      "Start evaluate...\n",
      "Save clusters...\n"
     ]
    },
    {
     "data": {
      "application/vnd.jupyter.widget-view+json": {
       "model_id": "0cb896918c2540c3886b0f7de915066f",
       "version_major": 2,
       "version_minor": 0
      },
      "text/plain": [
       "HBox(children=(IntProgress(value=0, max=1818), HTML(value='')))"
      ]
     },
     "metadata": {},
     "output_type": "display_data"
    },
    {
     "name": "stdout",
     "output_type": "stream",
     "text": [
      "\n",
      "Delete outliers...\n"
     ]
    },
    {
     "data": {
      "application/vnd.jupyter.widget-view+json": {
       "model_id": "735ffc4c99b0433e943a4d9f2e3fa0fa",
       "version_major": 2,
       "version_minor": 0
      },
      "text/plain": [
       "HBox(children=(IntProgress(value=0, max=101), HTML(value='')))"
      ]
     },
     "metadata": {},
     "output_type": "display_data"
    },
    {
     "name": "stdout",
     "output_type": "stream",
     "text": [
      "\n",
      "Calculate confusion...\n"
     ]
    },
    {
     "data": {
      "application/vnd.jupyter.widget-view+json": {
       "model_id": "674de43cf8f74b27a4d23e2054b375d6",
       "version_major": 2,
       "version_minor": 0
      },
      "text/plain": [
       "HBox(children=(IntProgress(value=0, max=101), HTML(value='')))"
      ]
     },
     "metadata": {},
     "output_type": "display_data"
    },
    {
     "name": "stdout",
     "output_type": "stream",
     "text": [
      "\n",
      "Calculate entropy & purity...\n"
     ]
    },
    {
     "data": {
      "application/vnd.jupyter.widget-view+json": {
       "model_id": "96319a34d254439e85a3ebf444ad017c",
       "version_major": 2,
       "version_minor": 0
      },
      "text/plain": [
       "HBox(children=(IntProgress(value=0, max=101), HTML(value='')))"
      ]
     },
     "metadata": {},
     "output_type": "display_data"
    },
    {
     "name": "stdout",
     "output_type": "stream",
     "text": [
      "\n",
      "Calculate F-measure...\n"
     ]
    },
    {
     "data": {
      "application/vnd.jupyter.widget-view+json": {
       "model_id": "f2f37c4083c741ac82f98585d3e0ddb4",
       "version_major": 2,
       "version_minor": 0
      },
      "text/plain": [
       "HBox(children=(IntProgress(value=0, max=103), HTML(value='')))"
      ]
     },
     "metadata": {},
     "output_type": "display_data"
    },
    {
     "name": "stdout",
     "output_type": "stream",
     "text": [
      "\n",
      "Eps = 0.71\n",
      "F-measure = 0.8528506088736961\n",
      "Start evaluate...\n",
      "Save clusters...\n"
     ]
    },
    {
     "data": {
      "application/vnd.jupyter.widget-view+json": {
       "model_id": "50355ded793b4cb39dc4775e8ff62f48",
       "version_major": 2,
       "version_minor": 0
      },
      "text/plain": [
       "HBox(children=(IntProgress(value=0, max=1818), HTML(value='')))"
      ]
     },
     "metadata": {},
     "output_type": "display_data"
    },
    {
     "name": "stdout",
     "output_type": "stream",
     "text": [
      "\n",
      "Delete outliers...\n"
     ]
    },
    {
     "data": {
      "application/vnd.jupyter.widget-view+json": {
       "model_id": "7d132ab0ec4b44f49d78e2519b3b0559",
       "version_major": 2,
       "version_minor": 0
      },
      "text/plain": [
       "HBox(children=(IntProgress(value=0, max=101), HTML(value='')))"
      ]
     },
     "metadata": {},
     "output_type": "display_data"
    },
    {
     "name": "stdout",
     "output_type": "stream",
     "text": [
      "\n",
      "Calculate confusion...\n"
     ]
    },
    {
     "data": {
      "application/vnd.jupyter.widget-view+json": {
       "model_id": "609609666b30407da7d68e3e7c0124bb",
       "version_major": 2,
       "version_minor": 0
      },
      "text/plain": [
       "HBox(children=(IntProgress(value=0, max=101), HTML(value='')))"
      ]
     },
     "metadata": {},
     "output_type": "display_data"
    },
    {
     "name": "stdout",
     "output_type": "stream",
     "text": [
      "\n",
      "Calculate entropy & purity...\n"
     ]
    },
    {
     "data": {
      "application/vnd.jupyter.widget-view+json": {
       "model_id": "ebfe7726a76d4c239adb67e4fd865635",
       "version_major": 2,
       "version_minor": 0
      },
      "text/plain": [
       "HBox(children=(IntProgress(value=0, max=101), HTML(value='')))"
      ]
     },
     "metadata": {},
     "output_type": "display_data"
    },
    {
     "name": "stdout",
     "output_type": "stream",
     "text": [
      "\n",
      "Calculate F-measure...\n"
     ]
    },
    {
     "data": {
      "application/vnd.jupyter.widget-view+json": {
       "model_id": "e8286655ad204d1988cac101629405e9",
       "version_major": 2,
       "version_minor": 0
      },
      "text/plain": [
       "HBox(children=(IntProgress(value=0, max=103), HTML(value='')))"
      ]
     },
     "metadata": {},
     "output_type": "display_data"
    },
    {
     "name": "stdout",
     "output_type": "stream",
     "text": [
      "\n",
      "Eps = 0.715\n",
      "F-measure = 0.8528506088736961\n",
      "Start evaluate...\n",
      "Save clusters...\n"
     ]
    },
    {
     "data": {
      "application/vnd.jupyter.widget-view+json": {
       "model_id": "10ec7078ac344e45a044579005235cfd",
       "version_major": 2,
       "version_minor": 0
      },
      "text/plain": [
       "HBox(children=(IntProgress(value=0, max=1818), HTML(value='')))"
      ]
     },
     "metadata": {},
     "output_type": "display_data"
    },
    {
     "name": "stdout",
     "output_type": "stream",
     "text": [
      "\n",
      "Delete outliers...\n"
     ]
    },
    {
     "data": {
      "application/vnd.jupyter.widget-view+json": {
       "model_id": "c1156948c7a145d89c2b246180798251",
       "version_major": 2,
       "version_minor": 0
      },
      "text/plain": [
       "HBox(children=(IntProgress(value=0), HTML(value='')))"
      ]
     },
     "metadata": {},
     "output_type": "display_data"
    },
    {
     "name": "stdout",
     "output_type": "stream",
     "text": [
      "\n",
      "Calculate confusion...\n"
     ]
    },
    {
     "data": {
      "application/vnd.jupyter.widget-view+json": {
       "model_id": "adabb6d2f631488cb8175566f7910234",
       "version_major": 2,
       "version_minor": 0
      },
      "text/plain": [
       "HBox(children=(IntProgress(value=0), HTML(value='')))"
      ]
     },
     "metadata": {},
     "output_type": "display_data"
    },
    {
     "name": "stdout",
     "output_type": "stream",
     "text": [
      "\n",
      "Calculate entropy & purity...\n"
     ]
    },
    {
     "data": {
      "application/vnd.jupyter.widget-view+json": {
       "model_id": "b396456b4a604e928887807e0e672ac1",
       "version_major": 2,
       "version_minor": 0
      },
      "text/plain": [
       "HBox(children=(IntProgress(value=0), HTML(value='')))"
      ]
     },
     "metadata": {},
     "output_type": "display_data"
    },
    {
     "name": "stdout",
     "output_type": "stream",
     "text": [
      "\n",
      "Calculate F-measure...\n"
     ]
    },
    {
     "data": {
      "application/vnd.jupyter.widget-view+json": {
       "model_id": "5e76292f853746d7b9d9156661f61007",
       "version_major": 2,
       "version_minor": 0
      },
      "text/plain": [
       "HBox(children=(IntProgress(value=0, max=103), HTML(value='')))"
      ]
     },
     "metadata": {},
     "output_type": "display_data"
    },
    {
     "name": "stdout",
     "output_type": "stream",
     "text": [
      "\n",
      "Eps = 0.72\n",
      "F-measure = 0.8537179647391568\n",
      "Start evaluate...\n",
      "Save clusters...\n"
     ]
    },
    {
     "data": {
      "application/vnd.jupyter.widget-view+json": {
       "model_id": "c3514aa8eb6746aa8db570700f2a82a2",
       "version_major": 2,
       "version_minor": 0
      },
      "text/plain": [
       "HBox(children=(IntProgress(value=0, max=1818), HTML(value='')))"
      ]
     },
     "metadata": {},
     "output_type": "display_data"
    },
    {
     "name": "stdout",
     "output_type": "stream",
     "text": [
      "\n",
      "Delete outliers...\n"
     ]
    },
    {
     "data": {
      "application/vnd.jupyter.widget-view+json": {
       "model_id": "ed0f4c4112a24676abb64591f626f9d1",
       "version_major": 2,
       "version_minor": 0
      },
      "text/plain": [
       "HBox(children=(IntProgress(value=0), HTML(value='')))"
      ]
     },
     "metadata": {},
     "output_type": "display_data"
    },
    {
     "name": "stdout",
     "output_type": "stream",
     "text": [
      "\n",
      "Calculate confusion...\n"
     ]
    },
    {
     "data": {
      "application/vnd.jupyter.widget-view+json": {
       "model_id": "73f46f730e014226a35d751a8c808052",
       "version_major": 2,
       "version_minor": 0
      },
      "text/plain": [
       "HBox(children=(IntProgress(value=0), HTML(value='')))"
      ]
     },
     "metadata": {},
     "output_type": "display_data"
    },
    {
     "name": "stdout",
     "output_type": "stream",
     "text": [
      "\n",
      "Calculate entropy & purity...\n"
     ]
    },
    {
     "data": {
      "application/vnd.jupyter.widget-view+json": {
       "model_id": "1844d0f0465247d8bdce851e1c2f0e89",
       "version_major": 2,
       "version_minor": 0
      },
      "text/plain": [
       "HBox(children=(IntProgress(value=0), HTML(value='')))"
      ]
     },
     "metadata": {},
     "output_type": "display_data"
    },
    {
     "name": "stdout",
     "output_type": "stream",
     "text": [
      "\n",
      "Calculate F-measure...\n"
     ]
    },
    {
     "data": {
      "application/vnd.jupyter.widget-view+json": {
       "model_id": "d9b634fc08d04188abf56f5e0e2fad7a",
       "version_major": 2,
       "version_minor": 0
      },
      "text/plain": [
       "HBox(children=(IntProgress(value=0, max=103), HTML(value='')))"
      ]
     },
     "metadata": {},
     "output_type": "display_data"
    },
    {
     "name": "stdout",
     "output_type": "stream",
     "text": [
      "\n",
      "Eps = 0.725\n",
      "F-measure = 0.8537179647391568\n",
      "Start evaluate...\n",
      "Save clusters...\n"
     ]
    },
    {
     "data": {
      "application/vnd.jupyter.widget-view+json": {
       "model_id": "26a553215a514d2c872afad5f30613d3",
       "version_major": 2,
       "version_minor": 0
      },
      "text/plain": [
       "HBox(children=(IntProgress(value=0, max=1818), HTML(value='')))"
      ]
     },
     "metadata": {},
     "output_type": "display_data"
    },
    {
     "name": "stdout",
     "output_type": "stream",
     "text": [
      "\n",
      "Delete outliers...\n"
     ]
    },
    {
     "data": {
      "application/vnd.jupyter.widget-view+json": {
       "model_id": "a24216a9fdc54d32bd7bf345768a80bf",
       "version_major": 2,
       "version_minor": 0
      },
      "text/plain": [
       "HBox(children=(IntProgress(value=0), HTML(value='')))"
      ]
     },
     "metadata": {},
     "output_type": "display_data"
    },
    {
     "name": "stdout",
     "output_type": "stream",
     "text": [
      "\n",
      "Calculate confusion...\n"
     ]
    },
    {
     "data": {
      "application/vnd.jupyter.widget-view+json": {
       "model_id": "145d909ec2604f4fbb5c39dbe41ee3f5",
       "version_major": 2,
       "version_minor": 0
      },
      "text/plain": [
       "HBox(children=(IntProgress(value=0), HTML(value='')))"
      ]
     },
     "metadata": {},
     "output_type": "display_data"
    },
    {
     "name": "stdout",
     "output_type": "stream",
     "text": [
      "\n",
      "Calculate entropy & purity...\n"
     ]
    },
    {
     "data": {
      "application/vnd.jupyter.widget-view+json": {
       "model_id": "c54b63415f4f44e3aa269a5394f847d2",
       "version_major": 2,
       "version_minor": 0
      },
      "text/plain": [
       "HBox(children=(IntProgress(value=0), HTML(value='')))"
      ]
     },
     "metadata": {},
     "output_type": "display_data"
    },
    {
     "name": "stdout",
     "output_type": "stream",
     "text": [
      "\n",
      "Calculate F-measure...\n"
     ]
    },
    {
     "data": {
      "application/vnd.jupyter.widget-view+json": {
       "model_id": "c08908813b584598880d90def3002481",
       "version_major": 2,
       "version_minor": 0
      },
      "text/plain": [
       "HBox(children=(IntProgress(value=0, max=103), HTML(value='')))"
      ]
     },
     "metadata": {},
     "output_type": "display_data"
    },
    {
     "name": "stdout",
     "output_type": "stream",
     "text": [
      "\n",
      "Eps = 0.73\n",
      "F-measure = 0.8537179647391568\n",
      "Start evaluate...\n",
      "Save clusters...\n"
     ]
    },
    {
     "data": {
      "application/vnd.jupyter.widget-view+json": {
       "model_id": "3eae15e72d8943f790b3936562e7b571",
       "version_major": 2,
       "version_minor": 0
      },
      "text/plain": [
       "HBox(children=(IntProgress(value=0, max=1818), HTML(value='')))"
      ]
     },
     "metadata": {},
     "output_type": "display_data"
    },
    {
     "name": "stdout",
     "output_type": "stream",
     "text": [
      "\n",
      "Delete outliers...\n"
     ]
    },
    {
     "data": {
      "application/vnd.jupyter.widget-view+json": {
       "model_id": "e09b519ff79247de81af811b68d1fb7f",
       "version_major": 2,
       "version_minor": 0
      },
      "text/plain": [
       "HBox(children=(IntProgress(value=0), HTML(value='')))"
      ]
     },
     "metadata": {},
     "output_type": "display_data"
    },
    {
     "name": "stdout",
     "output_type": "stream",
     "text": [
      "\n",
      "Calculate confusion...\n"
     ]
    },
    {
     "data": {
      "application/vnd.jupyter.widget-view+json": {
       "model_id": "8939097cc97c437da72cfba6c6a483d6",
       "version_major": 2,
       "version_minor": 0
      },
      "text/plain": [
       "HBox(children=(IntProgress(value=0), HTML(value='')))"
      ]
     },
     "metadata": {},
     "output_type": "display_data"
    },
    {
     "name": "stdout",
     "output_type": "stream",
     "text": [
      "\n",
      "Calculate entropy & purity...\n"
     ]
    },
    {
     "data": {
      "application/vnd.jupyter.widget-view+json": {
       "model_id": "46c200798c2449b6ae999fbde0d49b37",
       "version_major": 2,
       "version_minor": 0
      },
      "text/plain": [
       "HBox(children=(IntProgress(value=0), HTML(value='')))"
      ]
     },
     "metadata": {},
     "output_type": "display_data"
    },
    {
     "name": "stdout",
     "output_type": "stream",
     "text": [
      "\n",
      "Calculate F-measure...\n"
     ]
    },
    {
     "data": {
      "application/vnd.jupyter.widget-view+json": {
       "model_id": "e1559ec215f2417cb7813c82f79cce90",
       "version_major": 2,
       "version_minor": 0
      },
      "text/plain": [
       "HBox(children=(IntProgress(value=0, max=103), HTML(value='')))"
      ]
     },
     "metadata": {},
     "output_type": "display_data"
    },
    {
     "name": "stdout",
     "output_type": "stream",
     "text": [
      "\n",
      "Eps = 0.735\n",
      "F-measure = 0.8537179647391568\n",
      "Start evaluate...\n",
      "Save clusters...\n"
     ]
    },
    {
     "data": {
      "application/vnd.jupyter.widget-view+json": {
       "model_id": "eca75d93f98e4970af4b103af5909528",
       "version_major": 2,
       "version_minor": 0
      },
      "text/plain": [
       "HBox(children=(IntProgress(value=0, max=1818), HTML(value='')))"
      ]
     },
     "metadata": {},
     "output_type": "display_data"
    },
    {
     "name": "stdout",
     "output_type": "stream",
     "text": [
      "\n",
      "Delete outliers...\n"
     ]
    },
    {
     "data": {
      "application/vnd.jupyter.widget-view+json": {
       "model_id": "4771d6d575684fbda60e2b56b395a1da",
       "version_major": 2,
       "version_minor": 0
      },
      "text/plain": [
       "HBox(children=(IntProgress(value=0), HTML(value='')))"
      ]
     },
     "metadata": {},
     "output_type": "display_data"
    },
    {
     "name": "stdout",
     "output_type": "stream",
     "text": [
      "\n",
      "Calculate confusion...\n"
     ]
    },
    {
     "data": {
      "application/vnd.jupyter.widget-view+json": {
       "model_id": "243ddfebd85049b39ab8f8eab7d2753f",
       "version_major": 2,
       "version_minor": 0
      },
      "text/plain": [
       "HBox(children=(IntProgress(value=0), HTML(value='')))"
      ]
     },
     "metadata": {},
     "output_type": "display_data"
    },
    {
     "name": "stdout",
     "output_type": "stream",
     "text": [
      "\n",
      "Calculate entropy & purity...\n"
     ]
    },
    {
     "data": {
      "application/vnd.jupyter.widget-view+json": {
       "model_id": "3ea53534abfb46d29dd49598aea771c4",
       "version_major": 2,
       "version_minor": 0
      },
      "text/plain": [
       "HBox(children=(IntProgress(value=0), HTML(value='')))"
      ]
     },
     "metadata": {},
     "output_type": "display_data"
    },
    {
     "name": "stdout",
     "output_type": "stream",
     "text": [
      "\n",
      "Calculate F-measure...\n"
     ]
    },
    {
     "data": {
      "application/vnd.jupyter.widget-view+json": {
       "model_id": "7ccfb317adb94e409ecd19e43606907a",
       "version_major": 2,
       "version_minor": 0
      },
      "text/plain": [
       "HBox(children=(IntProgress(value=0, max=103), HTML(value='')))"
      ]
     },
     "metadata": {},
     "output_type": "display_data"
    },
    {
     "name": "stdout",
     "output_type": "stream",
     "text": [
      "\n",
      "Eps = 0.74\n",
      "F-measure = 0.8537179647391568\n",
      "Start evaluate...\n",
      "Save clusters...\n"
     ]
    },
    {
     "data": {
      "application/vnd.jupyter.widget-view+json": {
       "model_id": "249801076cc7460988cd717d7e66ea3a",
       "version_major": 2,
       "version_minor": 0
      },
      "text/plain": [
       "HBox(children=(IntProgress(value=0, max=1818), HTML(value='')))"
      ]
     },
     "metadata": {},
     "output_type": "display_data"
    },
    {
     "name": "stdout",
     "output_type": "stream",
     "text": [
      "\n",
      "Delete outliers...\n"
     ]
    },
    {
     "data": {
      "application/vnd.jupyter.widget-view+json": {
       "model_id": "5b3673e542d5462b845837ffa43e1282",
       "version_major": 2,
       "version_minor": 0
      },
      "text/plain": [
       "HBox(children=(IntProgress(value=0, max=99), HTML(value='')))"
      ]
     },
     "metadata": {},
     "output_type": "display_data"
    },
    {
     "name": "stdout",
     "output_type": "stream",
     "text": [
      "\n",
      "Calculate confusion...\n"
     ]
    },
    {
     "data": {
      "application/vnd.jupyter.widget-view+json": {
       "model_id": "dd3ba35a2827407fb6248e05a2e0640e",
       "version_major": 2,
       "version_minor": 0
      },
      "text/plain": [
       "HBox(children=(IntProgress(value=0, max=99), HTML(value='')))"
      ]
     },
     "metadata": {},
     "output_type": "display_data"
    },
    {
     "name": "stdout",
     "output_type": "stream",
     "text": [
      "\n",
      "Calculate entropy & purity...\n"
     ]
    },
    {
     "data": {
      "application/vnd.jupyter.widget-view+json": {
       "model_id": "aa93d4b647c7483f83579f2698d2306d",
       "version_major": 2,
       "version_minor": 0
      },
      "text/plain": [
       "HBox(children=(IntProgress(value=0, max=99), HTML(value='')))"
      ]
     },
     "metadata": {},
     "output_type": "display_data"
    },
    {
     "name": "stdout",
     "output_type": "stream",
     "text": [
      "\n",
      "Calculate F-measure...\n"
     ]
    },
    {
     "data": {
      "application/vnd.jupyter.widget-view+json": {
       "model_id": "a4cdb94868cd4c50b721d5015d66b8b6",
       "version_major": 2,
       "version_minor": 0
      },
      "text/plain": [
       "HBox(children=(IntProgress(value=0, max=103), HTML(value='')))"
      ]
     },
     "metadata": {},
     "output_type": "display_data"
    },
    {
     "name": "stdout",
     "output_type": "stream",
     "text": [
      "\n",
      "Eps = 0.745\n",
      "F-measure = 0.8537179647391568\n",
      "Start evaluate...\n",
      "Save clusters...\n"
     ]
    },
    {
     "data": {
      "application/vnd.jupyter.widget-view+json": {
       "model_id": "919307186c26465c8fcff8aabaa11b9e",
       "version_major": 2,
       "version_minor": 0
      },
      "text/plain": [
       "HBox(children=(IntProgress(value=0, max=1818), HTML(value='')))"
      ]
     },
     "metadata": {},
     "output_type": "display_data"
    },
    {
     "name": "stdout",
     "output_type": "stream",
     "text": [
      "\n",
      "Delete outliers...\n"
     ]
    },
    {
     "data": {
      "application/vnd.jupyter.widget-view+json": {
       "model_id": "b359a9bff74243ac810bd1f4f0b659fb",
       "version_major": 2,
       "version_minor": 0
      },
      "text/plain": [
       "HBox(children=(IntProgress(value=0, max=96), HTML(value='')))"
      ]
     },
     "metadata": {},
     "output_type": "display_data"
    },
    {
     "name": "stdout",
     "output_type": "stream",
     "text": [
      "\n",
      "Calculate confusion...\n"
     ]
    },
    {
     "data": {
      "application/vnd.jupyter.widget-view+json": {
       "model_id": "711869f74f9d474e9d531064885f1749",
       "version_major": 2,
       "version_minor": 0
      },
      "text/plain": [
       "HBox(children=(IntProgress(value=0, max=96), HTML(value='')))"
      ]
     },
     "metadata": {},
     "output_type": "display_data"
    },
    {
     "name": "stdout",
     "output_type": "stream",
     "text": [
      "\n",
      "Calculate entropy & purity...\n"
     ]
    },
    {
     "data": {
      "application/vnd.jupyter.widget-view+json": {
       "model_id": "ae7c9afdb0c54d90899c4e17d3b1b985",
       "version_major": 2,
       "version_minor": 0
      },
      "text/plain": [
       "HBox(children=(IntProgress(value=0, max=96), HTML(value='')))"
      ]
     },
     "metadata": {},
     "output_type": "display_data"
    },
    {
     "name": "stdout",
     "output_type": "stream",
     "text": [
      "\n",
      "Calculate F-measure...\n"
     ]
    },
    {
     "data": {
      "application/vnd.jupyter.widget-view+json": {
       "model_id": "6d5bf2e110c74a2884764b3d03de000c",
       "version_major": 2,
       "version_minor": 0
      },
      "text/plain": [
       "HBox(children=(IntProgress(value=0, max=103), HTML(value='')))"
      ]
     },
     "metadata": {},
     "output_type": "display_data"
    },
    {
     "name": "stdout",
     "output_type": "stream",
     "text": [
      "\n",
      "Eps = 0.75\n",
      "F-measure = 0.8563249196886672\n",
      "Start evaluate...\n",
      "Save clusters...\n"
     ]
    },
    {
     "data": {
      "application/vnd.jupyter.widget-view+json": {
       "model_id": "0cf9ccf5680f458399993218b78c988e",
       "version_major": 2,
       "version_minor": 0
      },
      "text/plain": [
       "HBox(children=(IntProgress(value=0, max=1818), HTML(value='')))"
      ]
     },
     "metadata": {},
     "output_type": "display_data"
    },
    {
     "name": "stdout",
     "output_type": "stream",
     "text": [
      "\n",
      "Delete outliers...\n"
     ]
    },
    {
     "data": {
      "application/vnd.jupyter.widget-view+json": {
       "model_id": "b73b8a2f1faf45ca8b0a367e19a950f0",
       "version_major": 2,
       "version_minor": 0
      },
      "text/plain": [
       "HBox(children=(IntProgress(value=0, max=94), HTML(value='')))"
      ]
     },
     "metadata": {},
     "output_type": "display_data"
    },
    {
     "name": "stdout",
     "output_type": "stream",
     "text": [
      "\n",
      "Calculate confusion...\n"
     ]
    },
    {
     "data": {
      "application/vnd.jupyter.widget-view+json": {
       "model_id": "3cf3653536c245b5a7005ffdb1cf4da6",
       "version_major": 2,
       "version_minor": 0
      },
      "text/plain": [
       "HBox(children=(IntProgress(value=0, max=94), HTML(value='')))"
      ]
     },
     "metadata": {},
     "output_type": "display_data"
    },
    {
     "name": "stdout",
     "output_type": "stream",
     "text": [
      "\n",
      "Calculate entropy & purity...\n"
     ]
    },
    {
     "data": {
      "application/vnd.jupyter.widget-view+json": {
       "model_id": "542b4c861aa24642adc852036a9d4c90",
       "version_major": 2,
       "version_minor": 0
      },
      "text/plain": [
       "HBox(children=(IntProgress(value=0, max=94), HTML(value='')))"
      ]
     },
     "metadata": {},
     "output_type": "display_data"
    },
    {
     "name": "stdout",
     "output_type": "stream",
     "text": [
      "\n",
      "Calculate F-measure...\n"
     ]
    },
    {
     "data": {
      "application/vnd.jupyter.widget-view+json": {
       "model_id": "8e37db8302904e67b074a33264c356c6",
       "version_major": 2,
       "version_minor": 0
      },
      "text/plain": [
       "HBox(children=(IntProgress(value=0, max=103), HTML(value='')))"
      ]
     },
     "metadata": {},
     "output_type": "display_data"
    },
    {
     "name": "stdout",
     "output_type": "stream",
     "text": [
      "\n",
      "Eps = 0.755\n",
      "F-measure = 0.8660516974819721\n",
      "Start evaluate...\n",
      "Save clusters...\n"
     ]
    },
    {
     "data": {
      "application/vnd.jupyter.widget-view+json": {
       "model_id": "f5fabf4bc6f34f92a01a10e92957e25c",
       "version_major": 2,
       "version_minor": 0
      },
      "text/plain": [
       "HBox(children=(IntProgress(value=0, max=1818), HTML(value='')))"
      ]
     },
     "metadata": {},
     "output_type": "display_data"
    },
    {
     "name": "stdout",
     "output_type": "stream",
     "text": [
      "\n",
      "Delete outliers...\n"
     ]
    },
    {
     "data": {
      "application/vnd.jupyter.widget-view+json": {
       "model_id": "2dfec4d6428b445a8d3bf63552661754",
       "version_major": 2,
       "version_minor": 0
      },
      "text/plain": [
       "HBox(children=(IntProgress(value=0, max=93), HTML(value='')))"
      ]
     },
     "metadata": {},
     "output_type": "display_data"
    },
    {
     "name": "stdout",
     "output_type": "stream",
     "text": [
      "\n",
      "Calculate confusion...\n"
     ]
    },
    {
     "data": {
      "application/vnd.jupyter.widget-view+json": {
       "model_id": "da5b4fa48f2c4967b273269222ec7826",
       "version_major": 2,
       "version_minor": 0
      },
      "text/plain": [
       "HBox(children=(IntProgress(value=0, max=93), HTML(value='')))"
      ]
     },
     "metadata": {},
     "output_type": "display_data"
    },
    {
     "name": "stdout",
     "output_type": "stream",
     "text": [
      "\n",
      "Calculate entropy & purity...\n"
     ]
    },
    {
     "data": {
      "application/vnd.jupyter.widget-view+json": {
       "model_id": "e1d4ff7b4971403c8ffcd6d097716598",
       "version_major": 2,
       "version_minor": 0
      },
      "text/plain": [
       "HBox(children=(IntProgress(value=0, max=93), HTML(value='')))"
      ]
     },
     "metadata": {},
     "output_type": "display_data"
    },
    {
     "name": "stdout",
     "output_type": "stream",
     "text": [
      "\n",
      "Calculate F-measure...\n"
     ]
    },
    {
     "data": {
      "application/vnd.jupyter.widget-view+json": {
       "model_id": "8ea3522bda334f2983f0a23a709f69cd",
       "version_major": 2,
       "version_minor": 0
      },
      "text/plain": [
       "HBox(children=(IntProgress(value=0, max=103), HTML(value='')))"
      ]
     },
     "metadata": {},
     "output_type": "display_data"
    },
    {
     "name": "stdout",
     "output_type": "stream",
     "text": [
      "\n",
      "Eps = 0.76\n",
      "F-measure = 0.8655377417482452\n",
      "Start evaluate...\n",
      "Save clusters...\n"
     ]
    },
    {
     "data": {
      "application/vnd.jupyter.widget-view+json": {
       "model_id": "7a70d2dbe68040d0a65d59a893d0f524",
       "version_major": 2,
       "version_minor": 0
      },
      "text/plain": [
       "HBox(children=(IntProgress(value=0, max=1818), HTML(value='')))"
      ]
     },
     "metadata": {},
     "output_type": "display_data"
    },
    {
     "name": "stdout",
     "output_type": "stream",
     "text": [
      "\n",
      "Delete outliers...\n"
     ]
    },
    {
     "data": {
      "application/vnd.jupyter.widget-view+json": {
       "model_id": "6cb7e37dff4646da913baa87fb296b9b",
       "version_major": 2,
       "version_minor": 0
      },
      "text/plain": [
       "HBox(children=(IntProgress(value=0, max=91), HTML(value='')))"
      ]
     },
     "metadata": {},
     "output_type": "display_data"
    },
    {
     "name": "stdout",
     "output_type": "stream",
     "text": [
      "\n",
      "Calculate confusion...\n"
     ]
    },
    {
     "data": {
      "application/vnd.jupyter.widget-view+json": {
       "model_id": "437699f695ca4610acd3e26d99e0c794",
       "version_major": 2,
       "version_minor": 0
      },
      "text/plain": [
       "HBox(children=(IntProgress(value=0, max=91), HTML(value='')))"
      ]
     },
     "metadata": {},
     "output_type": "display_data"
    },
    {
     "name": "stdout",
     "output_type": "stream",
     "text": [
      "\n",
      "Calculate entropy & purity...\n"
     ]
    },
    {
     "data": {
      "application/vnd.jupyter.widget-view+json": {
       "model_id": "198ce3be4a62401b952939fd1904d76f",
       "version_major": 2,
       "version_minor": 0
      },
      "text/plain": [
       "HBox(children=(IntProgress(value=0, max=91), HTML(value='')))"
      ]
     },
     "metadata": {},
     "output_type": "display_data"
    },
    {
     "name": "stdout",
     "output_type": "stream",
     "text": [
      "\n",
      "Calculate F-measure...\n"
     ]
    },
    {
     "data": {
      "application/vnd.jupyter.widget-view+json": {
       "model_id": "d335525347884d73907cde013e9ec65f",
       "version_major": 2,
       "version_minor": 0
      },
      "text/plain": [
       "HBox(children=(IntProgress(value=0, max=103), HTML(value='')))"
      ]
     },
     "metadata": {},
     "output_type": "display_data"
    },
    {
     "name": "stdout",
     "output_type": "stream",
     "text": [
      "\n",
      "Eps = 0.765\n",
      "F-measure = 0.8549614231113905\n",
      "Start evaluate...\n",
      "Save clusters...\n"
     ]
    },
    {
     "data": {
      "application/vnd.jupyter.widget-view+json": {
       "model_id": "2fe66c157d0f4360aa202f0425b4ca0a",
       "version_major": 2,
       "version_minor": 0
      },
      "text/plain": [
       "HBox(children=(IntProgress(value=0, max=1818), HTML(value='')))"
      ]
     },
     "metadata": {},
     "output_type": "display_data"
    },
    {
     "name": "stdout",
     "output_type": "stream",
     "text": [
      "\n",
      "Delete outliers...\n"
     ]
    },
    {
     "data": {
      "application/vnd.jupyter.widget-view+json": {
       "model_id": "044f37eef316432a8b3a35a49f9422f7",
       "version_major": 2,
       "version_minor": 0
      },
      "text/plain": [
       "HBox(children=(IntProgress(value=0, max=91), HTML(value='')))"
      ]
     },
     "metadata": {},
     "output_type": "display_data"
    },
    {
     "name": "stdout",
     "output_type": "stream",
     "text": [
      "\n",
      "Calculate confusion...\n"
     ]
    },
    {
     "data": {
      "application/vnd.jupyter.widget-view+json": {
       "model_id": "17bedd758e7a4ef49947546d6ad7d2dd",
       "version_major": 2,
       "version_minor": 0
      },
      "text/plain": [
       "HBox(children=(IntProgress(value=0, max=91), HTML(value='')))"
      ]
     },
     "metadata": {},
     "output_type": "display_data"
    },
    {
     "name": "stdout",
     "output_type": "stream",
     "text": [
      "\n",
      "Calculate entropy & purity...\n"
     ]
    },
    {
     "data": {
      "application/vnd.jupyter.widget-view+json": {
       "model_id": "a6ef247482c342699c551d38fcc27762",
       "version_major": 2,
       "version_minor": 0
      },
      "text/plain": [
       "HBox(children=(IntProgress(value=0, max=91), HTML(value='')))"
      ]
     },
     "metadata": {},
     "output_type": "display_data"
    },
    {
     "name": "stdout",
     "output_type": "stream",
     "text": [
      "\n",
      "Calculate F-measure...\n"
     ]
    },
    {
     "data": {
      "application/vnd.jupyter.widget-view+json": {
       "model_id": "16bd0f8b35434b3b947f5beda87102b1",
       "version_major": 2,
       "version_minor": 0
      },
      "text/plain": [
       "HBox(children=(IntProgress(value=0, max=103), HTML(value='')))"
      ]
     },
     "metadata": {},
     "output_type": "display_data"
    },
    {
     "name": "stdout",
     "output_type": "stream",
     "text": [
      "\n",
      "Eps = 0.77\n",
      "F-measure = 0.8549614231113905\n",
      "Start evaluate...\n",
      "Save clusters...\n"
     ]
    },
    {
     "data": {
      "application/vnd.jupyter.widget-view+json": {
       "model_id": "84359a7b279b4e0db7e5a418f3a0e2f9",
       "version_major": 2,
       "version_minor": 0
      },
      "text/plain": [
       "HBox(children=(IntProgress(value=0, max=1818), HTML(value='')))"
      ]
     },
     "metadata": {},
     "output_type": "display_data"
    },
    {
     "name": "stdout",
     "output_type": "stream",
     "text": [
      "\n",
      "Delete outliers...\n"
     ]
    },
    {
     "data": {
      "application/vnd.jupyter.widget-view+json": {
       "model_id": "64dd3177569b47a9ba25ebdca8557656",
       "version_major": 2,
       "version_minor": 0
      },
      "text/plain": [
       "HBox(children=(IntProgress(value=0, max=91), HTML(value='')))"
      ]
     },
     "metadata": {},
     "output_type": "display_data"
    },
    {
     "name": "stdout",
     "output_type": "stream",
     "text": [
      "\n",
      "Calculate confusion...\n"
     ]
    },
    {
     "data": {
      "application/vnd.jupyter.widget-view+json": {
       "model_id": "0d09e763ec3348c0906cb78f32e36928",
       "version_major": 2,
       "version_minor": 0
      },
      "text/plain": [
       "HBox(children=(IntProgress(value=0, max=91), HTML(value='')))"
      ]
     },
     "metadata": {},
     "output_type": "display_data"
    },
    {
     "name": "stdout",
     "output_type": "stream",
     "text": [
      "\n",
      "Calculate entropy & purity...\n"
     ]
    },
    {
     "data": {
      "application/vnd.jupyter.widget-view+json": {
       "model_id": "c39500247a44418fbe12adeb39d1366d",
       "version_major": 2,
       "version_minor": 0
      },
      "text/plain": [
       "HBox(children=(IntProgress(value=0, max=91), HTML(value='')))"
      ]
     },
     "metadata": {},
     "output_type": "display_data"
    },
    {
     "name": "stdout",
     "output_type": "stream",
     "text": [
      "\n",
      "Calculate F-measure...\n"
     ]
    },
    {
     "data": {
      "application/vnd.jupyter.widget-view+json": {
       "model_id": "f36cb88102954608a7c0d2190391ef60",
       "version_major": 2,
       "version_minor": 0
      },
      "text/plain": [
       "HBox(children=(IntProgress(value=0, max=103), HTML(value='')))"
      ]
     },
     "metadata": {},
     "output_type": "display_data"
    },
    {
     "name": "stdout",
     "output_type": "stream",
     "text": [
      "\n",
      "Eps = 0.775\n",
      "F-measure = 0.8552830927052505\n",
      "Start evaluate...\n",
      "Save clusters...\n"
     ]
    },
    {
     "data": {
      "application/vnd.jupyter.widget-view+json": {
       "model_id": "dcb57ecf77c945c0bdb440b75229e04a",
       "version_major": 2,
       "version_minor": 0
      },
      "text/plain": [
       "HBox(children=(IntProgress(value=0, max=1818), HTML(value='')))"
      ]
     },
     "metadata": {},
     "output_type": "display_data"
    },
    {
     "name": "stdout",
     "output_type": "stream",
     "text": [
      "\n",
      "Delete outliers...\n"
     ]
    },
    {
     "data": {
      "application/vnd.jupyter.widget-view+json": {
       "model_id": "9843c986dbe54c9d8cc5929aff4f0bfa",
       "version_major": 2,
       "version_minor": 0
      },
      "text/plain": [
       "HBox(children=(IntProgress(value=0, max=90), HTML(value='')))"
      ]
     },
     "metadata": {},
     "output_type": "display_data"
    },
    {
     "name": "stdout",
     "output_type": "stream",
     "text": [
      "\n",
      "Calculate confusion...\n"
     ]
    },
    {
     "data": {
      "application/vnd.jupyter.widget-view+json": {
       "model_id": "0c8384c5fa454b1b8962c562d3018442",
       "version_major": 2,
       "version_minor": 0
      },
      "text/plain": [
       "HBox(children=(IntProgress(value=0, max=90), HTML(value='')))"
      ]
     },
     "metadata": {},
     "output_type": "display_data"
    },
    {
     "name": "stdout",
     "output_type": "stream",
     "text": [
      "\n",
      "Calculate entropy & purity...\n"
     ]
    },
    {
     "data": {
      "application/vnd.jupyter.widget-view+json": {
       "model_id": "14de518e57a84ec2879225d74146a6a9",
       "version_major": 2,
       "version_minor": 0
      },
      "text/plain": [
       "HBox(children=(IntProgress(value=0, max=90), HTML(value='')))"
      ]
     },
     "metadata": {},
     "output_type": "display_data"
    },
    {
     "name": "stdout",
     "output_type": "stream",
     "text": [
      "\n",
      "Calculate F-measure...\n"
     ]
    },
    {
     "data": {
      "application/vnd.jupyter.widget-view+json": {
       "model_id": "02d6efb570504dd1a9d509280f877d92",
       "version_major": 2,
       "version_minor": 0
      },
      "text/plain": [
       "HBox(children=(IntProgress(value=0, max=103), HTML(value='')))"
      ]
     },
     "metadata": {},
     "output_type": "display_data"
    },
    {
     "name": "stdout",
     "output_type": "stream",
     "text": [
      "\n",
      "Eps = 0.78\n",
      "F-measure = 0.8498848041831895\n",
      "Start evaluate...\n",
      "Save clusters...\n"
     ]
    },
    {
     "data": {
      "application/vnd.jupyter.widget-view+json": {
       "model_id": "e682f35b2779441aa2b5a8a8e62774a2",
       "version_major": 2,
       "version_minor": 0
      },
      "text/plain": [
       "HBox(children=(IntProgress(value=0, max=1818), HTML(value='')))"
      ]
     },
     "metadata": {},
     "output_type": "display_data"
    },
    {
     "name": "stdout",
     "output_type": "stream",
     "text": [
      "\n",
      "Delete outliers...\n"
     ]
    },
    {
     "data": {
      "application/vnd.jupyter.widget-view+json": {
       "model_id": "f4f829d86532441ab48901d27f26b01e",
       "version_major": 2,
       "version_minor": 0
      },
      "text/plain": [
       "HBox(children=(IntProgress(value=0, max=89), HTML(value='')))"
      ]
     },
     "metadata": {},
     "output_type": "display_data"
    },
    {
     "name": "stdout",
     "output_type": "stream",
     "text": [
      "\n",
      "Calculate confusion...\n"
     ]
    },
    {
     "data": {
      "application/vnd.jupyter.widget-view+json": {
       "model_id": "b5c54cc811c94d529711ae5754e4eaaa",
       "version_major": 2,
       "version_minor": 0
      },
      "text/plain": [
       "HBox(children=(IntProgress(value=0, max=89), HTML(value='')))"
      ]
     },
     "metadata": {},
     "output_type": "display_data"
    },
    {
     "name": "stdout",
     "output_type": "stream",
     "text": [
      "\n",
      "Calculate entropy & purity...\n"
     ]
    },
    {
     "data": {
      "application/vnd.jupyter.widget-view+json": {
       "model_id": "f702fb3ec782498b86b703ddf94f6e3c",
       "version_major": 2,
       "version_minor": 0
      },
      "text/plain": [
       "HBox(children=(IntProgress(value=0, max=89), HTML(value='')))"
      ]
     },
     "metadata": {},
     "output_type": "display_data"
    },
    {
     "name": "stdout",
     "output_type": "stream",
     "text": [
      "\n",
      "Calculate F-measure...\n"
     ]
    },
    {
     "data": {
      "application/vnd.jupyter.widget-view+json": {
       "model_id": "60674332786649449500bc8754f56d33",
       "version_major": 2,
       "version_minor": 0
      },
      "text/plain": [
       "HBox(children=(IntProgress(value=0, max=103), HTML(value='')))"
      ]
     },
     "metadata": {},
     "output_type": "display_data"
    },
    {
     "name": "stdout",
     "output_type": "stream",
     "text": [
      "\n",
      "Eps = 0.785\n",
      "F-measure = 0.8444225659997382\n",
      "Start evaluate...\n",
      "Save clusters...\n"
     ]
    },
    {
     "data": {
      "application/vnd.jupyter.widget-view+json": {
       "model_id": "a7f46ea0535a428284c9286760ad5cd3",
       "version_major": 2,
       "version_minor": 0
      },
      "text/plain": [
       "HBox(children=(IntProgress(value=0, max=1818), HTML(value='')))"
      ]
     },
     "metadata": {},
     "output_type": "display_data"
    },
    {
     "name": "stdout",
     "output_type": "stream",
     "text": [
      "\n",
      "Delete outliers...\n"
     ]
    },
    {
     "data": {
      "application/vnd.jupyter.widget-view+json": {
       "model_id": "2a8831bb1bf2454a9e46e80f0102a3a2",
       "version_major": 2,
       "version_minor": 0
      },
      "text/plain": [
       "HBox(children=(IntProgress(value=0, max=89), HTML(value='')))"
      ]
     },
     "metadata": {},
     "output_type": "display_data"
    },
    {
     "name": "stdout",
     "output_type": "stream",
     "text": [
      "\n",
      "Calculate confusion...\n"
     ]
    },
    {
     "data": {
      "application/vnd.jupyter.widget-view+json": {
       "model_id": "251c4086e11b4d9dbf18b008a47d4fec",
       "version_major": 2,
       "version_minor": 0
      },
      "text/plain": [
       "HBox(children=(IntProgress(value=0, max=89), HTML(value='')))"
      ]
     },
     "metadata": {},
     "output_type": "display_data"
    },
    {
     "name": "stdout",
     "output_type": "stream",
     "text": [
      "\n",
      "Calculate entropy & purity...\n"
     ]
    },
    {
     "data": {
      "application/vnd.jupyter.widget-view+json": {
       "model_id": "d13ec489adfd440c9f07979ca848135b",
       "version_major": 2,
       "version_minor": 0
      },
      "text/plain": [
       "HBox(children=(IntProgress(value=0, max=89), HTML(value='')))"
      ]
     },
     "metadata": {},
     "output_type": "display_data"
    },
    {
     "name": "stdout",
     "output_type": "stream",
     "text": [
      "\n",
      "Calculate F-measure...\n"
     ]
    },
    {
     "data": {
      "application/vnd.jupyter.widget-view+json": {
       "model_id": "b939496e396f4d389eac46764a58afe1",
       "version_major": 2,
       "version_minor": 0
      },
      "text/plain": [
       "HBox(children=(IntProgress(value=0, max=103), HTML(value='')))"
      ]
     },
     "metadata": {},
     "output_type": "display_data"
    },
    {
     "name": "stdout",
     "output_type": "stream",
     "text": [
      "\n",
      "Eps = 0.79\n",
      "F-measure = 0.8441620136287116\n",
      "Start evaluate...\n",
      "Save clusters...\n"
     ]
    },
    {
     "data": {
      "application/vnd.jupyter.widget-view+json": {
       "model_id": "8792caf14aac44f09eda56645f50088d",
       "version_major": 2,
       "version_minor": 0
      },
      "text/plain": [
       "HBox(children=(IntProgress(value=0, max=1818), HTML(value='')))"
      ]
     },
     "metadata": {},
     "output_type": "display_data"
    },
    {
     "name": "stdout",
     "output_type": "stream",
     "text": [
      "\n",
      "Delete outliers...\n"
     ]
    },
    {
     "data": {
      "application/vnd.jupyter.widget-view+json": {
       "model_id": "3857b66b7de445a986797890b5d09737",
       "version_major": 2,
       "version_minor": 0
      },
      "text/plain": [
       "HBox(children=(IntProgress(value=0, max=87), HTML(value='')))"
      ]
     },
     "metadata": {},
     "output_type": "display_data"
    },
    {
     "name": "stdout",
     "output_type": "stream",
     "text": [
      "\n",
      "Calculate confusion...\n"
     ]
    },
    {
     "data": {
      "application/vnd.jupyter.widget-view+json": {
       "model_id": "6f751ecdb9fb4aadac4841f6fd51ff67",
       "version_major": 2,
       "version_minor": 0
      },
      "text/plain": [
       "HBox(children=(IntProgress(value=0, max=87), HTML(value='')))"
      ]
     },
     "metadata": {},
     "output_type": "display_data"
    },
    {
     "name": "stdout",
     "output_type": "stream",
     "text": [
      "\n",
      "Calculate entropy & purity...\n"
     ]
    },
    {
     "data": {
      "application/vnd.jupyter.widget-view+json": {
       "model_id": "b5ef6945c48540488792c23231c2508d",
       "version_major": 2,
       "version_minor": 0
      },
      "text/plain": [
       "HBox(children=(IntProgress(value=0, max=87), HTML(value='')))"
      ]
     },
     "metadata": {},
     "output_type": "display_data"
    },
    {
     "name": "stdout",
     "output_type": "stream",
     "text": [
      "\n",
      "Calculate F-measure...\n"
     ]
    },
    {
     "data": {
      "application/vnd.jupyter.widget-view+json": {
       "model_id": "57a9daad27f145f198894198b6ffeecb",
       "version_major": 2,
       "version_minor": 0
      },
      "text/plain": [
       "HBox(children=(IntProgress(value=0, max=103), HTML(value='')))"
      ]
     },
     "metadata": {},
     "output_type": "display_data"
    },
    {
     "name": "stdout",
     "output_type": "stream",
     "text": [
      "\n",
      "Eps = 0.795\n",
      "F-measure = 0.8322864734766499\n",
      "Start evaluate...\n",
      "Save clusters...\n"
     ]
    },
    {
     "data": {
      "application/vnd.jupyter.widget-view+json": {
       "model_id": "9b649c1f12d844b58bcd637dae2a755a",
       "version_major": 2,
       "version_minor": 0
      },
      "text/plain": [
       "HBox(children=(IntProgress(value=0, max=1818), HTML(value='')))"
      ]
     },
     "metadata": {},
     "output_type": "display_data"
    },
    {
     "name": "stdout",
     "output_type": "stream",
     "text": [
      "\n",
      "Delete outliers...\n"
     ]
    },
    {
     "data": {
      "application/vnd.jupyter.widget-view+json": {
       "model_id": "ac73b1e73e38418cab70b49657d9ea66",
       "version_major": 2,
       "version_minor": 0
      },
      "text/plain": [
       "HBox(children=(IntProgress(value=0, max=87), HTML(value='')))"
      ]
     },
     "metadata": {},
     "output_type": "display_data"
    },
    {
     "name": "stdout",
     "output_type": "stream",
     "text": [
      "\n",
      "Calculate confusion...\n"
     ]
    },
    {
     "data": {
      "application/vnd.jupyter.widget-view+json": {
       "model_id": "cc464eb16b6f4c72bfc57720c96a54e0",
       "version_major": 2,
       "version_minor": 0
      },
      "text/plain": [
       "HBox(children=(IntProgress(value=0, max=87), HTML(value='')))"
      ]
     },
     "metadata": {},
     "output_type": "display_data"
    },
    {
     "name": "stdout",
     "output_type": "stream",
     "text": [
      "\n",
      "Calculate entropy & purity...\n"
     ]
    },
    {
     "data": {
      "application/vnd.jupyter.widget-view+json": {
       "model_id": "51b611102a844d4d9e6f46c24594479f",
       "version_major": 2,
       "version_minor": 0
      },
      "text/plain": [
       "HBox(children=(IntProgress(value=0, max=87), HTML(value='')))"
      ]
     },
     "metadata": {},
     "output_type": "display_data"
    },
    {
     "name": "stdout",
     "output_type": "stream",
     "text": [
      "\n",
      "Calculate F-measure...\n"
     ]
    },
    {
     "data": {
      "application/vnd.jupyter.widget-view+json": {
       "model_id": "92f062459448410e9a6cc61be0a67ebb",
       "version_major": 2,
       "version_minor": 0
      },
      "text/plain": [
       "HBox(children=(IntProgress(value=0, max=103), HTML(value='')))"
      ]
     },
     "metadata": {},
     "output_type": "display_data"
    },
    {
     "name": "stdout",
     "output_type": "stream",
     "text": [
      "\n",
      "Eps = 0.8\n",
      "F-measure = 0.8322864734766499\n",
      "\n",
      "0.755 0.8660516974819721\n",
      "Start evaluate...\n",
      "Save clusters...\n"
     ]
    },
    {
     "data": {
      "application/vnd.jupyter.widget-view+json": {
       "model_id": "b84f477f8d5f46f0a192243464b0a5f4",
       "version_major": 2,
       "version_minor": 0
      },
      "text/plain": [
       "HBox(children=(IntProgress(value=0, max=1818), HTML(value='')))"
      ]
     },
     "metadata": {},
     "output_type": "display_data"
    },
    {
     "name": "stdout",
     "output_type": "stream",
     "text": [
      "\n",
      "Delete outliers...\n"
     ]
    },
    {
     "data": {
      "application/vnd.jupyter.widget-view+json": {
       "model_id": "34c6b31898dd4759955b8deca0c6e7a1",
       "version_major": 2,
       "version_minor": 0
      },
      "text/plain": [
       "HBox(children=(IntProgress(value=0, max=94), HTML(value='')))"
      ]
     },
     "metadata": {},
     "output_type": "display_data"
    },
    {
     "name": "stdout",
     "output_type": "stream",
     "text": [
      "\n",
      "Calculate rand...\n"
     ]
    },
    {
     "data": {
      "application/vnd.jupyter.widget-view+json": {
       "model_id": "7d6c9240c49047429ef78a7c9a1c6ced",
       "version_major": 2,
       "version_minor": 0
      },
      "text/plain": [
       "HBox(children=(IntProgress(value=0, max=1818), HTML(value='')))"
      ]
     },
     "metadata": {},
     "output_type": "display_data"
    },
    {
     "name": "stdout",
     "output_type": "stream",
     "text": [
      "\n",
      "Calculate confusion...\n"
     ]
    },
    {
     "data": {
      "application/vnd.jupyter.widget-view+json": {
       "model_id": "244c5ed839144aebb07f1c3b5c81830a",
       "version_major": 2,
       "version_minor": 0
      },
      "text/plain": [
       "HBox(children=(IntProgress(value=0, max=94), HTML(value='')))"
      ]
     },
     "metadata": {},
     "output_type": "display_data"
    },
    {
     "name": "stdout",
     "output_type": "stream",
     "text": [
      "\n",
      "Calculate entropy & purity...\n"
     ]
    },
    {
     "data": {
      "application/vnd.jupyter.widget-view+json": {
       "model_id": "54f1ac35053d412eab4e341ee18090ae",
       "version_major": 2,
       "version_minor": 0
      },
      "text/plain": [
       "HBox(children=(IntProgress(value=0, max=94), HTML(value='')))"
      ]
     },
     "metadata": {},
     "output_type": "display_data"
    },
    {
     "name": "stdout",
     "output_type": "stream",
     "text": [
      "\n",
      "Calculate F-measure...\n"
     ]
    },
    {
     "data": {
      "application/vnd.jupyter.widget-view+json": {
       "model_id": "e636163d75314ee3939380d973988477",
       "version_major": 2,
       "version_minor": 0
      },
      "text/plain": [
       "HBox(children=(IntProgress(value=0, max=103), HTML(value='')))"
      ]
     },
     "metadata": {},
     "output_type": "display_data"
    },
    {
     "name": "stdout",
     "output_type": "stream",
     "text": [
      "\n",
      "Number of clusters: 94\n",
      "Number of outliers: 149/1818 (8.196%)\n",
      "\n",
      "Entropy = 0.243369\n",
      "Purity = 0.901138\n",
      "F-measure = 0.866052\n",
      "\n",
      "Rand = 99.682%\n",
      "Jaccard Index = 81.781%\n"
     ]
    }
   ],
   "source": [
    "max_fm = 0\n",
    "best_eps = 0\n",
    "best_clustering = None\n",
    "\n",
    "for eps in tqdm_notebook(np.arange(0.7, 0.8, 0.005)):\n",
    "    tufano_clustering = sklearn.cluster.DBSCAN(eps=eps, min_samples=2, \n",
    "                                                   metric='precomputed').fit(dists_filtered10_to_5gram)\n",
    "    \n",
    "    rand, fm = print_clustering_results_tufano_unique(tufano_clustering, unique_label_to_changes_filtered5, \n",
    "                                    from_change_to_unique_label_filtered5, changes_with_different_methods_filtered5, \n",
    "                                    without_outliers=True, to_print=False, only_fm=True)\n",
    "    print(\"Eps =\", eps)\n",
    "    print(\"F-measure =\", fm)\n",
    "    \n",
    "    if fm > max_fm:\n",
    "        max_fm = fm\n",
    "        best_eps = eps\n",
    "        best_clustering = tufano_clustering\n",
    "\n",
    "print(best_eps, max_fm)\n",
    "\n",
    "\n",
    "rand, fm = print_clustering_results_tufano_unique(best_clustering, unique_label_to_changes_filtered5, \n",
    "                                    from_change_to_unique_label_filtered5, changes_with_different_methods_filtered5, \n",
    "                                    without_outliers=True, to_print=True)"
   ]
  },
  {
   "cell_type": "code",
   "execution_count": null,
   "metadata": {},
   "outputs": [],
   "source": []
  },
  {
   "cell_type": "code",
   "execution_count": 142,
   "metadata": {},
   "outputs": [
    {
     "name": "stdout",
     "output_type": "stream",
     "text": [
      "Start evaluate...\n",
      "Save clusters...\n"
     ]
    },
    {
     "data": {
      "application/vnd.jupyter.widget-view+json": {
       "model_id": "dcf762f26b6545939af0acf72cdb342f",
       "version_major": 2,
       "version_minor": 0
      },
      "text/plain": [
       "HBox(children=(IntProgress(value=0, max=6393), HTML(value='')))"
      ]
     },
     "metadata": {},
     "output_type": "display_data"
    },
    {
     "name": "stdout",
     "output_type": "stream",
     "text": [
      "\n",
      "Delete outliers...\n"
     ]
    },
    {
     "data": {
      "application/vnd.jupyter.widget-view+json": {
       "model_id": "bf7c6b0a0f374ec2a1886c9b3c1e4886",
       "version_major": 2,
       "version_minor": 0
      },
      "text/plain": [
       "HBox(children=(IntProgress(value=0, max=932), HTML(value='')))"
      ]
     },
     "metadata": {},
     "output_type": "display_data"
    },
    {
     "name": "stdout",
     "output_type": "stream",
     "text": [
      "\n",
      "Calculate confusion...\n"
     ]
    },
    {
     "data": {
      "application/vnd.jupyter.widget-view+json": {
       "model_id": "41ed97632fb74329a4d845df060fd08f",
       "version_major": 2,
       "version_minor": 0
      },
      "text/plain": [
       "HBox(children=(IntProgress(value=0, max=932), HTML(value='')))"
      ]
     },
     "metadata": {},
     "output_type": "display_data"
    },
    {
     "name": "stdout",
     "output_type": "stream",
     "text": [
      "\n",
      "Calculate entropy & purity...\n"
     ]
    },
    {
     "data": {
      "application/vnd.jupyter.widget-view+json": {
       "model_id": "6a4553c84cc84aa1b15cc74af68bb4ca",
       "version_major": 2,
       "version_minor": 0
      },
      "text/plain": [
       "HBox(children=(IntProgress(value=0, max=932), HTML(value='')))"
      ]
     },
     "metadata": {},
     "output_type": "display_data"
    },
    {
     "name": "stdout",
     "output_type": "stream",
     "text": [
      "\n",
      "Calculate F-measure...\n"
     ]
    },
    {
     "data": {
      "application/vnd.jupyter.widget-view+json": {
       "model_id": "a940a7a8c3e94bb2b75d743257604676",
       "version_major": 2,
       "version_minor": 0
      },
      "text/plain": [
       "HBox(children=(IntProgress(value=0, max=1016), HTML(value='')))"
      ]
     },
     "metadata": {},
     "output_type": "display_data"
    },
    {
     "name": "stdout",
     "output_type": "stream",
     "text": [
      "\n",
      "Number of clusters: 932\n",
      "Number of outliers: 1322/6393 (20.679%)\n",
      "\n",
      "Entropy = 0.344238\n",
      "Purity = 0.888977\n",
      "F-measure = 0.76018\n",
      "\n",
      "Rand = 0%\n",
      "Jaccard Index = 0%\n",
      "Pure classes: 792\n"
     ]
    }
   ],
   "source": [
    "tufano_clustering = sklearn.cluster.DBSCAN(eps=0.605, min_samples=2, \n",
    "                                                   metric='precomputed').fit(dists_filtered3_to_5gram)\n",
    "    \n",
    "rand, fm = print_clustering_results_tufano_unique(tufano_clustering, unique_label_to_changes_filtered5, \n",
    "                                    from_change_to_unique_label_filtered5, changes_with_different_methods_filtered5,\n",
    "                                without_outliers=True, to_print=True, only_fm=True)"
   ]
  },
  {
   "cell_type": "code",
   "execution_count": 146,
   "metadata": {},
   "outputs": [
    {
     "name": "stdout",
     "output_type": "stream",
     "text": [
      "Start evaluate...\n",
      "Save clusters...\n"
     ]
    },
    {
     "data": {
      "application/vnd.jupyter.widget-view+json": {
       "model_id": "ef932f069bcb4e41966d227db88f97a8",
       "version_major": 2,
       "version_minor": 0
      },
      "text/plain": [
       "HBox(children=(IntProgress(value=0, max=3653), HTML(value='')))"
      ]
     },
     "metadata": {},
     "output_type": "display_data"
    },
    {
     "name": "stdout",
     "output_type": "stream",
     "text": [
      "\n",
      "Delete outliers...\n"
     ]
    },
    {
     "data": {
      "application/vnd.jupyter.widget-view+json": {
       "model_id": "4cfaa23133dd4468bb4a9699655f583c",
       "version_major": 2,
       "version_minor": 0
      },
      "text/plain": [
       "HBox(children=(IntProgress(value=0, max=362), HTML(value='')))"
      ]
     },
     "metadata": {},
     "output_type": "display_data"
    },
    {
     "name": "stdout",
     "output_type": "stream",
     "text": [
      "\n",
      "Calculate confusion...\n"
     ]
    },
    {
     "data": {
      "application/vnd.jupyter.widget-view+json": {
       "model_id": "2e83acb480ef426c815d6b4439869af1",
       "version_major": 2,
       "version_minor": 0
      },
      "text/plain": [
       "HBox(children=(IntProgress(value=0, max=362), HTML(value='')))"
      ]
     },
     "metadata": {},
     "output_type": "display_data"
    },
    {
     "name": "stdout",
     "output_type": "stream",
     "text": [
      "\n",
      "Calculate entropy & purity...\n"
     ]
    },
    {
     "data": {
      "application/vnd.jupyter.widget-view+json": {
       "model_id": "361531908a0e4bc0aca786273a7063fd",
       "version_major": 2,
       "version_minor": 0
      },
      "text/plain": [
       "HBox(children=(IntProgress(value=0, max=362), HTML(value='')))"
      ]
     },
     "metadata": {},
     "output_type": "display_data"
    },
    {
     "name": "stdout",
     "output_type": "stream",
     "text": [
      "\n",
      "Calculate F-measure...\n"
     ]
    },
    {
     "data": {
      "application/vnd.jupyter.widget-view+json": {
       "model_id": "be5ff4ce157c478d8793233102c72ea4",
       "version_major": 2,
       "version_minor": 0
      },
      "text/plain": [
       "HBox(children=(IntProgress(value=0, max=367), HTML(value='')))"
      ]
     },
     "metadata": {},
     "output_type": "display_data"
    },
    {
     "name": "stdout",
     "output_type": "stream",
     "text": [
      "\n",
      "Number of clusters: 362\n",
      "Number of outliers: 470/3653 (12.866%)\n",
      "\n",
      "Entropy = 0.318361\n",
      "Purity = 0.890983\n",
      "F-measure = 0.807519\n",
      "\n",
      "Rand = 0%\n",
      "Jaccard Index = 0%\n",
      "Pure classes: 291\n"
     ]
    }
   ],
   "source": [
    "tufano_clustering = sklearn.cluster.DBSCAN(eps=0.66, min_samples=2, \n",
    "                                                   metric='precomputed').fit(dists_filtered5_to_5gram)\n",
    "    \n",
    "rand, fm = print_clustering_results_tufano_unique(tufano_clustering, unique_label_to_changes_filtered5, \n",
    "                                    from_change_to_unique_label_filtered5, changes_with_different_methods_filtered5,\n",
    "                                without_outliers=True, to_print=True, only_fm=True)"
   ]
  },
  {
   "cell_type": "code",
   "execution_count": 149,
   "metadata": {},
   "outputs": [
    {
     "name": "stdout",
     "output_type": "stream",
     "text": [
      "Start evaluate...\n",
      "Save clusters...\n"
     ]
    },
    {
     "data": {
      "application/vnd.jupyter.widget-view+json": {
       "model_id": "37afc1399ed54a2fa5d91d79d40bed01",
       "version_major": 2,
       "version_minor": 0
      },
      "text/plain": [
       "HBox(children=(IntProgress(value=0, max=1818), HTML(value='')))"
      ]
     },
     "metadata": {},
     "output_type": "display_data"
    },
    {
     "name": "stdout",
     "output_type": "stream",
     "text": [
      "\n",
      "Delete outliers...\n"
     ]
    },
    {
     "data": {
      "application/vnd.jupyter.widget-view+json": {
       "model_id": "72a8cfb1313041e3aca134fe2d745560",
       "version_major": 2,
       "version_minor": 0
      },
      "text/plain": [
       "HBox(children=(IntProgress(value=0, max=94), HTML(value='')))"
      ]
     },
     "metadata": {},
     "output_type": "display_data"
    },
    {
     "name": "stdout",
     "output_type": "stream",
     "text": [
      "\n",
      "Calculate confusion...\n"
     ]
    },
    {
     "data": {
      "application/vnd.jupyter.widget-view+json": {
       "model_id": "3a1429bf14fa4b07a876e614b9e46a12",
       "version_major": 2,
       "version_minor": 0
      },
      "text/plain": [
       "HBox(children=(IntProgress(value=0, max=94), HTML(value='')))"
      ]
     },
     "metadata": {},
     "output_type": "display_data"
    },
    {
     "name": "stdout",
     "output_type": "stream",
     "text": [
      "\n",
      "Calculate entropy & purity...\n"
     ]
    },
    {
     "data": {
      "application/vnd.jupyter.widget-view+json": {
       "model_id": "99b1848057c149bdbca27ac422d3c488",
       "version_major": 2,
       "version_minor": 0
      },
      "text/plain": [
       "HBox(children=(IntProgress(value=0, max=94), HTML(value='')))"
      ]
     },
     "metadata": {},
     "output_type": "display_data"
    },
    {
     "name": "stdout",
     "output_type": "stream",
     "text": [
      "\n",
      "Calculate F-measure...\n"
     ]
    },
    {
     "data": {
      "application/vnd.jupyter.widget-view+json": {
       "model_id": "a42d0105e82041129fac933cddc88968",
       "version_major": 2,
       "version_minor": 0
      },
      "text/plain": [
       "HBox(children=(IntProgress(value=0, max=103), HTML(value='')))"
      ]
     },
     "metadata": {},
     "output_type": "display_data"
    },
    {
     "name": "stdout",
     "output_type": "stream",
     "text": [
      "\n",
      "Number of clusters: 94\n",
      "Number of outliers: 149/1818 (8.196%)\n",
      "\n",
      "Entropy = 0.243369\n",
      "Purity = 0.901138\n",
      "F-measure = 0.866052\n",
      "\n",
      "Rand = 0%\n",
      "Jaccard Index = 0%\n",
      "Pure classes: 79\n"
     ]
    }
   ],
   "source": [
    "tufano_clustering = sklearn.cluster.DBSCAN(eps=0.755, min_samples=2, \n",
    "                                                   metric='precomputed').fit(dists_filtered10_to_5gram)\n",
    "    \n",
    "rand, fm = print_clustering_results_tufano_unique(tufano_clustering, unique_label_to_changes_filtered5, \n",
    "                                    from_change_to_unique_label_filtered5, changes_with_different_methods_filtered5,\n",
    "                                without_outliers=True, to_print=True, only_fm=True)"
   ]
  },
  {
   "cell_type": "code",
   "execution_count": null,
   "metadata": {},
   "outputs": [],
   "source": []
  },
  {
   "cell_type": "code",
   "execution_count": null,
   "metadata": {},
   "outputs": [],
   "source": []
  },
  {
   "cell_type": "code",
   "execution_count": null,
   "metadata": {},
   "outputs": [],
   "source": []
  }
 ],
 "metadata": {
  "kernelspec": {
   "display_name": "Python 3",
   "language": "python",
   "name": "python3"
  },
  "language_info": {
   "codemirror_mode": {
    "name": "ipython",
    "version": 3
   },
   "file_extension": ".py",
   "mimetype": "text/x-python",
   "name": "python",
   "nbconvert_exporter": "python",
   "pygments_lexer": "ipython3",
   "version": "3.7.3"
  }
 },
 "nbformat": 4,
 "nbformat_minor": 2
}
